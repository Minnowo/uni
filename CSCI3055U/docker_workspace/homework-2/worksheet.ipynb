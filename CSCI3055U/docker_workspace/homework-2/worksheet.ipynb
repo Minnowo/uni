{
 "cells": [
  {
   "cell_type": "markdown",
   "id": "f6e134b2",
   "metadata": {
    "editable": false
   },
   "source": [
    "# Homework 2"
   ]
  },
  {
   "cell_type": "code",
   "execution_count": null,
   "id": "9084a4e4",
   "metadata": {
    "editable": false
   },
   "outputs": [],
   "source": [
    "\"🔒\"\n",
    "(load-file \"my.clj\")"
   ]
  },
  {
   "cell_type": "markdown",
   "id": "7468e2a5",
   "metadata": {
    "editable": false
   },
   "source": [
    "# Work Unit\n",
    "\n",
    "Complete the following expression so the address symbol is bound to a value with the following properties:\n",
    "\n",
    "- a vector\n",
    "- has length three\n",
    "- the second element is a hashmap\n",
    "- the hashmap has at least one key-value pair of (:hello, \"world\")"
   ]
  },
  {
   "cell_type": "code",
   "execution_count": 1,
   "id": "e4e059fe",
   "metadata": {},
   "outputs": [
    {
     "data": {
      "text/plain": [
       "#'user/address"
      ]
     },
     "execution_count": 1,
     "metadata": {},
     "output_type": "execute_result"
    }
   ],
   "source": [
    "\"✍️\"\n",
    "; @workUnit\n",
    "\n",
    "(def address [1 {:hello \"world\"} 1])"
   ]
  },
  {
   "cell_type": "code",
   "execution_count": 2,
   "id": "bcf6303f",
   "metadata": {
    "editable": false
   },
   "outputs": [
    {
     "data": {
      "text/plain": [
       "true"
      ]
     },
     "execution_count": 2,
     "metadata": {},
     "output_type": "execute_result"
    }
   ],
   "source": [
    "\"🔒\"\n",
    "; @check\n",
    "; @title: check1\n",
    "(vector? address)"
   ]
  },
  {
   "cell_type": "code",
   "execution_count": 3,
   "id": "d8df45f4",
   "metadata": {
    "editable": false
   },
   "outputs": [
    {
     "data": {
      "text/plain": [
       "3"
      ]
     },
     "execution_count": 3,
     "metadata": {},
     "output_type": "execute_result"
    }
   ],
   "source": [
    "\"🔒\"\n",
    "; @check\n",
    "; @title: check2\n",
    "(count address)"
   ]
  },
  {
   "cell_type": "code",
   "execution_count": 4,
   "id": "6db41ec9",
   "metadata": {
    "editable": false
   },
   "outputs": [
    {
     "data": {
      "text/plain": [
       "true"
      ]
     },
     "execution_count": 4,
     "metadata": {},
     "output_type": "execute_result"
    }
   ],
   "source": [
    "\"🔒\"\n",
    "; @check\n",
    "; @title: check3\n",
    "(map? (nth address 1))"
   ]
  },
  {
   "cell_type": "code",
   "execution_count": 5,
   "id": "7214b195",
   "metadata": {
    "editable": false
   },
   "outputs": [
    {
     "data": {
      "text/plain": [
       "true"
      ]
     },
     "execution_count": 5,
     "metadata": {},
     "output_type": "execute_result"
    }
   ],
   "source": [
    "\"🔒\"\n",
    "; @check\n",
    "; @title: check4\n",
    "(= (:hello (nth address 1)) \"world\")"
   ]
  },
  {
   "cell_type": "markdown",
   "id": "457754aa",
   "metadata": {
    "editable": false
   },
   "source": [
    "# Work Unit\n",
    "\n",
    "Implement a function equivalent to the following Python program:\n",
    "\n",
    "```\n",
    "def sum [numbers]:\n",
    "  result = 0\n",
    "  for n in enumerate(numbers):\n",
    "    result += n * n\n",
    "  return result\n",
    "```"
   ]
  },
  {
   "cell_type": "code",
   "execution_count": 24,
   "id": "e0174c81",
   "metadata": {},
   "outputs": [
    {
     "data": {
      "text/plain": [
       "#'user/sum"
      ]
     },
     "execution_count": 24,
     "metadata": {},
     "output_type": "execute_result"
    }
   ],
   "source": [
    "\"✍️\"\n",
    "; @workUnit\n",
    "(defn sum [numbers] \n",
    "      (apply + (for [x numbers] (* x x))))"
   ]
  },
  {
   "cell_type": "code",
   "execution_count": 25,
   "id": "907a5f44",
   "metadata": {
    "editable": false
   },
   "outputs": [
    {
     "data": {
      "text/plain": [
       "100"
      ]
     },
     "execution_count": 25,
     "metadata": {},
     "output_type": "execute_result"
    }
   ],
   "source": [
    "\"🔒\"\n",
    "; @check\n",
    "; @title: check5\n",
    "(sum [10])"
   ]
  },
  {
   "cell_type": "code",
   "execution_count": 26,
   "id": "bec5fb66",
   "metadata": {
    "editable": false
   },
   "outputs": [
    {
     "data": {
      "text/plain": [
       "330"
      ]
     },
     "execution_count": 26,
     "metadata": {},
     "output_type": "execute_result"
    }
   ],
   "source": [
    "\"🔒\"\n",
    "; @check\n",
    "; @title: check6\n",
    "(sum [10 9 8 7 6])"
   ]
  },
  {
   "cell_type": "code",
   "execution_count": 27,
   "id": "390c8651",
   "metadata": {
    "editable": false
   },
   "outputs": [
    {
     "data": {
      "text/plain": [
       "0"
      ]
     },
     "execution_count": 27,
     "metadata": {},
     "output_type": "execute_result"
    }
   ],
   "source": [
    "\"🔒\"\n",
    "; @check\n",
    "; @title: check7\n",
    "(sum [])"
   ]
  },
  {
   "cell_type": "code",
   "execution_count": null,
   "id": "507d145f",
   "metadata": {},
   "outputs": [],
   "source": []
  }
 ],
 "metadata": {
  "kernelspec": {
   "display_name": "Clojure (clojupyter-v0.2.2)",
   "language": "clojure",
   "name": "clojupyter"
  },
  "language_info": {
   "file_extension": ".clj",
   "mimetype": "text/x-clojure",
   "name": "clojure",
   "version": "1.11.1"
  }
 },
 "nbformat": 4,
 "nbformat_minor": 5
}
