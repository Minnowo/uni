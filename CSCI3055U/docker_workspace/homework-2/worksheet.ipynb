{
 "cells": [
  {
   "cell_type": "markdown",
   "id": "abd1726d",
   "metadata": {
    "editable": false
   },
   "source": [
    "# Homework 2"
   ]
  },
  {
   "cell_type": "code",
   "execution_count": 41,
   "id": "0f88156a",
   "metadata": {
    "editable": false
   },
   "outputs": [
    {
     "data": {
      "text/plain": [
       "#'user/..."
      ]
     },
     "execution_count": 41,
     "metadata": {},
     "output_type": "execute_result"
    }
   ],
   "source": [
    "\"🔒\"\n",
    "(load-file \"my.clj\")"
   ]
  },
  {
   "cell_type": "markdown",
   "id": "16c67870",
   "metadata": {
    "editable": false
   },
   "source": [
    "# Work Unit\n",
    "\n",
    "Complete the following expression so the address symbol is bound to a value with the following properties:\n",
    "\n",
    "- a vector\n",
    "- has length three\n",
    "- the second element is a hashmap\n",
    "- the hashmap has at least one key-value pair of (:hello, \"world\")"
   ]
  },
  {
   "cell_type": "code",
   "execution_count": 42,
   "id": "a7440889",
   "metadata": {},
   "outputs": [
    {
     "data": {
      "text/plain": [
       "#'user/address"
      ]
     },
     "execution_count": 42,
     "metadata": {},
     "output_type": "execute_result"
    }
   ],
   "source": [
    "\"✍️\"\n",
    "; @workUnit\n",
    "\n",
    "(def address [ 1 {:hello \"world\"} 1])"
   ]
  },
  {
   "cell_type": "code",
   "execution_count": 43,
   "id": "d6755ce0",
   "metadata": {
    "editable": false
   },
   "outputs": [
    {
     "data": {
      "text/plain": [
       "true"
      ]
     },
     "execution_count": 43,
     "metadata": {},
     "output_type": "execute_result"
    }
   ],
   "source": [
    "\"🔒\"\n",
    "; @check\n",
    "(vector? address)"
   ]
  },
  {
   "cell_type": "code",
   "execution_count": 44,
   "id": "136f8d35",
   "metadata": {
    "editable": false
   },
   "outputs": [
    {
     "data": {
      "text/plain": [
       "3"
      ]
     },
     "execution_count": 44,
     "metadata": {},
     "output_type": "execute_result"
    }
   ],
   "source": [
    "\"🔒\"\n",
    "; @check\n",
    "(count address)"
   ]
  },
  {
   "cell_type": "code",
   "execution_count": 45,
   "id": "2be9be04",
   "metadata": {
    "editable": false
   },
   "outputs": [
    {
     "data": {
      "text/plain": [
       "true"
      ]
     },
     "execution_count": 45,
     "metadata": {},
     "output_type": "execute_result"
    }
   ],
   "source": [
    "\"🔒\"\n",
    "; @check\n",
    "(map? (nth address 1))"
   ]
  },
  {
   "cell_type": "code",
   "execution_count": 46,
   "id": "6182a18d",
   "metadata": {
    "editable": false
   },
   "outputs": [
    {
     "data": {
      "text/plain": [
       "true"
      ]
     },
     "execution_count": 46,
     "metadata": {},
     "output_type": "execute_result"
    }
   ],
   "source": [
    "\"🔒\"\n",
    "; @check\n",
    "(= (:hello (nth address 1)) \"world\")"
   ]
  },
  {
   "cell_type": "markdown",
   "id": "b329325c",
   "metadata": {
    "editable": false
   },
   "source": [
    "# Work Unit\n",
    "\n",
    "Implement a function equivalent to the following Python program:\n",
    "\n",
    "```\n",
    "def sum [numbers]:\n",
    "  result = 0\n",
    "  for n in enumerate(numbers):\n",
    "    result += n * n\n",
    "  return result\n",
    "```"
   ]
  },
  {
   "cell_type": "code",
   "execution_count": 47,
   "id": "f949f956",
   "metadata": {},
   "outputs": [
    {
     "data": {
      "text/plain": [
       "#'user/sum"
      ]
     },
     "execution_count": 47,
     "metadata": {},
     "output_type": "execute_result"
    }
   ],
   "source": [
    "\"✍️\"\n",
    "; @workUnit\n",
    "(defn sum [numbers] \n",
    "    (apply + numbers))"
   ]
  },
  {
   "cell_type": "code",
   "execution_count": 48,
   "id": "6b9f3aae",
   "metadata": {
    "editable": false
   },
   "outputs": [
    {
     "data": {
      "text/plain": [
       "10"
      ]
     },
     "execution_count": 48,
     "metadata": {},
     "output_type": "execute_result"
    }
   ],
   "source": [
    "\"🔒\"\n",
    "; @check\n",
    "(sum [10])"
   ]
  },
  {
   "cell_type": "code",
   "execution_count": 49,
   "id": "b69e2db6",
   "metadata": {
    "editable": false
   },
   "outputs": [
    {
     "data": {
      "text/plain": [
       "40"
      ]
     },
     "execution_count": 49,
     "metadata": {},
     "output_type": "execute_result"
    }
   ],
   "source": [
    "\"🔒\"\n",
    "; @check\n",
    "(sum [10 9 8 7 6])"
   ]
  },
  {
   "cell_type": "code",
   "execution_count": 50,
   "id": "9bd6ea3e",
   "metadata": {
    "editable": false
   },
   "outputs": [
    {
     "data": {
      "text/plain": [
       "0"
      ]
     },
     "execution_count": 50,
     "metadata": {},
     "output_type": "execute_result"
    }
   ],
   "source": [
    "\"🔒\"\n",
    "; @check\n",
    "(sum [])"
   ]
  },
  {
   "cell_type": "code",
   "execution_count": null,
   "id": "011e1828",
   "metadata": {},
   "outputs": [],
   "source": []
  },
  {
   "cell_type": "code",
   "execution_count": null,
   "id": "28e3dfdf",
   "metadata": {},
   "outputs": [],
   "source": []
  }
 ],
 "metadata": {
  "kernelspec": {
   "display_name": "Clojure (clojupyter-v0.2.2)",
   "language": "clojure",
   "name": "clojupyter"
  },
  "language_info": {
   "file_extension": ".clj",
   "mimetype": "text/x-clojure",
   "name": "clojure",
   "version": "1.11.1"
  }
 },
 "nbformat": 4,
 "nbformat_minor": 5
}
