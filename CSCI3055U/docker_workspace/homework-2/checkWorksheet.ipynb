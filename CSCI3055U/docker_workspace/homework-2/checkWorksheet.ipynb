{
 "cells": [
  {
   "cell_type": "code",
   "execution_count": 2,
   "id": "98cb2213",
   "metadata": {},
   "outputs": [
    {
     "data": {
      "text/html": [
       "<pre style=\"white-space:pre;overflow-x:auto;line-height:normal;font-family:Menlo,'DejaVu Sans Mono',consolas,'Courier New',monospace\">╭─────────────────────────────────────────────────────────────────────────────────────────────────────────────────╮\n",
       "│ <span style=\"font-weight: bold; text-decoration: underline\">1. check1</span>                                                                                                       │\n",
       "│                                                                                                                 │\n",
       "│ <span style=\"color: #008000; text-decoration-color: #008000; font-weight: bold\">Success.</span>                                                                                                        │\n",
       "│ <span style=\"color: #008000; text-decoration-color: #008000\">Well done. 👍</span>                                                                                                   │\n",
       "│ <span style=\"font-weight: bold\">                                                                                                      1.0 / 1.0</span> │\n",
       "╰─────────────────────────────────────────────────────────────────────────────────────────────────────────────────╯\n",
       "</pre>\n"
      ],
      "text/plain": [
       "╭─────────────────────────────────────────────────────────────────────────────────────────────────────────────────╮\n",
       "│ \u001b[1;4m1. check1\u001b[0m                                                                                                       │\n",
       "│                                                                                                                 │\n",
       "│ \u001b[1;32mSuccess.\u001b[0m                                                                                                        │\n",
       "│ \u001b[32mWell done. 👍\u001b[0m                                                                                                   │\n",
       "│ \u001b[1m                                                                                                      1.0 / 1.0\u001b[0m │\n",
       "╰─────────────────────────────────────────────────────────────────────────────────────────────────────────────────╯\n"
      ]
     },
     "metadata": {},
     "output_type": "display_data"
    },
    {
     "data": {
      "text/html": [
       "<pre style=\"white-space:pre;overflow-x:auto;line-height:normal;font-family:Menlo,'DejaVu Sans Mono',consolas,'Courier New',monospace\">\n",
       "</pre>\n"
      ],
      "text/plain": [
       "\n"
      ]
     },
     "metadata": {},
     "output_type": "display_data"
    },
    {
     "data": {
      "text/html": [
       "<pre style=\"white-space:pre;overflow-x:auto;line-height:normal;font-family:Menlo,'DejaVu Sans Mono',consolas,'Courier New',monospace\">╭─────────────────────────────────────────────────────────────────────────────────────────────────────────────────╮\n",
       "│ <span style=\"font-weight: bold; text-decoration: underline\">2. check2</span>                                                                                                       │\n",
       "│                                                                                                                 │\n",
       "│ <span style=\"color: #008000; text-decoration-color: #008000; font-weight: bold\">Success.</span>                                                                                                        │\n",
       "│ <span style=\"color: #008000; text-decoration-color: #008000\">Well done. 👍</span>                                                                                                   │\n",
       "│ <span style=\"font-weight: bold\">                                                                                                      1.0 / 1.0</span> │\n",
       "╰─────────────────────────────────────────────────────────────────────────────────────────────────────────────────╯\n",
       "</pre>\n"
      ],
      "text/plain": [
       "╭─────────────────────────────────────────────────────────────────────────────────────────────────────────────────╮\n",
       "│ \u001b[1;4m2. check2\u001b[0m                                                                                                       │\n",
       "│                                                                                                                 │\n",
       "│ \u001b[1;32mSuccess.\u001b[0m                                                                                                        │\n",
       "│ \u001b[32mWell done. 👍\u001b[0m                                                                                                   │\n",
       "│ \u001b[1m                                                                                                      1.0 / 1.0\u001b[0m │\n",
       "╰─────────────────────────────────────────────────────────────────────────────────────────────────────────────────╯\n"
      ]
     },
     "metadata": {},
     "output_type": "display_data"
    },
    {
     "data": {
      "text/html": [
       "<pre style=\"white-space:pre;overflow-x:auto;line-height:normal;font-family:Menlo,'DejaVu Sans Mono',consolas,'Courier New',monospace\">\n",
       "</pre>\n"
      ],
      "text/plain": [
       "\n"
      ]
     },
     "metadata": {},
     "output_type": "display_data"
    },
    {
     "data": {
      "text/html": [
       "<pre style=\"white-space:pre;overflow-x:auto;line-height:normal;font-family:Menlo,'DejaVu Sans Mono',consolas,'Courier New',monospace\">╭─────────────────────────────────────────────────────────────────────────────────────────────────────────────────╮\n",
       "│ <span style=\"font-weight: bold; text-decoration: underline\">3. check3</span>                                                                                                       │\n",
       "│                                                                                                                 │\n",
       "│ <span style=\"color: #008000; text-decoration-color: #008000; font-weight: bold\">Success.</span>                                                                                                        │\n",
       "│ <span style=\"color: #008000; text-decoration-color: #008000\">Well done. 👍</span>                                                                                                   │\n",
       "│ <span style=\"font-weight: bold\">                                                                                                      1.0 / 1.0</span> │\n",
       "╰─────────────────────────────────────────────────────────────────────────────────────────────────────────────────╯\n",
       "</pre>\n"
      ],
      "text/plain": [
       "╭─────────────────────────────────────────────────────────────────────────────────────────────────────────────────╮\n",
       "│ \u001b[1;4m3. check3\u001b[0m                                                                                                       │\n",
       "│                                                                                                                 │\n",
       "│ \u001b[1;32mSuccess.\u001b[0m                                                                                                        │\n",
       "│ \u001b[32mWell done. 👍\u001b[0m                                                                                                   │\n",
       "│ \u001b[1m                                                                                                      1.0 / 1.0\u001b[0m │\n",
       "╰─────────────────────────────────────────────────────────────────────────────────────────────────────────────────╯\n"
      ]
     },
     "metadata": {},
     "output_type": "display_data"
    },
    {
     "data": {
      "text/html": [
       "<pre style=\"white-space:pre;overflow-x:auto;line-height:normal;font-family:Menlo,'DejaVu Sans Mono',consolas,'Courier New',monospace\">\n",
       "</pre>\n"
      ],
      "text/plain": [
       "\n"
      ]
     },
     "metadata": {},
     "output_type": "display_data"
    },
    {
     "data": {
      "text/html": [
       "<pre style=\"white-space:pre;overflow-x:auto;line-height:normal;font-family:Menlo,'DejaVu Sans Mono',consolas,'Courier New',monospace\">╭─────────────────────────────────────────────────────────────────────────────────────────────────────────────────╮\n",
       "│ <span style=\"font-weight: bold; text-decoration: underline\">4. check4</span>                                                                                                       │\n",
       "│                                                                                                                 │\n",
       "│ <span style=\"color: #008000; text-decoration-color: #008000; font-weight: bold\">Success.</span>                                                                                                        │\n",
       "│ <span style=\"color: #008000; text-decoration-color: #008000\">Well done. 👍</span>                                                                                                   │\n",
       "│ <span style=\"font-weight: bold\">                                                                                                      1.0 / 1.0</span> │\n",
       "╰─────────────────────────────────────────────────────────────────────────────────────────────────────────────────╯\n",
       "</pre>\n"
      ],
      "text/plain": [
       "╭─────────────────────────────────────────────────────────────────────────────────────────────────────────────────╮\n",
       "│ \u001b[1;4m4. check4\u001b[0m                                                                                                       │\n",
       "│                                                                                                                 │\n",
       "│ \u001b[1;32mSuccess.\u001b[0m                                                                                                        │\n",
       "│ \u001b[32mWell done. 👍\u001b[0m                                                                                                   │\n",
       "│ \u001b[1m                                                                                                      1.0 / 1.0\u001b[0m │\n",
       "╰─────────────────────────────────────────────────────────────────────────────────────────────────────────────────╯\n"
      ]
     },
     "metadata": {},
     "output_type": "display_data"
    },
    {
     "data": {
      "text/html": [
       "<pre style=\"white-space:pre;overflow-x:auto;line-height:normal;font-family:Menlo,'DejaVu Sans Mono',consolas,'Courier New',monospace\">\n",
       "</pre>\n"
      ],
      "text/plain": [
       "\n"
      ]
     },
     "metadata": {},
     "output_type": "display_data"
    },
    {
     "data": {
      "text/html": [
       "<pre style=\"white-space:pre;overflow-x:auto;line-height:normal;font-family:Menlo,'DejaVu Sans Mono',consolas,'Courier New',monospace\">╭─────────────────────────────────────────────────────────────────────────────────────────────────────────────────╮\n",
       "│ <span style=\"font-weight: bold; text-decoration: underline\">5. check5</span>                                                                                                       │\n",
       "│                                                                                                                 │\n",
       "│ <span style=\"color: #008000; text-decoration-color: #008000; font-weight: bold\">Success.</span>                                                                                                        │\n",
       "│ <span style=\"color: #008000; text-decoration-color: #008000\">Well done. 👍</span>                                                                                                   │\n",
       "│ <span style=\"font-weight: bold\">                                                                                                      1.0 / 1.0</span> │\n",
       "╰─────────────────────────────────────────────────────────────────────────────────────────────────────────────────╯\n",
       "</pre>\n"
      ],
      "text/plain": [
       "╭─────────────────────────────────────────────────────────────────────────────────────────────────────────────────╮\n",
       "│ \u001b[1;4m5. check5\u001b[0m                                                                                                       │\n",
       "│                                                                                                                 │\n",
       "│ \u001b[1;32mSuccess.\u001b[0m                                                                                                        │\n",
       "│ \u001b[32mWell done. 👍\u001b[0m                                                                                                   │\n",
       "│ \u001b[1m                                                                                                      1.0 / 1.0\u001b[0m │\n",
       "╰─────────────────────────────────────────────────────────────────────────────────────────────────────────────────╯\n"
      ]
     },
     "metadata": {},
     "output_type": "display_data"
    },
    {
     "data": {
      "text/html": [
       "<pre style=\"white-space:pre;overflow-x:auto;line-height:normal;font-family:Menlo,'DejaVu Sans Mono',consolas,'Courier New',monospace\">\n",
       "</pre>\n"
      ],
      "text/plain": [
       "\n"
      ]
     },
     "metadata": {},
     "output_type": "display_data"
    },
    {
     "data": {
      "text/html": [
       "<pre style=\"white-space:pre;overflow-x:auto;line-height:normal;font-family:Menlo,'DejaVu Sans Mono',consolas,'Courier New',monospace\">╭─────────────────────────────────────────────────────────────────────────────────────────────────────────────────╮\n",
       "│ <span style=\"font-weight: bold; text-decoration: underline\">6. check6</span>                                                                                                       │\n",
       "│                                                                                                                 │\n",
       "│ <span style=\"color: #008000; text-decoration-color: #008000; font-weight: bold\">Success.</span>                                                                                                        │\n",
       "│ <span style=\"color: #008000; text-decoration-color: #008000\">Well done. 👍</span>                                                                                                   │\n",
       "│ <span style=\"font-weight: bold\">                                                                                                      1.0 / 1.0</span> │\n",
       "╰─────────────────────────────────────────────────────────────────────────────────────────────────────────────────╯\n",
       "</pre>\n"
      ],
      "text/plain": [
       "╭─────────────────────────────────────────────────────────────────────────────────────────────────────────────────╮\n",
       "│ \u001b[1;4m6. check6\u001b[0m                                                                                                       │\n",
       "│                                                                                                                 │\n",
       "│ \u001b[1;32mSuccess.\u001b[0m                                                                                                        │\n",
       "│ \u001b[32mWell done. 👍\u001b[0m                                                                                                   │\n",
       "│ \u001b[1m                                                                                                      1.0 / 1.0\u001b[0m │\n",
       "╰─────────────────────────────────────────────────────────────────────────────────────────────────────────────────╯\n"
      ]
     },
     "metadata": {},
     "output_type": "display_data"
    },
    {
     "data": {
      "text/html": [
       "<pre style=\"white-space:pre;overflow-x:auto;line-height:normal;font-family:Menlo,'DejaVu Sans Mono',consolas,'Courier New',monospace\">\n",
       "</pre>\n"
      ],
      "text/plain": [
       "\n"
      ]
     },
     "metadata": {},
     "output_type": "display_data"
    },
    {
     "data": {
      "text/html": [
       "<pre style=\"white-space:pre;overflow-x:auto;line-height:normal;font-family:Menlo,'DejaVu Sans Mono',consolas,'Courier New',monospace\">╭─────────────────────────────────────────────────────────────────────────────────────────────────────────────────╮\n",
       "│ <span style=\"font-weight: bold; text-decoration: underline\">7. check7</span>                                                                                                       │\n",
       "│                                                                                                                 │\n",
       "│ <span style=\"color: #008000; text-decoration-color: #008000; font-weight: bold\">Success.</span>                                                                                                        │\n",
       "│ <span style=\"color: #008000; text-decoration-color: #008000\">Well done. 👍</span>                                                                                                   │\n",
       "│ <span style=\"font-weight: bold\">                                                                                                      1.0 / 1.0</span> │\n",
       "╰─────────────────────────────────────────────────────────────────────────────────────────────────────────────────╯\n",
       "</pre>\n"
      ],
      "text/plain": [
       "╭─────────────────────────────────────────────────────────────────────────────────────────────────────────────────╮\n",
       "│ \u001b[1;4m7. check7\u001b[0m                                                                                                       │\n",
       "│                                                                                                                 │\n",
       "│ \u001b[1;32mSuccess.\u001b[0m                                                                                                        │\n",
       "│ \u001b[32mWell done. 👍\u001b[0m                                                                                                   │\n",
       "│ \u001b[1m                                                                                                      1.0 / 1.0\u001b[0m │\n",
       "╰─────────────────────────────────────────────────────────────────────────────────────────────────────────────────╯\n"
      ]
     },
     "metadata": {},
     "output_type": "display_data"
    },
    {
     "data": {
      "text/html": [
       "<pre style=\"white-space:pre;overflow-x:auto;line-height:normal;font-family:Menlo,'DejaVu Sans Mono',consolas,'Courier New',monospace\">\n",
       "</pre>\n"
      ],
      "text/plain": [
       "\n"
      ]
     },
     "metadata": {},
     "output_type": "display_data"
    },
    {
     "data": {
      "text/html": [
       "<pre style=\"white-space:pre;overflow-x:auto;line-height:normal;font-family:Menlo,'DejaVu Sans Mono',consolas,'Courier New',monospace\">┏━━━━━━━┳━━━━━━━┓\n",
       "┃<span style=\"font-weight: bold\"> Grade </span>┃<span style=\"font-weight: bold\"> Total </span>┃\n",
       "┡━━━━━━━╇━━━━━━━┩\n",
       "│ 7.0   │ 7.0   │\n",
       "└───────┴───────┘\n",
       "</pre>\n"
      ],
      "text/plain": [
       "┏━━━━━━━┳━━━━━━━┓\n",
       "┃\u001b[1m \u001b[0m\u001b[1mGrade\u001b[0m\u001b[1m \u001b[0m┃\u001b[1m \u001b[0m\u001b[1mTotal\u001b[0m\u001b[1m \u001b[0m┃\n",
       "┡━━━━━━━╇━━━━━━━┩\n",
       "│ 7.0   │ 7.0   │\n",
       "└───────┴───────┘\n"
      ]
     },
     "metadata": {},
     "output_type": "display_data"
    }
   ],
   "source": [
    "import lambdacheck.cli\n",
    "lambdacheck.cli.Check()"
   ]
  },
  {
   "cell_type": "code",
   "execution_count": null,
   "id": "5d8a37bf",
   "metadata": {},
   "outputs": [],
   "source": []
  }
 ],
 "metadata": {
  "kernelspec": {
   "display_name": "Python 3 (ipykernel)",
   "language": "python",
   "name": "python3"
  },
  "language_info": {
   "codemirror_mode": {
    "name": "ipython",
    "version": 3
   },
   "file_extension": ".py",
   "mimetype": "text/x-python",
   "name": "python",
   "nbconvert_exporter": "python",
   "pygments_lexer": "ipython3",
   "version": "3.8.10"
  }
 },
 "nbformat": 4,
 "nbformat_minor": 5
}
