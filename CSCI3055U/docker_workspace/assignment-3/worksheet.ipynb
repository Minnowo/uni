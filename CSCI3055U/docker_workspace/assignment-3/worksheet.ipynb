{
 "cells": [
  {
   "cell_type": "markdown",
   "id": "8f6a90a8",
   "metadata": {
    "editable": false
   },
   "source": [
    "# Assignment 3\n",
    "\n",
    "In this assignment, we will be programming using Kotlin."
   ]
  },
  {
   "cell_type": "markdown",
   "id": "8b7a5231",
   "metadata": {
    "editable": false
   },
   "source": [
    "# 1. Indent Printables\n",
    "\n",
    "Below is an interface for objects that can print itself with indentation.\n",
    "It comes with a default implementation.\n",
    "\n",
    "You are to provide a generic concrete class, `Printable` that implements `IPrintable`."
   ]
  },
  {
   "cell_type": "code",
   "execution_count": 2,
   "id": "4c33d424",
   "metadata": {
    "editable": false
   },
   "outputs": [],
   "source": [
    "\"🔒\"\n",
    "interface IPrintable {\n",
    "    fun printWithIndent(indent: Int) {\n",
    "        val indent = (1 .. indent).map {\"| \"}.joinToString(\"\")\n",
    "        println(indent + this.toString())\n",
    "    }\n",
    "}"
   ]
  },
  {
   "cell_type": "code",
   "execution_count": 3,
   "id": "3c9f5ae3",
   "metadata": {},
   "outputs": [],
   "source": [
    "\"✍️\"\n",
    "// @workUnit\n",
    "\n",
    "class Printable<T>(val value: T): IPrintable \n",
    "{\n",
    "    override fun toString() : String\n",
    "    {\n",
    "        return value.toString()\n",
    "    }\n",
    "}"
   ]
  },
  {
   "cell_type": "code",
   "execution_count": 4,
   "id": "3998488b",
   "metadata": {
    "editable": false
   },
   "outputs": [
    {
     "name": "stdout",
     "output_type": "stream",
     "text": [
      "3.1415\n",
      "| 3.1415\n",
      "| | 3.1415\n"
     ]
    }
   ],
   "source": [
    "\"🔒\"\n",
    "// @check\n",
    "// @title: check patchString\n",
    "val x = Printable(3.1415)\n",
    "x.printWithIndent(0)\n",
    "x.printWithIndent(1)\n",
    "x.printWithIndent(2)"
   ]
  },
  {
   "cell_type": "markdown",
   "id": "078be18b",
   "metadata": {
    "editable": false
   },
   "source": [
    "# 2. TreeNode\n",
    "\n",
    "Implement a `data class TreeNode` that models a generic tree node.\n",
    "\n",
    "- You must create a secondary constructor `TreeNode(value)` that will initialize the `children` member to an empty list.\n",
    "- You must override the `toString` method of TreeNode to format the value as string.  If there is any children, then you must also include the count as well in the string."
   ]
  },
  {
   "cell_type": "code",
   "execution_count": 5,
   "id": "76fa67a5",
   "metadata": {},
   "outputs": [],
   "source": [
    "\"✍️\"\n",
    "// @workUnit\n",
    "\n",
    "data class TreeNode<T> (\n",
    "    val value: T,\n",
    "    val children: List<TreeNode<T>>,\n",
    ") {\n",
    "    // create a secondary constructor\n",
    "    \n",
    "    constructor(va : T) : this(va, listOf())\n",
    "    \n",
    "    // override toString\n",
    "    override fun toString() : String\n",
    "    {\n",
    "        if(children.size > 0)\n",
    "        {\n",
    "            return \"$value (${children.size})\"\n",
    "        }\n",
    "        return \"$value\"\n",
    "    }\n",
    "}"
   ]
  },
  {
   "cell_type": "code",
   "execution_count": 6,
   "id": "60bc4776",
   "metadata": {
    "editable": false
   },
   "outputs": [
    {
     "name": "stdout",
     "output_type": "stream",
     "text": [
      "Hello\n"
     ]
    }
   ],
   "source": [
    "\"🔒\"\n",
    "// @check\n",
    "// @title: constructors\n",
    "\n",
    "println(TreeNode(\"Hello\"))"
   ]
  },
  {
   "cell_type": "code",
   "execution_count": 7,
   "id": "199f300a",
   "metadata": {
    "editable": false
   },
   "outputs": [
    {
     "data": {
      "text/plain": [
       "1234.0 (2)"
      ]
     },
     "execution_count": 7,
     "metadata": {},
     "output_type": "execute_result"
    }
   ],
   "source": [
    "\"🔒\"\n",
    "// @check\n",
    "// @title: constructors with chidren\n",
    "\n",
    "TreeNode(1234f, listOf(TreeNode(1), TreeNode(0)))"
   ]
  },
  {
   "cell_type": "code",
   "execution_count": 8,
   "id": "1a57fdd0",
   "metadata": {
    "editable": false
   },
   "outputs": [
    {
     "name": "stdout",
     "output_type": "stream",
     "text": [
      "C:\\ (2)\n",
      "Photos (2)\n",
      "Documents (1)\n"
     ]
    }
   ],
   "source": [
    "\"🔒\"\n",
    "// @check\n",
    "// @title: nested construction\n",
    "// @grade: 2\n",
    "\n",
    "val tree = TreeNode(\n",
    "    \"C:\\\\\",\n",
    "    listOf(\n",
    "        TreeNode(\"Photos\",\n",
    "                listOf(TreeNode(\"happy.jpg\"),\n",
    "                      TreeNode(\"sad.jpg\"))),\n",
    "        TreeNode(\"Documents\",\n",
    "                listOf(TreeNode(\"assignment-3\", listOf(TreeNode(1), TreeNode(2), TreeNode(3)))))\n",
    "    ))\n",
    "\n",
    "println(tree)\n",
    "println(tree.children[0])\n",
    "println(tree.children[1])"
   ]
  },
  {
   "cell_type": "markdown",
   "id": "8946b7b0",
   "metadata": {
    "editable": false
   },
   "source": [
    "# Tree traversal with recursion\n",
    "\n",
    "Implement a function `printTree` such that it prints the entire tree using the `Printable` implementation.\n",
    "\n",
    "- You should use recursion to call printTree at each node.\n",
    "- Don't forget to increment the level as you process the children of a node."
   ]
  },
  {
   "cell_type": "code",
   "execution_count": 9,
   "id": "fc03ea90",
   "metadata": {},
   "outputs": [],
   "source": [
    "\"✍️\"\n",
    "// @workUnit\n",
    "\n",
    "fun <T> printTree(node: TreeNode<T>, level: Int = 0) \n",
    "{\n",
    "    Printable(node.value).printWithIndent(level)\n",
    "\n",
    "    for(i in node.children)\n",
    "    {\n",
    "        printTree(i, level + 1)\n",
    "    }\n",
    "}"
   ]
  },
  {
   "cell_type": "code",
   "execution_count": 10,
   "id": "f82067da",
   "metadata": {
    "editable": false
   },
   "outputs": [
    {
     "name": "stdout",
     "output_type": "stream",
     "text": [
      "C:\\\n",
      "| Photos\n",
      "| | happy.jpg\n",
      "| | sad.jpg\n",
      "| Documents\n",
      "| | assignment-3\n",
      "| | | 1\n",
      "| | | 2\n",
      "| | | 3\n"
     ]
    }
   ],
   "source": [
    "\"🔒\"\n",
    "// @check\n",
    "// @title: printTree\n",
    "// @grade: 5\n",
    "\n",
    "printTree(tree)"
   ]
  },
  {
   "cell_type": "code",
   "execution_count": null,
   "id": "5472d0ed",
   "metadata": {},
   "outputs": [],
   "source": []
  }
 ],
 "metadata": {
  "kernelspec": {
   "display_name": "Kotlin",
   "language": "kotlin",
   "name": "kotlin"
  },
  "language_info": {
   "codemirror_mode": "text/x-kotlin",
   "file_extension": ".kt",
   "mimetype": "text/x-kotlin",
   "name": "kotlin",
   "nbconvert_exporter": "",
   "pygments_lexer": "kotlin",
   "version": "1.8.0-dev-707"
  }
 },
 "nbformat": 4,
 "nbformat_minor": 5
}
