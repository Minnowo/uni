{
 "cells": [
  {
   "cell_type": "code",
   "execution_count": 1,
   "id": "7f3120d4",
   "metadata": {},
   "outputs": [
    {
     "data": {
      "text/plain": [
       "\"Hello\""
      ]
     },
     "execution_count": 1,
     "metadata": {},
     "output_type": "execute_result"
    }
   ],
   "source": [
    "\"Hello\""
   ]
  },
  {
   "cell_type": "code",
   "execution_count": 2,
   "id": "272643a1",
   "metadata": {},
   "outputs": [
    {
     "data": {
      "text/plain": [
       "3"
      ]
     },
     "execution_count": 2,
     "metadata": {},
     "output_type": "execute_result"
    }
   ],
   "source": [
    "(+ 1 2)"
   ]
  },
  {
   "cell_type": "code",
   "execution_count": 3,
   "id": "5ab52a97",
   "metadata": {},
   "outputs": [
    {
     "data": {
      "text/plain": [
       "(clojure.core/+ 1 2)"
      ]
     },
     "execution_count": 3,
     "metadata": {},
     "output_type": "execute_result"
    }
   ],
   "source": [
    "`(+ 1 2)"
   ]
  },
  {
   "cell_type": "code",
   "execution_count": 4,
   "id": "1dbe4c51",
   "metadata": {},
   "outputs": [
    {
     "data": {
      "text/plain": [
       "(+ 1 2)"
      ]
     },
     "execution_count": 4,
     "metadata": {},
     "output_type": "execute_result"
    }
   ],
   "source": [
    "'(+ 1 2)"
   ]
  },
  {
   "cell_type": "code",
   "execution_count": 5,
   "id": "a5c7f480",
   "metadata": {},
   "outputs": [
    {
     "data": {
      "text/plain": [
       "#'user/x"
      ]
     },
     "execution_count": 5,
     "metadata": {},
     "output_type": "execute_result"
    }
   ],
   "source": [
    "(def x *)"
   ]
  },
  {
   "cell_type": "code",
   "execution_count": 6,
   "id": "3657d7fc",
   "metadata": {},
   "outputs": [
    {
     "data": {
      "text/plain": [
       "25"
      ]
     },
     "execution_count": 6,
     "metadata": {},
     "output_type": "execute_result"
    }
   ],
   "source": [
    "(x 5 5)"
   ]
  },
  {
   "cell_type": "code",
   "execution_count": 10,
   "id": "3dc85652",
   "metadata": {},
   "outputs": [
    {
     "data": {
      "text/plain": [
       "#'user/mult"
      ]
     },
     "execution_count": 10,
     "metadata": {},
     "output_type": "execute_result"
    }
   ],
   "source": [
    "(def mult (fn [a b]\n",
    "    (+ a b))\n",
    "    )\n"
   ]
  },
  {
   "cell_type": "code",
   "execution_count": 11,
   "id": "82b02e33",
   "metadata": {},
   "outputs": [
    {
     "data": {
      "text/plain": [
       "10"
      ]
     },
     "execution_count": 11,
     "metadata": {},
     "output_type": "execute_result"
    }
   ],
   "source": [
    "(mult 5 5)"
   ]
  },
  {
   "cell_type": "code",
   "execution_count": 5,
   "id": "ff7aebb9",
   "metadata": {},
   "outputs": [
    {
     "data": {
      "text/plain": [
       "\"One\""
      ]
     },
     "execution_count": 5,
     "metadata": {},
     "output_type": "execute_result"
    }
   ],
   "source": [
    "(def x 1)\n",
    "(cond \n",
    "    (= x 1) \"One\"\n",
    "    (= x 2) \"Two\"\n",
    "    :else   \"Three\")"
   ]
  },
  {
   "cell_type": "code",
   "execution_count": 8,
   "id": "7fd43e33",
   "metadata": {},
   "outputs": [
    {
     "data": {
      "text/plain": [
       "\"One\""
      ]
     },
     "execution_count": 8,
     "metadata": {},
     "output_type": "execute_result"
    }
   ],
   "source": [
    "(case x 1 \"One\" 2 \"Two\" 3 \"Three\")"
   ]
  },
  {
   "cell_type": "code",
   "execution_count": null,
   "id": "6b3e990d",
   "metadata": {},
   "outputs": [],
   "source": []
  }
 ],
 "metadata": {
  "kernelspec": {
   "display_name": "Clojure (clojupyter-v0.2.2)",
   "language": "clojure",
   "name": "clojupyter"
  },
  "language_info": {
   "file_extension": ".clj",
   "mimetype": "text/x-clojure",
   "name": "clojure",
   "version": "1.11.1"
  }
 },
 "nbformat": 4,
 "nbformat_minor": 5
}
