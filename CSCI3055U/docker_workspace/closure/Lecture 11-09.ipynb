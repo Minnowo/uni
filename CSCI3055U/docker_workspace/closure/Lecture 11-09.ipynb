{
 "cells": [
  {
   "cell_type": "code",
   "execution_count": 1,
   "id": "d2eb42ab",
   "metadata": {},
   "outputs": [
    {
     "data": {
      "text/plain": [
       "(4)"
      ]
     },
     "execution_count": 1,
     "metadata": {},
     "output_type": "execute_result"
    }
   ],
   "source": [
    "(defn exp [x n]\n",
    "  (reduce * (repeat n x)))\n",
    "\n",
    "(for [x [1 2 3]\n",
    "      :when (even? x)]\n",
    "    (* x x))"
   ]
  },
  {
   "cell_type": "code",
   "execution_count": 2,
   "id": "0ba68eb5",
   "metadata": {},
   "outputs": [
    {
     "data": {
      "text/plain": [
       "32"
      ]
     },
     "execution_count": 2,
     "metadata": {},
     "output_type": "execute_result"
    }
   ],
   "source": [
    "(exp 2 5)"
   ]
  },
  {
   "cell_type": "code",
   "execution_count": 3,
   "id": "a4784078",
   "metadata": {},
   "outputs": [
    {
     "data": {
      "text/plain": [
       "(1 3/2 2 5/2 3 7/2 4 9/2 5 11/2)"
      ]
     },
     "execution_count": 3,
     "metadata": {},
     "output_type": "execute_result"
    }
   ],
   "source": [
    "(for [x (range 0 10)]\n",
    "    (+ (/ x 2) 1))"
   ]
  },
  {
   "cell_type": "code",
   "execution_count": 5,
   "id": "9d1d13f1",
   "metadata": {},
   "outputs": [
    {
     "data": {
      "text/plain": [
       "4096"
      ]
     },
     "execution_count": 5,
     "metadata": {},
     "output_type": "execute_result"
    }
   ],
   "source": [
    "(->> 5  (+ 1) (* 2) (exp 2))"
   ]
  },
  {
   "cell_type": "code",
   "execution_count": null,
   "id": "7549ef71",
   "metadata": {},
   "outputs": [],
   "source": [
    "(do\n",
    "    (println \"hello world\")\n",
    "    (println (+ 8 (* 5 2)))\n",
    "    0\n",
    "    )"
   ]
  },
  {
   "cell_type": "code",
   "execution_count": 16,
   "id": "e5850a76",
   "metadata": {},
   "outputs": [
    {
     "data": {
      "text/plain": [
       "\"y > x\""
      ]
     },
     "execution_count": 16,
     "metadata": {},
     "output_type": "execute_result"
    }
   ],
   "source": [
    "(let [x 5\n",
    "      y 10\n",
    "      z (exp 2 8)]\n",
    "    \n",
    "    (cond\n",
    "        (> x y) \"x > y\"\n",
    "        (> y x) \"y > x\"\n",
    "        :else   \"x = y\"\n",
    "        )\n",
    "        \n",
    "    )"
   ]
  },
  {
   "cell_type": "code",
   "execution_count": 34,
   "id": "681ccc53",
   "metadata": {},
   "outputs": [
    {
     "data": {
      "text/plain": [
       "#'user/f"
      ]
     },
     "execution_count": 34,
     "metadata": {},
     "output_type": "execute_result"
    }
   ],
   "source": [
    "(defmacro f [x]\n",
    "    (println x)\n",
    "    3.14159)"
   ]
  },
  {
   "cell_type": "code",
   "execution_count": 35,
   "id": "372171be",
   "metadata": {},
   "outputs": [
    {
     "name": "stdout",
     "output_type": "stream",
     "text": [
      "(hello world)\n"
     ]
    },
    {
     "data": {
      "text/plain": [
       "3.14159"
      ]
     },
     "execution_count": 35,
     "metadata": {},
     "output_type": "execute_result"
    }
   ],
   "source": [
    "(f (\"hello\" \"world\"))"
   ]
  },
  {
   "cell_type": "code",
   "execution_count": 57,
   "id": "eb30b727",
   "metadata": {},
   "outputs": [
    {
     "data": {
      "text/plain": [
       "#'user/with-log"
      ]
     },
     "execution_count": 57,
     "metadata": {},
     "output_type": "execute_result"
    }
   ],
   "source": [
    "(defmacro with-log\n",
    "    [form]\n",
    "    (let [message (str form)]\n",
    "        (list 'do\n",
    "              (list (list 'println message)\n",
    "                    form))) form)"
   ]
  },
  {
   "cell_type": "code",
   "execution_count": 58,
   "id": "4e0fda15",
   "metadata": {},
   "outputs": [
    {
     "name": "stdout",
     "output_type": "stream",
     "text": [
      "3\n"
     ]
    },
    {
     "data": {
      "text/plain": [
       "nil"
      ]
     },
     "execution_count": 58,
     "metadata": {},
     "output_type": "execute_result"
    }
   ],
   "source": [
    "(let [x (with-log (+ 1 2))]\n",
    "    (println x))"
   ]
  },
  {
   "cell_type": "code",
   "execution_count": 65,
   "id": "cba16a5d",
   "metadata": {},
   "outputs": [
    {
     "data": {
      "text/plain": [
       "11"
      ]
     },
     "execution_count": 65,
     "metadata": {},
     "output_type": "execute_result"
    }
   ],
   "source": [
    "(let [x 10] (inc x))"
   ]
  },
  {
   "cell_type": "code",
   "execution_count": 67,
   "id": "b99d81e0",
   "metadata": {},
   "outputs": [
    {
     "data": {
      "text/plain": [
       "#'user/inc-10"
      ]
     },
     "execution_count": 67,
     "metadata": {},
     "output_type": "execute_result"
    }
   ],
   "source": [
    ";; generates and run the above code\n",
    "(defmacro inc-10 []\n",
    "    (list 'let (vector 'x 10)\n",
    "          (list 'inc 'x)))"
   ]
  },
  {
   "cell_type": "code",
   "execution_count": 68,
   "id": "35fa34d1",
   "metadata": {},
   "outputs": [
    {
     "data": {
      "text/plain": [
       "11"
      ]
     },
     "execution_count": 68,
     "metadata": {},
     "output_type": "execute_result"
    }
   ],
   "source": [
    "(inc-10)"
   ]
  },
  {
   "cell_type": "code",
   "execution_count": 74,
   "id": "ae234c9e",
   "metadata": {},
   "outputs": [
    {
     "data": {
      "text/plain": [
       "(clojure.core/+ 1 2 3)"
      ]
     },
     "execution_count": 74,
     "metadata": {},
     "output_type": "execute_result"
    }
   ],
   "source": [
    ";; single value substitution with unuote\n",
    ";; want to evaluate (inc x) but nothing else \n",
    "(let [x 2]\n",
    "    `(+ 1 2 ~(inc x)))"
   ]
  },
  {
   "cell_type": "code",
   "execution_count": 80,
   "id": "a25498b5",
   "metadata": {},
   "outputs": [
    {
     "data": {
      "text/plain": [
       "(clojure.core/+ 1 2 [3 4])"
      ]
     },
     "execution_count": 80,
     "metadata": {},
     "output_type": "execute_result"
    }
   ],
   "source": [
    ";; unquote with lists\n",
    "(let [x [3 4]]\n",
    "    `(+ 1 2 ~x)) ;; this doesn't give us (+ 1 2 3 4) like we want"
   ]
  },
  {
   "cell_type": "code",
   "execution_count": 81,
   "id": "a0ee79ef",
   "metadata": {},
   "outputs": [
    {
     "data": {
      "text/plain": [
       "(clojure.core/+ 1 2 3 4)"
      ]
     },
     "execution_count": 81,
     "metadata": {},
     "output_type": "execute_result"
    }
   ],
   "source": [
    ";; we need unquote-slicing\n",
    "(let [x [3 4]]\n",
    "    `(+ 1 2 ~@x))"
   ]
  },
  {
   "cell_type": "code",
   "execution_count": 83,
   "id": "31a37001",
   "metadata": {},
   "outputs": [
    {
     "name": "stdout",
     "output_type": "stream",
     "text": [
      "Ken Pu\n"
     ]
    },
    {
     "data": {
      "text/plain": [
       "nil"
      ]
     },
     "execution_count": 83,
     "metadata": {},
     "output_type": "execute_result"
    }
   ],
   "source": [
    ";; generate a unique symbol starting with name to prevent name conflicts when generating macro code\n",
    "(let [name# \"Ken Pu\"]\n",
    "    (println name#) )"
   ]
  },
  {
   "cell_type": "code",
   "execution_count": 21,
   "id": "f849b2cc",
   "metadata": {},
   "outputs": [
    {
     "name": "stdout",
     "output_type": "stream",
     "text": [
      "0\n",
      "1\n",
      "2\n",
      "3\n",
      "4\n"
     ]
    },
    {
     "data": {
      "text/plain": [
       "nil"
      ]
     },
     "execution_count": 21,
     "metadata": {},
     "output_type": "execute_result"
    }
   ],
   "source": [
    ";; This program displays Hello World\n",
    "\n",
    "(defn Example []\n",
    "   (loop [i 0]\n",
    "      (if (< i 5)\n",
    "      (do \n",
    "          (println i)\n",
    "          (recur (inc i)))\n",
    "      )))\n",
    "(Example)"
   ]
  },
  {
   "cell_type": "code",
   "execution_count": 56,
   "id": "e3168100",
   "metadata": {},
   "outputs": [
    {
     "data": {
      "text/plain": [
       "720"
      ]
     },
     "execution_count": 56,
     "metadata": {},
     "output_type": "execute_result"
    }
   ],
   "source": [
    ";; factorial using tail recursion\n",
    "(defn factorial [x]\n",
    "    (loop [i x valu 1]\n",
    "        (if (= i 0) \n",
    "            valu \n",
    "            (recur (dec i) (* i valu)))\n",
    "        )\n",
    "    )\n",
    "\n",
    "(factorial 6)"
   ]
  },
  {
   "cell_type": "code",
   "execution_count": 72,
   "id": "a30e920f",
   "metadata": {},
   "outputs": [
    {
     "data": {
      "text/plain": [
       "16"
      ]
     },
     "execution_count": 72,
     "metadata": {},
     "output_type": "execute_result"
    }
   ],
   "source": [
    ";; power using tail recursion\n",
    "(defn power [base exp]\n",
    "    (loop [b base e exp output base]\n",
    "        (cond\n",
    "            (< e 0) 0\n",
    "            (= e 0) 1\n",
    "            (= e 1) output\n",
    "            :else   (recur b (dec e) (* b output)))))\n",
    "\n",
    "(power 2 4)"
   ]
  },
  {
   "cell_type": "code",
   "execution_count": 86,
   "id": "77ce5fa6",
   "metadata": {},
   "outputs": [
    {
     "data": {
      "text/plain": [
       "13"
      ]
     },
     "execution_count": 86,
     "metadata": {},
     "output_type": "execute_result"
    }
   ],
   "source": [
    ";; using normal recursion\n",
    "(defn fib [x]\n",
    "    (cond\n",
    "        (= x 0) 0\n",
    "        (= x 1) 1\n",
    "        :else   (+ (fib (dec x)) (fib (- x 2)))))\n",
    "\n",
    "(fib 7)"
   ]
  },
  {
   "cell_type": "code",
   "execution_count": null,
   "id": "ceb4a85b",
   "metadata": {},
   "outputs": [],
   "source": [
    ";; using tail recursion\n",
    "(defn fib [n]\n",
    "  (if (< n 2)\n",
    "    n\n",
    "    (loop [i 1\n",
    "           lst 0\n",
    "           nxt 1]\n",
    "      (if (>= i n)\n",
    "        nxt\n",
    "        (recur (inc i) nxt (+ lst nxt))))))\n",
    "\n",
    "(fib 5)"
   ]
  },
  {
   "cell_type": "code",
   "execution_count": 101,
   "id": "ebb55c1f",
   "metadata": {},
   "outputs": [
    {
     "data": {
      "text/plain": [
       "120"
      ]
     },
     "execution_count": 101,
     "metadata": {},
     "output_type": "execute_result"
    }
   ],
   "source": [
    ";; factorial using for loop\n",
    "(defn factorial [x]\n",
    "    (* x (apply * (for [i (range 1 x)] i))))\n",
    "\n",
    "(factorial 5)"
   ]
  },
  {
   "cell_type": "code",
   "execution_count": 117,
   "id": "26b2418c",
   "metadata": {},
   "outputs": [
    {
     "data": {
      "text/plain": [
       "16"
      ]
     },
     "execution_count": 117,
     "metadata": {},
     "output_type": "execute_result"
    }
   ],
   "source": [
    ";; power function using for loop\n",
    "(defn power [base exp]\n",
    "    (apply * (for [i (range exp)] base)))\n",
    "\n",
    "(power 2 4)"
   ]
  },
  {
   "cell_type": "code",
   "execution_count": 140,
   "id": "8fa7d5e0",
   "metadata": {},
   "outputs": [
    {
     "data": {
      "text/plain": [
       "120"
      ]
     },
     "execution_count": 140,
     "metadata": {},
     "output_type": "execute_result"
    }
   ],
   "source": [
    ";; factorial using reduce \n",
    "(defn factorial [x]\n",
    "    (reduce * x(range 1  x)))\n",
    "\n",
    "(factorial 5)"
   ]
  },
  {
   "cell_type": "code",
   "execution_count": 149,
   "id": "27ffc439",
   "metadata": {},
   "outputs": [
    {
     "data": {
      "text/plain": [
       "16"
      ]
     },
     "execution_count": 149,
     "metadata": {},
     "output_type": "execute_result"
    }
   ],
   "source": [
    ";; power using reduce \n",
    "(defn power [base exp]\n",
    "    (reduce * 1 (repeat base exp)))\n",
    "\n",
    "(power 2 4)"
   ]
  },
  {
   "cell_type": "code",
   "execution_count": 157,
   "id": "0d4791b3",
   "metadata": {},
   "outputs": [
    {
     "data": {
      "text/plain": [
       "(0 1 2 3 4 5 6 0 1 2 3 4 5 6 0 1 2 3 4 5 6 0 1 2 3 4 5 6 0 1 2 3 4 5 6)"
      ]
     },
     "execution_count": 157,
     "metadata": {},
     "output_type": "execute_result"
    }
   ],
   "source": [
    ";; nested for loop\n",
    "(for [i (range 5) \n",
    "      j (range 7)] \n",
    "  j)"
   ]
  },
  {
   "cell_type": "code",
   "execution_count": 173,
   "id": "e3f987a7",
   "metadata": {},
   "outputs": [
    {
     "data": {
      "text/plain": [
       "2"
      ]
     },
     "execution_count": 173,
     "metadata": {},
     "output_type": "execute_result"
    }
   ],
   "source": [
    ";; using reduce \n",
    "(defn average [lis]\n",
    "    (/ (reduce + lis) (count lis)))\n",
    "\n",
    "(average '(1 2 3))"
   ]
  },
  {
   "cell_type": "code",
   "execution_count": 177,
   "id": "829141c8",
   "metadata": {},
   "outputs": [
    {
     "data": {
      "text/plain": [
       "3"
      ]
     },
     "execution_count": 177,
     "metadata": {},
     "output_type": "execute_result"
    }
   ],
   "source": [
    ";; using tail recursion\n",
    "(defn average [x]\n",
    "    (let [c (count x)]\n",
    "        (loop [sum 0 index 0]\n",
    "            (cond\n",
    "                (= index c) (/ sum c)\n",
    "                :else (recur (+ sum (x index)) (inc index))\n",
    "                ))))\n",
    "\n",
    "(average [1 2 3 4 5])"
   ]
  },
  {
   "cell_type": "code",
   "execution_count": 188,
   "id": "469ba5b5",
   "metadata": {},
   "outputs": [
    {
     "name": "stderr",
     "output_type": "stream",
     "text": [
      "Syntax error macroexpanding clojure.core/fn at (REPL:3:1).\n",
      "(update (update (update m :count + 1) :limit + 1) :mean + 1) - failed: vector? at: [:fn-tail :arity-1 :params] spec: :clojure.core.specs.alpha/param-list\n",
      "update - failed: vector? at: [:fn-tail :arity-n :params] spec: :clojure.core.specs.alpha/param-list\n"
     ]
    },
    {
     "ename": "class clojure.lang.Compiler$CompilerException",
     "evalue": "",
     "execution_count": 188,
     "output_type": "error",
     "status": "error",
     "traceback": [
      "  alpha.clj:   712 clojure.spec.alpha$macroexpand_check/invokeStatic      ",
      "  alpha.clj:   704 clojure.spec.alpha$macroexpand_check/invoke            ",
      "   AFn.java:   156 clojure.lang.AFn/applyToHelper                         ",
      "   AFn.java:   144 clojure.lang.AFn/applyTo                               ",
      "   Var.java:   705 clojure.lang.Var/applyTo                               ",
      "   core.clj:  3215 clojure.core$eval/invokeStatic                         ",
      "   core.clj:  3211 clojure.core$eval/invoke                               ",
      "   main.clj:   437 clojure.main$repl$read_eval_print__9206$fn__9209/invoke",
      "   main.clj:   458 clojure.main$repl$fn__9215/invoke                      ",
      "   main.clj:   368 clojure.main$repl/doInvoke                             ",
      "RestFn.java:  1523 clojure.lang.RestFn/invoke                             ",
      "   AFn.java:    22 clojure.lang.AFn/run                                   ",
      "   AFn.java:    22 clojure.lang.AFn/run                                   ",
      "Thread.java:   750 java.lang.Thread/run                                   "
     ]
    }
   ],
   "source": [
    "(def m { :count 0 :limit 0 :mean 0 })\n",
    "\n",
    "(-> m\n",
    "    (update :count + 1)\n",
    "    (update :limit + 1)\n",
    "    (update :mean + 1)\n",
    "    (fn [] (println x))\n",
    ")"
   ]
  },
  {
   "cell_type": "code",
   "execution_count": 179,
   "id": "6e57e14f",
   "metadata": {},
   "outputs": [
    {
     "data": {
      "text/plain": [
       "{:hello 0}"
      ]
     },
     "execution_count": 179,
     "metadata": {},
     "output_type": "execute_result"
    }
   ],
   "source": [
    "m"
   ]
  },
  {
   "cell_type": "code",
   "execution_count": 189,
   "id": "9be3a90c",
   "metadata": {},
   "outputs": [
    {
     "data": {
      "text/plain": [
       "5"
      ]
     },
     "execution_count": 189,
     "metadata": {},
     "output_type": "execute_result"
    }
   ],
   "source": [
    "(int 5.5)"
   ]
  },
  {
   "cell_type": "code",
   "execution_count": 206,
   "id": "53163bbf",
   "metadata": {},
   "outputs": [
    {
     "data": {
      "text/plain": [
       "26917811"
      ]
     },
     "execution_count": 206,
     "metadata": {},
     "output_type": "execute_result"
    }
   ],
   "source": [
    "(defn round [x]\n",
    "    (let [y (- x (int x))]\n",
    "        (cond\n",
    "        \n",
    "            (= 0 y) x\n",
    "            (>= y 0.5) (inc (int x))\n",
    "            :else (int x)\n",
    "\n",
    "        )\n",
    "    )\n",
    ")\n",
    "\n",
    "(round 2.691781120000024E7)"
   ]
  },
  {
   "cell_type": "code",
   "execution_count": null,
   "id": "ac27e736",
   "metadata": {},
   "outputs": [],
   "source": []
  }
 ],
 "metadata": {
  "kernelspec": {
   "display_name": "Clojure (clojupyter-v0.2.2)",
   "language": "clojure",
   "name": "clojupyter"
  },
  "language_info": {
   "file_extension": ".clj",
   "mimetype": "text/x-clojure",
   "name": "clojure",
   "version": "1.11.1"
  }
 },
 "nbformat": 4,
 "nbformat_minor": 5
}
