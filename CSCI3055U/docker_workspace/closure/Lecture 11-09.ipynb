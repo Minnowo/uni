{
 "cells": [
  {
   "cell_type": "code",
   "execution_count": 1,
   "id": "48b48680",
   "metadata": {},
   "outputs": [
    {
     "data": {
      "text/plain": [
       "(4)"
      ]
     },
     "execution_count": 1,
     "metadata": {},
     "output_type": "execute_result"
    }
   ],
   "source": [
    "(defn exp [x n]\n",
    "  (reduce * (repeat n x)))\n",
    "\n",
    "(for [x [1 2 3]\n",
    "      :when (even? x)]\n",
    "    (* x x))"
   ]
  },
  {
   "cell_type": "code",
   "execution_count": 2,
   "id": "926aea2d",
   "metadata": {},
   "outputs": [
    {
     "data": {
      "text/plain": [
       "32"
      ]
     },
     "execution_count": 2,
     "metadata": {},
     "output_type": "execute_result"
    }
   ],
   "source": [
    "(exp 2 5)"
   ]
  },
  {
   "cell_type": "code",
   "execution_count": 3,
   "id": "a66a93eb",
   "metadata": {},
   "outputs": [
    {
     "data": {
      "text/plain": [
       "(1 3/2 2 5/2 3 7/2 4 9/2 5 11/2)"
      ]
     },
     "execution_count": 3,
     "metadata": {},
     "output_type": "execute_result"
    }
   ],
   "source": [
    "(for [x (range 0 10)]\n",
    "    (+ (/ x 2) 1))"
   ]
  },
  {
   "cell_type": "code",
   "execution_count": 5,
   "id": "a6222800",
   "metadata": {},
   "outputs": [
    {
     "data": {
      "text/plain": [
       "4096"
      ]
     },
     "execution_count": 5,
     "metadata": {},
     "output_type": "execute_result"
    }
   ],
   "source": [
    "(->> 5  (+ 1) (* 2) (exp 2))"
   ]
  },
  {
   "cell_type": "code",
   "execution_count": null,
   "id": "86e4bf72",
   "metadata": {},
   "outputs": [],
   "source": [
    "(do\n",
    "    (println \"hello world\")\n",
    "    (println (+ 8 (* 5 2)))\n",
    "    0\n",
    "    )"
   ]
  },
  {
   "cell_type": "code",
   "execution_count": 16,
   "id": "40a776f7",
   "metadata": {},
   "outputs": [
    {
     "data": {
      "text/plain": [
       "\"y > x\""
      ]
     },
     "execution_count": 16,
     "metadata": {},
     "output_type": "execute_result"
    }
   ],
   "source": [
    "(let [x 5\n",
    "      y 10\n",
    "      z (exp 2 8)]\n",
    "    \n",
    "    (cond\n",
    "        (> x y) \"x > y\"\n",
    "        (> y x) \"y > x\"\n",
    "        :else   \"x = y\"\n",
    "        )\n",
    "        \n",
    "    )"
   ]
  },
  {
   "cell_type": "code",
   "execution_count": 34,
   "id": "dda13f8d",
   "metadata": {},
   "outputs": [
    {
     "data": {
      "text/plain": [
       "#'user/f"
      ]
     },
     "execution_count": 34,
     "metadata": {},
     "output_type": "execute_result"
    }
   ],
   "source": [
    "(defmacro f [x]\n",
    "    (println x)\n",
    "    3.14159)"
   ]
  },
  {
   "cell_type": "code",
   "execution_count": 35,
   "id": "489f11e6",
   "metadata": {},
   "outputs": [
    {
     "name": "stdout",
     "output_type": "stream",
     "text": [
      "(hello world)\n"
     ]
    },
    {
     "data": {
      "text/plain": [
       "3.14159"
      ]
     },
     "execution_count": 35,
     "metadata": {},
     "output_type": "execute_result"
    }
   ],
   "source": [
    "(f (\"hello\" \"world\"))"
   ]
  },
  {
   "cell_type": "code",
   "execution_count": 57,
   "id": "ca951dc7",
   "metadata": {},
   "outputs": [
    {
     "data": {
      "text/plain": [
       "#'user/with-log"
      ]
     },
     "execution_count": 57,
     "metadata": {},
     "output_type": "execute_result"
    }
   ],
   "source": [
    "(defmacro with-log\n",
    "    [form]\n",
    "    (let [message (str form)]\n",
    "        (list 'do\n",
    "              (list (list 'println message)\n",
    "                    form))) form)"
   ]
  },
  {
   "cell_type": "code",
   "execution_count": 58,
   "id": "6f4bced0",
   "metadata": {},
   "outputs": [
    {
     "name": "stdout",
     "output_type": "stream",
     "text": [
      "3\n"
     ]
    },
    {
     "data": {
      "text/plain": [
       "nil"
      ]
     },
     "execution_count": 58,
     "metadata": {},
     "output_type": "execute_result"
    }
   ],
   "source": [
    "(let [x (with-log (+ 1 2))]\n",
    "    (println x))"
   ]
  },
  {
   "cell_type": "code",
   "execution_count": 65,
   "id": "65d9def3",
   "metadata": {},
   "outputs": [
    {
     "data": {
      "text/plain": [
       "11"
      ]
     },
     "execution_count": 65,
     "metadata": {},
     "output_type": "execute_result"
    }
   ],
   "source": [
    "(let [x 10] (inc x))"
   ]
  },
  {
   "cell_type": "code",
   "execution_count": 67,
   "id": "d79b8177",
   "metadata": {},
   "outputs": [
    {
     "data": {
      "text/plain": [
       "#'user/inc-10"
      ]
     },
     "execution_count": 67,
     "metadata": {},
     "output_type": "execute_result"
    }
   ],
   "source": [
    ";; generates and run the above code\n",
    "(defmacro inc-10 []\n",
    "    (list 'let (vector 'x 10)\n",
    "          (list 'inc 'x)))"
   ]
  },
  {
   "cell_type": "code",
   "execution_count": 68,
   "id": "11803d5a",
   "metadata": {},
   "outputs": [
    {
     "data": {
      "text/plain": [
       "11"
      ]
     },
     "execution_count": 68,
     "metadata": {},
     "output_type": "execute_result"
    }
   ],
   "source": [
    "(inc-10)"
   ]
  },
  {
   "cell_type": "code",
   "execution_count": 74,
   "id": "3feda516",
   "metadata": {},
   "outputs": [
    {
     "data": {
      "text/plain": [
       "(clojure.core/+ 1 2 3)"
      ]
     },
     "execution_count": 74,
     "metadata": {},
     "output_type": "execute_result"
    }
   ],
   "source": [
    ";; single value substitution with unuote\n",
    ";; want to evaluate (inc x) but nothing else \n",
    "(let [x 2]\n",
    "    `(+ 1 2 ~(inc x)))"
   ]
  },
  {
   "cell_type": "code",
   "execution_count": 80,
   "id": "ef536df1",
   "metadata": {},
   "outputs": [
    {
     "data": {
      "text/plain": [
       "(clojure.core/+ 1 2 [3 4])"
      ]
     },
     "execution_count": 80,
     "metadata": {},
     "output_type": "execute_result"
    }
   ],
   "source": [
    ";; unquote with lists\n",
    "(let [x [3 4]]\n",
    "    `(+ 1 2 ~x)) ;; this doesn't give us (+ 1 2 3 4) like we want"
   ]
  },
  {
   "cell_type": "code",
   "execution_count": 81,
   "id": "45d2bec0",
   "metadata": {},
   "outputs": [
    {
     "data": {
      "text/plain": [
       "(clojure.core/+ 1 2 3 4)"
      ]
     },
     "execution_count": 81,
     "metadata": {},
     "output_type": "execute_result"
    }
   ],
   "source": [
    ";; we need unquote-slicing\n",
    "(let [x [3 4]]\n",
    "    `(+ 1 2 ~@x))"
   ]
  },
  {
   "cell_type": "code",
   "execution_count": 83,
   "id": "157e6d34",
   "metadata": {},
   "outputs": [
    {
     "name": "stdout",
     "output_type": "stream",
     "text": [
      "Ken Pu\n"
     ]
    },
    {
     "data": {
      "text/plain": [
       "nil"
      ]
     },
     "execution_count": 83,
     "metadata": {},
     "output_type": "execute_result"
    }
   ],
   "source": [
    ";; generate a unique symbol starting with name to prevent name conflicts when generating macro code\n",
    "(let [name# \"Ken Pu\"]\n",
    "    (println name#) )"
   ]
  },
  {
   "cell_type": "code",
   "execution_count": 21,
   "id": "12964784",
   "metadata": {},
   "outputs": [
    {
     "name": "stdout",
     "output_type": "stream",
     "text": [
      "0\n",
      "1\n",
      "2\n",
      "3\n",
      "4\n"
     ]
    },
    {
     "data": {
      "text/plain": [
       "nil"
      ]
     },
     "execution_count": 21,
     "metadata": {},
     "output_type": "execute_result"
    }
   ],
   "source": [
    ";; This program displays Hello World\n",
    "\n",
    "(defn Example []\n",
    "   (loop [i 0]\n",
    "      (if (< i 5)\n",
    "      (do \n",
    "          (println i)\n",
    "          (recur (inc i)))\n",
    "      )))\n",
    "(Example)"
   ]
  },
  {
   "cell_type": "code",
   "execution_count": 56,
   "id": "d444a5f3",
   "metadata": {},
   "outputs": [
    {
     "data": {
      "text/plain": [
       "720"
      ]
     },
     "execution_count": 56,
     "metadata": {},
     "output_type": "execute_result"
    }
   ],
   "source": [
    ";; factorial using tail recursion\n",
    "(defn factorial [x]\n",
    "    (loop [i x valu 1]\n",
    "        (if (= i 0) \n",
    "            valu \n",
    "            (recur (dec i) (* i valu)))\n",
    "        )\n",
    "    )\n",
    "\n",
    "(factorial 6)"
   ]
  },
  {
   "cell_type": "code",
   "execution_count": 72,
   "id": "48fbde6e",
   "metadata": {},
   "outputs": [
    {
     "data": {
      "text/plain": [
       "16"
      ]
     },
     "execution_count": 72,
     "metadata": {},
     "output_type": "execute_result"
    }
   ],
   "source": [
    ";; power using tail recursion\n",
    "(defn power [base exp]\n",
    "    (loop [b base e exp output base]\n",
    "        (cond\n",
    "            (< e 0) 0\n",
    "            (= e 0) 1\n",
    "            (= e 1) output\n",
    "            :else   (recur b (dec e) (* b output)))))\n",
    "\n",
    "(power 2 4)"
   ]
  },
  {
   "cell_type": "code",
   "execution_count": 86,
   "id": "21b6fc57",
   "metadata": {},
   "outputs": [
    {
     "data": {
      "text/plain": [
       "13"
      ]
     },
     "execution_count": 86,
     "metadata": {},
     "output_type": "execute_result"
    }
   ],
   "source": [
    ";; using normal recursion\n",
    "(defn fib [x]\n",
    "    (cond\n",
    "        (= x 0) 0\n",
    "        (= x 1) 1\n",
    "        :else   (+ (fib (dec x)) (fib (- x 2)))))\n",
    "\n",
    "(fib 7)"
   ]
  },
  {
   "cell_type": "code",
   "execution_count": null,
   "id": "b6c9eb1f",
   "metadata": {},
   "outputs": [],
   "source": [
    ";; using tail recursion\n",
    "(defn fib [n]\n",
    "  (if (< n 2)\n",
    "    n\n",
    "    (loop [i 1\n",
    "           lst 0\n",
    "           nxt 1]\n",
    "      (if (>= i n)\n",
    "        nxt\n",
    "        (recur (inc i) nxt (+ lst nxt))))))\n",
    "\n",
    "(fib 5)"
   ]
  },
  {
   "cell_type": "code",
   "execution_count": 101,
   "id": "3f78541d",
   "metadata": {},
   "outputs": [
    {
     "data": {
      "text/plain": [
       "120"
      ]
     },
     "execution_count": 101,
     "metadata": {},
     "output_type": "execute_result"
    }
   ],
   "source": [
    ";; factorial using for loop\n",
    "(defn factorial [x]\n",
    "    (* x (apply * (for [i (range 1 x)] i))))\n",
    "\n",
    "(factorial 5)"
   ]
  },
  {
   "cell_type": "code",
   "execution_count": 117,
   "id": "29ca41f3",
   "metadata": {},
   "outputs": [
    {
     "data": {
      "text/plain": [
       "16"
      ]
     },
     "execution_count": 117,
     "metadata": {},
     "output_type": "execute_result"
    }
   ],
   "source": [
    ";; power function using for loop\n",
    "(defn power [base exp]\n",
    "    (apply * (for [i (range exp)] base)))\n",
    "\n",
    "(power 2 4)"
   ]
  },
  {
   "cell_type": "code",
   "execution_count": 140,
   "id": "ab02b3ee",
   "metadata": {},
   "outputs": [
    {
     "data": {
      "text/plain": [
       "120"
      ]
     },
     "execution_count": 140,
     "metadata": {},
     "output_type": "execute_result"
    }
   ],
   "source": [
    ";; factorial using reduce \n",
    "(defn factorial [x]\n",
    "    (reduce * x(range 1  x)))\n",
    "\n",
    "(factorial 5)"
   ]
  },
  {
   "cell_type": "code",
   "execution_count": 149,
   "id": "b916be5e",
   "metadata": {},
   "outputs": [
    {
     "data": {
      "text/plain": [
       "16"
      ]
     },
     "execution_count": 149,
     "metadata": {},
     "output_type": "execute_result"
    }
   ],
   "source": [
    ";; power using reduce \n",
    "(defn power [base exp]\n",
    "    (reduce * 1 (repeat base exp)))\n",
    "\n",
    "(power 2 4)"
   ]
  },
  {
   "cell_type": "code",
   "execution_count": 157,
   "id": "d8c1eed7",
   "metadata": {},
   "outputs": [
    {
     "data": {
      "text/plain": [
       "(0 1 2 3 4 5 6 0 1 2 3 4 5 6 0 1 2 3 4 5 6 0 1 2 3 4 5 6 0 1 2 3 4 5 6)"
      ]
     },
     "execution_count": 157,
     "metadata": {},
     "output_type": "execute_result"
    }
   ],
   "source": [
    ";; nested for loop\n",
    "(for [i (range 5) \n",
    "      j (range 7)] \n",
    "  j)"
   ]
  },
  {
   "cell_type": "code",
   "execution_count": 173,
   "id": "0f5fcd92",
   "metadata": {},
   "outputs": [
    {
     "data": {
      "text/plain": [
       "2"
      ]
     },
     "execution_count": 173,
     "metadata": {},
     "output_type": "execute_result"
    }
   ],
   "source": [
    ";; using reduce \n",
    "(defn average [lis]\n",
    "    (/ (reduce + lis) (count lis)))\n",
    "\n",
    "(average '(1 2 3))"
   ]
  },
  {
   "cell_type": "code",
   "execution_count": 177,
   "id": "7d9d8c1f",
   "metadata": {},
   "outputs": [
    {
     "data": {
      "text/plain": [
       "3"
      ]
     },
     "execution_count": 177,
     "metadata": {},
     "output_type": "execute_result"
    }
   ],
   "source": [
    ";; using tail recursion\n",
    "(defn average [x]\n",
    "    (let [c (count x)]\n",
    "        (loop [sum 0 index 0]\n",
    "            (cond\n",
    "                (= index c) (/ sum c)\n",
    "                :else (recur (+ sum (x index)) (inc index))\n",
    "                ))))\n",
    "\n",
    "(average [1 2 3 4 5])"
   ]
  },
  {
   "cell_type": "code",
   "execution_count": 206,
   "id": "f07581d6",
   "metadata": {},
   "outputs": [
    {
     "data": {
      "text/plain": [
       "26917811"
      ]
     },
     "execution_count": 206,
     "metadata": {},
     "output_type": "execute_result"
    }
   ],
   "source": [
    "(defn round [x]\n",
    "    (let [y (- x (int x))]\n",
    "        (cond \n",
    "            (= 0 y) x\n",
    "            (>= y 0.5) (inc (int x))\n",
    "            :else (int x)\n",
    "\n",
    "        )\n",
    "    )\n",
    ")\n",
    "\n",
    "(round 2.691781120000024E7)"
   ]
  },
  {
   "cell_type": "code",
   "execution_count": 13,
   "id": "145b0b02",
   "metadata": {},
   "outputs": [
    {
     "data": {
      "text/plain": [
       "(\"0 div 33\" \"33 div 33\" \"66 div 33\" \"99 div 33\" \"132 div 33\" \"165 div 33\" \"198 div 33\")"
      ]
     },
     "execution_count": 13,
     "metadata": {},
     "output_type": "execute_result"
    }
   ],
   "source": []
  }
 ],
 "metadata": {
  "kernelspec": {
   "display_name": "Clojure (clojupyter-v0.2.2)",
   "language": "clojure",
   "name": "clojupyter"
  },
  "language_info": {
   "file_extension": ".clj",
   "mimetype": "text/x-clojure",
   "name": "clojure",
   "version": "1.11.1"
  }
 },
 "nbformat": 4,
 "nbformat_minor": 5
}
