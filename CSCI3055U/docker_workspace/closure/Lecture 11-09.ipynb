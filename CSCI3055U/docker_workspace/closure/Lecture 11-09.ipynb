{
 "cells": [
  {
   "cell_type": "code",
   "execution_count": 5,
   "id": "10651789",
   "metadata": {},
   "outputs": [
    {
     "data": {
      "text/plain": [
       "(4)"
      ]
     },
     "execution_count": 5,
     "metadata": {},
     "output_type": "execute_result"
    }
   ],
   "source": [
    "(defn exp [x n]\n",
    "  (reduce * (repeat n x)))\n",
    "\n",
    "(for [x [1 2 3]\n",
    "      :when (even? x)]\n",
    "    (* x x))"
   ]
  },
  {
   "cell_type": "code",
   "execution_count": 6,
   "id": "1afd5eff",
   "metadata": {},
   "outputs": [
    {
     "data": {
      "text/plain": [
       "32"
      ]
     },
     "execution_count": 6,
     "metadata": {},
     "output_type": "execute_result"
    }
   ],
   "source": [
    "(exp 2 5)"
   ]
  },
  {
   "cell_type": "code",
   "execution_count": 7,
   "id": "821713ef",
   "metadata": {},
   "outputs": [
    {
     "data": {
      "text/plain": [
       "(1 3/2 2 5/2 3 7/2 4 9/2 5 11/2)"
      ]
     },
     "execution_count": 7,
     "metadata": {},
     "output_type": "execute_result"
    }
   ],
   "source": [
    "(for [x (range 0 10)]\n",
    "    (+ (/ x 2) 1))"
   ]
  },
  {
   "cell_type": "code",
   "execution_count": 12,
   "id": "d95e3733",
   "metadata": {},
   "outputs": [
    {
     "data": {
      "text/plain": [
       "4096"
      ]
     },
     "execution_count": 12,
     "metadata": {},
     "output_type": "execute_result"
    }
   ],
   "source": [
    "(->> 5  (+ 1) (* 2) (exp 2))"
   ]
  },
  {
   "cell_type": "code",
   "execution_count": 14,
   "id": "90bf40f0",
   "metadata": {},
   "outputs": [
    {
     "name": "stdout",
     "output_type": "stream",
     "text": [
      "hello world\n",
      "18\n"
     ]
    },
    {
     "data": {
      "text/plain": [
       "0"
      ]
     },
     "execution_count": 14,
     "metadata": {},
     "output_type": "execute_result"
    }
   ],
   "source": [
    "(do\n",
    "    (println \"hello world\")\n",
    "    (println (+ 8 (* 5 2)))\n",
    "    0\n",
    "    )"
   ]
  },
  {
   "cell_type": "code",
   "execution_count": 16,
   "id": "cbec1466",
   "metadata": {},
   "outputs": [
    {
     "data": {
      "text/plain": [
       "\"y > x\""
      ]
     },
     "execution_count": 16,
     "metadata": {},
     "output_type": "execute_result"
    }
   ],
   "source": [
    "(let [x 5\n",
    "      y 10\n",
    "      z (exp 2 8)]\n",
    "    \n",
    "    (cond\n",
    "        (> x y) \"x > y\"\n",
    "        (> y x) \"y > x\"\n",
    "        :else   \"x = y\"\n",
    "        )\n",
    "        \n",
    "    )"
   ]
  },
  {
   "cell_type": "code",
   "execution_count": 34,
   "id": "60ea3949",
   "metadata": {},
   "outputs": [
    {
     "data": {
      "text/plain": [
       "#'user/f"
      ]
     },
     "execution_count": 34,
     "metadata": {},
     "output_type": "execute_result"
    }
   ],
   "source": [
    "(defmacro f [x]\n",
    "    (println x)\n",
    "    3.14159)"
   ]
  },
  {
   "cell_type": "code",
   "execution_count": 35,
   "id": "b153752a",
   "metadata": {},
   "outputs": [
    {
     "name": "stdout",
     "output_type": "stream",
     "text": [
      "(hello world)\n"
     ]
    },
    {
     "data": {
      "text/plain": [
       "3.14159"
      ]
     },
     "execution_count": 35,
     "metadata": {},
     "output_type": "execute_result"
    }
   ],
   "source": [
    "(f (\"hello\" \"world\"))"
   ]
  },
  {
   "cell_type": "code",
   "execution_count": 57,
   "id": "0a465be1",
   "metadata": {},
   "outputs": [
    {
     "data": {
      "text/plain": [
       "#'user/with-log"
      ]
     },
     "execution_count": 57,
     "metadata": {},
     "output_type": "execute_result"
    }
   ],
   "source": [
    "(defmacro with-log\n",
    "    [form]\n",
    "    (let [message (str form)]\n",
    "        (list 'do\n",
    "              (list (list 'println message)\n",
    "                    form))) form)"
   ]
  },
  {
   "cell_type": "code",
   "execution_count": 58,
   "id": "71d41013",
   "metadata": {},
   "outputs": [
    {
     "name": "stdout",
     "output_type": "stream",
     "text": [
      "3\n"
     ]
    },
    {
     "data": {
      "text/plain": [
       "nil"
      ]
     },
     "execution_count": 58,
     "metadata": {},
     "output_type": "execute_result"
    }
   ],
   "source": [
    "(let [x (with-log (+ 1 2))]\n",
    "    (println x))"
   ]
  },
  {
   "cell_type": "code",
   "execution_count": 65,
   "id": "415b1b17",
   "metadata": {},
   "outputs": [
    {
     "data": {
      "text/plain": [
       "11"
      ]
     },
     "execution_count": 65,
     "metadata": {},
     "output_type": "execute_result"
    }
   ],
   "source": [
    "(let [x 10] (inc x))"
   ]
  },
  {
   "cell_type": "code",
   "execution_count": 67,
   "id": "e49356fa",
   "metadata": {},
   "outputs": [
    {
     "data": {
      "text/plain": [
       "#'user/inc-10"
      ]
     },
     "execution_count": 67,
     "metadata": {},
     "output_type": "execute_result"
    }
   ],
   "source": [
    ";; generates and run the above code\n",
    "(defmacro inc-10 []\n",
    "    (list 'let (vector 'x 10)\n",
    "          (list 'inc 'x)))"
   ]
  },
  {
   "cell_type": "code",
   "execution_count": 68,
   "id": "56229fe9",
   "metadata": {},
   "outputs": [
    {
     "data": {
      "text/plain": [
       "11"
      ]
     },
     "execution_count": 68,
     "metadata": {},
     "output_type": "execute_result"
    }
   ],
   "source": [
    "(inc-10)"
   ]
  },
  {
   "cell_type": "code",
   "execution_count": 74,
   "id": "91cfcac4",
   "metadata": {},
   "outputs": [
    {
     "data": {
      "text/plain": [
       "(clojure.core/+ 1 2 3)"
      ]
     },
     "execution_count": 74,
     "metadata": {},
     "output_type": "execute_result"
    }
   ],
   "source": [
    ";; single value substitution with unuote\n",
    ";; want to evaluate (inc x) but nothing else \n",
    "(let [x 2]\n",
    "    `(+ 1 2 ~(inc x)))"
   ]
  },
  {
   "cell_type": "code",
   "execution_count": 80,
   "id": "2d2ee1b9",
   "metadata": {},
   "outputs": [
    {
     "data": {
      "text/plain": [
       "(clojure.core/+ 1 2 [3 4])"
      ]
     },
     "execution_count": 80,
     "metadata": {},
     "output_type": "execute_result"
    }
   ],
   "source": [
    ";; unquote with lists\n",
    "(let [x [3 4]]\n",
    "    `(+ 1 2 ~x)) ;; this doesn't give us (+ 1 2 3 4) like we want"
   ]
  },
  {
   "cell_type": "code",
   "execution_count": 81,
   "id": "5455733b",
   "metadata": {},
   "outputs": [
    {
     "data": {
      "text/plain": [
       "(clojure.core/+ 1 2 3 4)"
      ]
     },
     "execution_count": 81,
     "metadata": {},
     "output_type": "execute_result"
    }
   ],
   "source": [
    ";; we need unquote-slicing\n",
    "(let [x [3 4]]\n",
    "    `(+ 1 2 ~@x))"
   ]
  },
  {
   "cell_type": "code",
   "execution_count": 83,
   "id": "ae2dbbd5",
   "metadata": {},
   "outputs": [
    {
     "name": "stdout",
     "output_type": "stream",
     "text": [
      "Ken Pu\n"
     ]
    },
    {
     "data": {
      "text/plain": [
       "nil"
      ]
     },
     "execution_count": 83,
     "metadata": {},
     "output_type": "execute_result"
    }
   ],
   "source": [
    ";; generate a unique symbol starting with name to prevent name conflicts when generating macro code\n",
    "(let [name# \"Ken Pu\"]\n",
    "    (println name#) )"
   ]
  },
  {
   "cell_type": "code",
   "execution_count": null,
   "id": "65983778",
   "metadata": {},
   "outputs": [],
   "source": []
  }
 ],
 "metadata": {
  "kernelspec": {
   "display_name": "Clojure (clojupyter-v0.2.2)",
   "language": "clojure",
   "name": "clojupyter"
  },
  "language_info": {
   "file_extension": ".clj",
   "mimetype": "text/x-clojure",
   "name": "clojure",
   "version": "1.11.1"
  }
 },
 "nbformat": 4,
 "nbformat_minor": 5
}
