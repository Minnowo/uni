{
 "cells": [
  {
   "cell_type": "code",
   "execution_count": 1,
   "id": "b2871834",
   "metadata": {},
   "outputs": [
    {
     "data": {
      "text/plain": [
       "(\"0 div 33\" \"33 div 33\" \"66 div 33\" \"99 div 33\" \"132 div 33\" \"165 div 33\" \"198 div 33\")"
      ]
     },
     "execution_count": 1,
     "metadata": {},
     "output_type": "execute_result"
    }
   ],
   "source": [
    ";; given the following\n",
    "(for [k (range 200)\n",
    "      :when (zero? (mod k 33))]\n",
    "    (format \"%d div 33\" k))"
   ]
  },
  {
   "cell_type": "code",
   "execution_count": 2,
   "id": "b51cfc03",
   "metadata": {},
   "outputs": [
    {
     "data": {
      "text/plain": [
       "(\"0 div 33\" \"33 div 33\" \"66 div 33\" \"99 div 33\" \"132 div 33\" \"165 div 33\" \"198 div 33\")"
      ]
     },
     "execution_count": 2,
     "metadata": {},
     "output_type": "execute_result"
    }
   ],
   "source": [
    ";; re-write using filter map reduce\n",
    "\n",
    ";; returns true if the input otherwise false\n",
    "(defn not-nil [x] (if x true false))\n",
    "\n",
    ";; returns \"x div 33\" if x is divisible by 33 else nil\n",
    "(defn is-div-33 [x]\n",
    "    (if (zero? (mod x 33))\n",
    "        (format \"%d div 33\" x)\n",
    "    )\n",
    ")\n",
    "\n",
    ";; re-write form here\n",
    "(filter not-nil (map is-div-33 (range 200)))\n"
   ]
  },
  {
   "cell_type": "code",
   "execution_count": 3,
   "id": "e399be4b",
   "metadata": {},
   "outputs": [
    {
     "data": {
      "text/plain": [
       "(\"0 div 33\" \"33 div 33\" \"66 div 33\" \"99 div 33\" \"132 div 33\" \"165 div 33\" \"198 div 33\")"
      ]
     },
     "execution_count": 3,
     "metadata": {},
     "output_type": "execute_result"
    }
   ],
   "source": [
    ";; using threading macro\n",
    "\n",
    ";; returns true if the input otherwise false\n",
    "(defn not-nil [x] (if x true false))\n",
    "\n",
    ";; returns \"x div 33\" if x is divisible by 33 else nil\n",
    "(defn is-div-33 [x]\n",
    "    (if (zero? (mod x 33))\n",
    "        (format \"%d div 33\" x)\n",
    "    )\n",
    ")\n",
    "\n",
    ";; re-write form here\n",
    "(->>\n",
    "    (range 200)\n",
    "    (map is-div-33)\n",
    "    (filter not-nil)\n",
    ")\n",
    "\n"
   ]
  },
  {
   "cell_type": "code",
   "execution_count": 4,
   "id": "3b10314d",
   "metadata": {},
   "outputs": [
    {
     "data": {
      "text/plain": [
       "{\"Jack\" :name, 100 :grade}"
      ]
     },
     "execution_count": 4,
     "metadata": {},
     "output_type": "execute_result"
    }
   ],
   "source": [
    ";; given a function f which swaps hashmap keys and values\n",
    ";; (f {:a 1, :b 2}) => { 1 :a, 2 :b }\n",
    ";; implement the function f using reduce\n",
    "\n",
    ";; swaps (first x) and (second x) and combines it with init\n",
    "(defn swap-combine [init x]\n",
    "        (conj init {\n",
    "                    (second x)\n",
    "                    (first x)\n",
    "                    })\n",
    ")\n",
    "\n",
    ";; f function here which swaps key values in given map\n",
    "(defn f [my-map]\n",
    " \n",
    "   (reduce swap-combine {} my-map)\n",
    "    \n",
    ")\n",
    "\n",
    ";; test case\n",
    "(f {:name \"Jack\" :grade 100})"
   ]
  },
  {
   "cell_type": "code",
   "execution_count": 5,
   "id": "d18c27ae",
   "metadata": {},
   "outputs": [
    {
     "data": {
      "text/plain": [
       "{\"Jack\" :name, 100 :grade, \"purr\" :cat}"
      ]
     },
     "execution_count": 5,
     "metadata": {},
     "output_type": "execute_result"
    }
   ],
   "source": [
    ";; given a function f which swaps hashmap keys and values\n",
    ";; (f {:a 1, :b 2}) => { 1 :a, 2 :b }\n",
    ";; implement the function f using loop/recur\n",
    "\n",
    "(defn f [my-map]\n",
    "\n",
    "    ;; begin our loop\n",
    "    (loop [\n",
    "           ;; important to convert the given map into a vector of vectors\n",
    "           ;; so that we can index them\n",
    "           iter-my-map (vec my-map)\n",
    "           \n",
    "           ;; counter\n",
    "           index 0\n",
    "           \n",
    "           ;; how many items we're working with\n",
    "           icount (count iter-my-map)\n",
    "           \n",
    "           ;; the output map\n",
    "           new-map {}]\n",
    "        \n",
    "        ;; if else\n",
    "        (cond\n",
    "            \n",
    "            ;; once we reach the end of our vector return the new map\n",
    "            (= index icount) new-map\n",
    "            \n",
    "            ;; otherwise recur\n",
    "            :else\n",
    "            (recur iter-my-map (inc index) icount \n",
    "                   \n",
    "                   ;; combine our output map with the swapped vector of our current index\n",
    "                   (conj new-map {\n",
    "                                    (second (iter-my-map index))\n",
    "                                    (first (iter-my-map index))\n",
    "                                }))\n",
    "        )\n",
    "    )\n",
    "    \n",
    ")\n",
    "(f {:name \"Jack\" :grade 100 :cat \"purr\"})"
   ]
  },
  {
   "cell_type": "code",
   "execution_count": null,
   "id": "2caa1e50",
   "metadata": {},
   "outputs": [],
   "source": [
    "\n",
    ";; write the nested let-form that creates the three scopes with their bindsings shown\n",
    ";; <image here>\n",
    ";; looks something like\n",
    ";; [x = 1\n",
    ";;   [ x = 2 z = 4]\n",
    ";;   [ y = 3]\n",
    ";; ]\n",
    "\n",
    ";; i'm hoping this is what it actually wants??\n",
    "\n",
    "(let [x 1]\n",
    "     ;; insert scope here where x = 1 unless another scope is made with x\n",
    "    \n",
    "    (let [x 2, z 4] \n",
    "        ;; insert scope here where x = 2 and z = 4\n",
    "    ) \n",
    "    \n",
    "    (let [y 3]  \n",
    "        ;; insert scope here where x = 1 y = 3\n",
    "    )\n",
    ")"
   ]
  }
 ],
 "metadata": {
  "kernelspec": {
   "display_name": "Clojure (clojupyter-v0.2.2)",
   "language": "clojure",
   "name": "clojupyter"
  },
  "language_info": {
   "file_extension": ".clj",
   "mimetype": "text/x-clojure",
   "name": "clojure",
   "version": "1.11.1"
  }
 },
 "nbformat": 4,
 "nbformat_minor": 5
}
