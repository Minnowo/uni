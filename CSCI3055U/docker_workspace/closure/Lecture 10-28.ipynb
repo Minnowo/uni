{
 "cells": [
  {
   "cell_type": "code",
   "execution_count": 3,
   "id": "ed766a57",
   "metadata": {},
   "outputs": [
    {
     "data": {
      "text/plain": [
       "#'user/social-network"
      ]
     },
     "execution_count": 3,
     "metadata": {},
     "output_type": "execute_result"
    }
   ],
   "source": [
    "(def B 1e9)\n",
    "\n",
    "(def social-network\n",
    "    {\n",
    "     :members [ \n",
    "               {\n",
    "                 :id 1000\n",
    "                 :name \"Jack\"\n",
    "                 :age 18\n",
    "                 :hobbies [\"sport\" \"reading\"]\n",
    "                 }\n",
    "                {\n",
    "                 :id 1001\n",
    "                 :name \"Joe\"\n",
    "                 :age 22\n",
    "                 :occupation \"electrition\"\n",
    "                 }\n",
    "                {\n",
    "                 :id 1002\n",
    "                 :name \"elon\"\n",
    "                 :occupation \"ceo\"\n",
    "                 :hobbies [\"space\" \"coding\"]\n",
    "                 }\n",
    "               ]\n",
    "     :companies [\n",
    "                 {\n",
    "                  :name \"GM\"\n",
    "                  :size 157000\n",
    "                  :market-cap (* 55 B)\n",
    "                  }\n",
    "                 {\n",
    "                  :name \"Twitter\"\n",
    "                  :size 7000\n",
    "                  :market-cap (* 41 B)\n",
    "                  }\n",
    "                 {\n",
    "                  :name \"Spotify\"\n",
    "                  :size 6000\n",
    "                  :market-cap (* 15 B)\n",
    "                  }\n",
    "                 ]\n",
    "      :connections [\n",
    "                    {\n",
    "                     :person-id 1000\n",
    "                     :company \"Twitter\"\n",
    "                     :type :use\n",
    "                     }\n",
    "                    {\n",
    "                     :person-id 1002\n",
    "                     :company \"Twitter\"\n",
    "                     :type :owns\n",
    "                     }\n",
    "                    {\n",
    "                     :person-id 1001\n",
    "                     :company \"GM\"\n",
    "                     :type :works\n",
    "                     }\n",
    "                    ]\n",
    "    }\n",
    ")"
   ]
  },
  {
   "cell_type": "code",
   "execution_count": 4,
   "id": "97cfb338",
   "metadata": {},
   "outputs": [
    {
     "name": "stdout",
     "output_type": "stream",
     "text": [
      "{:members\n",
      " [{:id 1000, :name \"Jack\", :age 18, :hobbies [\"sport\" \"reading\"]}\n",
      "  {:id 1001, :name \"Joe\", :age 22, :occupation \"electrition\"}\n",
      "  {:id 1002,\n",
      "   :name \"elon\",\n",
      "   :occupation \"ceo\",\n",
      "   :hobbies [\"space\" \"coding\"]}],\n",
      " :companies\n",
      " [{:name \"GM\", :size 157000, :market-cap 5.5E10}\n",
      "  {:name \"Twitter\", :size 7000, :market-cap 4.1E10}\n",
      "  {:name \"Spotify\", :size 6000, :market-cap 1.5E10}],\n",
      " :connections\n",
      " [{:person-id 1000, :company \"Twitter\", :type :use}\n",
      "  {:person-id 1002, :company \"Twitter\", :type :owns}\n",
      "  {:person-id 1001, :company \"GM\", :type :works}]}\n"
     ]
    },
    {
     "data": {
      "text/plain": [
       "nil"
      ]
     },
     "execution_count": 4,
     "metadata": {},
     "output_type": "execute_result"
    }
   ],
   "source": [
    "(require '[clojure.pprint :refer [pprint]])\n",
    "(pprint social-network)"
   ]
  },
  {
   "cell_type": "code",
   "execution_count": 5,
   "id": "084b1386",
   "metadata": {},
   "outputs": [
    {
     "data": {
      "text/plain": [
       "[:members [{:id 1000, :name \"Jack\", :age 18, :hobbies [\"sport\" \"reading\"]} {:id 1001, :name \"Joe\", :age 22, :occupation \"electrition\"} {:id 1002, :name \"elon\", :occupation \"ceo\", :hobbies [\"space\" \"coding\"]}]]"
      ]
     },
     "execution_count": 5,
     "metadata": {},
     "output_type": "execute_result"
    }
   ],
   "source": [
    "(first social-network)"
   ]
  },
  {
   "cell_type": "code",
   "execution_count": 11,
   "id": "c2e3d46d",
   "metadata": {},
   "outputs": [
    {
     "data": {
      "text/plain": [
       "(:members :companies :connections)"
      ]
     },
     "execution_count": 11,
     "metadata": {},
     "output_type": "execute_result"
    }
   ],
   "source": [
    "(for [[key value] social-network]\n",
    "     key \n",
    "    )"
   ]
  },
  {
   "cell_type": "code",
   "execution_count": 15,
   "id": "b57149d9",
   "metadata": {},
   "outputs": [
    {
     "data": {
      "text/plain": [
       "\"GM\""
      ]
     },
     "execution_count": 15,
     "metadata": {},
     "output_type": "execute_result"
    }
   ],
   "source": [
    "(:name ((:companies social-network) 0))"
   ]
  },
  {
   "cell_type": "code",
   "execution_count": 17,
   "id": "8cea20f4",
   "metadata": {},
   "outputs": [
    {
     "data": {
      "text/plain": [
       "\"GM\""
      ]
     },
     "execution_count": 17,
     "metadata": {},
     "output_type": "execute_result"
    }
   ],
   "source": [
    "(get-in social-network [:companies 0 :name])"
   ]
  },
  {
   "cell_type": "code",
   "execution_count": 18,
   "id": "f8d42787",
   "metadata": {},
   "outputs": [
    {
     "data": {
      "text/plain": [
       "5.5E10"
      ]
     },
     "execution_count": 18,
     "metadata": {},
     "output_type": "execute_result"
    }
   ],
   "source": [
    "(get-in social-network [:companies 0 :market-cap])"
   ]
  },
  {
   "cell_type": "code",
   "execution_count": 19,
   "id": "c9339f76",
   "metadata": {},
   "outputs": [
    {
     "data": {
      "text/plain": [
       "#'user/small-company"
      ]
     },
     "execution_count": 19,
     "metadata": {},
     "output_type": "execute_result"
    }
   ],
   "source": [
    "(defn small-company [company]\n",
    "    (< (:size company) 10000)\n",
    "    )"
   ]
  },
  {
   "cell_type": "code",
   "execution_count": 21,
   "id": "16b33980",
   "metadata": {},
   "outputs": [
    {
     "data": {
      "text/plain": [
       "false"
      ]
     },
     "execution_count": 21,
     "metadata": {},
     "output_type": "execute_result"
    }
   ],
   "source": [
    "(small-company (get-in social-network [:companies 0]))"
   ]
  },
  {
   "cell_type": "code",
   "execution_count": 22,
   "id": "cfcd090e",
   "metadata": {},
   "outputs": [
    {
     "data": {
      "text/plain": [
       "({:name \"Twitter\", :size 7000, :market-cap 4.1E10} {:name \"Spotify\", :size 6000, :market-cap 1.5E10})"
      ]
     },
     "execution_count": 22,
     "metadata": {},
     "output_type": "execute_result"
    }
   ],
   "source": [
    "(filter small-company (:companies social-network))"
   ]
  },
  {
   "cell_type": "code",
   "execution_count": 8,
   "id": "2f3a0076",
   "metadata": {},
   "outputs": [
    {
     "data": {
      "text/plain": [
       "#'user/upd"
      ]
     },
     "execution_count": 8,
     "metadata": {},
     "output_type": "execute_result"
    }
   ],
   "source": [
    "(defn upd [eee]\n",
    "    (update eee [:companies] 1))"
   ]
  },
  {
   "cell_type": "code",
   "execution_count": 9,
   "id": "4158d306",
   "metadata": {},
   "outputs": [
    {
     "name": "stderr",
     "output_type": "stream",
     "text": [
      "Execution error (ClassCastException) at user/upd (REPL:2).\n",
      "java.lang.Long cannot be cast to clojure.lang.IFn\n"
     ]
    },
    {
     "ename": "class java.lang.ClassCastException",
     "evalue": "",
     "execution_count": 9,
     "output_type": "error",
     "status": "error",
     "traceback": [
      "   core.clj:  6231 clojure.core$update/invokeStatic                       ",
      "   core.clj:  6223 clojure.core$update/invoke                             ",
      "   core.clj:  3215 clojure.core$eval/invokeStatic                         ",
      "   core.clj:  3211 clojure.core$eval/invoke                               ",
      "   main.clj:   437 clojure.main$repl$read_eval_print__9206$fn__9209/invoke",
      "   main.clj:   458 clojure.main$repl$fn__9215/invoke                      ",
      "   main.clj:   368 clojure.main$repl/doInvoke                             ",
      "RestFn.java:  1523 clojure.lang.RestFn/invoke                             ",
      "   AFn.java:    22 clojure.lang.AFn/run                                   ",
      "   AFn.java:    22 clojure.lang.AFn/run                                   ",
      "Thread.java:   750 java.lang.Thread/run                                   "
     ]
    }
   ],
   "source": [
    "(upd social-network)"
   ]
  },
  {
   "cell_type": "code",
   "execution_count": null,
   "id": "ac9d3458",
   "metadata": {},
   "outputs": [],
   "source": []
  }
 ],
 "metadata": {
  "kernelspec": {
   "display_name": "Clojure (clojupyter-v0.2.2)",
   "language": "clojure",
   "name": "clojupyter"
  },
  "language_info": {
   "file_extension": ".clj",
   "mimetype": "text/x-clojure",
   "name": "clojure",
   "version": "1.11.1"
  }
 },
 "nbformat": 4,
 "nbformat_minor": 5
}
