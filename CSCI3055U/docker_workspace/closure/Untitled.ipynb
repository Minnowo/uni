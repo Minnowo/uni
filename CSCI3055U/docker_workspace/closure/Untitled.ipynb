{
 "cells": [
  {
   "cell_type": "code",
   "execution_count": 20,
   "id": "1a450c84",
   "metadata": {},
   "outputs": [
    {
     "name": "stdout",
     "output_type": "stream",
     "text": [
      "5"
     ]
    },
    {
     "data": {
      "text/plain": [
       "nil"
      ]
     },
     "execution_count": 20,
     "metadata": {},
     "output_type": "execute_result"
    }
   ],
   "source": [
    "(print 5)"
   ]
  },
  {
   "cell_type": "code",
   "execution_count": 25,
   "id": "30f521a6",
   "metadata": {},
   "outputs": [
    {
     "data": {
      "text/plain": [
       "(1 4 9 16 25)"
      ]
     },
     "execution_count": 25,
     "metadata": {},
     "output_type": "execute_result"
    }
   ],
   "source": [
    "(for [i (range 5)]\n",
    "    (* (+ i 1) (+ i 1)))"
   ]
  },
  {
   "cell_type": "code",
   "execution_count": 22,
   "id": "85d5e6c1",
   "metadata": {},
   "outputs": [
    {
     "data": {
      "text/plain": [
       "(0 1 2 3 4)"
      ]
     },
     "execution_count": 22,
     "metadata": {},
     "output_type": "execute_result"
    }
   ],
   "source": [
    "(range 5)"
   ]
  },
  {
   "cell_type": "code",
   "execution_count": 28,
   "id": "5f893940",
   "metadata": {},
   "outputs": [
    {
     "name": "stderr",
     "output_type": "stream",
     "text": [
      "Error printing return value (ClassCastException) at user/eval4272$iter$fn (NO_SOURCE_FILE:2).\n",
      "java.lang.Long cannot be cast to clojure.lang.IFn\n"
     ]
    },
    {
     "ename": "class clojure.lang.ExceptionInfo",
     "evalue": "",
     "execution_count": 28,
     "output_type": "error",
     "status": "error",
     "traceback": [
      "        LazySeq.java:    42 clojure.lang.LazySeq/sval                                                 ",
      "        LazySeq.java:    51 clojure.lang.LazySeq/seq                                                  ",
      "             RT.java:   535 clojure.lang.RT/seq                                                       ",
      "            core.clj:   139 clojure.core$seq__5467/invokeStatic                                       ",
      "      core_print.clj:    53 clojure.core$print_sequential/invokeStatic                                ",
      "      core_print.clj:   174 clojure.core$fn__7391/invokeStatic                                        ",
      "        MultiFn.java:   234 clojure.lang.MultiFn/invoke                                               ",
      "            core.clj:  3675 clojure.core$pr_on/invokeStatic                                           ",
      "            core.clj:  3678 clojure.core$pr/invokeStatic                                              ",
      "            AFn.java:   154 clojure.lang.AFn/applyToHelper                                            ",
      "         RestFn.java:   132 clojure.lang.RestFn/applyTo                                               ",
      "            core.clj:   667 clojure.core$apply/invokeStatic                                           ",
      "            core.clj:  4760 clojure.core$pr_str/invokeStatic                                          ",
      "         RestFn.java:   408 clojure.lang.RestFn/invoke                                                ",
      "mime_convertible.clj:    15 clojupyter.misc.mime_convertible$fn__12680/invokeStatic                   ",
      "mime_convertible.clj:    12 clojupyter.misc.mime_convertible$fn__12680/invoke                         ",
      "mime_convertible.clj:     5 clojupyter.protocol.mime_convertible$fn__11922$G__11917__11927/invoke     ",
      "nrepl_middleware.clj:    21 clojupyter.kernel.cljsrv.nrepl_middleware$mime_values$fn$reify__12692/send",
      "            main.clj:   442 clojure.main$repl$read_eval_print__9206/invoke                            ",
      "            main.clj:   458 clojure.main$repl$fn__9215/invoke                                         ",
      "            main.clj:   368 clojure.main$repl/doInvoke                                                ",
      "         RestFn.java:  1523 clojure.lang.RestFn/invoke                                                ",
      "            AFn.java:    22 clojure.lang.AFn/run                                                      ",
      "            AFn.java:    22 clojure.lang.AFn/run                                                      ",
      "         Thread.java:   750 java.lang.Thread/run                                                      "
     ]
    }
   ],
   "source": [
    "(for )"
   ]
  },
  {
   "cell_type": "code",
   "execution_count": null,
   "id": "2b63b301",
   "metadata": {},
   "outputs": [],
   "source": []
  }
 ],
 "metadata": {
  "kernelspec": {
   "display_name": "Clojure (clojupyter-v0.2.2)",
   "language": "clojure",
   "name": "clojupyter"
  },
  "language_info": {
   "file_extension": ".clj",
   "mimetype": "text/x-clojure",
   "name": "clojure",
   "version": "1.11.1"
  }
 },
 "nbformat": 4,
 "nbformat_minor": 5
}
