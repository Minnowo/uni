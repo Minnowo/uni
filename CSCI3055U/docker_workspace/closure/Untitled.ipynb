{
 "cells": [
  {
   "cell_type": "code",
   "execution_count": 20,
   "id": "2b04cf42",
   "metadata": {},
   "outputs": [
    {
     "name": "stdout",
     "output_type": "stream",
     "text": [
      "5"
     ]
    },
    {
     "data": {
      "text/plain": [
       "nil"
      ]
     },
     "execution_count": 20,
     "metadata": {},
     "output_type": "execute_result"
    }
   ],
   "source": [
    "(print 5)"
   ]
  },
  {
   "cell_type": "code",
   "execution_count": 25,
   "id": "dfabc187",
   "metadata": {},
   "outputs": [
    {
     "data": {
      "text/plain": [
       "(1 4 9 16 25)"
      ]
     },
     "execution_count": 25,
     "metadata": {},
     "output_type": "execute_result"
    }
   ],
   "source": [
    "(for [i (range 5)]\n",
    "    (* (+ i 1) (+ i 1)))"
   ]
  },
  {
   "cell_type": "code",
   "execution_count": 22,
   "id": "88f32dcb",
   "metadata": {},
   "outputs": [
    {
     "data": {
      "text/plain": [
       "(0 1 2 3 4)"
      ]
     },
     "execution_count": 22,
     "metadata": {},
     "output_type": "execute_result"
    }
   ],
   "source": [
    "(range 5)"
   ]
  },
  {
   "cell_type": "code",
   "execution_count": 4,
   "id": "97133e7c",
   "metadata": {},
   "outputs": [
    {
     "data": {
      "text/plain": [
       "true"
      ]
     },
     "execution_count": 4,
     "metadata": {},
     "output_type": "execute_result"
    }
   ],
   "source": [
    "(def x false)\n",
    "\n",
    "(not (= x nil))"
   ]
  },
  {
   "cell_type": "code",
   "execution_count": 10,
   "id": "8ea23d97",
   "metadata": {},
   "outputs": [
    {
     "data": {
      "text/plain": [
       "(clojure.core/+ 1 2 3)"
      ]
     },
     "execution_count": 10,
     "metadata": {},
     "output_type": "execute_result"
    }
   ],
   "source": [
    "`(+ 1 2 3)"
   ]
  },
  {
   "cell_type": "code",
   "execution_count": 15,
   "id": "adddb70d",
   "metadata": {},
   "outputs": [
    {
     "data": {
      "text/plain": [
       "{:name 5}"
      ]
     },
     "execution_count": 15,
     "metadata": {},
     "output_type": "execute_result"
    }
   ],
   "source": [
    "(def ddd 5)\n",
    "`{:name ~ddd}"
   ]
  },
  {
   "cell_type": "code",
   "execution_count": 21,
   "id": "628e971a",
   "metadata": {},
   "outputs": [
    {
     "name": "stderr",
     "output_type": "stream",
     "text": [
      "Execution error (IllegalStateException) at user/eval4122 (REPL:0).\n",
      "Attempting to call unbound fn: #'clojure.core/unquote-splicing\n"
     ]
    },
    {
     "ename": "class java.lang.IllegalStateException",
     "evalue": "",
     "execution_count": 21,
     "output_type": "error",
     "status": "error",
     "traceback": [
      "   Var.java:    45 clojure.lang.Var$Unbound/throwArity                    ",
      "   AFn.java:    32 clojure.lang.AFn/invoke                                ",
      "   core.clj:  3215 clojure.core$eval/invokeStatic                         ",
      "   core.clj:  3211 clojure.core$eval/invoke                               ",
      "   main.clj:   437 clojure.main$repl$read_eval_print__9206$fn__9209/invoke",
      "   main.clj:   458 clojure.main$repl$fn__9215/invoke                      ",
      "   main.clj:   368 clojure.main$repl/doInvoke                             ",
      "RestFn.java:  1523 clojure.lang.RestFn/invoke                             ",
      "   AFn.java:    22 clojure.lang.AFn/run                                   ",
      "   AFn.java:    22 clojure.lang.AFn/run                                   ",
      "Thread.java:   750 java.lang.Thread/run                                   "
     ]
    }
   ],
   "source": []
  },
  {
   "cell_type": "code",
   "execution_count": null,
   "id": "5fc88286",
   "metadata": {},
   "outputs": [],
   "source": []
  }
 ],
 "metadata": {
  "kernelspec": {
   "display_name": "Clojure (clojupyter-v0.2.2)",
   "language": "clojure",
   "name": "clojupyter"
  },
  "language_info": {
   "file_extension": ".clj",
   "mimetype": "text/x-clojure",
   "name": "clojure",
   "version": "1.11.1"
  }
 },
 "nbformat": 4,
 "nbformat_minor": 5
}
