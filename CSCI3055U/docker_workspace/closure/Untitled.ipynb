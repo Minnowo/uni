{
 "cells": [
  {
   "cell_type": "code",
   "execution_count": 20,
   "id": "12e4eb99",
   "metadata": {},
   "outputs": [
    {
     "name": "stdout",
     "output_type": "stream",
     "text": [
      "5"
     ]
    },
    {
     "data": {
      "text/plain": [
       "nil"
      ]
     },
     "execution_count": 20,
     "metadata": {},
     "output_type": "execute_result"
    }
   ],
   "source": [
    "(print 5)"
   ]
  },
  {
   "cell_type": "code",
   "execution_count": 25,
   "id": "fbea468e",
   "metadata": {},
   "outputs": [
    {
     "data": {
      "text/plain": [
       "(1 4 9 16 25)"
      ]
     },
     "execution_count": 25,
     "metadata": {},
     "output_type": "execute_result"
    }
   ],
   "source": [
    "(for [i (range 5)]\n",
    "    (* (+ i 1) (+ i 1)))"
   ]
  },
  {
   "cell_type": "code",
   "execution_count": 22,
   "id": "d98310c8",
   "metadata": {},
   "outputs": [
    {
     "data": {
      "text/plain": [
       "(0 1 2 3 4)"
      ]
     },
     "execution_count": 22,
     "metadata": {},
     "output_type": "execute_result"
    }
   ],
   "source": [
    "(range 5)"
   ]
  },
  {
   "cell_type": "code",
   "execution_count": 4,
   "id": "2e7f3f8d",
   "metadata": {},
   "outputs": [
    {
     "data": {
      "text/plain": [
       "true"
      ]
     },
     "execution_count": 4,
     "metadata": {},
     "output_type": "execute_result"
    }
   ],
   "source": [
    "(def x false)\n",
    "\n",
    "(not (= x nil))"
   ]
  },
  {
   "cell_type": "code",
   "execution_count": 10,
   "id": "6a94358e",
   "metadata": {},
   "outputs": [
    {
     "data": {
      "text/plain": [
       "(clojure.core/+ 1 2 3)"
      ]
     },
     "execution_count": 10,
     "metadata": {},
     "output_type": "execute_result"
    }
   ],
   "source": [
    "`(+ 1 2 3)"
   ]
  },
  {
   "cell_type": "code",
   "execution_count": 15,
   "id": "c2a21d3e",
   "metadata": {},
   "outputs": [
    {
     "data": {
      "text/plain": [
       "{:name 5}"
      ]
     },
     "execution_count": 15,
     "metadata": {},
     "output_type": "execute_result"
    }
   ],
   "source": [
    "(def ddd 5)\n",
    "`{:name ~ddd}"
   ]
  },
  {
   "cell_type": "code",
   "execution_count": 21,
   "id": "922f30cc",
   "metadata": {},
   "outputs": [
    {
     "name": "stderr",
     "output_type": "stream",
     "text": [
      "Execution error (IllegalStateException) at user/eval4122 (REPL:0).\n",
      "Attempting to call unbound fn: #'clojure.core/unquote-splicing\n"
     ]
    },
    {
     "ename": "class java.lang.IllegalStateException",
     "evalue": "",
     "execution_count": 21,
     "output_type": "error",
     "status": "error",
     "traceback": [
      "   Var.java:    45 clojure.lang.Var$Unbound/throwArity                    ",
      "   AFn.java:    32 clojure.lang.AFn/invoke                                ",
      "   core.clj:  3215 clojure.core$eval/invokeStatic                         ",
      "   core.clj:  3211 clojure.core$eval/invoke                               ",
      "   main.clj:   437 clojure.main$repl$read_eval_print__9206$fn__9209/invoke",
      "   main.clj:   458 clojure.main$repl$fn__9215/invoke                      ",
      "   main.clj:   368 clojure.main$repl/doInvoke                             ",
      "RestFn.java:  1523 clojure.lang.RestFn/invoke                             ",
      "   AFn.java:    22 clojure.lang.AFn/run                                   ",
      "   AFn.java:    22 clojure.lang.AFn/run                                   ",
      "Thread.java:   750 java.lang.Thread/run                                   "
     ]
    }
   ],
   "source": []
  },
  {
   "cell_type": "code",
   "execution_count": 1,
   "id": "f01268ef",
   "metadata": {},
   "outputs": [
    {
     "data": {
      "text/plain": [
       "(0\n",
       "1\n",
       "2\n",
       "3\n",
       "4\n",
       "5\n",
       "6\n",
       "7\n",
       "8\n",
       "9\n",
       "nil nil nil nil nil nil nil nil nil nil)"
      ]
     },
     "execution_count": 1,
     "metadata": {},
     "output_type": "execute_result"
    }
   ],
   "source": [
    "(for [i (range 10)]\n",
    "    (println i)\n",
    ")"
   ]
  },
  {
   "cell_type": "code",
   "execution_count": 9,
   "id": "91fb51ee",
   "metadata": {},
   "outputs": [
    {
     "data": {
      "text/plain": [
       "#'user/myfunc"
      ]
     },
     "execution_count": 9,
     "metadata": {},
     "output_type": "execute_result"
    }
   ],
   "source": [
    "(defn myfunc [x]\n",
    "    (do \n",
    "        (println x)\n",
    "        (* x x x)\n",
    "    )    \n",
    ")"
   ]
  },
  {
   "cell_type": "code",
   "execution_count": 10,
   "id": "c3d8f439",
   "metadata": {},
   "outputs": [
    {
     "name": "stdout",
     "output_type": "stream",
     "text": [
      "5\n"
     ]
    },
    {
     "data": {
      "text/plain": [
       "125"
      ]
     },
     "execution_count": 10,
     "metadata": {},
     "output_type": "execute_result"
    }
   ],
   "source": [
    "(myfunc 5)"
   ]
  },
  {
   "cell_type": "code",
   "execution_count": 11,
   "id": "cdcbb157",
   "metadata": {},
   "outputs": [
    {
     "data": {
      "text/plain": [
       "(0\n",
       "1\n",
       "2\n",
       "3\n",
       "4\n",
       "0 1 8 27 64)"
      ]
     },
     "execution_count": 11,
     "metadata": {},
     "output_type": "execute_result"
    }
   ],
   "source": [
    "(map myfunc (range 5))"
   ]
  },
  {
   "cell_type": "code",
   "execution_count": null,
   "id": "16388cbd",
   "metadata": {},
   "outputs": [],
   "source": []
  }
 ],
 "metadata": {
  "kernelspec": {
   "display_name": "Clojure (clojupyter-v0.2.2)",
   "language": "clojure",
   "name": "clojupyter"
  },
  "language_info": {
   "file_extension": ".clj",
   "mimetype": "text/x-clojure",
   "name": "clojure",
   "version": "1.11.1"
  }
 },
 "nbformat": 4,
 "nbformat_minor": 5
}
