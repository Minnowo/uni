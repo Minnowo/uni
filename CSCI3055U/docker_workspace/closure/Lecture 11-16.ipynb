{
 "cells": [
  {
   "cell_type": "code",
   "execution_count": 2,
   "id": "c788847a",
   "metadata": {},
   "outputs": [
    {
     "data": {
      "text/plain": [
       "333328333350000"
      ]
     },
     "execution_count": 2,
     "metadata": {},
     "output_type": "execute_result"
    }
   ],
   "source": []
  },
  {
   "cell_type": "code",
   "execution_count": 3,
   "id": "50eafd50",
   "metadata": {},
   "outputs": [
    {
     "data": {
      "text/plain": [
       "#'user/echo-1"
      ]
     },
     "execution_count": 3,
     "metadata": {},
     "output_type": "execute_result"
    }
   ],
   "source": [
    ";; a bad attempt at echo\n",
    "(defn echo-1 [code]\n",
    "    (println \"=>\" code))"
   ]
  },
  {
   "cell_type": "code",
   "execution_count": 5,
   "id": "cb6ee97c",
   "metadata": {},
   "outputs": [
    {
     "name": "stdout",
     "output_type": "stream",
     "text": [
      "=> 333328333350000M\n"
     ]
    },
    {
     "data": {
      "text/plain": [
       "nil"
      ]
     },
     "execution_count": 5,
     "metadata": {},
     "output_type": "execute_result"
    }
   ],
   "source": [
    "(echo-1 (apply + (for [i (range 100000)] (* (bigdec i) (bigdec i)))))"
   ]
  },
  {
   "cell_type": "code",
   "execution_count": 18,
   "id": "c75a19dd",
   "metadata": {},
   "outputs": [
    {
     "data": {
      "text/plain": [
       "#'user/echo-2"
      ]
     },
     "execution_count": 18,
     "metadata": {},
     "output_type": "execute_result"
    }
   ],
   "source": [
    ";; macro for echo\n",
    "(defmacro echo-2 [code]\n",
    "    `(do \n",
    "          (print ~(str code))\n",
    "          (print \" =>\" ~code)   \n",
    "      )\n",
    ")"
   ]
  },
  {
   "cell_type": "code",
   "execution_count": 19,
   "id": "56c476df",
   "metadata": {},
   "outputs": [
    {
     "name": "stdout",
     "output_type": "stream",
     "text": [
      "(apply + (for [i (range 100000)] (* (bigdec i) (bigdec i)))) => 333328333350000M"
     ]
    },
    {
     "data": {
      "text/plain": [
       "nil"
      ]
     },
     "execution_count": 19,
     "metadata": {},
     "output_type": "execute_result"
    }
   ],
   "source": [
    "(echo-2 (apply + (for [i (range 100000)] (* (bigdec i) (bigdec i)))))"
   ]
  },
  {
   "cell_type": "code",
   "execution_count": 26,
   "id": "8bf24fc2",
   "metadata": {},
   "outputs": [
    {
     "name": "stdout",
     "output_type": "stream",
     "text": [
      "333328333350000M took 28 ms.\n"
     ]
    },
    {
     "data": {
      "text/plain": [
       "nil"
      ]
     },
     "execution_count": 26,
     "metadata": {},
     "output_type": "execute_result"
    }
   ],
   "source": [
    ";; timed version of echo\n",
    "(let [\n",
    "      start (System/currentTimeMillis)\n",
    "      result (apply + (for [i (range 100000)] (* (bigdec i) (bigdec i))))\n",
    "      duration (- (System/currentTimeMillis) start)]\n",
    "    (println result \"took\" duration \"ms.\")\n",
    "    )"
   ]
  },
  {
   "cell_type": "code",
   "execution_count": 34,
   "id": "9f7be296",
   "metadata": {},
   "outputs": [
    {
     "data": {
      "text/plain": [
       "#'user/echo-3"
      ]
     },
     "execution_count": 34,
     "metadata": {},
     "output_type": "execute_result"
    }
   ],
   "source": [
    "(defmacro echo-3 [code]\n",
    "    `(let [\n",
    "           start# (System/currentTimeMillis)\n",
    "           result# ~code\n",
    "           duration# (- (System/currentTimeMillis) start#)\n",
    "           ]\n",
    "         (println \">>>\" ~(str code))\n",
    "         (println result#)\n",
    "         (println \"took\" duration# \"ms.\")\n",
    "    \n",
    "      )\n",
    ")"
   ]
  },
  {
   "cell_type": "code",
   "execution_count": 35,
   "id": "2addf26a",
   "metadata": {},
   "outputs": [
    {
     "name": "stdout",
     "output_type": "stream",
     "text": [
      ">>> (apply + (for [i (range 100000)] (* (bigdec i) (bigdec i))))\n",
      "333328333350000M\n",
      "took 29 ms.\n"
     ]
    },
    {
     "data": {
      "text/plain": [
       "nil"
      ]
     },
     "execution_count": 35,
     "metadata": {},
     "output_type": "execute_result"
    }
   ],
   "source": [
    "(echo-3 (apply + (for [i (range 100000)] (* (bigdec i) (bigdec i)))))"
   ]
  },
  {
   "cell_type": "code",
   "execution_count": 33,
   "id": "27851aaf",
   "metadata": {},
   "outputs": [
    {
     "name": "stdout",
     "output_type": "stream",
     "text": [
      "(let*\n",
      " [start__4307__auto__\n",
      "  (java.lang.System/currentTimeMillis)\n",
      "  result__4308__auto__\n",
      "  (clojure.core/+ 1 2)\n",
      "  duration__4309__auto__\n",
      "  (clojure.core/-\n",
      "   (java.lang.System/currentTimeMillis)\n",
      "   start__4307__auto__)]\n",
      " (clojure.core/print \"(clojure.core/+ 1 2)\")\n",
      " (clojure.core/println \" =>\" result__4308__auto__)\n",
      " (clojure.core/println \"took\" duration__4309__auto__ \"ms.\"))\n"
     ]
    },
    {
     "data": {
      "text/plain": [
       "nil"
      ]
     },
     "execution_count": 33,
     "metadata": {},
     "output_type": "execute_result"
    }
   ],
   "source": [
    ";; debugging\n",
    "(require '[clojure.pprint :refer [pprint]])\n",
    "(pprint (macroexpand `(echo-3 (+ 1 2))))"
   ]
  },
  {
   "cell_type": "code",
   "execution_count": null,
   "id": "38d7f9a0",
   "metadata": {},
   "outputs": [],
   "source": []
  }
 ],
 "metadata": {
  "kernelspec": {
   "display_name": "Clojure (clojupyter-v0.2.2)",
   "language": "clojure",
   "name": "clojupyter"
  },
  "language_info": {
   "file_extension": ".clj",
   "mimetype": "text/x-clojure",
   "name": "clojure",
   "version": "1.11.1"
  }
 },
 "nbformat": 4,
 "nbformat_minor": 5
}
