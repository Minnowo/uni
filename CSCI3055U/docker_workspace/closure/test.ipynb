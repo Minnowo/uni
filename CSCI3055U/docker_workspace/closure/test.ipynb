{
 "cells": [
  {
   "cell_type": "code",
   "execution_count": null,
   "id": "7e647a98",
   "metadata": {},
   "outputs": [],
   "source": [
    "\n",
    "(def hello (+ 2 8))\n",
    "\n"
   ]
  },
  {
   "cell_type": "code",
   "execution_count": null,
   "id": "873de3b1",
   "metadata": {},
   "outputs": [],
   "source": []
  },
  {
   "cell_type": "code",
   "execution_count": null,
   "id": "82df2c82",
   "metadata": {},
   "outputs": [],
   "source": []
  },
  {
   "cell_type": "code",
   "execution_count": null,
   "id": "51778dfa",
   "metadata": {},
   "outputs": [],
   "source": [
    "(print \"Hello World\")\n",
    "(def f +)\n",
    "(println (f 1 2 3))"
   ]
  },
  {
   "cell_type": "code",
   "execution_count": null,
   "id": "6bf1a6f5",
   "metadata": {},
   "outputs": [],
   "source": [
    "(def x (fn () (\n",
    "        println (f 1 2 3))))\n",
    "\n",
    "(x)"
   ]
  },
  {
   "cell_type": "code",
   "execution_count": null,
   "id": "66fdbe3f",
   "metadata": {},
   "outputs": [],
   "source": [
    "\n",
    "(sum\n",
    "     (for [i (range 10)]\n",
    "         (* i i)))\n"
   ]
  },
  {
   "cell_type": "code",
   "execution_count": null,
   "id": "ef541c2f",
   "metadata": {},
   "outputs": [],
   "source": []
  }
 ],
 "metadata": {
  "kernelspec": {
   "display_name": "Clojure (clojupyter-v0.2.2)",
   "language": "clojure",
   "name": "clojupyter"
  },
  "language_info": {
   "file_extension": ".clj",
   "mimetype": "text/x-clojure",
   "name": "clojure",
   "version": "1.11.1"
  }
 },
 "nbformat": 4,
 "nbformat_minor": 5
}
