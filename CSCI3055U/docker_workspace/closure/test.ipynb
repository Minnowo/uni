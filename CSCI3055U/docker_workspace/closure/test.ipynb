{
 "cells": [
  {
   "cell_type": "code",
   "execution_count": null,
   "id": "67d355ac",
   "metadata": {},
   "outputs": [],
   "source": [
    "\n",
    "(def hello (+ 2 8))\n",
    "\n"
   ]
  },
  {
   "cell_type": "code",
   "execution_count": null,
   "id": "2d86726e",
   "metadata": {},
   "outputs": [],
   "source": []
  },
  {
   "cell_type": "code",
   "execution_count": null,
   "id": "151dc2fc",
   "metadata": {},
   "outputs": [],
   "source": []
  },
  {
   "cell_type": "code",
   "execution_count": null,
   "id": "06920d94",
   "metadata": {},
   "outputs": [],
   "source": [
    "(print \"Hello World\")\n",
    "(def f +)\n",
    "(println (f 1 2 3))"
   ]
  },
  {
   "cell_type": "code",
   "execution_count": null,
   "id": "1bbf191d",
   "metadata": {},
   "outputs": [],
   "source": [
    "(def x (fn () (\n",
    "        println (f 1 2 3))))\n",
    "\n",
    "(x)"
   ]
  },
  {
   "cell_type": "code",
   "execution_count": null,
   "id": "b60374c2",
   "metadata": {},
   "outputs": [],
   "source": [
    "\n",
    "(sum\n",
    "     (for [i (range 10)]\n",
    "         (* i i)))\n"
   ]
  },
  {
   "cell_type": "code",
   "execution_count": 3,
   "id": "7dd66888",
   "metadata": {},
   "outputs": [
    {
     "data": {
      "text/plain": [
       "1"
      ]
     },
     "execution_count": 3,
     "metadata": {},
     "output_type": "execute_result"
    }
   ],
   "source": [
    "(apply (fn [x, y, z, k] x) [1 2 3 4])"
   ]
  },
  {
   "cell_type": "code",
   "execution_count": null,
   "id": "caf34c59",
   "metadata": {},
   "outputs": [],
   "source": []
  }
 ],
 "metadata": {
  "kernelspec": {
   "display_name": "Clojure (clojupyter-v0.2.2)",
   "language": "clojure",
   "name": "clojupyter"
  },
  "language_info": {
   "file_extension": ".clj",
   "mimetype": "text/x-clojure",
   "name": "clojure",
   "version": "1.11.1"
  }
 },
 "nbformat": 4,
 "nbformat_minor": 5
}
