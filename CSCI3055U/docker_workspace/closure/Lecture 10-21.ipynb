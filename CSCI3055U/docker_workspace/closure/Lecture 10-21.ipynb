{
 "cells": [
  {
   "cell_type": "code",
   "execution_count": 1,
   "id": "aa9906fa",
   "metadata": {},
   "outputs": [
    {
     "data": {
      "text/plain": [
       "3.14"
      ]
     },
     "execution_count": 1,
     "metadata": {},
     "output_type": "execute_result"
    }
   ],
   "source": [
    "3.14"
   ]
  },
  {
   "cell_type": "code",
   "execution_count": 2,
   "id": "6cd3c829",
   "metadata": {},
   "outputs": [
    {
     "data": {
      "text/plain": [
       "(1 2 3)"
      ]
     },
     "execution_count": 2,
     "metadata": {},
     "output_type": "execute_result"
    }
   ],
   "source": [
    "(quote (1 2 3))"
   ]
  },
  {
   "cell_type": "code",
   "execution_count": 3,
   "id": "326417b0",
   "metadata": {},
   "outputs": [
    {
     "data": {
      "text/plain": [
       "[1 2 3]"
      ]
     },
     "execution_count": 3,
     "metadata": {},
     "output_type": "execute_result"
    }
   ],
   "source": [
    "[ 1 2 3 ]"
   ]
  },
  {
   "cell_type": "code",
   "execution_count": 5,
   "id": "61792005",
   "metadata": {},
   "outputs": [
    {
     "data": {
      "text/plain": [
       "{\"firstname\" \"ken\", \"lastname\" \"pu\"}"
      ]
     },
     "execution_count": 5,
     "metadata": {},
     "output_type": "execute_result"
    }
   ],
   "source": [
    "{\"firstname\" \"ken\"\n",
    " \"lastname\"  \"pu\"}"
   ]
  },
  {
   "cell_type": "code",
   "execution_count": 12,
   "id": "3b3fb37d",
   "metadata": {},
   "outputs": [
    {
     "data": {
      "text/plain": [
       "{:firstname \"ken\", :lastname \"pu\"}"
      ]
     },
     "execution_count": 12,
     "metadata": {},
     "output_type": "execute_result"
    }
   ],
   "source": [
    "; better than using string \n",
    "{ :firstname \"ken\"\n",
    "  :lastname  \"pu\"}"
   ]
  },
  {
   "cell_type": "code",
   "execution_count": 8,
   "id": "7b3ded3c",
   "metadata": {},
   "outputs": [
    {
     "data": {
      "text/plain": [
       "#function[user/eval4108/fn--4109]"
      ]
     },
     "execution_count": 8,
     "metadata": {},
     "output_type": "execute_result"
    }
   ],
   "source": [
    "; declare a function \n",
    "; Math/PI = 3.14... \n",
    "(fn [r] (* Math/PI r r))\n",
    "\n",
    "; this is bad and you never do this"
   ]
  },
  {
   "cell_type": "code",
   "execution_count": 9,
   "id": "30657aab",
   "metadata": {},
   "outputs": [
    {
     "data": {
      "text/plain": [
       "226.98006922186258"
      ]
     },
     "execution_count": 9,
     "metadata": {},
     "output_type": "execute_result"
    }
   ],
   "source": [
    "; evaluate a function\n",
    "\n",
    "((fn [r] (* Math/PI r r)) 8.5)"
   ]
  },
  {
   "cell_type": "code",
   "execution_count": 11,
   "id": "8c01e956",
   "metadata": {},
   "outputs": [
    {
     "data": {
      "text/plain": [
       "15"
      ]
     },
     "execution_count": 11,
     "metadata": {},
     "output_type": "execute_result"
    }
   ],
   "source": [
    "; basically map function\n",
    "; apply + to each element \n",
    "; sum the given vector\n",
    "(apply + [1 2 3 4 5])"
   ]
  },
  {
   "cell_type": "code",
   "execution_count": 15,
   "id": "1d68c7cd",
   "metadata": {},
   "outputs": [
    {
     "data": {
      "text/plain": [
       "45"
      ]
     },
     "execution_count": 15,
     "metadata": {},
     "output_type": "execute_result"
    }
   ],
   "source": [
    "; add all numbers\n",
    "(+ 1 2 3 4 5 6 7 8 9)"
   ]
  },
  {
   "cell_type": "code",
   "execution_count": 14,
   "id": "4c988d04",
   "metadata": {},
   "outputs": [
    {
     "data": {
      "text/plain": [
       "1225"
      ]
     },
     "execution_count": 14,
     "metadata": {},
     "output_type": "execute_result"
    }
   ],
   "source": [
    "\n",
    "; this doesn't work because (range 50) is not a number\n",
    "(+ (range 50))"
   ]
  },
  {
   "cell_type": "code",
   "execution_count": 16,
   "id": "f780a54e",
   "metadata": {},
   "outputs": [
    {
     "data": {
      "text/plain": [
       "1225"
      ]
     },
     "execution_count": 16,
     "metadata": {},
     "output_type": "execute_result"
    }
   ],
   "source": [
    "(apply + (range 50))\n"
   ]
  },
  {
   "cell_type": "code",
   "execution_count": 20,
   "id": "a379028d",
   "metadata": {},
   "outputs": [
    {
     "data": {
      "text/plain": [
       "\"bad grade\""
      ]
     },
     "execution_count": 20,
     "metadata": {},
     "output_type": "execute_result"
    }
   ],
   "source": [
    "(def grade 60)\n",
    "\n",
    "(cond \n",
    "    (>= grade 80)  \"80 or more\"\n",
    "    (>= grade 70)  \"70 or more\"\n",
    "    :else           \"bad grade\")"
   ]
  },
  {
   "cell_type": "code",
   "execution_count": 24,
   "id": "bb4afea5",
   "metadata": {},
   "outputs": [
    {
     "data": {
      "text/plain": [
       "20"
      ]
     },
     "execution_count": 24,
     "metadata": {},
     "output_type": "execute_result"
    }
   ],
   "source": [
    "(def discount (fn [age] \n",
    "                   (cond\n",
    "                       (< age 5) 100\n",
    "                       (< age 16) 20\n",
    "                       (> age 65) 10\n",
    "                       :else      0)))\n",
    "\n",
    "(discount 5)"
   ]
  },
  {
   "cell_type": "code",
   "execution_count": 26,
   "id": "44346fe4",
   "metadata": {},
   "outputs": [
    {
     "data": {
      "text/plain": [
       "#'user/grades"
      ]
     },
     "execution_count": 26,
     "metadata": {},
     "output_type": "execute_result"
    }
   ],
   "source": [
    "(def grades {:jack 90\n",
    " :jill 80\n",
    " :joe  76})"
   ]
  },
  {
   "cell_type": "code",
   "execution_count": 35,
   "id": "e8d0d0d8",
   "metadata": {},
   "outputs": [
    {
     "data": {
      "text/plain": [
       "(\":jack is 90\" \":jill is 80\" \":joe is 76\")"
      ]
     },
     "execution_count": 35,
     "metadata": {},
     "output_type": "execute_result"
    }
   ],
   "source": [
    "(for [x grades] \n",
    "    (format \"%s is %s\" (x 0) (x 1)))\n",
    "\n"
   ]
  },
  {
   "cell_type": "code",
   "execution_count": 36,
   "id": "48254303",
   "metadata": {},
   "outputs": [
    {
     "data": {
      "text/plain": [
       "(\":jack is great\" \":jill is good\" \":joe is not good\")"
      ]
     },
     "execution_count": 36,
     "metadata": {},
     "output_type": "execute_result"
    }
   ],
   "source": [
    "; or\n",
    "\n",
    "(for [[n g] grades]\n",
    "    (format \"%s is %s\" n (cond\n",
    "                             (>= g 90) \"great\"\n",
    "                             (>= g 80) \"good\"\n",
    "                             :else         \"not good\")))\n"
   ]
  },
  {
   "cell_type": "code",
   "execution_count": 37,
   "id": "731cec97",
   "metadata": {},
   "outputs": [
    {
     "data": {
      "text/plain": [
       "(\":jack is great\" \":jill is good\")"
      ]
     },
     "execution_count": 37,
     "metadata": {},
     "output_type": "execute_result"
    }
   ],
   "source": [
    "\n",
    "(for [[n g] grades\n",
    "      :when (>= g 80)\n",
    "      :let [result (cond\n",
    "                             (>= g 90) \"great\"\n",
    "                             (>= g 80) \"good\"\n",
    "                             :else         \"not good\")]]\n",
    "    (format \"%s is %s\" n result ))"
   ]
  },
  {
   "cell_type": "code",
   "execution_count": 38,
   "id": "1b45db13",
   "metadata": {},
   "outputs": [
    {
     "name": "stdout",
     "output_type": "stream",
     "text": [
      "hello\n"
     ]
    },
    {
     "data": {
      "text/plain": [
       "14"
      ]
     },
     "execution_count": 38,
     "metadata": {},
     "output_type": "execute_result"
    }
   ],
   "source": [
    "(do\n",
    "    (+ 1 2)\n",
    "    (println \"hello\")\n",
    "    (+ 5 9))"
   ]
  },
  {
   "cell_type": "code",
   "execution_count": 41,
   "id": "35b50f43",
   "metadata": {},
   "outputs": [
    {
     "data": {
      "text/plain": [
       "(0\n",
       "1\n",
       "2\n",
       "3\n",
       "4\n",
       "5\n",
       "6\n",
       "7\n",
       "8\n",
       "9\n",
       "0 1 2 3 4 5 6 7 8 9)"
      ]
     },
     "execution_count": 41,
     "metadata": {},
     "output_type": "execute_result"
    }
   ],
   "source": [
    "(for [x (range 10)]\n",
    "    (do\n",
    "        (println x)\n",
    "        (+ x 0)))"
   ]
  },
  {
   "cell_type": "code",
   "execution_count": null,
   "id": "c4657ff9",
   "metadata": {},
   "outputs": [],
   "source": []
  }
 ],
 "metadata": {
  "kernelspec": {
   "display_name": "Clojure (clojupyter-v0.2.2)",
   "language": "clojure",
   "name": "clojupyter"
  },
  "language_info": {
   "file_extension": ".clj",
   "mimetype": "text/x-clojure",
   "name": "clojure",
   "version": "1.11.1"
  }
 },
 "nbformat": 4,
 "nbformat_minor": 5
}
