{
 "cells": [
  {
   "cell_type": "code",
   "execution_count": 6,
   "id": "ff041709",
   "metadata": {},
   "outputs": [
    {
     "name": "stdout",
     "output_type": "stream",
     "text": [
      "1\n",
      "1\n",
      "2\n"
     ]
    },
    {
     "data": {
      "text/plain": [
       "1"
      ]
     },
     "execution_count": 6,
     "metadata": {},
     "output_type": "execute_result"
    }
   ],
   "source": [
    "\n",
    "(let [x 1, y 1]\n",
    "    (do \n",
    "        (println x)\n",
    "        (println y)\n",
    "        (println (+ x y))\n",
    "        (+ x 0)\n",
    "               )\n",
    "        )"
   ]
  },
  {
   "cell_type": "code",
   "execution_count": 19,
   "id": "9141c70a",
   "metadata": {},
   "outputs": [
    {
     "data": {
      "text/plain": [
       "(\"jack is good\" \"jill is great\" \"joe is not great\")"
      ]
     },
     "execution_count": 19,
     "metadata": {},
     "output_type": "execute_result"
    }
   ],
   "source": [
    "(let [students {\"jack\" 89\n",
    "                \"jill\" 90\n",
    "                \"joe\"  79}\n",
    "      get-status (fn [grade]\n",
    "                   (cond\n",
    "                       (>= grade 90) \"great\"\n",
    "                       (>= grade 85) \"good\"\n",
    "                       :else         \"not great\"))]\n",
    "    (for [[name grade] students\n",
    "        :when (>= grade 8)]\n",
    "    (format \"%s is %s\" name (get-status grade))))\n"
   ]
  },
  {
   "cell_type": "code",
   "execution_count": 20,
   "id": "8b5fb5e7",
   "metadata": {},
   "outputs": [
    {
     "data": {
      "text/plain": [
       "(\"jack is good\" \"jill is great\")"
      ]
     },
     "execution_count": 20,
     "metadata": {},
     "output_type": "execute_result"
    }
   ],
   "source": [
    "; should only use def in the top level scope\n",
    "; use let otherwise \n",
    "(def students {\n",
    "               \"jack\" 89\n",
    "               \"jill\" 90\n",
    "               \"joe\"  76\n",
    "               })\n",
    "\n",
    "\n",
    "(def get-status (fn [grade]\n",
    "                    (cond\n",
    "                        (>= grade 90) \"great\"\n",
    "                        (>= grade 85) \"good\"\n",
    "                        :else         \"not great\")))\n",
    "\n",
    "(for [[name grade] students\n",
    "      :when (>= grade 80)]\n",
    "    (format \"%s is %s\" name (get-status grade)))"
   ]
  },
  {
   "cell_type": "code",
   "execution_count": 22,
   "id": "17864d13",
   "metadata": {},
   "outputs": [
    {
     "data": {
      "text/plain": [
       "#'user/total-cost"
      ]
     },
     "execution_count": 22,
     "metadata": {},
     "output_type": "execute_result"
    }
   ],
   "source": [
    "(def ^:dynamic tax-rate)\n",
    "\n",
    "(def total-cost\n",
    "    (fn [price]\n",
    "        (let [tax (* tax-rate price)]\n",
    "            (+ price tax))))\n",
    "\n"
   ]
  },
  {
   "cell_type": "code",
   "execution_count": 23,
   "id": "0e021903",
   "metadata": {},
   "outputs": [
    {
     "data": {
      "text/plain": [
       "#'user/add"
      ]
     },
     "execution_count": 23,
     "metadata": {},
     "output_type": "execute_result"
    }
   ],
   "source": [
    "(defn add [x y] (+ x y))"
   ]
  },
  {
   "cell_type": "code",
   "execution_count": 24,
   "id": "6492921f",
   "metadata": {},
   "outputs": [
    {
     "data": {
      "text/plain": [
       "3"
      ]
     },
     "execution_count": 24,
     "metadata": {},
     "output_type": "execute_result"
    }
   ],
   "source": [
    "(add 1 2)"
   ]
  },
  {
   "cell_type": "code",
   "execution_count": 29,
   "id": "c58e419e",
   "metadata": {},
   "outputs": [
    {
     "data": {
      "text/plain": [
       "120"
      ]
     },
     "execution_count": 29,
     "metadata": {},
     "output_type": "execute_result"
    }
   ],
   "source": [
    "; this form of recursion is highly inefficient, and she almost never be used \n",
    "; excessive usage of memory during recursion\n",
    "((fn fac [n]\n",
    "    (cond \n",
    "        (= n 0) 1\n",
    "        :else     (* n (fac (- n 1)))\n",
    "    )\n",
    ") 5)"
   ]
  },
  {
   "cell_type": "code",
   "execution_count": 32,
   "id": "5b73ca51",
   "metadata": {},
   "outputs": [
    {
     "data": {
      "text/plain": [
       "#'user/factorial"
      ]
     },
     "execution_count": 32,
     "metadata": {},
     "output_type": "execute_result"
    }
   ],
   "source": [
    "; tail recursion\n",
    "(def factorial \n",
    "    (fn self [count-down result]\n",
    "        (cond \n",
    "            (= count-down 0) result\n",
    "            :else     (self (dec count-down) (* result count-down))\n",
    "    )\n",
    "))"
   ]
  },
  {
   "cell_type": "code",
   "execution_count": 37,
   "id": "04876c3c",
   "metadata": {},
   "outputs": [
    {
     "data": {
      "text/plain": [
       "120"
      ]
     },
     "execution_count": 37,
     "metadata": {},
     "output_type": "execute_result"
    }
   ],
   "source": [
    "(factorial 5, 1)"
   ]
  },
  {
   "cell_type": "code",
   "execution_count": null,
   "id": "4ff5fa3e",
   "metadata": {},
   "outputs": [],
   "source": [
    "; using recur, this tells closure to optimize the recursion\n",
    "(def factorial\n",
    "    (fn [count-down result]\n",
    "        (cond \n",
    "            (zero? count-down) result\n",
    "            :else (recur (dec count-down) (* result count-down))  )))"
   ]
  },
  {
   "cell_type": "code",
   "execution_count": null,
   "id": "83195b99",
   "metadata": {},
   "outputs": [],
   "source": [
    "(factorial 5 1)"
   ]
  },
  {
   "cell_type": "code",
   "execution_count": null,
   "id": "059db25b",
   "metadata": {},
   "outputs": [],
   "source": [
    "(def factorial\n",
    "    (fn [n]\n",
    "        (loop [i n\n",
    "               accumulator 1]\n",
    "            (zero? i) accumulator\n",
    "            :else     (recur (dec i) (* accumulator i)))))"
   ]
  },
  {
   "cell_type": "code",
   "execution_count": null,
   "id": "15d19d57",
   "metadata": {},
   "outputs": [],
   "source": [
    "(factorial 5)"
   ]
  },
  {
   "cell_type": "code",
   "execution_count": null,
   "id": "9115b6b3",
   "metadata": {},
   "outputs": [],
   "source": []
  }
 ],
 "metadata": {
  "kernelspec": {
   "display_name": "Clojure (clojupyter-v0.2.2)",
   "language": "clojure",
   "name": "clojupyter"
  },
  "language_info": {
   "file_extension": ".clj",
   "mimetype": "text/x-clojure",
   "name": "clojure",
   "version": "1.11.1"
  }
 },
 "nbformat": 4,
 "nbformat_minor": 5
}
