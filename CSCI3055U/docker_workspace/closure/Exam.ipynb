{
 "cells": [
  {
   "cell_type": "code",
   "execution_count": 1,
   "id": "5983b64e",
   "metadata": {},
   "outputs": [
    {
     "data": {
      "text/plain": [
       "#'user/tree"
      ]
     },
     "execution_count": 1,
     "metadata": {},
     "output_type": "execute_result"
    }
   ],
   "source": [
    "(def tree {\n",
    "           :value 10,\n",
    "           :left {\n",
    "                  :value 7,\n",
    "                  :left {\n",
    "                         :value 3\n",
    "                         },\n",
    "                  :right {\n",
    "                          :value 9\n",
    "                          }\n",
    "                  },\n",
    "           :right {\n",
    "                   :value 15\n",
    "                   }\n",
    "           })"
   ]
  },
  {
   "cell_type": "code",
   "execution_count": 12,
   "id": "060b629d",
   "metadata": {},
   "outputs": [
    {
     "data": {
      "text/plain": [
       "#'user/binarySearch"
      ]
     },
     "execution_count": 12,
     "metadata": {},
     "output_type": "execute_result"
    }
   ],
   "source": [
    "(defn binarySearch [tree target]\n",
    "        (loop [curr tree ]\n",
    "                \n",
    "            (cond \n",
    "                    (= curr nil) false\n",
    "                \n",
    "                    (= (curr :value) target) true\n",
    "                \n",
    "                    (< target (curr :value)) (recur (curr :left))\n",
    "                \n",
    "                    :else (recur (curr :right))\n",
    "            )\n",
    "        )\n",
    ")"
   ]
  },
  {
   "cell_type": "code",
   "execution_count": 16,
   "id": "774887ff",
   "metadata": {},
   "outputs": [
    {
     "data": {
      "text/plain": [
       "true"
      ]
     },
     "execution_count": 16,
     "metadata": {},
     "output_type": "execute_result"
    }
   ],
   "source": [
    "(binarySearch tree 10)"
   ]
  },
  {
   "cell_type": "code",
   "execution_count": 53,
   "id": "02211671",
   "metadata": {},
   "outputs": [
    {
     "data": {
      "text/plain": [
       "true"
      ]
     },
     "execution_count": 53,
     "metadata": {},
     "output_type": "execute_result"
    }
   ],
   "source": [
    "(defn my-update [init x]\n",
    "    (cond\n",
    "            (= init true)  true\n",
    "            (= init false) false\n",
    "            (= init nil)   false\n",
    "        \n",
    "            (= (init :value) x) true\n",
    "        \n",
    "            (< x (init :value)) (init :left)\n",
    "        \n",
    "            :else (init :right)\n",
    "    )\n",
    ")\n",
    "\n",
    "(reduce my-update tree (repeat 5 3))"
   ]
  },
  {
   "cell_type": "code",
   "execution_count": 38,
   "id": "ec7b9bab",
   "metadata": {},
   "outputs": [
    {
     "data": {
      "text/plain": [
       "(5 5 5 5 5 5 5)"
      ]
     },
     "execution_count": 38,
     "metadata": {},
     "output_type": "execute_result"
    }
   ],
   "source": [
    "(repeat 7 5)"
   ]
  },
  {
   "cell_type": "code",
   "execution_count": null,
   "id": "1405bd99",
   "metadata": {},
   "outputs": [],
   "source": []
  }
 ],
 "metadata": {
  "kernelspec": {
   "display_name": "Clojure (clojupyter-v0.2.2)",
   "language": "clojure",
   "name": "clojupyter"
  },
  "language_info": {
   "file_extension": ".clj",
   "mimetype": "text/x-clojure",
   "name": "clojure",
   "version": "1.11.1"
  }
 },
 "nbformat": 4,
 "nbformat_minor": 5
}
