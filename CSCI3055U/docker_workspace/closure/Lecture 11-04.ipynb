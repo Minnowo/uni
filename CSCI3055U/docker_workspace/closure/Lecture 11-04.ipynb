{
 "cells": [
  {
   "cell_type": "code",
   "execution_count": 12,
   "id": "9fb3f870",
   "metadata": {},
   "outputs": [
    {
     "data": {
      "text/plain": [
       "#'user/lis"
      ]
     },
     "execution_count": 12,
     "metadata": {},
     "output_type": "execute_result"
    }
   ],
   "source": [
    "(def lis [1 2 3 4 5 6])"
   ]
  },
  {
   "cell_type": "code",
   "execution_count": 13,
   "id": "285e9ef7",
   "metadata": {},
   "outputs": [
    {
     "data": {
      "text/plain": [
       "21"
      ]
     },
     "execution_count": 13,
     "metadata": {},
     "output_type": "execute_result"
    }
   ],
   "source": [
    ";; reduce <function> <inital-state> <iterable>\n",
    "\n",
    "(reduce + 0 lis)"
   ]
  },
  {
   "cell_type": "code",
   "execution_count": 14,
   "id": "06741198",
   "metadata": {},
   "outputs": [
    {
     "data": {
      "text/plain": [
       "21"
      ]
     },
     "execution_count": 14,
     "metadata": {},
     "output_type": "execute_result"
    }
   ],
   "source": [
    ";; reduce <function> <iterable>\n",
    ";; assumes the inital state is 0\n",
    "(reduce + lis)"
   ]
  },
  {
   "cell_type": "code",
   "execution_count": 15,
   "id": "f9c09ec2",
   "metadata": {},
   "outputs": [
    {
     "data": {
      "text/plain": [
       "#'user/my-map"
      ]
     },
     "execution_count": 15,
     "metadata": {},
     "output_type": "execute_result"
    }
   ],
   "source": [
    ";; implementing map using reduce\n",
    "\n",
    "(defn my-map [f xs]\n",
    "    (reduce\n",
    "     (fn [s x] (conj s (f x)))\n",
    "     []\n",
    "     xs))"
   ]
  },
  {
   "cell_type": "code",
   "execution_count": 19,
   "id": "2c7ee22b",
   "metadata": {},
   "outputs": [
    {
     "data": {
      "text/plain": [
       "[2 4 6 8 10 12]"
      ]
     },
     "execution_count": 19,
     "metadata": {},
     "output_type": "execute_result"
    }
   ],
   "source": [
    "(my-map (partial * 2) lis)"
   ]
  },
  {
   "cell_type": "code",
   "execution_count": 36,
   "id": "c2a42682",
   "metadata": {},
   "outputs": [
    {
     "data": {
      "text/plain": [
       "[1 0 1 0 1 0]"
      ]
     },
     "execution_count": 36,
     "metadata": {},
     "output_type": "execute_result"
    }
   ],
   "source": [
    "(my-map (fn [x] (if (odd? x) 1 0)) lis)"
   ]
  },
  {
   "cell_type": "code",
   "execution_count": 70,
   "id": "eb649553",
   "metadata": {},
   "outputs": [
    {
     "data": {
      "text/plain": [
       "#'user/social-network"
      ]
     },
     "execution_count": 70,
     "metadata": {},
     "output_type": "execute_result"
    }
   ],
   "source": [
    "(def B 1e9)\n",
    "\n",
    "(def social-network\n",
    "    {\n",
    "     :members [ \n",
    "               {\n",
    "                 :id 1000\n",
    "                 :name \"Jack\"\n",
    "                 :age 18\n",
    "                 :hobbies [\"sport\" \"reading\"]\n",
    "                 }\n",
    "                {\n",
    "                 :id 1001\n",
    "                 :name \"Joe\"\n",
    "                 :age 22\n",
    "                 :occupation \"electrition\"\n",
    "                 }\n",
    "                {\n",
    "                 :id 1002\n",
    "                 :name \"Elon\"\n",
    "                 :occupation \"ceo\"\n",
    "                 :hobbies [\"space\" \"coding\"]\n",
    "                 }\n",
    "               ]\n",
    "     :companies [\n",
    "                 {\n",
    "                  :name \"GM\"\n",
    "                  :size 157000\n",
    "                  :market-cap (* 55 B)\n",
    "                  }\n",
    "                 {\n",
    "                  :name \"Twitter\"\n",
    "                  :size 7000\n",
    "                  :market-cap (* 41 B)\n",
    "                  }\n",
    "                 {\n",
    "                  :name \"Tesla\"\n",
    "                  :size 2500\n",
    "                  :market-cap (* 30 B)\n",
    "                  }\n",
    "                 {\n",
    "                  :name \"Spotify\"\n",
    "                  :size 6000\n",
    "                  :market-cap (* 15 B)\n",
    "                  }\n",
    "                 ]\n",
    "      :connections [\n",
    "                    {\n",
    "                     :person-id 1002\n",
    "                     :company \"Tesla\"\n",
    "                     :type :owns\n",
    "                     }\n",
    "                    {\n",
    "                     :person-id 1000\n",
    "                     :company \"Twitter\"\n",
    "                     :type :use\n",
    "                     }\n",
    "                    {\n",
    "                     :person-id 1002\n",
    "                     :company \"Twitter\"\n",
    "                     :type :owns\n",
    "                     }\n",
    "                    {\n",
    "                     :person-id 1001\n",
    "                     :company \"GM\"\n",
    "                     :type :works\n",
    "                     }\n",
    "                    ]\n",
    "    }\n",
    ")"
   ]
  },
  {
   "cell_type": "code",
   "execution_count": 71,
   "id": "0358fdab",
   "metadata": {},
   "outputs": [
    {
     "data": {
      "text/plain": [
       "817391.304347826"
      ]
     },
     "execution_count": 71,
     "metadata": {},
     "output_type": "execute_result"
    }
   ],
   "source": [
    ";; compute the average value per employee\n",
    ";; using for-loop\n",
    "(let [companies (social-network :companies)\n",
    "      total-size (apply + (for [company companies] (:size company)))\n",
    "      total-market-cap (apply + (for [company companies] (:market-cap company)))]\n",
    "    (/ total-market-cap total-size))"
   ]
  },
  {
   "cell_type": "code",
   "execution_count": 72,
   "id": "0a36ab11",
   "metadata": {},
   "outputs": [
    {
     "data": {
      "text/plain": [
       "817391.304347826"
      ]
     },
     "execution_count": 72,
     "metadata": {},
     "output_type": "execute_result"
    }
   ],
   "source": [
    ";; using map reduce\n",
    "\n",
    "(/ (reduce + (map :market-cap (:companies social-network)))\n",
    "   (reduce + (map :size (:companies social-network)))\n",
    ")"
   ]
  },
  {
   "cell_type": "code",
   "execution_count": 73,
   "id": "6581fd32",
   "metadata": {},
   "outputs": [
    {
     "data": {
      "text/plain": [
       "817391.304347826"
      ]
     },
     "execution_count": 73,
     "metadata": {},
     "output_type": "execute_result"
    }
   ],
   "source": [
    ";; using reduce \n",
    "(as-> (reduce (fn [state company] {:total-market-cap (+ (:total-market-cap state) (:market-cap company))\n",
    "                                   :total-size (+ (:total-size state) (:size company))})\n",
    "        {:total-market-cap 0 :total-size 0}\n",
    "        (:companies social-network))\n",
    "    $\n",
    "    (/ (:total-market-cap $)\n",
    "       (:total-size $))\n",
    "    )"
   ]
  },
  {
   "cell_type": "code",
   "execution_count": 74,
   "id": "89864e0c",
   "metadata": {},
   "outputs": [
    {
     "data": {
      "text/plain": [
       "#'user/add-by-attr"
      ]
     },
     "execution_count": 74,
     "metadata": {},
     "output_type": "execute_result"
    }
   ],
   "source": [
    "(defn add-by-attr [state attr company]\n",
    "    (update state attr (fn [x] (+ x (get company attr)))))"
   ]
  },
  {
   "cell_type": "code",
   "execution_count": 75,
   "id": "8dc79355",
   "metadata": {},
   "outputs": [
    {
     "data": {
      "text/plain": [
       "{:market-cap 103, :size 100}"
      ]
     },
     "execution_count": 75,
     "metadata": {},
     "output_type": "execute_result"
    }
   ],
   "source": [
    "(add-by-attr {:market-cap 100 :size 100} :market-cap {:market-cap 3 :size 5})"
   ]
  },
  {
   "cell_type": "code",
   "execution_count": 76,
   "id": "cad3d0b5",
   "metadata": {},
   "outputs": [
    {
     "data": {
      "text/plain": [
       "817391.304347826"
      ]
     },
     "execution_count": 76,
     "metadata": {},
     "output_type": "execute_result"
    }
   ],
   "source": [
    ";; using reduce \n",
    "(as-> (reduce (fn [state company] (-> state (add-by-attr :market-cap company) (add-by-attr :size company)))\n",
    "        {:market-cap 0 :size 0}\n",
    "        (:companies social-network))\n",
    "    $\n",
    "    (/ (:market-cap $)\n",
    "       (:size $))\n",
    "    )\n",
    "    "
   ]
  },
  {
   "cell_type": "code",
   "execution_count": 96,
   "id": "6a3f98e2",
   "metadata": {},
   "outputs": [
    {
     "data": {
      "text/plain": [
       "#'user/info-of"
      ]
     },
     "execution_count": 96,
     "metadata": {},
     "output_type": "execute_result"
    }
   ],
   "source": [
    "(defn id-of [name]\n",
    "    (->> social-network\n",
    "        (:members)\n",
    "        (filter (fn [member] (= (:name member) name)))\n",
    "        (first)\n",
    "        (:id)))\n",
    "\n",
    "(defn connections-of [id]\n",
    "    (->> social-network\n",
    "        (:connections)\n",
    "        (filter (fn [conn] (= (:person-id conn) id)))\n",
    "        ))\n",
    "\n",
    "(defn info-of [company-name]\n",
    "    (->> social-network\n",
    "        (:companies)\n",
    "        (filter (fn [company] (= (:name company) company-name)))\n",
    "        (first)))"
   ]
  },
  {
   "cell_type": "code",
   "execution_count": 97,
   "id": "f0f24550",
   "metadata": {},
   "outputs": [
    {
     "data": {
      "text/plain": [
       "1002"
      ]
     },
     "execution_count": 97,
     "metadata": {},
     "output_type": "execute_result"
    }
   ],
   "source": [
    "(id-of \"Elon\")"
   ]
  },
  {
   "cell_type": "code",
   "execution_count": 98,
   "id": "050c0cfb",
   "metadata": {},
   "outputs": [
    {
     "data": {
      "text/plain": [
       "{:name \"Twitter\", :size 7000, :market-cap 4.1E10}"
      ]
     },
     "execution_count": 98,
     "metadata": {},
     "output_type": "execute_result"
    }
   ],
   "source": [
    "(info-of \"Twitter\")"
   ]
  },
  {
   "cell_type": "code",
   "execution_count": 99,
   "id": "b626b01c",
   "metadata": {},
   "outputs": [
    {
     "data": {
      "text/plain": [
       "({:name \"Tesla\", :size 2500, :market-cap 3.0E10} {:name \"Twitter\", :size 7000, :market-cap 4.1E10})"
      ]
     },
     "execution_count": 99,
     "metadata": {},
     "output_type": "execute_result"
    }
   ],
   "source": [
    "(->> \"Elon\" (id-of) (connections-of) (map :company) (map info-of))"
   ]
  },
  {
   "cell_type": "code",
   "execution_count": null,
   "id": "1de55441",
   "metadata": {},
   "outputs": [],
   "source": []
  },
  {
   "cell_type": "code",
   "execution_count": null,
   "id": "3782a3b6",
   "metadata": {},
   "outputs": [],
   "source": []
  }
 ],
 "metadata": {
  "kernelspec": {
   "display_name": "Clojure (clojupyter-v0.2.2)",
   "language": "clojure",
   "name": "clojupyter"
  },
  "language_info": {
   "file_extension": ".clj",
   "mimetype": "text/x-clojure",
   "name": "clojure",
   "version": "1.11.1"
  }
 },
 "nbformat": 4,
 "nbformat_minor": 5
}
