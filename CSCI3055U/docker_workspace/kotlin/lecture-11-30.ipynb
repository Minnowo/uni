{
 "cells": [
  {
   "cell_type": "markdown",
   "id": "35628709",
   "metadata": {},
   "source": [
    "## Flow Control"
   ]
  },
  {
   "cell_type": "code",
   "execution_count": 1,
   "id": "a647502c",
   "metadata": {},
   "outputs": [
    {
     "name": "stdout",
     "output_type": "stream",
     "text": [
      "Not a senior\n"
     ]
    }
   ],
   "source": [
    "val age = 10\n",
    "\n",
    "val y = if(age < 65)\n",
    "{\n",
    "    \"Not a senior\"\n",
    "}\n",
    "else \n",
    "{\n",
    "    \"Senior\"\n",
    "}\n",
    "\n",
    "println(y)"
   ]
  },
  {
   "cell_type": "markdown",
   "id": "1995b89a",
   "metadata": {},
   "source": [
    "## When: A better if-else"
   ]
  },
  {
   "cell_type": "code",
   "execution_count": 2,
   "id": "6296667f",
   "metadata": {},
   "outputs": [
    {
     "name": "stdout",
     "output_type": "stream",
     "text": [
      "Must be under 65\n"
     ]
    }
   ],
   "source": [
    "val z = when(y) {\n",
    "    \"Senior\" -> \"Must be over 65\"\n",
    "    \"Not a senior\" -> \"Must be under 65\"\n",
    "    else -> \"Don't know...\"\n",
    "}\n",
    "\n",
    "println(z)"
   ]
  },
  {
   "cell_type": "code",
   "execution_count": 5,
   "id": "e5daacf1",
   "metadata": {},
   "outputs": [
    {
     "data": {
      "text/plain": [
       "Adult"
      ]
     },
     "execution_count": 5,
     "metadata": {},
     "output_type": "execute_result"
    }
   ],
   "source": [
    "// patterm matching for ranges\n",
    "\n",
    "val age = 42\n",
    "\n",
    "when(age)\n",
    "{\n",
    "    in 0  .. 10 -> \"Child\"\n",
    "    in 10 .. 20 -> \"Teen\"\n",
    "    in 20 .. 65 -> \"Adult\"\n",
    "    else -> \"Senior\"\n",
    "}"
   ]
  },
  {
   "cell_type": "code",
   "execution_count": 7,
   "id": "accda757",
   "metadata": {},
   "outputs": [
    {
     "data": {
      "text/plain": [
       "3.1415: Float"
      ]
     },
     "execution_count": 7,
     "metadata": {},
     "output_type": "execute_result"
    }
   ],
   "source": [
    "//         Number\n",
    "//      /    |     \\\n",
    "//    Int, Float, Double\n",
    "\n",
    "val num : Number = 3.1415f\n",
    "\n",
    "when(num)\n",
    "{\n",
    "    is Int -> \"$num: Integer\"\n",
    "    is Float -> \"$num: Float\"\n",
    "    is Double -> \"$num: Double\"\n",
    "    else -> \"$num: is unknown type\"\n",
    "}"
   ]
  },
  {
   "cell_type": "markdown",
   "id": "bd26b4a0",
   "metadata": {},
   "source": [
    "## Integer ranges"
   ]
  },
  {
   "cell_type": "code",
   "execution_count": 9,
   "id": "ea8be4c5",
   "metadata": {},
   "outputs": [
    {
     "data": {
      "text/plain": [
       "1..10"
      ]
     },
     "execution_count": 9,
     "metadata": {},
     "output_type": "execute_result"
    }
   ],
   "source": [
    "1..10"
   ]
  },
  {
   "cell_type": "code",
   "execution_count": 10,
   "id": "1b7ec4bd",
   "metadata": {},
   "outputs": [
    {
     "data": {
      "text/plain": [
       "[1, 2, 3, 4, 5, 6, 7, 8, 9, 10]"
      ]
     },
     "execution_count": 10,
     "metadata": {},
     "output_type": "execute_result"
    }
   ],
   "source": [
    "(1..10).toList()"
   ]
  },
  {
   "cell_type": "code",
   "execution_count": 11,
   "id": "339f0f51",
   "metadata": {},
   "outputs": [
    {
     "data": {
      "text/plain": [
       "1..9"
      ]
     },
     "execution_count": 11,
     "metadata": {},
     "output_type": "execute_result"
    }
   ],
   "source": [
    "1 until 10"
   ]
  },
  {
   "cell_type": "code",
   "execution_count": 12,
   "id": "3f9105d4",
   "metadata": {},
   "outputs": [
    {
     "data": {
      "text/plain": [
       "[1, 2, 3, 4, 5, 6, 7, 8, 9]"
      ]
     },
     "execution_count": 12,
     "metadata": {},
     "output_type": "execute_result"
    }
   ],
   "source": [
    "(1 until 10).toList()"
   ]
  },
  {
   "cell_type": "code",
   "execution_count": 13,
   "id": "e53c0533",
   "metadata": {},
   "outputs": [
    {
     "data": {
      "text/plain": [
       "10 downTo 1 step 1"
      ]
     },
     "execution_count": 13,
     "metadata": {},
     "output_type": "execute_result"
    }
   ],
   "source": [
    "10 downTo 1"
   ]
  },
  {
   "cell_type": "code",
   "execution_count": 14,
   "id": "f981631d",
   "metadata": {},
   "outputs": [
    {
     "data": {
      "text/plain": [
       "[10, 9, 8, 7, 6, 5, 4, 3, 2, 1]"
      ]
     },
     "execution_count": 14,
     "metadata": {},
     "output_type": "execute_result"
    }
   ],
   "source": [
    "(10 downTo 1).toList()"
   ]
  },
  {
   "cell_type": "markdown",
   "id": "ac033332",
   "metadata": {},
   "source": [
    "## For-loop over ranges"
   ]
  },
  {
   "cell_type": "code",
   "execution_count": 16,
   "id": "ef36ce8a",
   "metadata": {},
   "outputs": [
    {
     "name": "stdout",
     "output_type": "stream",
     "text": [
      "i = 1\n",
      "i = 2\n",
      "i = 3\n",
      "i = 4\n",
      "i = 5\n",
      "i = 6\n",
      "i = 7\n",
      "i = 8\n",
      "i = 9\n",
      "i = 10\n"
     ]
    }
   ],
   "source": [
    "for(i in 1..10)\n",
    "{\n",
    "    println(\"i = $i\")\n",
    "}"
   ]
  },
  {
   "cell_type": "markdown",
   "id": "4eb2f328",
   "metadata": {},
   "source": [
    "# Top level function"
   ]
  },
  {
   "cell_type": "code",
   "execution_count": 22,
   "id": "69076648",
   "metadata": {},
   "outputs": [],
   "source": [
    "// function declaration with explicit body block\n",
    "fun factorial(n : Int) : Int\n",
    "{\n",
    "    if(n == 1)\n",
    "        return 1\n",
    "    \n",
    "    return n * factorial(n - 1)\n",
    "}"
   ]
  },
  {
   "cell_type": "code",
   "execution_count": 23,
   "id": "b76cdd2d",
   "metadata": {},
   "outputs": [
    {
     "data": {
      "text/plain": [
       "120"
      ]
     },
     "execution_count": 23,
     "metadata": {},
     "output_type": "execute_result"
    }
   ],
   "source": [
    "factorial(5)"
   ]
  },
  {
   "cell_type": "code",
   "execution_count": 24,
   "id": "ee56fa70",
   "metadata": {},
   "outputs": [],
   "source": [
    "// function declaration with = return expression\n",
    "\n",
    "fun factorial(n :Int) :Int = if(n == 1) 1 else { n * factorial(n - 1)}"
   ]
  },
  {
   "cell_type": "code",
   "execution_count": 25,
   "id": "9859b5b5",
   "metadata": {},
   "outputs": [
    {
     "data": {
      "text/plain": [
       "120"
      ]
     },
     "execution_count": 25,
     "metadata": {},
     "output_type": "execute_result"
    }
   ],
   "source": [
    "factorial(5)"
   ]
  },
  {
   "cell_type": "code",
   "execution_count": 26,
   "id": "a9c73df5",
   "metadata": {},
   "outputs": [
    {
     "data": {
      "text/plain": [
       "olleH"
      ]
     },
     "execution_count": 26,
     "metadata": {},
     "output_type": "execute_result"
    }
   ],
   "source": [
    "// Extension functions\n",
    "\n",
    "fun String.reverse(): String\n",
    "{\n",
    "    var result = \"\"\n",
    "    for(i in (this.length - 1 downTo 0))\n",
    "    {\n",
    "        result += this.get(i)\n",
    "    }\n",
    "    \n",
    "    return result\n",
    "}\n",
    "\n",
    "val a = \"Hello\"\n",
    "a.reverse()"
   ]
  },
  {
   "cell_type": "markdown",
   "id": "6b430379",
   "metadata": {},
   "source": [
    "## Infix operators\n",
    "\n"
   ]
  },
  {
   "cell_type": "code",
   "execution_count": 28,
   "id": "7756bd9d",
   "metadata": {},
   "outputs": [
    {
     "data": {
      "text/plain": [
       "HelloHelloHelloHelloHello"
      ]
     },
     "execution_count": 28,
     "metadata": {},
     "output_type": "execute_result"
    }
   ],
   "source": [
    "fun String.repeat(n : Int) : String\n",
    "{\n",
    "    var res = \"\"\n",
    "    for(i in 1..n)\n",
    "    {\n",
    "        res += this\n",
    "    }\n",
    "    \n",
    "    return res\n",
    "}\n",
    "\n",
    "\"Hello\".repeat(5)"
   ]
  },
  {
   "cell_type": "code",
   "execution_count": 30,
   "id": "00f33cb0",
   "metadata": {},
   "outputs": [
    {
     "data": {
      "text/plain": [
       "HelloHelloHelloHelloHelloHelloHelloHelloHelloHelloHelloHelloHelloHelloHelloHelloHelloHelloHelloHelloHelloHelloHelloHelloHelloHelloHello"
      ]
     },
     "execution_count": 30,
     "metadata": {},
     "output_type": "execute_result"
    }
   ],
   "source": [
    "infix fun String.repeat(n : Int) : String\n",
    "{\n",
    "    var res = \"\"\n",
    "    for(i in 1..n)\n",
    "    {\n",
    "        res += this\n",
    "    }\n",
    "    \n",
    "    return res\n",
    "}\n",
    "\n",
    "\"Hello\" repeat 3 repeat 3 repeat 3"
   ]
  },
  {
   "cell_type": "markdown",
   "id": "60e08c95",
   "metadata": {},
   "source": [
    "## Functions as values using anonymous functions"
   ]
  },
  {
   "cell_type": "code",
   "execution_count": 31,
   "id": "701d2243",
   "metadata": {},
   "outputs": [],
   "source": [
    "val f = fun(x:String, repeats: Int) : String = x repeat repeats"
   ]
  },
  {
   "cell_type": "code",
   "execution_count": 32,
   "id": "d1814726",
   "metadata": {},
   "outputs": [
    {
     "data": {
      "text/plain": [
       "HelloHello"
      ]
     },
     "execution_count": 32,
     "metadata": {},
     "output_type": "execute_result"
    }
   ],
   "source": [
    "f(\"Hello\", 2)"
   ]
  },
  {
   "cell_type": "markdown",
   "id": "ea6f459e",
   "metadata": {},
   "source": [
    "## Anonymous function as block"
   ]
  },
  {
   "cell_type": "code",
   "execution_count": 33,
   "id": "11ccc658",
   "metadata": {},
   "outputs": [],
   "source": [
    "val f = {\n",
    "    x : String, repeats: Int -> x repeat repeats\n",
    "}"
   ]
  },
  {
   "cell_type": "code",
   "execution_count": 34,
   "id": "974073f6",
   "metadata": {},
   "outputs": [
    {
     "data": {
      "text/plain": [
       "HeHeHeHeHe"
      ]
     },
     "execution_count": 34,
     "metadata": {},
     "output_type": "execute_result"
    }
   ],
   "source": [
    "f(\"He\", 5)"
   ]
  },
  {
   "cell_type": "markdown",
   "id": "1353738f",
   "metadata": {},
   "source": [
    "# Anonymous funciton as block containing `it`"
   ]
  },
  {
   "cell_type": "code",
   "execution_count": 37,
   "id": "6545bc78",
   "metadata": {},
   "outputs": [],
   "source": [
    "// 'it' is a keyword refering to the single input for the function\n",
    "val repeat3 : (String) -> String = {\n",
    "    it repeat 3\n",
    "}"
   ]
  },
  {
   "cell_type": "code",
   "execution_count": 38,
   "id": "4dae28a7",
   "metadata": {},
   "outputs": [
    {
     "data": {
      "text/plain": [
       "hellohellohello"
      ]
     },
     "execution_count": 38,
     "metadata": {},
     "output_type": "execute_result"
    }
   ],
   "source": [
    "repeat3(\"hello\")"
   ]
  },
  {
   "cell_type": "markdown",
   "id": "6ddc1a47",
   "metadata": {},
   "source": [
    "## Lists (immutable)"
   ]
  },
  {
   "cell_type": "code",
   "execution_count": 44,
   "id": "c88355a0",
   "metadata": {},
   "outputs": [
    {
     "data": {
      "text/plain": [
       "[a, b, c]"
      ]
     },
     "execution_count": 44,
     "metadata": {},
     "output_type": "execute_result"
    }
   ],
   "source": [
    "val xs : List<String> = listOf<String>(\"a\", \"b\", \"c\")\n",
    "xs"
   ]
  },
  {
   "cell_type": "code",
   "execution_count": 45,
   "id": "5af3421f",
   "metadata": {},
   "outputs": [
    {
     "data": {
      "text/plain": [
       "[x, y, z]"
      ]
     },
     "execution_count": 45,
     "metadata": {},
     "output_type": "execute_result"
    }
   ],
   "source": [
    "val xs = listOf<String>(\"x\", \"y\", \"z\")\n",
    "xs"
   ]
  },
  {
   "cell_type": "code",
   "execution_count": 47,
   "id": "c8d64af3",
   "metadata": {},
   "outputs": [
    {
     "data": {
      "text/plain": [
       "[hello, world, again]"
      ]
     },
     "execution_count": 47,
     "metadata": {},
     "output_type": "execute_result"
    }
   ],
   "source": [
    "val xs = listOf(\"hello\", \"world\", \"again\")\n",
    "xs"
   ]
  },
  {
   "cell_type": "code",
   "execution_count": 49,
   "id": "e65f2181",
   "metadata": {},
   "outputs": [
    {
     "data": {
      "text/plain": [
       "class java.util.Arrays$ArrayList"
      ]
     },
     "execution_count": 49,
     "metadata": {},
     "output_type": "execute_result"
    }
   ],
   "source": [
    "listOf(\"hello\", 1, 2, 3).javaClass"
   ]
  },
  {
   "cell_type": "code",
   "execution_count": 50,
   "id": "358dabdb",
   "metadata": {},
   "outputs": [
    {
     "data": {
      "text/plain": [
       "[a, b, c]"
      ]
     },
     "execution_count": 50,
     "metadata": {},
     "output_type": "execute_result"
    }
   ],
   "source": [
    "val xs = listOf(\"a\", \"b\", \"c\")\n",
    "xs"
   ]
  },
  {
   "cell_type": "code",
   "execution_count": 52,
   "id": "a877cc01",
   "metadata": {},
   "outputs": [
    {
     "data": {
      "text/plain": [
       "[a, b, c, x]"
      ]
     },
     "execution_count": 52,
     "metadata": {},
     "output_type": "execute_result"
    }
   ],
   "source": [
    "xs + \"x\""
   ]
  },
  {
   "cell_type": "code",
   "execution_count": 53,
   "id": "d313bb81",
   "metadata": {},
   "outputs": [
    {
     "data": {
      "text/plain": [
       "[a, b, c]"
      ]
     },
     "execution_count": 53,
     "metadata": {},
     "output_type": "execute_result"
    }
   ],
   "source": [
    "xs"
   ]
  },
  {
   "cell_type": "code",
   "execution_count": 55,
   "id": "a2c5e446",
   "metadata": {},
   "outputs": [
    {
     "data": {
      "text/plain": [
       "[b, c]"
      ]
     },
     "execution_count": 55,
     "metadata": {},
     "output_type": "execute_result"
    }
   ],
   "source": [
    "// xs is an immutable list \n",
    "xs.drop(1)"
   ]
  },
  {
   "cell_type": "code",
   "execution_count": 56,
   "id": "d65da511",
   "metadata": {},
   "outputs": [
    {
     "data": {
      "text/plain": [
       "[a, b, c]"
      ]
     },
     "execution_count": 56,
     "metadata": {},
     "output_type": "execute_result"
    }
   ],
   "source": [
    "xs"
   ]
  },
  {
   "cell_type": "markdown",
   "id": "9f89ee22",
   "metadata": {},
   "source": [
    "## Mutable Lists"
   ]
  },
  {
   "cell_type": "code",
   "execution_count": 63,
   "id": "bf533217",
   "metadata": {},
   "outputs": [
    {
     "data": {
      "text/plain": [
       "[a, b, c]"
      ]
     },
     "execution_count": 63,
     "metadata": {},
     "output_type": "execute_result"
    }
   ],
   "source": [
    "val xs = mutableListOf(\"a\", \"b\", \"c\")\n",
    "xs"
   ]
  },
  {
   "cell_type": "code",
   "execution_count": 64,
   "id": "8f84938c",
   "metadata": {},
   "outputs": [
    {
     "data": {
      "text/plain": [
       "[a, b, c, g]"
      ]
     },
     "execution_count": 64,
     "metadata": {},
     "output_type": "execute_result"
    }
   ],
   "source": [
    "xs += \"g\"\n",
    "xs"
   ]
  },
  {
   "cell_type": "code",
   "execution_count": 65,
   "id": "40ff350b",
   "metadata": {},
   "outputs": [],
   "source": [
    "xs += listOf(\"hello\", \"world\")"
   ]
  },
  {
   "cell_type": "code",
   "execution_count": 66,
   "id": "6bbcd533",
   "metadata": {},
   "outputs": [
    {
     "data": {
      "text/plain": [
       "[a, b, c, g, hello, world]"
      ]
     },
     "execution_count": 66,
     "metadata": {},
     "output_type": "execute_result"
    }
   ],
   "source": [
    "xs"
   ]
  },
  {
   "cell_type": "code",
   "execution_count": null,
   "id": "fd81c0f2",
   "metadata": {},
   "outputs": [],
   "source": []
  }
 ],
 "metadata": {
  "kernelspec": {
   "display_name": "Kotlin",
   "language": "kotlin",
   "name": "kotlin"
  },
  "language_info": {
   "codemirror_mode": "text/x-kotlin",
   "file_extension": ".kt",
   "mimetype": "text/x-kotlin",
   "name": "kotlin",
   "nbconvert_exporter": "",
   "pygments_lexer": "kotlin",
   "version": "1.8.0-dev-707"
  }
 },
 "nbformat": 4,
 "nbformat_minor": 5
}
