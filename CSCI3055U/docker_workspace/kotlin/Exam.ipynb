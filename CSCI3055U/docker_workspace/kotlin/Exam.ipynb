{
 "cells": [
  {
   "cell_type": "code",
   "execution_count": 1,
   "id": "fea2248d",
   "metadata": {},
   "outputs": [],
   "source": [
    "class Node<T : Comparable<T>>(val value : T, val left:Node<T>?, val right:Node<T>?)\n",
    "{\n",
    "//     var left :Node<T>? = null\n",
    "//     var right :Node<T>? = null\n",
    "\n",
    "//     public constructor(value : Int){\n",
    "//         super<Int>.value = value\n",
    "//     }\n",
    "    \n",
    "    constructor(value : T) : this(value, null, null)\n",
    "    constructor(value : T, left :Node<T>) : this(value, left, null)\n",
    "    constructor(right :Node<T>, value : T) : this(value, null, right)\n",
    "}"
   ]
  },
  {
   "cell_type": "code",
   "execution_count": 2,
   "id": "d2dc1176",
   "metadata": {},
   "outputs": [],
   "source": [
    "val root = Node(10, \n",
    "                Node(7, \n",
    "                     Node(3), \n",
    "                     Node(9)), \n",
    "                Node(15))\n",
    "\n",
    "// root?.left = Node(7)\n",
    "// root?.left?.left = Node(3)\n",
    "// root?.left?.right = Node(9)\n",
    "// root?.right = Node(15)"
   ]
  },
  {
   "cell_type": "code",
   "execution_count": 3,
   "id": "e6681af7",
   "metadata": {},
   "outputs": [],
   "source": [
    "fun <T : Comparable<T>> inOrder(n :Node<T>?) {\n",
    "    if(n == null){\n",
    "        return\n",
    "    }\n",
    "    inOrder(n.left)    \n",
    "    println(n.value)\n",
    "    inOrder(n.right)    \n",
    "}\n",
    "\n",
    "fun <T : Comparable<T>> binarySearch(root : Node<T>, value : T) : Boolean\n",
    "{\n",
    "    var c : Node<T>? = root\n",
    "    \n",
    "    while(true) {\n",
    "        if(c == null)\n",
    "            return false\n",
    "  \n",
    "        when \n",
    "        {\n",
    "            (c.value.compareTo(value) > 0) -> {\n",
    "                c = c.left\n",
    "            }\n",
    "            \n",
    "            (c.value.compareTo(value) < 0) -> {\n",
    "                c = c.right\n",
    "            }\n",
    "            \n",
    "            else -> return true\n",
    "        }\n",
    "    }\n",
    "}"
   ]
  },
  {
   "cell_type": "code",
   "execution_count": 4,
   "id": "e4a31aaf",
   "metadata": {},
   "outputs": [
    {
     "data": {
      "text/plain": [
       "true"
      ]
     },
     "execution_count": 4,
     "metadata": {},
     "output_type": "execute_result"
    }
   ],
   "source": [
    "binarySearch(root, 3)"
   ]
  },
  {
   "cell_type": "code",
   "execution_count": null,
   "id": "4e376a4a",
   "metadata": {},
   "outputs": [],
   "source": []
  }
 ],
 "metadata": {
  "kernelspec": {
   "display_name": "Kotlin",
   "language": "kotlin",
   "name": "kotlin"
  },
  "language_info": {
   "codemirror_mode": "text/x-kotlin",
   "file_extension": ".kt",
   "mimetype": "text/x-kotlin",
   "name": "kotlin",
   "nbconvert_exporter": "",
   "pygments_lexer": "kotlin",
   "version": "1.8.0-dev-707"
  }
 },
 "nbformat": 4,
 "nbformat_minor": 5
}
