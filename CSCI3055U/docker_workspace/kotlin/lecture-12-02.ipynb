{
 "cells": [
  {
   "cell_type": "code",
   "execution_count": 2,
   "id": "0ec12eb8",
   "metadata": {},
   "outputs": [
    {
     "data": {
      "text/plain": [
       "[a, b, c]"
      ]
     },
     "execution_count": 2,
     "metadata": {},
     "output_type": "execute_result"
    }
   ],
   "source": [
    "\n",
    "val x = listOf(\"a\", \"b\", \"c\")\n",
    "x"
   ]
  },
  {
   "cell_type": "code",
   "execution_count": 4,
   "id": "63a841be",
   "metadata": {},
   "outputs": [
    {
     "data": {
      "text/plain": [
       "[a, b, c]"
      ]
     },
     "execution_count": 4,
     "metadata": {},
     "output_type": "execute_result"
    }
   ],
   "source": [
    "val xs = mutableListOf(\"a\", \"b\", \"c\")\n",
    "xs"
   ]
  },
  {
   "cell_type": "code",
   "execution_count": 5,
   "id": "3ccf9224",
   "metadata": {},
   "outputs": [
    {
     "data": {
      "text/plain": [
       "true"
      ]
     },
     "execution_count": 5,
     "metadata": {},
     "output_type": "execute_result"
    }
   ],
   "source": [
    "xs.remove(\"b\")"
   ]
  },
  {
   "cell_type": "markdown",
   "id": "37eb6539",
   "metadata": {},
   "source": [
    "## Pairs"
   ]
  },
  {
   "cell_type": "code",
   "execution_count": 7,
   "id": "fe9041c7",
   "metadata": {},
   "outputs": [
    {
     "data": {
      "text/plain": [
       "(0, 1)"
      ]
     },
     "execution_count": 7,
     "metadata": {},
     "output_type": "execute_result"
    }
   ],
   "source": [
    "Pair(0, 1)"
   ]
  },
  {
   "cell_type": "code",
   "execution_count": 8,
   "id": "636fb172",
   "metadata": {},
   "outputs": [],
   "source": [
    "var xs = Pair<String, Int>(\"hello\", 1)"
   ]
  },
  {
   "cell_type": "code",
   "execution_count": 12,
   "id": "b31694a6",
   "metadata": {},
   "outputs": [
    {
     "name": "stdout",
     "output_type": "stream",
     "text": [
      "x = hello, y = 1\n"
     ]
    }
   ],
   "source": [
    "// destructuring: bind components of pairs to symbols directly in the declaration\n",
    "\n",
    "val (x, y) = xs\n",
    "\n",
    "println(\"x = $x, y = $y\")"
   ]
  },
  {
   "cell_type": "markdown",
   "id": "5e986b17",
   "metadata": {},
   "source": [
    "## immutable maps"
   ]
  },
  {
   "cell_type": "code",
   "execution_count": 13,
   "id": "7894b717",
   "metadata": {},
   "outputs": [
    {
     "data": {
      "text/plain": [
       "{Jack=1, Jill=2}"
      ]
     },
     "execution_count": 13,
     "metadata": {},
     "output_type": "execute_result"
    }
   ],
   "source": [
    "// mapOf(key to val, key to val, ...) is the contructor for immutable maps\n",
    "// type Map<k, v>\n",
    "\n",
    "val m = mapOf(\"Jack\" to 1, \"Jill\" to 2)\n",
    "m"
   ]
  },
  {
   "cell_type": "code",
   "execution_count": 15,
   "id": "dd125a14",
   "metadata": {},
   "outputs": [
    {
     "data": {
      "text/plain": [
       "(Jack, 1)"
      ]
     },
     "execution_count": 15,
     "metadata": {},
     "output_type": "execute_result"
    }
   ],
   "source": [
    "// \"Jack\" to 1\n",
    "// this is actually an object.method(arg) invocation:\n",
    "// possible because of infix fun String.to(value: Any)\n",
    "\"Jack\".to(1)"
   ]
  },
  {
   "cell_type": "code",
   "execution_count": 16,
   "id": "c5aa6fb5",
   "metadata": {},
   "outputs": [
    {
     "data": {
      "text/plain": [
       "true"
      ]
     },
     "execution_count": 16,
     "metadata": {},
     "output_type": "execute_result"
    }
   ],
   "source": [
    "// check if key exists\n",
    "\"Jack\" in m"
   ]
  },
  {
   "cell_type": "code",
   "execution_count": 17,
   "id": "2a5d2ed4",
   "metadata": {},
   "outputs": [
    {
     "data": {
      "text/plain": [
       "false"
      ]
     },
     "execution_count": 17,
     "metadata": {},
     "output_type": "execute_result"
    }
   ],
   "source": [
    "\"Joe\" in m"
   ]
  },
  {
   "cell_type": "code",
   "execution_count": 18,
   "id": "3158b63d",
   "metadata": {},
   "outputs": [
    {
     "data": {
      "text/plain": [
       "1"
      ]
     },
     "execution_count": 18,
     "metadata": {},
     "output_type": "execute_result"
    }
   ],
   "source": [
    "m[\"Jack\"]"
   ]
  },
  {
   "cell_type": "code",
   "execution_count": 19,
   "id": "def24931",
   "metadata": {},
   "outputs": [
    {
     "data": {
      "text/plain": [
       "null"
      ]
     },
     "execution_count": 19,
     "metadata": {},
     "output_type": "execute_result"
    }
   ],
   "source": [
    "m[\"Joe\"]"
   ]
  },
  {
   "cell_type": "code",
   "execution_count": 21,
   "id": "0583f989",
   "metadata": {},
   "outputs": [
    {
     "data": {
      "text/plain": [
       "1"
      ]
     },
     "execution_count": 21,
     "metadata": {},
     "output_type": "execute_result"
    }
   ],
   "source": [
    "// suppose m : Map<K, V>\n",
    "// map.get(Key, K) : V? \n",
    "m.get(\"Jack\")"
   ]
  },
  {
   "cell_type": "code",
   "execution_count": 23,
   "id": "117b31f9",
   "metadata": {},
   "outputs": [
    {
     "data": {
      "text/plain": [
       "1.0"
      ]
     },
     "execution_count": 23,
     "metadata": {},
     "output_type": "execute_result"
    }
   ],
   "source": [
    "m.get(\"Jack\")?.toFloat()"
   ]
  },
  {
   "cell_type": "code",
   "execution_count": 24,
   "id": "4fe214c8",
   "metadata": {},
   "outputs": [
    {
     "name": "stdout",
     "output_type": "stream",
     "text": [
      "1.0\n"
     ]
    }
   ],
   "source": [
    "val i = m.get(\"Jack\")\n",
    "\n",
    "if(i != null)\n",
    "{\n",
    "    println(i.toFloat())\n",
    "}"
   ]
  },
  {
   "cell_type": "markdown",
   "id": "643a1f84",
   "metadata": {},
   "source": [
    "## For-loops over collections"
   ]
  },
  {
   "cell_type": "code",
   "execution_count": 26,
   "id": "0b675831",
   "metadata": {},
   "outputs": [
    {
     "name": "stdout",
     "output_type": "stream",
     "text": [
      "Jack\n",
      "Jill\n",
      "Joe\n"
     ]
    }
   ],
   "source": [
    "val x = listOf(\"Jack\", \"Jill\", \"Joe\")\n",
    "\n",
    "for(i in x)\n",
    "{\n",
    "    println(i)\n",
    "}"
   ]
  },
  {
   "cell_type": "code",
   "execution_count": 28,
   "id": "d904a3b0",
   "metadata": {},
   "outputs": [
    {
     "name": "stdout",
     "output_type": "stream",
     "text": [
      "Jack=90\n",
      "Jill=95\n",
      "Joe=10\n",
      "Jack received a grade of 90\n",
      "Jill received a grade of 95\n",
      "Joe received a grade of 10\n"
     ]
    }
   ],
   "source": [
    "val grades = mapOf(\n",
    "    \"Jack\" to 90,\n",
    "    \"Jill\" to 95,\n",
    "    \"Joe\"  to 10\n",
    ")\n",
    "\n",
    "// loop through pairs\n",
    "for(pair in grades)\n",
    "{\n",
    "    println(pair)\n",
    "}\n",
    "\n",
    "// deconstruction\n",
    "for((name, grade) in grades)\n",
    "{\n",
    "    println(\"$name received a grade of $grade\")\n",
    "}"
   ]
  },
  {
   "cell_type": "code",
   "execution_count": 29,
   "id": "4c9d8e9c",
   "metadata": {},
   "outputs": [
    {
     "name": "stdout",
     "output_type": "stream",
     "text": [
      "Jack has rank of 1\n",
      "Jill has rank of 2\n",
      "Joe has rank of 3\n"
     ]
    }
   ],
   "source": [
    "val ranks = listOf(\"Jack\", \"Jill\", \"Joe\")\n",
    "\n",
    "// java way \n",
    "for(i in 0 until ranks.size)\n",
    "{\n",
    "    val name = ranks[i]\n",
    "    println(\"$name has rank of ${i + 1}\")\n",
    "}"
   ]
  },
  {
   "cell_type": "code",
   "execution_count": 30,
   "id": "7cfab593",
   "metadata": {},
   "outputs": [
    {
     "data": {
      "text/plain": [
       "[IndexedValue(index=0, value=Jack), IndexedValue(index=1, value=Jill), IndexedValue(index=2, value=Joe)]"
      ]
     },
     "execution_count": 30,
     "metadata": {},
     "output_type": "execute_result"
    }
   ],
   "source": [
    "ranks.withIndex().toList()"
   ]
  },
  {
   "cell_type": "code",
   "execution_count": 32,
   "id": "c717310f",
   "metadata": {},
   "outputs": [
    {
     "name": "stdout",
     "output_type": "stream",
     "text": [
      "Jack has rank 0\n",
      "Jill has rank 1\n",
      "Joe has rank 2\n"
     ]
    }
   ],
   "source": [
    "\n",
    "for((index, value) in ranks.withIndex())\n",
    "{\n",
    "    println(\"$value has rank $index\")\n",
    "}"
   ]
  },
  {
   "cell_type": "markdown",
   "id": "112ca031",
   "metadata": {},
   "source": [
    "## Programming with higher order methods"
   ]
  },
  {
   "cell_type": "code",
   "execution_count": 33,
   "id": "433096d1",
   "metadata": {},
   "outputs": [
    {
     "data": {
      "text/plain": [
       "Friday"
      ]
     },
     "execution_count": 33,
     "metadata": {},
     "output_type": "execute_result"
    }
   ],
   "source": [
    "// declare helper function that converts day: Int to weekday: String\n",
    "val dayOfWeek : (Int) -> String = {\n",
    "    when(it)\n",
    "    {\n",
    "        1 -> \"Monday\"\n",
    "        2 -> \"Tuesday\"\n",
    "        3 -> \"Wednesday\"\n",
    "        4 -> \"Thursday\"\n",
    "        5 -> \"Friday\"\n",
    "        6 -> \"Saturday\"\n",
    "        7 -> \"Sunday\"\n",
    "        else -> \"Error\"\n",
    "    }\n",
    "}\n",
    "\n",
    "dayOfWeek(5)"
   ]
  },
  {
   "cell_type": "markdown",
   "id": "d3bda396",
   "metadata": {},
   "source": [
    "## Map"
   ]
  },
  {
   "cell_type": "code",
   "execution_count": 34,
   "id": "1c9e5b0d",
   "metadata": {},
   "outputs": [
    {
     "data": {
      "text/plain": [
       "[Monday, Tuesday, Wednesday, Thursday, Friday]"
      ]
     },
     "execution_count": 34,
     "metadata": {},
     "output_type": "execute_result"
    }
   ],
   "source": [
    "listOf(1, 2, 3, 4, 5).map(dayOfWeek)"
   ]
  },
  {
   "cell_type": "code",
   "execution_count": 35,
   "id": "3ebd9a43",
   "metadata": {},
   "outputs": [
    {
     "data": {
      "text/plain": [
       "0"
      ]
     },
     "execution_count": 35,
     "metadata": {},
     "output_type": "execute_result"
    }
   ],
   "source": [
    "10 % 5"
   ]
  },
  {
   "cell_type": "code",
   "execution_count": 37,
   "id": "d5e91fef",
   "metadata": {},
   "outputs": [
    {
     "data": {
      "text/plain": [
       "[1, 4, 9, 16, 25, 36, 49, 64, 81, 100]"
      ]
     },
     "execution_count": 37,
     "metadata": {},
     "output_type": "execute_result"
    }
   ],
   "source": [
    "(1..10).map({\n",
    "    i -> i * i\n",
    "})\n",
    "\n",
    "// can drop the () \n",
    "(1..10).map {\n",
    "    i -> i * i\n",
    "}"
   ]
  },
  {
   "cell_type": "code",
   "execution_count": 40,
   "id": "c9bbfea4",
   "metadata": {},
   "outputs": [
    {
     "data": {
      "text/plain": [
       "[Saturday, Sunday, Sunday, Saturday, Tuesday, Saturday, Tuesday, Saturday, Tuesday, Tuesday]"
      ]
     },
     "execution_count": 40,
     "metadata": {},
     "output_type": "execute_result"
    }
   ],
   "source": [
    "(1..10).map {\n",
    "    (1..7).random()\n",
    "}.map(dayOfWeek)"
   ]
  },
  {
   "cell_type": "code",
   "execution_count": 43,
   "id": "d4fae9b5",
   "metadata": {},
   "outputs": [
    {
     "data": {
      "text/plain": [
       "[Jack got grade 90, Jill got grade 80, Joe got grade 70]"
      ]
     },
     "execution_count": 43,
     "metadata": {},
     "output_type": "execute_result"
    }
   ],
   "source": [
    "// Map<K, V>.map((Pair<K,V>) - T)\n",
    "val grades = mapOf(\n",
    "    \"Jack\" to 90,\n",
    "    \"Jill\" to 80,\n",
    "    \"Joe\"  to 70\n",
    ")\n",
    "\n",
    "grades.map{\n",
    "    (name, grade) -> \"$name got grade $grade\"\n",
    "}"
   ]
  },
  {
   "cell_type": "markdown",
   "id": "41ab32b2",
   "metadata": {},
   "source": [
    "## Foreach method"
   ]
  },
  {
   "cell_type": "code",
   "execution_count": 46,
   "id": "17d4a0f0",
   "metadata": {},
   "outputs": [
    {
     "name": "stdout",
     "output_type": "stream",
     "text": [
      "Jack got grade 90\n",
      "Jill got grade 80\n",
      "Joe got grade 70\n"
     ]
    }
   ],
   "source": [
    "grades.forEach{\n",
    "    (name, grade) -> println(\"$name got grade $grade\")\n",
    "}"
   ]
  },
  {
   "cell_type": "markdown",
   "id": "c1f93181",
   "metadata": {},
   "source": [
    "## Filter"
   ]
  },
  {
   "cell_type": "code",
   "execution_count": 47,
   "id": "0ce68885",
   "metadata": {},
   "outputs": [
    {
     "data": {
      "text/plain": [
       "[2, 4, 6, 8, 10]"
      ]
     },
     "execution_count": 47,
     "metadata": {},
     "output_type": "execute_result"
    }
   ],
   "source": [
    "// takes a predicate function\n",
    "\n",
    "(1..10).filter {\n",
    "    it % 2 == 0\n",
    "}"
   ]
  },
  {
   "cell_type": "code",
   "execution_count": 51,
   "id": "1deef0eb",
   "metadata": {},
   "outputs": [
    {
     "data": {
      "text/plain": [
       "{Jack=90, Jill=80}"
      ]
     },
     "execution_count": 51,
     "metadata": {},
     "output_type": "execute_result"
    }
   ],
   "source": [
    "grades.filter {\n",
    "    (name, grade) -> grade > 79\n",
    "}"
   ]
  },
  {
   "cell_type": "code",
   "execution_count": 53,
   "id": "545d04e8",
   "metadata": {},
   "outputs": [
    {
     "data": {
      "text/plain": [
       "[2, 3, 5, 7, 11, 13, 17, 19, 23, 29, 31, 37, 41, 43, 47, 53, 59, 61, 67, 71, 73, 79, 83, 89, 97, 101, 103, 107, 109, 113, 127, 131, 137, 139, 149, 151, 157, 163, 167, 173, 179, 181, 191, 193, 197, 199, 211, 223, 227, 229, 233, 239, 241, 251, 257, 263, 269, 271, 277, 281, 283, 293, 307, 311, 313, 317, 331, 337, 347, 349, 353, 359, 367, 373, 379, 383, 389, 397, 401, 409, 419, 421, 431, 433, 439, 443, 449, 457, 461, 463, 467, 479, 487, 491, 499, 503, 509, 521, 523, 541, 547, 557, 563, 569, 571, 577, 587, 593, 599, 601, 607, 613, 617, 619, 631, 641, 643, 647, 653, 659, 661, 673, 677, 683, 691, 701, 709, 719, 727, 733, 739, 743, 751, 757, 761, 769, 773, 787, 797, 809, 811, 821, 823, 827, 829, 839, 853, 857, 859, 863, 877, 881, 883, 887, 907, 911, 919, 929, 937, 941, 947, 953, 967, 971, 977, 983, 991, 997]"
      ]
     },
     "execution_count": 53,
     "metadata": {},
     "output_type": "execute_result"
    }
   ],
   "source": [
    "// fun examples, getting primes\n",
    "(2 .. 1000).filter{\n",
    "    n -> (2 until n).filter{ n % it == 0}.size == 0\n",
    "}"
   ]
  },
  {
   "cell_type": "code",
   "execution_count": 54,
   "id": "709581b0",
   "metadata": {},
   "outputs": [],
   "source": [
    "infix fun Int.isFactorOf(number:Int) = (number % this == 0)"
   ]
  },
  {
   "cell_type": "code",
   "execution_count": 56,
   "id": "08780f5d",
   "metadata": {},
   "outputs": [
    {
     "data": {
      "text/plain": [
       "[2, 3, 5, 7, 11, 13, 17, 19, 23, 29, 31, 37, 41, 43, 47, 53, 59, 61, 67, 71, 73, 79, 83, 89, 97, 101, 103, 107, 109, 113, 127, 131, 137, 139, 149, 151, 157, 163, 167, 173, 179, 181, 191, 193, 197, 199, 211, 223, 227, 229, 233, 239, 241, 251, 257, 263, 269, 271, 277, 281, 283, 293, 307, 311, 313, 317, 331, 337, 347, 349, 353, 359, 367, 373, 379, 383, 389, 397, 401, 409, 419, 421, 431, 433, 439, 443, 449, 457, 461, 463, 467, 479, 487, 491, 499, 503, 509, 521, 523, 541, 547, 557, 563, 569, 571, 577, 587, 593, 599, 601, 607, 613, 617, 619, 631, 641, 643, 647, 653, 659, 661, 673, 677, 683, 691, 701, 709, 719, 727, 733, 739, 743, 751, 757, 761, 769, 773, 787, 797, 809, 811, 821, 823, 827, 829, 839, 853, 857, 859, 863, 877, 881, 883, 887, 907, 911, 919, 929, 937, 941, 947, 953, 967, 971, 977, 983, 991, 997]"
      ]
     },
     "execution_count": 56,
     "metadata": {},
     "output_type": "execute_result"
    }
   ],
   "source": [
    "(2..1000).filter{n -> (2 until n).none { it isFactorOf n}}"
   ]
  },
  {
   "cell_type": "markdown",
   "id": "4a23520b",
   "metadata": {},
   "source": [
    "## Agregation (aka reduce)"
   ]
  },
  {
   "cell_type": "code",
   "execution_count": 61,
   "id": "5e2edfa8",
   "metadata": {},
   "outputs": [
    {
     "data": {
      "text/plain": [
       "1784293664"
      ]
     },
     "execution_count": 61,
     "metadata": {},
     "output_type": "execute_result"
    }
   ],
   "source": [
    "(1.. 1_000_000).reduce{\n",
    "    x, y -> x + y\n",
    "}"
   ]
  },
  {
   "cell_type": "code",
   "execution_count": 71,
   "id": "889a1204",
   "metadata": {},
   "outputs": [
    {
     "data": {
      "text/plain": [
       "67"
      ]
     },
     "execution_count": 71,
     "metadata": {},
     "output_type": "execute_result"
    }
   ],
   "source": [
    "(1..10).map{\n",
    "    dayOfWeek((1..7).random())\n",
    "}.fold(0, {total, string -> total + string.length})\n",
    "\n",
    "// can pull the last param out as a lambda as well\n",
    "(1..10).map{\n",
    "    dayOfWeek((1..7).random())\n",
    "}.fold(0) {\n",
    "    total, string -> total + string.length\n",
    "}"
   ]
  },
  {
   "cell_type": "markdown",
   "id": "fd0129a4",
   "metadata": {},
   "source": [
    "## scope function\n",
    "https://kotlinlang.org/docs/scope-functions.html"
   ]
  },
  {
   "cell_type": "code",
   "execution_count": 74,
   "id": "0946cfa3",
   "metadata": {},
   "outputs": [
    {
     "data": {
      "text/plain": [
       "Student(name=Jack, grade=80, address=Address(number=2000, street=Simcoe Street North, city=Oshawa))"
      ]
     },
     "execution_count": 74,
     "metadata": {},
     "output_type": "execute_result"
    }
   ],
   "source": [
    "data class Address(\n",
    "    var number : Int,\n",
    "    var street : String,\n",
    "    var city : String\n",
    ")\n",
    "\n",
    "data class Student(\n",
    "    val name : String,\n",
    "    var grade : Int,\n",
    "    val address : Address\n",
    ")\n",
    "\n",
    "var jack = Student(name=\"Jack\", grade=80, address=Address(2000, \"Simcoe Street North\", \"Oshawa\"))\n",
    "jack"
   ]
  },
  {
   "cell_type": "code",
   "execution_count": 76,
   "id": "f9ee4173",
   "metadata": {},
   "outputs": [
    {
     "data": {
      "text/plain": [
       "2000 Simcoe Street North, Oshawa"
      ]
     },
     "execution_count": 76,
     "metadata": {},
     "output_type": "execute_result"
    }
   ],
   "source": [
    "// java style\n",
    "\n",
    "val formattedAddress = \"${jack.address.number} ${jack.address.street}, ${jack.address.city}\"\n",
    "formattedAddress"
   ]
  },
  {
   "cell_type": "markdown",
   "id": "c5145faf",
   "metadata": {},
   "source": [
    "## Scope function: let\n",
    "\n",
    "- `oject.let {...}`\n",
    "- the calle object is the parameter to the anonymous function\n",
    "- Evaluates the return-value of the anonymous fucntion"
   ]
  },
  {
   "cell_type": "code",
   "execution_count": 79,
   "id": "02a7c636",
   "metadata": {},
   "outputs": [
    {
     "data": {
      "text/plain": [
       "2000 Simcoe Street North, Oshawa"
      ]
     },
     "execution_count": 79,
     "metadata": {},
     "output_type": "execute_result"
    }
   ],
   "source": [
    "jack.address.let {\n",
    "    \"${it.number} ${it.street}, ${it.city}\"\n",
    "}"
   ]
  },
  {
   "cell_type": "markdown",
   "id": "6fc4b93d",
   "metadata": {},
   "source": [
    "## Scope function: run\n",
    "\n",
    "- `object.run {...}`\n",
    "- the caller is referred by `this` in the scope.\n",
    "- Evaluates to the return-value of the anonymous function"
   ]
  },
  {
   "cell_type": "code",
   "execution_count": 81,
   "id": "6ded1fe5",
   "metadata": {},
   "outputs": [
    {
     "data": {
      "text/plain": [
       "2000 Simcoe Street North, Oshawa"
      ]
     },
     "execution_count": 81,
     "metadata": {},
     "output_type": "execute_result"
    }
   ],
   "source": [
    "jack.address.run{\n",
    "    \"${this.number} ${this.street}, ${this.city}\"\n",
    "}\n",
    "\n",
    "// but remember we don't need to use this.\n",
    "jack.address.run{\n",
    "    \"${number} ${street}, ${city}\"\n",
    "}\n"
   ]
  },
  {
   "cell_type": "markdown",
   "id": "59f7e77d",
   "metadata": {},
   "source": [
    "## Scope function that updates the object: apply\n",
    "\n",
    "- `object.apply {...}`\n",
    "- Caller object appears as `this` inside the scope.\n",
    "- Evalues to the object\n"
   ]
  },
  {
   "cell_type": "code",
   "execution_count": 82,
   "id": "940c49dd",
   "metadata": {},
   "outputs": [
    {
     "data": {
      "text/plain": [
       "Address(number=2000, street=Simcoe Street North, city=Oshawa)"
      ]
     },
     "execution_count": 82,
     "metadata": {},
     "output_type": "execute_result"
    }
   ],
   "source": [
    "jack.address"
   ]
  },
  {
   "cell_type": "code",
   "execution_count": 85,
   "id": "d217ba14",
   "metadata": {},
   "outputs": [
    {
     "data": {
      "text/plain": [
       "Address(number=12, street=Bloor St., city=Toronto)"
      ]
     },
     "execution_count": 85,
     "metadata": {},
     "output_type": "execute_result"
    }
   ],
   "source": [
    "// java way\n",
    "jack.address.number = 12\n",
    "jack.address.street = \"Bloor St.\"\n",
    "jack.address.city = \"Toronto\"\n",
    "\n",
    "jack.address"
   ]
  },
  {
   "cell_type": "code",
   "execution_count": 86,
   "id": "6c78382d",
   "metadata": {},
   "outputs": [
    {
     "data": {
      "text/plain": [
       "Address(number=132, street=Younge street, city=New York)"
      ]
     },
     "execution_count": 86,
     "metadata": {},
     "output_type": "execute_result"
    }
   ],
   "source": [
    "// using apply\n",
    "jack.address.apply {\n",
    "    this.number = 132\n",
    "    street = \"Younge street\"\n",
    "    city = \"New York\"\n",
    "}"
   ]
  },
  {
   "cell_type": "code",
   "execution_count": null,
   "id": "8d5f53af",
   "metadata": {},
   "outputs": [],
   "source": []
  }
 ],
 "metadata": {
  "kernelspec": {
   "display_name": "Kotlin",
   "language": "kotlin",
   "name": "kotlin"
  },
  "language_info": {
   "codemirror_mode": "text/x-kotlin",
   "file_extension": ".kt",
   "mimetype": "text/x-kotlin",
   "name": "kotlin",
   "nbconvert_exporter": "",
   "pygments_lexer": "kotlin",
   "version": "1.8.0-dev-707"
  }
 },
 "nbformat": 4,
 "nbformat_minor": 5
}
