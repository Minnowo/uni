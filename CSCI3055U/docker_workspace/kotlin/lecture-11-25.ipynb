{
 "cells": [
  {
   "cell_type": "code",
   "execution_count": 2,
   "id": "965d543d",
   "metadata": {},
   "outputs": [
    {
     "data": {
      "text/plain": [
       "5"
      ]
     },
     "execution_count": 2,
     "metadata": {},
     "output_type": "execute_result"
    }
   ],
   "source": [
    "val x = 5\n",
    "x.toString()"
   ]
  },
  {
   "cell_type": "code",
   "execution_count": 3,
   "id": "fe573240",
   "metadata": {},
   "outputs": [
    {
     "data": {
      "text/plain": [
       "class [Ljava.lang.Integer;"
      ]
     },
     "execution_count": 3,
     "metadata": {},
     "output_type": "execute_result"
    }
   ],
   "source": [
    "val x = arrayOf(1 , 2 , 3)\n",
    "x.javaClass"
   ]
  },
  {
   "cell_type": "code",
   "execution_count": 4,
   "id": "431dd82b",
   "metadata": {},
   "outputs": [
    {
     "name": "stdout",
     "output_type": "stream",
     "text": [
      "1\n",
      "2\n",
      "3\n"
     ]
    }
   ],
   "source": [
    "for(i in x)\n",
    "{\n",
    "    println(i)\n",
    "}"
   ]
  },
  {
   "cell_type": "code",
   "execution_count": 5,
   "id": "4032eaa4",
   "metadata": {},
   "outputs": [
    {
     "name": "stdout",
     "output_type": "stream",
     "text": [
      "1\n",
      "2\n",
      "3\n"
     ]
    }
   ],
   "source": [
    "for(i in 1..3)\n",
    "{\n",
    "    println(i)\n",
    "}"
   ]
  },
  {
   "cell_type": "code",
   "execution_count": 6,
   "id": "c45267ac",
   "metadata": {},
   "outputs": [],
   "source": [
    "abstract class Polygon \n",
    "{\n",
    "    abstract val sides : Int\n",
    "    abstract fun draw()\n",
    "}\n",
    "\n",
    "class Rectangle : Polygon()\n",
    "{\n",
    "    override val sides = 4\n",
    "    override fun draw()\n",
    "    {\n",
    "        println(sides)\n",
    "    }\n",
    "}"
   ]
  },
  {
   "cell_type": "code",
   "execution_count": 7,
   "id": "b2b395fd",
   "metadata": {},
   "outputs": [
    {
     "name": "stdout",
     "output_type": "stream",
     "text": [
      "4\n"
     ]
    }
   ],
   "source": [
    "var x = Rectangle()\n",
    "\n",
    "x.draw()"
   ]
  },
  {
   "cell_type": "code",
   "execution_count": 2,
   "id": "61c57403",
   "metadata": {},
   "outputs": [],
   "source": [
    "open class Polygon {\n",
    "    var sides : Int = 0\n",
    "    open fun draw()\n",
    "    {\n",
    "        println(sides)\n",
    "    }\n",
    "}\n",
    "\n",
    "abstract class WildShape : Polygon()\n",
    "{\n",
    "    abstract override fun draw()\n",
    "}"
   ]
  },
  {
   "cell_type": "code",
   "execution_count": 14,
   "id": "a4274503",
   "metadata": {},
   "outputs": [],
   "source": [
    "interface WithWheels \n",
    "{\n",
    "    val numWheels : Int\n",
    "    \n",
    "    fun travel(miles : Int)\n",
    "    {\n",
    "        println(\"Traveled $miles on road.\")\n",
    "    }\n",
    "}\n",
    "\n",
    "interface WithWings\n",
    "{\n",
    "    val wingSpan : Float\n",
    "    \n",
    "    fun travel(miles : Int)\n",
    "    {\n",
    "        println(\"Traveled $miles on sky.\")\n",
    "    }\n",
    "}"
   ]
  },
  {
   "cell_type": "code",
   "execution_count": 15,
   "id": "63dde67f",
   "metadata": {},
   "outputs": [],
   "source": [
    "class Propellor(\n",
    "    override val wingSpan : Float,\n",
    "    override val numWheels : Int,\n",
    "    ): WithWheels, WithWings \n",
    "{\n",
    "    override fun travel(miles :Int)\n",
    "    {\n",
    "        println(\"A propellor can:\")\n",
    "        \n",
    "        // must specify which super to call this function on\n",
    "        super<WithWheels>.travel(miles)        \n",
    "        super<WithWings>.travel(miles)\n",
    "    }\n",
    "}"
   ]
  },
  {
   "cell_type": "code",
   "execution_count": 21,
   "id": "283a7f0f",
   "metadata": {},
   "outputs": [
    {
     "data": {
      "text/plain": [
       "14"
      ]
     },
     "execution_count": 21,
     "metadata": {},
     "output_type": "execute_result"
    }
   ],
   "source": [
    "open class Dog()\n",
    "{\n",
    "    \n",
    "}\n",
    "\n",
    "class Terrier() : Dog()\n",
    "{\n",
    "    \n",
    "}\n",
    "\n",
    "// fun add(a : Int, b : Int) : Int\n",
    "// {\n",
    "//     return a + b\n",
    "// }\n",
    "\n",
    "// this is the same as above\n",
    "fun add(a : Int, b : Int) : Int = a + b\n",
    "\n",
    "add(5, 9)"
   ]
  },
  {
   "cell_type": "code",
   "execution_count": 25,
   "id": "be78707b",
   "metadata": {},
   "outputs": [],
   "source": [
    "val add : (Int, Int) -> Int = {\n",
    "    x: Int, y: Int ->\n",
    "        println(\"x = $x, y = $y\")\n",
    "        x + y\n",
    "}"
   ]
  },
  {
   "cell_type": "code",
   "execution_count": 26,
   "id": "91f26fd2",
   "metadata": {},
   "outputs": [
    {
     "name": "stdout",
     "output_type": "stream",
     "text": [
      "x = 5, y = 1\n"
     ]
    },
    {
     "data": {
      "text/plain": [
       "6"
      ]
     },
     "execution_count": 26,
     "metadata": {},
     "output_type": "execute_result"
    }
   ],
   "source": [
    "add(5, 1)"
   ]
  },
  {
   "cell_type": "code",
   "execution_count": 29,
   "id": "8b88c43a",
   "metadata": {},
   "outputs": [],
   "source": [
    "// the LType is optional, you can reduce the above code to something similar \n",
    "val add = {\n",
    "    x: Int, y: Int ->\n",
    "        println(\"x = $x, y = $y\")\n",
    "        x + y\n",
    "}"
   ]
  },
  {
   "cell_type": "code",
   "execution_count": 30,
   "id": "24e4c0ad",
   "metadata": {},
   "outputs": [
    {
     "name": "stdout",
     "output_type": "stream",
     "text": [
      "x = 5, y = 5\n"
     ]
    },
    {
     "data": {
      "text/plain": [
       "10"
      ]
     },
     "execution_count": 30,
     "metadata": {},
     "output_type": "execute_result"
    }
   ],
   "source": [
    "add(5, 5)"
   ]
  },
  {
   "cell_type": "code",
   "execution_count": 39,
   "id": "bb528c2e",
   "metadata": {},
   "outputs": [
    {
     "data": {
      "text/plain": [
       "4"
      ]
     },
     "execution_count": 39,
     "metadata": {},
     "output_type": "execute_result"
    }
   ],
   "source": [
    "// a non-nullable string\n",
    "\n",
    "var x : String = \"Nyah\"\n",
    "x.length // always safe\n",
    "\n",
    "\n",
    "var y : String? = \"Nyah\" // telling kotlin this can be null\n",
    "// y.length // compilation error\n",
    "y?.length  // safe. will only run this if it's not null \n"
   ]
  },
  {
   "cell_type": "code",
   "execution_count": 41,
   "id": "b5e4119c",
   "metadata": {},
   "outputs": [
    {
     "data": {
      "text/plain": [
       "albert einstein"
      ]
     },
     "execution_count": 41,
     "metadata": {},
     "output_type": "execute_result"
    }
   ],
   "source": [
    "val name = \"albert einstein\"\n",
    "\n",
    "name\n"
   ]
  },
  {
   "cell_type": "code",
   "execution_count": 45,
   "id": "b3894085",
   "metadata": {},
   "outputs": [],
   "source": [
    "class Car(make_ : String, miles_ : Int)\n",
    "{\n",
    "    val make : String = make_\n",
    "    val miles : Int = miles_\n",
    "}\n",
    "\n",
    "class MyString \n",
    "{\n",
    "    val s: String = \"<empty>\"\n",
    "    var m: String = \"mutable string\"\n",
    "}\n",
    "\n",
    "val x = MyString()"
   ]
  },
  {
   "cell_type": "code",
   "execution_count": 46,
   "id": "c9c86085",
   "metadata": {},
   "outputs": [
    {
     "data": {
      "text/plain": [
       "<empty>"
      ]
     },
     "execution_count": 46,
     "metadata": {},
     "output_type": "execute_result"
    }
   ],
   "source": [
    "x.s"
   ]
  },
  {
   "cell_type": "code",
   "execution_count": 47,
   "id": "ee39fa20",
   "metadata": {},
   "outputs": [],
   "source": [
    "x.m = \"hello world\""
   ]
  },
  {
   "cell_type": "code",
   "execution_count": 49,
   "id": "6229cf2d",
   "metadata": {},
   "outputs": [
    {
     "data": {
      "text/plain": [
       "hello world"
      ]
     },
     "execution_count": 49,
     "metadata": {},
     "output_type": "execute_result"
    }
   ],
   "source": [
    "x.m"
   ]
  },
  {
   "cell_type": "code",
   "execution_count": 52,
   "id": "d20bcc3d",
   "metadata": {},
   "outputs": [
    {
     "data": {
      "text/plain": [
       "make: toyota, miles: 1000"
      ]
     },
     "execution_count": 52,
     "metadata": {},
     "output_type": "execute_result"
    }
   ],
   "source": [
    "class Car(mk: String, mi: Int)\n",
    "{\n",
    "    val make = mk;\n",
    "    var miles = mi;\n",
    "    \n",
    "    override fun toString() : String\n",
    "    {\n",
    "        return \"make: $make, miles: $miles\"\n",
    "    }\n",
    "}\n",
    "\n",
    "val c = Car(\"toyota\", 1000)\n",
    "c"
   ]
  },
  {
   "cell_type": "code",
   "execution_count": 54,
   "id": "d9fc9867",
   "metadata": {},
   "outputs": [
    {
     "data": {
      "text/plain": [
       "make: toyota, miles: 1000"
      ]
     },
     "execution_count": 54,
     "metadata": {},
     "output_type": "execute_result"
    }
   ],
   "source": [
    "// car class can be written as\n",
    "\n",
    "class Car(\n",
    "        val make: String, // specify the members here in the param value\n",
    "        var miles: Int\n",
    "    )\n",
    "{\n",
    "    override fun toString() : String\n",
    "    {\n",
    "        return \"make: $make, miles: $miles\"\n",
    "    }\n",
    "}\n",
    "\n",
    "val c = Car(\"toyota\", 1000)\n",
    "c"
   ]
  },
  {
   "cell_type": "code",
   "execution_count": 62,
   "id": "0df553d8",
   "metadata": {},
   "outputs": [
    {
     "name": "stdout",
     "output_type": "stream",
     "text": [
      "miles > 10000\n",
      "using miles:int constructor\n",
      "kotlin.Unit\n"
     ]
    }
   ],
   "source": [
    "// further building classes\n",
    "class Car(\n",
    "    val make: String,\n",
    "    var miles: Int\n",
    ")\n",
    "{\n",
    "    \n",
    "    // this code runs when the constructor is called\n",
    "    // this is called BEFORE body on constructors \n",
    "    init \n",
    "    {\n",
    "        if(miles > 10000)\n",
    "        {\n",
    "            println(\"miles > 10000\")\n",
    "        }\n",
    "    }\n",
    "    \n",
    "    // specify alternate constructor \n",
    "    constructor(make : String) : this(make, 0)\n",
    "    \n",
    "    // specify anothe rconstructor\n",
    "    constructor(miles : Int) : this(\"Toyota\", miles)\n",
    "    {\n",
    "        println(\"using miles:int constructor\")\n",
    "    }\n",
    "    \n",
    "    \n",
    "    fun drive(distance: Int) : Unit // void method\n",
    "    {\n",
    "        miles = miles + distance\n",
    "    }\n",
    "    \n",
    "    override fun toString() : String\n",
    "    {\n",
    "        return \"$make with $miles miles\"\n",
    "    }\n",
    "}\n",
    "\n",
    "val c = Car(5000000)\n",
    "\n",
    "println(c.drive(50))"
   ]
  },
  {
   "cell_type": "code",
   "execution_count": null,
   "id": "f953c88a",
   "metadata": {},
   "outputs": [],
   "source": []
  }
 ],
 "metadata": {
  "kernelspec": {
   "display_name": "Kotlin",
   "language": "kotlin",
   "name": "kotlin"
  },
  "language_info": {
   "codemirror_mode": "text/x-kotlin",
   "file_extension": ".kt",
   "mimetype": "text/x-kotlin",
   "name": "kotlin",
   "nbconvert_exporter": "",
   "pygments_lexer": "kotlin",
   "version": "1.8.0-dev-707"
  }
 },
 "nbformat": 4,
 "nbformat_minor": 5
}
