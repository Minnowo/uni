{
 "cells": [
  {
   "cell_type": "code",
   "execution_count": 2,
   "id": "eae34a0a",
   "metadata": {},
   "outputs": [
    {
     "data": {
      "text/plain": [
       "5"
      ]
     },
     "execution_count": 2,
     "metadata": {},
     "output_type": "execute_result"
    }
   ],
   "source": [
    "val x = 5\n",
    "x.toString()"
   ]
  },
  {
   "cell_type": "code",
   "execution_count": 3,
   "id": "a4be6073",
   "metadata": {},
   "outputs": [
    {
     "data": {
      "text/plain": [
       "class [Ljava.lang.Integer;"
      ]
     },
     "execution_count": 3,
     "metadata": {},
     "output_type": "execute_result"
    }
   ],
   "source": [
    "val x = arrayOf(1 , 2 , 3)\n",
    "x.javaClass"
   ]
  },
  {
   "cell_type": "code",
   "execution_count": 4,
   "id": "bd05367b",
   "metadata": {},
   "outputs": [
    {
     "name": "stdout",
     "output_type": "stream",
     "text": [
      "1\n",
      "2\n",
      "3\n"
     ]
    }
   ],
   "source": [
    "for(i in x)\n",
    "{\n",
    "    println(i)\n",
    "}"
   ]
  },
  {
   "cell_type": "code",
   "execution_count": 5,
   "id": "837b0f5c",
   "metadata": {},
   "outputs": [
    {
     "name": "stdout",
     "output_type": "stream",
     "text": [
      "1\n",
      "2\n",
      "3\n"
     ]
    }
   ],
   "source": [
    "for(i in 1..3)\n",
    "{\n",
    "    println(i)\n",
    "}"
   ]
  },
  {
   "cell_type": "code",
   "execution_count": 6,
   "id": "3d7005cd",
   "metadata": {},
   "outputs": [],
   "source": [
    "abstract class Polygon \n",
    "{\n",
    "    abstract val sides : Int\n",
    "    abstract fun draw()\n",
    "}\n",
    "\n",
    "class Rectangle : Polygon()\n",
    "{\n",
    "    override val sides = 4\n",
    "    override fun draw()\n",
    "    {\n",
    "        println(sides)\n",
    "    }\n",
    "}"
   ]
  },
  {
   "cell_type": "code",
   "execution_count": 7,
   "id": "2a31b9eb",
   "metadata": {},
   "outputs": [
    {
     "name": "stdout",
     "output_type": "stream",
     "text": [
      "4\n"
     ]
    }
   ],
   "source": [
    "var x = Rectangle()\n",
    "\n",
    "x.draw()"
   ]
  },
  {
   "cell_type": "code",
   "execution_count": 10,
   "id": "246cd850",
   "metadata": {},
   "outputs": [
    {
     "name": "stderr",
     "output_type": "stream",
     "text": [
      "Line_9.jupyter-kts (9:28 - 35) This type is final, so it cannot be inherited from\n",
      "Line_9.jupyter-kts (11:14 - 22) 'draw' in 'Polygon' is final and cannot be overridden"
     ]
    }
   ],
   "source": [
    "class Polygon {\n",
    "    var sides : Int = 0\n",
    "    fun draw()\n",
    "    {\n",
    "        println(sides)\n",
    "    }\n",
    "}\n",
    "\n",
    "abstract class WildShape : Polygon()\n",
    "{\n",
    "    abstract override fun draw()\n",
    "}"
   ]
  },
  {
   "cell_type": "code",
   "execution_count": 14,
   "id": "65bdc785",
   "metadata": {},
   "outputs": [],
   "source": [
    "interface WithWheels \n",
    "{\n",
    "    val numWheels : Int\n",
    "    \n",
    "    fun travel(miles : Int)\n",
    "    {\n",
    "        println(\"Traveled $miles on road.\")\n",
    "    }\n",
    "}\n",
    "\n",
    "interface WithWings\n",
    "{\n",
    "    val wingSpan : Float\n",
    "    \n",
    "    fun travel(miles : Int)\n",
    "    {\n",
    "        println(\"Traveled $miles on sky.\")\n",
    "    }\n",
    "}"
   ]
  },
  {
   "cell_type": "code",
   "execution_count": 15,
   "id": "00696dee",
   "metadata": {},
   "outputs": [],
   "source": [
    "class Propellor(\n",
    "    override val wingSpan : Float,\n",
    "    override val numWheels : Int,\n",
    "    ): WithWheels, WithWings \n",
    "{\n",
    "    override fun travel(miles :Int)\n",
    "    {\n",
    "        println(\"A propellor can:\")\n",
    "        \n",
    "        // must specify which super to call this function on\n",
    "        super<WithWheels>.travel(miles)        \n",
    "        super<WithWings>.travel(miles)\n",
    "    }\n",
    "}"
   ]
  },
  {
   "cell_type": "code",
   "execution_count": 21,
   "id": "4298d06a",
   "metadata": {},
   "outputs": [
    {
     "data": {
      "text/plain": [
       "14"
      ]
     },
     "execution_count": 21,
     "metadata": {},
     "output_type": "execute_result"
    }
   ],
   "source": [
    "open class Dog()\n",
    "{\n",
    "    \n",
    "}\n",
    "\n",
    "class Terrier() : Dog()\n",
    "{\n",
    "    \n",
    "}\n",
    "\n",
    "// fun add(a : Int, b : Int) : Int\n",
    "// {\n",
    "//     return a + b\n",
    "// }\n",
    "\n",
    "// this is the same as above\n",
    "fun add(a : Int, b : Int) : Int = a + b\n",
    "\n",
    "add(5, 9)"
   ]
  },
  {
   "cell_type": "code",
   "execution_count": 25,
   "id": "93c79526",
   "metadata": {},
   "outputs": [],
   "source": [
    "val add : (Int, Int) -> Int = {\n",
    "    x: Int, y: Int ->\n",
    "        println(\"x = $x, y = $y\")\n",
    "        x + y\n",
    "}"
   ]
  },
  {
   "cell_type": "code",
   "execution_count": 26,
   "id": "306ca2fe",
   "metadata": {},
   "outputs": [
    {
     "name": "stdout",
     "output_type": "stream",
     "text": [
      "x = 5, y = 1\n"
     ]
    },
    {
     "data": {
      "text/plain": [
       "6"
      ]
     },
     "execution_count": 26,
     "metadata": {},
     "output_type": "execute_result"
    }
   ],
   "source": [
    "add(5, 1)"
   ]
  },
  {
   "cell_type": "code",
   "execution_count": 29,
   "id": "e515b9a2",
   "metadata": {},
   "outputs": [],
   "source": [
    "// the LType is optional, you can reduce the above code to something similar \n",
    "val add = {\n",
    "    x: Int, y: Int ->\n",
    "        println(\"x = $x, y = $y\")\n",
    "        x + y\n",
    "}"
   ]
  },
  {
   "cell_type": "code",
   "execution_count": 30,
   "id": "f816cb69",
   "metadata": {},
   "outputs": [
    {
     "name": "stdout",
     "output_type": "stream",
     "text": [
      "x = 5, y = 5\n"
     ]
    },
    {
     "data": {
      "text/plain": [
       "10"
      ]
     },
     "execution_count": 30,
     "metadata": {},
     "output_type": "execute_result"
    }
   ],
   "source": [
    "add(5, 5)"
   ]
  },
  {
   "cell_type": "code",
   "execution_count": 39,
   "id": "ef6010dd",
   "metadata": {},
   "outputs": [
    {
     "data": {
      "text/plain": [
       "4"
      ]
     },
     "execution_count": 39,
     "metadata": {},
     "output_type": "execute_result"
    }
   ],
   "source": [
    "// a non-nullable string\n",
    "\n",
    "var x : String = \"Nyah\"\n",
    "x.length // always safe\n",
    "\n",
    "\n",
    "var y : String? = \"Nyah\" // telling kotlin this can be null\n",
    "// y.length // compilation error\n",
    "y?.length  // safe. will only run this if it's not null \n"
   ]
  },
  {
   "cell_type": "code",
   "execution_count": 41,
   "id": "c268568e",
   "metadata": {},
   "outputs": [
    {
     "data": {
      "text/plain": [
       "albert einstein"
      ]
     },
     "execution_count": 41,
     "metadata": {},
     "output_type": "execute_result"
    }
   ],
   "source": [
    "val name = \"albert einstein\"\n",
    "\n",
    "name\n"
   ]
  },
  {
   "cell_type": "code",
   "execution_count": 45,
   "id": "b0d5f6e6",
   "metadata": {},
   "outputs": [],
   "source": [
    "class Car(make_ : String, miles_ : Int)\n",
    "{\n",
    "    val make : String = make_\n",
    "    val miles : Int = miles_\n",
    "}\n",
    "\n",
    "class MyString \n",
    "{\n",
    "    val s: String = \"<empty>\"\n",
    "    var m: String = \"mutable string\"\n",
    "}\n",
    "\n",
    "val x = MyString()"
   ]
  },
  {
   "cell_type": "code",
   "execution_count": 46,
   "id": "cf6f93e1",
   "metadata": {},
   "outputs": [
    {
     "data": {
      "text/plain": [
       "<empty>"
      ]
     },
     "execution_count": 46,
     "metadata": {},
     "output_type": "execute_result"
    }
   ],
   "source": [
    "x.s"
   ]
  },
  {
   "cell_type": "code",
   "execution_count": 47,
   "id": "05b63504",
   "metadata": {},
   "outputs": [],
   "source": [
    "x.m = \"hello world\""
   ]
  },
  {
   "cell_type": "code",
   "execution_count": 49,
   "id": "480123b0",
   "metadata": {},
   "outputs": [
    {
     "data": {
      "text/plain": [
       "hello world"
      ]
     },
     "execution_count": 49,
     "metadata": {},
     "output_type": "execute_result"
    }
   ],
   "source": [
    "x.m"
   ]
  },
  {
   "cell_type": "code",
   "execution_count": 52,
   "id": "96f40955",
   "metadata": {},
   "outputs": [
    {
     "data": {
      "text/plain": [
       "make: toyota, miles: 1000"
      ]
     },
     "execution_count": 52,
     "metadata": {},
     "output_type": "execute_result"
    }
   ],
   "source": [
    "class Car(mk: String, mi: Int)\n",
    "{\n",
    "    val make = mk;\n",
    "    var miles = mi;\n",
    "    \n",
    "    override fun toString() : String\n",
    "    {\n",
    "        return \"make: $make, miles: $miles\"\n",
    "    }\n",
    "}\n",
    "\n",
    "val c = Car(\"toyota\", 1000)\n",
    "c"
   ]
  },
  {
   "cell_type": "code",
   "execution_count": 54,
   "id": "49093685",
   "metadata": {},
   "outputs": [
    {
     "data": {
      "text/plain": [
       "make: toyota, miles: 1000"
      ]
     },
     "execution_count": 54,
     "metadata": {},
     "output_type": "execute_result"
    }
   ],
   "source": [
    "// car class can be written as\n",
    "\n",
    "class Car(\n",
    "        val make: String, // specify the members here in the param value\n",
    "        var miles: Int\n",
    "    )\n",
    "{\n",
    "    override fun toString() : String\n",
    "    {\n",
    "        return \"make: $make, miles: $miles\"\n",
    "    }\n",
    "}\n",
    "\n",
    "val c = Car(\"toyota\", 1000)\n",
    "c"
   ]
  },
  {
   "cell_type": "code",
   "execution_count": 62,
   "id": "364992c4",
   "metadata": {},
   "outputs": [
    {
     "name": "stdout",
     "output_type": "stream",
     "text": [
      "miles > 10000\n",
      "using miles:int constructor\n",
      "kotlin.Unit\n"
     ]
    }
   ],
   "source": [
    "// further building classes\n",
    "class Car(\n",
    "    val make: String,\n",
    "    var miles: Int\n",
    ")\n",
    "{\n",
    "    \n",
    "    // this code runs when the constructor is called\n",
    "    // this is called BEFORE body on constructors \n",
    "    init \n",
    "    {\n",
    "        if(miles > 10000)\n",
    "        {\n",
    "            println(\"miles > 10000\")\n",
    "        }\n",
    "    }\n",
    "    \n",
    "    // specify alternate constructor \n",
    "    constructor(make : String) : this(make, 0)\n",
    "    \n",
    "    // specify anothe rconstructor\n",
    "    constructor(miles : Int) : this(\"Toyota\", miles)\n",
    "    {\n",
    "        println(\"using miles:int constructor\")\n",
    "    }\n",
    "    \n",
    "    \n",
    "    fun drive(distance: Int) : Unit // void method\n",
    "    {\n",
    "        miles = miles + distance\n",
    "    }\n",
    "    \n",
    "    override fun toString() : String\n",
    "    {\n",
    "        return \"$make with $miles miles\"\n",
    "    }\n",
    "}\n",
    "\n",
    "val c = Car(5000000)\n",
    "\n",
    "println(c.drive(50))"
   ]
  },
  {
   "cell_type": "code",
   "execution_count": null,
   "id": "8f04df55",
   "metadata": {},
   "outputs": [],
   "source": []
  }
 ],
 "metadata": {
  "kernelspec": {
   "display_name": "Kotlin",
   "language": "kotlin",
   "name": "kotlin"
  },
  "language_info": {
   "codemirror_mode": "text/x-kotlin",
   "file_extension": ".kt",
   "mimetype": "text/x-kotlin",
   "name": "kotlin",
   "nbconvert_exporter": "",
   "pygments_lexer": "kotlin",
   "version": "1.8.0-dev-707"
  }
 },
 "nbformat": 4,
 "nbformat_minor": 5
}
