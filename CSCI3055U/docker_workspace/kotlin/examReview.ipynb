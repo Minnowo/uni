{
 "cells": [
  {
   "cell_type": "code",
   "execution_count": 1,
   "id": "ee60a446",
   "metadata": {},
   "outputs": [],
   "source": [
    "\n",
    "\n",
    "fun factorial(x : Int) : Int\n",
    "{\n",
    "    if(x <= 0)\n",
    "        return 1\n",
    "    \n",
    "    return (1..5).reduce { \n",
    "        s, x -> x * s\n",
    "    }\n",
    "    \n",
    "}\n"
   ]
  },
  {
   "cell_type": "code",
   "execution_count": 2,
   "id": "73f0daa1",
   "metadata": {},
   "outputs": [],
   "source": [
    "\n",
    "fun fib(x : Int) : Int {\n",
    "    if(x <= 1)\n",
    "        return x\n",
    "    \n",
    "    return fib(x - 1) + fib(x - 2)\n",
    "}"
   ]
  },
  {
   "cell_type": "code",
   "execution_count": 3,
   "id": "d8abcb22",
   "metadata": {},
   "outputs": [
    {
     "data": {
      "text/plain": [
       "1"
      ]
     },
     "execution_count": 3,
     "metadata": {},
     "output_type": "execute_result"
    }
   ],
   "source": [
    "fib(2)"
   ]
  },
  {
   "cell_type": "code",
   "execution_count": 4,
   "id": "2758909d",
   "metadata": {},
   "outputs": [],
   "source": [
    "fun fib2(x : Int) : Int {\n",
    "    \n",
    "    var first = 0\n",
    "    var second = 1\n",
    "\n",
    "    (0..x).forEach {\n",
    "\n",
    "        val s = first + second\n",
    "        \n",
    "        first = second\n",
    "        second = s\n",
    "    }\n",
    "    \n",
    "    return second\n",
    "}"
   ]
  },
  {
   "cell_type": "code",
   "execution_count": 5,
   "id": "650838c4",
   "metadata": {},
   "outputs": [
    {
     "data": {
      "text/plain": [
       "21"
      ]
     },
     "execution_count": 5,
     "metadata": {},
     "output_type": "execute_result"
    }
   ],
   "source": [
    "fib2(6)"
   ]
  },
  {
   "cell_type": "code",
   "execution_count": 6,
   "id": "93cdcad2",
   "metadata": {},
   "outputs": [],
   "source": [
    "fun power(base :Int, exp :Int) : Int {\n",
    "    return (1..exp + 1).reduce {\n",
    "        s, i -> s * base\n",
    "    }\n",
    "}"
   ]
  },
  {
   "cell_type": "code",
   "execution_count": 7,
   "id": "6d93ffa4",
   "metadata": {},
   "outputs": [
    {
     "data": {
      "text/plain": [
       "64"
      ]
     },
     "execution_count": 7,
     "metadata": {},
     "output_type": "execute_result"
    }
   ],
   "source": [
    "power(2, 6)"
   ]
  },
  {
   "cell_type": "code",
   "execution_count": 8,
   "id": "4fa0422e",
   "metadata": {},
   "outputs": [],
   "source": [
    "abstract class Shape {\n",
    "    abstract val sides :Int\n",
    "    \n",
    "    abstract var color:String\n",
    "\n",
    "    abstract fun getArea() : Double\n",
    "    \n",
    "    abstract fun getPerimeter(): Double\n",
    "    \n",
    "    public override fun toString(): String {\n",
    "        return \"<${this.javaClass}, Sides: ${this.sides}, Area: ${this.getArea()}, Perimeter: ${this.getPerimeter()}>\"\n",
    "    }\n",
    "}\n",
    "\n",
    "class Square (val width :Number, val height:Number) : Shape()\n",
    "{\n",
    "    override var color :String = \"red\"\n",
    "    \n",
    "    override val sides : Int = 4\n",
    "    \n",
    "    public override fun getArea() : Double \n",
    "    {\n",
    "        return width.toDouble() * height.toDouble()\n",
    "    }\n",
    "    \n",
    "    public override fun getPerimeter() : Double {\n",
    "        return width.toDouble() * 2.0 + height.toDouble() * 2.0\n",
    "    }\n",
    "   \n",
    "}\n",
    "\n",
    "class Circle(val radius: Number) : Shape() {\n",
    "    \n",
    "    override var color :String = \"yello\"\n",
    "\n",
    "    \n",
    "    override val sides = 0\n",
    "    \n",
    "    public override fun getPerimeter(): Double {\n",
    "        return PI * radius.toDouble() * 2\n",
    "    }\n",
    "    \n",
    "    public override fun getArea(): Double {\n",
    "        return radius.toDouble() * PI * radius.toDouble()\n",
    "    }\n",
    "   \n",
    "}\n"
   ]
  },
  {
   "cell_type": "code",
   "execution_count": 9,
   "id": "7b094b4b",
   "metadata": {},
   "outputs": [
    {
     "name": "stdout",
     "output_type": "stream",
     "text": [
      "<class Line_7$Square, Sides: 4, Area: 30.0, Perimeter: 22.0>\n",
      "<class Line_7$Circle, Sides: 0, Area: 78.53981633974483, Perimeter: 31.41592653589793>\n"
     ]
    }
   ],
   "source": [
    "val s = Square(5, 6)\n",
    "val c = Circle(5)\n",
    "\n",
    "println(\"${s}\\n${c}\")"
   ]
  },
  {
   "cell_type": "code",
   "execution_count": 10,
   "id": "db2fbbba",
   "metadata": {},
   "outputs": [],
   "source": [
    "class Node {\n",
    "    var left : Node? = null\n",
    "    var right: Node? = null\n",
    "    var value: Int  = 0\n",
    "    \n",
    "    constructor(value:Int) {\n",
    "        this.value = value\n",
    "    }\n",
    "    \n",
    "    public override fun toString():String {\n",
    "        return \"<${javaClass}, value: ${value}>\"\n",
    "    }\n",
    "}\n",
    "\n",
    "open class BinarySearchTree {\n",
    "    var root :Node? = null\n",
    "    \n",
    "    public fun insert(value: Int) {\n",
    "        \n",
    "        if(this.root == null){\n",
    "            this.root = Node(value)\n",
    "            return\n",
    "        }\n",
    "        \n",
    "        var c = this.root\n",
    "        \n",
    "        while(true)\n",
    "        {\n",
    "            if(c == null)\n",
    "                return\n",
    "            \n",
    "            when\n",
    "            {\n",
    "                (value < c.value) -> {\n",
    "                    if(c.left == null) {\n",
    "                        c.left = Node(value)\n",
    "                        return\n",
    "                    }\n",
    "                \n",
    "                    c = c.left\n",
    "                }\n",
    "                \n",
    "                (value > c.value) -> {\n",
    "                    if(c.right == null){\n",
    "                        c.right = Node(value)\n",
    "                        return\n",
    "                    }\n",
    "                \n",
    "                    c = c.right\n",
    "                }\n",
    "                \n",
    "                else -> return\n",
    "            }\n",
    "        }\n",
    "    }\n",
    "    \n",
    "    public fun inOrder(){\n",
    "        inOrder(this.root)\n",
    "    }\n",
    "    \n",
    "    public fun inOrder(n :Node?) {\n",
    "        if(n == null)\n",
    "            return\n",
    "        \n",
    "        inOrder(n.left)\n",
    "        println(n?.value)\n",
    "        inOrder(n.right)\n",
    "    }\n",
    "}"
   ]
  },
  {
   "cell_type": "code",
   "execution_count": 11,
   "id": "5b6bd94f",
   "metadata": {},
   "outputs": [],
   "source": [
    "val tree = BinarySearchTree()"
   ]
  },
  {
   "cell_type": "code",
   "execution_count": 12,
   "id": "74b46b3f",
   "metadata": {},
   "outputs": [],
   "source": [
    "tree.insert(5)\n",
    "tree.insert(6)\n",
    "tree.insert(7)\n",
    "tree.insert(1)"
   ]
  },
  {
   "cell_type": "code",
   "execution_count": 13,
   "id": "2393e161",
   "metadata": {},
   "outputs": [
    {
     "name": "stdout",
     "output_type": "stream",
     "text": [
      "1\n",
      "5\n",
      "6\n",
      "7\n"
     ]
    }
   ],
   "source": [
    "tree.inOrder()"
   ]
  },
  {
   "cell_type": "code",
   "execution_count": 14,
   "id": "1acd6b14",
   "metadata": {},
   "outputs": [],
   "source": [
    "infix fun Int.uwu(x :Int) : Int{\n",
    "    return this + x\n",
    "}"
   ]
  },
  {
   "cell_type": "code",
   "execution_count": 15,
   "id": "2363b59b",
   "metadata": {},
   "outputs": [
    {
     "data": {
      "text/plain": [
       "9"
      ]
     },
     "execution_count": 15,
     "metadata": {},
     "output_type": "execute_result"
    }
   ],
   "source": [
    "5 uwu 4"
   ]
  },
  {
   "cell_type": "code",
   "execution_count": 16,
   "id": "de19e16a",
   "metadata": {},
   "outputs": [],
   "source": [
    "infix fun Int.owo(y :Float) : String {\n",
    "    return \"${this} says: rawr XD!!\\n${y}: *Dies*\"\n",
    "}"
   ]
  },
  {
   "cell_type": "code",
   "execution_count": 17,
   "id": "d61f3be3",
   "metadata": {},
   "outputs": [
    {
     "data": {
      "text/plain": [
       "5 says: rawr XD!!\n",
       "5.3: *Dies*"
      ]
     },
     "execution_count": 17,
     "metadata": {},
     "output_type": "execute_result"
    }
   ],
   "source": [
    "5 owo 5.3f"
   ]
  },
  {
   "cell_type": "code",
   "execution_count": 20,
   "id": "a4e2c330",
   "metadata": {},
   "outputs": [
    {
     "data": {
      "text/plain": [
       "[8, 64, 216]"
      ]
     },
     "execution_count": 20,
     "metadata": {},
     "output_type": "execute_result"
    }
   ],
   "source": [
    "val a = listOf(1, 2, 3, 4, 5, 6)\n",
    "\n",
    "a.map{\n",
    "    x -> x*x*x\n",
    "}.filter{\n",
    "    x -> x % 2 == 0\n",
    "}"
   ]
  },
  {
   "cell_type": "code",
   "execution_count": 12,
   "id": "c9a692fd",
   "metadata": {},
   "outputs": [],
   "source": [
    "val y = mutableListOf<Int>()\n",
    "(1..5).forEach{ x -> y.add(x) }"
   ]
  },
  {
   "cell_type": "code",
   "execution_count": 13,
   "id": "15edc3ac",
   "metadata": {},
   "outputs": [
    {
     "data": {
      "text/plain": [
       "[1, 2, 3, 4, 5]"
      ]
     },
     "execution_count": 13,
     "metadata": {},
     "output_type": "execute_result"
    }
   ],
   "source": [
    "y"
   ]
  },
  {
   "cell_type": "code",
   "execution_count": 15,
   "id": "aab23c1c",
   "metadata": {},
   "outputs": [],
   "source": [
    "val x = (0..5).toList()"
   ]
  },
  {
   "cell_type": "code",
   "execution_count": 18,
   "id": "65ca8b3d",
   "metadata": {},
   "outputs": [
    {
     "name": "stderr",
     "output_type": "stream",
     "text": [
      "Line_17.jupyter-kts (1:3 - 6) Unresolved reference: add"
     ]
    }
   ],
   "source": [
    "x.add(5)"
   ]
  },
  {
   "cell_type": "code",
   "execution_count": 38,
   "id": "40176ca5",
   "metadata": {},
   "outputs": [],
   "source": [
    "fun selectionSort(list :MutableList<Int>) {\n",
    "    \n",
    "    var smallest = 0\n",
    "\n",
    "    (0 until list.size).forEach{\n",
    "        k -> \n",
    "            smallest = k\n",
    "\n",
    "            (k+1 until list.size).forEach {\n",
    "                i -> \n",
    "                    if(list[i] < list[smallest])\n",
    "                    {\n",
    "                        smallest = i\n",
    "                    }\n",
    "                \n",
    "            }\n",
    "\n",
    "            val tmp = list[k]\n",
    "            list[k] = list[smallest]\n",
    "            list[smallest] = tmp \n",
    "        \n",
    "    }\n",
    "}"
   ]
  },
  {
   "cell_type": "code",
   "execution_count": 39,
   "id": "76319147",
   "metadata": {},
   "outputs": [
    {
     "data": {
      "text/plain": [
       "[5, 2, 1, 9, 2, 4, 8]"
      ]
     },
     "execution_count": 39,
     "metadata": {},
     "output_type": "execute_result"
    }
   ],
   "source": [
    "val x = mutableListOf<Int>(5, 2, 1, 9, 2, 4, 8)\n",
    "x"
   ]
  },
  {
   "cell_type": "code",
   "execution_count": 41,
   "id": "f22f16ab",
   "metadata": {},
   "outputs": [
    {
     "data": {
      "text/plain": [
       "[1, 2, 2, 4, 5, 8, 9]"
      ]
     },
     "execution_count": 41,
     "metadata": {},
     "output_type": "execute_result"
    }
   ],
   "source": [
    "selectionSort(x)\n",
    "x"
   ]
  },
  {
   "cell_type": "code",
   "execution_count": 51,
   "id": "abd3c5e7",
   "metadata": {},
   "outputs": [
    {
     "data": {
      "text/plain": [
       "7"
      ]
     },
     "execution_count": 51,
     "metadata": {},
     "output_type": "execute_result"
    }
   ],
   "source": [
    "val add : (Int, Int) -> Int = {\n",
    "    x, y -> x + y\n",
    "}\n",
    "add(5, 2)\n"
   ]
  },
  {
   "cell_type": "code",
   "execution_count": 52,
   "id": "9043b2c2",
   "metadata": {},
   "outputs": [
    {
     "data": {
      "text/plain": [
       "4"
      ]
     },
     "execution_count": 52,
     "metadata": {},
     "output_type": "execute_result"
    }
   ],
   "source": [
    "val sub = {\n",
    "    x : Int , y : Int -> x - y\n",
    "}\n",
    "\n",
    "sub(5, 1)"
   ]
  }
 ],
 "metadata": {
  "kernelspec": {
   "display_name": "Kotlin",
   "language": "kotlin",
   "name": "kotlin"
  },
  "language_info": {
   "codemirror_mode": "text/x-kotlin",
   "file_extension": ".kt",
   "mimetype": "text/x-kotlin",
   "name": "kotlin",
   "nbconvert_exporter": "",
   "pygments_lexer": "kotlin",
   "version": "1.8.0-dev-707"
  }
 },
 "nbformat": 4,
 "nbformat_minor": 5
}
