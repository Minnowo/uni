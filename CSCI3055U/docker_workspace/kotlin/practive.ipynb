{
 "cells": [
  {
   "cell_type": "code",
   "execution_count": 1,
   "id": "35799844",
   "metadata": {},
   "outputs": [],
   "source": [
    "val a = mutableListOf<Int>()"
   ]
  },
  {
   "cell_type": "code",
   "execution_count": 2,
   "id": "e5d65b2b",
   "metadata": {},
   "outputs": [
    {
     "data": {
      "text/plain": [
       "true"
      ]
     },
     "execution_count": 2,
     "metadata": {},
     "output_type": "execute_result"
    }
   ],
   "source": [
    "a.add(5)"
   ]
  },
  {
   "cell_type": "code",
   "execution_count": 3,
   "id": "3f2f4b58",
   "metadata": {},
   "outputs": [],
   "source": [
    "a[0] = 2"
   ]
  },
  {
   "cell_type": "code",
   "execution_count": 4,
   "id": "0d4e23e4",
   "metadata": {},
   "outputs": [
    {
     "data": {
      "text/plain": [
       "[2]"
      ]
     },
     "execution_count": 4,
     "metadata": {},
     "output_type": "execute_result"
    }
   ],
   "source": [
    "a"
   ]
  },
  {
   "cell_type": "code",
   "execution_count": 6,
   "id": "794373a2",
   "metadata": {},
   "outputs": [
    {
     "data": {
      "text/plain": [
       "1"
      ]
     },
     "execution_count": 6,
     "metadata": {},
     "output_type": "execute_result"
    }
   ],
   "source": [
    "a.size"
   ]
  },
  {
   "cell_type": "code",
   "execution_count": 20,
   "id": "506dc63a",
   "metadata": {},
   "outputs": [],
   "source": [
    "infix fun String.repeat(num : Int) : String {\n",
    "    \n",
    "    if(num <= 0)\n",
    "        return \"\"\n",
    "    \n",
    "    var output = this\n",
    "    for(i in (0 until num - 1)) {\n",
    "        output += this\n",
    "    }\n",
    "    return output\n",
    "}"
   ]
  },
  {
   "cell_type": "code",
   "execution_count": 22,
   "id": "fe998d2e",
   "metadata": {},
   "outputs": [
    {
     "data": {
      "text/plain": []
     },
     "execution_count": 22,
     "metadata": {},
     "output_type": "execute_result"
    }
   ],
   "source": [
    "\"hello \" repeat 0"
   ]
  },
  {
   "cell_type": "code",
   "execution_count": 23,
   "id": "847cac78",
   "metadata": {},
   "outputs": [
    {
     "data": {
      "text/plain": [
       "hello hello hello hello hello "
      ]
     },
     "execution_count": 23,
     "metadata": {},
     "output_type": "execute_result"
    }
   ],
   "source": [
    "\"hello \".repeat(5)"
   ]
  },
  {
   "cell_type": "code",
   "execution_count": 24,
   "id": "aa2cc0c9",
   "metadata": {},
   "outputs": [],
   "source": [
    "abstract class Animal {\n",
    "    \n",
    "    abstract val name : String\n",
    "    abstract var age : Int\n",
    "    abstract val legCount : Int\n",
    "    \n",
    "}"
   ]
  },
  {
   "cell_type": "code",
   "execution_count": 36,
   "id": "e3a0b8be",
   "metadata": {},
   "outputs": [],
   "source": [
    "class Cat(age_ : Int) : Animal() {\n",
    "    override val name = \"Cat\"\n",
    "    override val legCount = 4\n",
    "    override var age = age_\n",
    "    \n",
    "    init {\n",
    "        if(age < 0)\n",
    "            throw Exception(\"age: ${age} is invalid, must be greator than 0\")\n",
    "    }\n",
    "}"
   ]
  },
  {
   "cell_type": "code",
   "execution_count": 37,
   "id": "d13ad94e",
   "metadata": {},
   "outputs": [
    {
     "data": {
      "text/plain": [
       "4"
      ]
     },
     "execution_count": 37,
     "metadata": {},
     "output_type": "execute_result"
    }
   ],
   "source": [
    "val a = Cat(4)\n",
    "a.age"
   ]
  },
  {
   "cell_type": "code",
   "execution_count": null,
   "id": "1ce52dc9",
   "metadata": {},
   "outputs": [],
   "source": []
  }
 ],
 "metadata": {
  "kernelspec": {
   "display_name": "Kotlin",
   "language": "kotlin",
   "name": "kotlin"
  },
  "language_info": {
   "codemirror_mode": "text/x-kotlin",
   "file_extension": ".kt",
   "mimetype": "text/x-kotlin",
   "name": "kotlin",
   "nbconvert_exporter": "",
   "pygments_lexer": "kotlin",
   "version": "1.8.0-dev-707"
  }
 },
 "nbformat": 4,
 "nbformat_minor": 5
}
