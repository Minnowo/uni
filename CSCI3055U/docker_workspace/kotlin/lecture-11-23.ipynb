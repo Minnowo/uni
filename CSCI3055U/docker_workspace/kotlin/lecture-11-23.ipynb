{
 "cells": [
  {
   "cell_type": "code",
   "execution_count": 5,
   "id": "054ee790",
   "metadata": {},
   "outputs": [],
   "source": [
    "\n",
    "var a : Int = 5\n",
    "val b : String = \"this is a string, and a constant\""
   ]
  },
  {
   "cell_type": "code",
   "execution_count": 4,
   "id": "cbf83682",
   "metadata": {},
   "outputs": [
    {
     "data": {
      "text/plain": [
       "5"
      ]
     },
     "execution_count": 4,
     "metadata": {},
     "output_type": "execute_result"
    }
   ],
   "source": [
    "a"
   ]
  },
  {
   "cell_type": "code",
   "execution_count": 6,
   "id": "497e1fa2",
   "metadata": {},
   "outputs": [
    {
     "data": {
      "text/plain": [
       "this is a string, and a constant"
      ]
     },
     "execution_count": 6,
     "metadata": {},
     "output_type": "execute_result"
    }
   ],
   "source": [
    "b"
   ]
  },
  {
   "cell_type": "code",
   "execution_count": 10,
   "id": "81b146b0",
   "metadata": {},
   "outputs": [],
   "source": [
    "class Car(\n",
    "        val make: String,\n",
    "        var miles :Int,\n",
    ")\n",
    "{\n",
    "    init {\n",
    "        if(miles > 1E6){\n",
    "            println(\"$make is over 1M miles.\")\n",
    "        }\n",
    "        \n",
    "    }\n",
    "        constructor(make: String) : this(make, 0)\n",
    "    \n",
    "    fun drive(distance :Int) : Unit \n",
    "    {\n",
    "        miles = miles + distance\n",
    "    }\n",
    "    \n",
    "    override fun toString(): String \n",
    "    {\n",
    "        return \"$make with $miles miles\"\n",
    "    }\n",
    "}"
   ]
  },
  {
   "cell_type": "code",
   "execution_count": 11,
   "id": "99b9171d",
   "metadata": {},
   "outputs": [],
   "source": [
    "val car = Car(\"BME\", 5000)"
   ]
  },
  {
   "cell_type": "code",
   "execution_count": 12,
   "id": "21667427",
   "metadata": {},
   "outputs": [
    {
     "data": {
      "text/plain": [
       "BME with 5000 miles"
      ]
     },
     "execution_count": 12,
     "metadata": {},
     "output_type": "execute_result"
    }
   ],
   "source": [
    "car.toString()"
   ]
  },
  {
   "cell_type": "code",
   "execution_count": null,
   "id": "5018c75b",
   "metadata": {},
   "outputs": [],
   "source": []
  }
 ],
 "metadata": {
  "kernelspec": {
   "display_name": "Kotlin",
   "language": "kotlin",
   "name": "kotlin"
  },
  "language_info": {
   "codemirror_mode": "text/x-kotlin",
   "file_extension": ".kt",
   "mimetype": "text/x-kotlin",
   "name": "kotlin",
   "nbconvert_exporter": "",
   "pygments_lexer": "kotlin",
   "version": "1.8.0-dev-707"
  }
 },
 "nbformat": 4,
 "nbformat_minor": 5
}
