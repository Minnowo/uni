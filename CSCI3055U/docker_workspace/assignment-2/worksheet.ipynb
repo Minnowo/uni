{
 "cells": [
  {
   "cell_type": "markdown",
   "id": "f5943e24",
   "metadata": {
    "editable": false
   },
   "source": [
    "# Assignment 2\n",
    "\n",
    "In this assignment, you will be guided to use Clojure to perform the following:\n",
    "\n",
    "1. Read file a CSV file from disk.\n",
    "2. Perform parsing of individual cell values in a line in the file.\n",
    "3. Perform parsing of individual lines in the file.\n",
    "4. Construct records as hashmap from each data row in the file.\n",
    "5. Perform a basic data analysis.\n",
    "\n",
    "## About the dataset\n",
    "\n",
    "The dataset is obtained from Kaggle: https://www.kaggle.com/datasets/pradeepmanje/bankchurners-set2\n",
    "\n",
    "It consists of a small collection of bank customer information."
   ]
  },
  {
   "cell_type": "code",
   "execution_count": 1,
   "id": "ce7e205e",
   "metadata": {
    "editable": false
   },
   "outputs": [
    {
     "data": {
      "text/plain": [
       "#'user/CSV-FILE"
      ]
     },
     "execution_count": 1,
     "metadata": {},
     "output_type": "execute_result"
    }
   ],
   "source": [
    "\"🔒\"\n",
    "; We will be using several builtin libraries\n",
    "\n",
    "(require '[clojure.java.io :as io])\n",
    "(require '[clojure.string :as str])\n",
    "(require '[clojure.pprint :refer [pprint]])\n",
    "(require '[clojure.edn :as edn])\n",
    "(load-file \"my.clj\")\n",
    "\n",
    "(def CSV-FILE \"my_BankerChurners.csv\")"
   ]
  },
  {
   "cell_type": "markdown",
   "id": "c76da995",
   "metadata": {
    "editable": false
   },
   "source": [
    "# Load lines\n",
    "\n",
    "Define a symbols `lines` that will be assigned to the sequence of lines from the file `CSV-FILE`.\n",
    "\n",
    "You should use `io/reader` and `line-seq` to read the lines.\n",
    "\n",
    "See:\n",
    "\n",
    "- https://clojuredocs.org/clojure.java.io/reader\n",
    "- https://clojuredocs.org/clojure.core/line-seq\n"
   ]
  },
  {
   "cell_type": "code",
   "execution_count": 2,
   "id": "f391a639",
   "metadata": {},
   "outputs": [
    {
     "data": {
      "text/plain": [
       "#'user/lines"
      ]
     },
     "execution_count": 2,
     "metadata": {},
     "output_type": "execute_result"
    }
   ],
   "source": [
    "\"✍️\"\n",
    "; @workUnit\n",
    "\n",
    "(def lines \n",
    "    (with-open [rdr (clojure.java.io/reader CSV-FILE)]\n",
    "        (reduce conj [] (line-seq rdr))))\n",
    "\n"
   ]
  },
  {
   "cell_type": "code",
   "execution_count": 3,
   "id": "98120df7",
   "metadata": {
    "editable": false
   },
   "outputs": [
    {
     "name": "stdout",
     "output_type": "stream",
     "text": [
      "Total lines: 10128\n",
      "(\"716506083,\\\"Attrited Customer\\\",44,\\\"F\\\",1,\\\"High School\\\",\\\"Married\\\",\\\"Less than $40K\\\",\\\"Blue\\\",36,5,3,4,5409,0,5409,0.819,10291,60,0.818,0,0.99788,0.00211827\"\n",
      " \"717406983,\\\"Attrited Customer\\\",30,\\\"M\\\",2,\\\"Graduate\\\",\\\"Unknown\\\",\\\"$40K - $60K\\\",\\\"Blue\\\",36,4,3,3,5281,0,5281,0.535,8395,62,0.722,0,0.99671,0.00329379\"\n",
      " \"714337233,\\\"Attrited Customer\\\",43,\\\"F\\\",2,\\\"Graduate\\\",\\\"Married\\\",\\\"Less than $40K\\\",\\\"Silver\\\",25,6,2,4,10388,1961,8427,0.703,10294,61,0.649,0.189,0.99662,0.00337654\")\n"
     ]
    },
    {
     "data": {
      "text/plain": [
       "nil"
      ]
     },
     "execution_count": 3,
     "metadata": {},
     "output_type": "execute_result"
    }
   ],
   "source": [
    "\"🔒\"\n",
    "; @check\n",
    "; @title: first three lines\n",
    "\n",
    "(println \"Total lines:\" (count lines))\n",
    "(show (take-last 3 lines))"
   ]
  },
  {
   "cell_type": "markdown",
   "id": "64c8289e",
   "metadata": {
    "editable": false
   },
   "source": [
    "# Parsing Value\n",
    "\n",
    "Each value in the CSV file is either numerical (e.g. `0.819`, `9.4E-5`) or a quoted string (e.g. `\"Married\"`).\n",
    "Write a function that will convert the value string into Clojure data.\n",
    "\n",
    "It's actually really easy because `edn/read-string` can take care of the conversion.\n",
    "\n",
    "See: https://clojuredocs.org/clojure.edn/read-string"
   ]
  },
  {
   "cell_type": "code",
   "execution_count": 4,
   "id": "7a0b3449",
   "metadata": {},
   "outputs": [
    {
     "data": {
      "text/plain": [
       "#'user/parse-value"
      ]
     },
     "execution_count": 4,
     "metadata": {},
     "output_type": "execute_result"
    }
   ],
   "source": [
    "\"✍️\"\n",
    "; @workUnit\n",
    "\n",
    "(defn parse-value [x]\n",
    "    (edn/read-string x))"
   ]
  },
  {
   "cell_type": "code",
   "execution_count": 5,
   "id": "b778d714",
   "metadata": {
    "editable": false
   },
   "outputs": [
    {
     "data": {
      "text/plain": [
       "{\"100\" 100, \"3.1415\" 3.1415, \"10e3\" 10000.0, \"hello\" \"hello\"}"
      ]
     },
     "execution_count": 5,
     "metadata": {},
     "output_type": "execute_result"
    }
   ],
   "source": [
    "\"🔒\"\n",
    "; @check\n",
    "; @title: parse-value int\n",
    "\n",
    "{\"100\" (parse-value \"100\"),\n",
    " \"3.1415\" (parse-value \"3.1415\")\n",
    " \"10e3\" (parse-value \"10e3\")\n",
    " \"hello\" (parse-value \"\\\"hello\\\"\")}"
   ]
  },
  {
   "cell_type": "markdown",
   "id": "23cd30ac",
   "metadata": {
    "editable": false
   },
   "source": [
    "# Parse line\n",
    "\n",
    "Each line of the CSV file consists of comma-separated value strings.  Implement a function `(parse-line line)` to\n",
    "map each line string into a **vector** of parsed values.\n",
    "\n",
    "Hint:\n",
    "\n",
    "- `mapv` always returns a vector: https://clojuredocs.org/clojure.core/mapv\n",
    "\n",
    "- `str/split` splits a string using a regular expression as a separator.\n",
    "  https://clojuredocs.org/clojure.string/split\n",
    "  \n",
    "- Regular expressions in Clojure is part of the language: https://cljs.github.io/api/syntax/regex"
   ]
  },
  {
   "cell_type": "code",
   "execution_count": 6,
   "id": "cedd7e82",
   "metadata": {},
   "outputs": [
    {
     "data": {
      "text/plain": [
       "#'user/parse-line"
      ]
     },
     "execution_count": 6,
     "metadata": {},
     "output_type": "execute_result"
    }
   ],
   "source": [
    "\"✍️\"\n",
    "; @workUnit\n",
    "\n",
    "(defn parse-line [line]\n",
    "    (mapv (fn [i] (edn/read-string i)) (str/split line #\",\")))"
   ]
  },
  {
   "cell_type": "code",
   "execution_count": 7,
   "id": "6f3b3398",
   "metadata": {
    "editable": false
   },
   "outputs": [
    {
     "name": "stdout",
     "output_type": "stream",
     "text": [
      "[\"CLIENTNUM\"\n",
      " \"Attrition_Flag\"\n",
      " \"Customer_Age\"\n",
      " \"Gender\"\n",
      " \"Dependent_count\"\n",
      " \"Education_Level\"\n",
      " \"Marital_Status\"\n",
      " \"Income_Category\"\n",
      " \"Card_Category\"\n",
      " \"Months_on_book\"\n",
      " \"Total_Relationship_Count\"\n",
      " \"Months_Inactive_12_mon\"\n",
      " \"Contacts_Count_12_mon\"\n",
      " \"Credit_Limit\"\n",
      " \"Total_Revolving_Bal\"\n",
      " \"Avg_Open_To_Buy\"\n",
      " \"Total_Amt_Chng_Q4_Q1\"\n",
      " \"Total_Trans_Amt\"\n",
      " \"Total_Trans_Ct\"\n",
      " \"Total_Ct_Chng_Q4_Q1\"\n",
      " \"Avg_Utilization_Ratio\"\n",
      " \"Naive_Bayes_Classifier_Attrition_Flag_Card_Category_Contacts_Count_12_mon_Dependent_count_Education_Level_Months_Inactive_12_mon_1\"\n",
      " \"Naive_Bayes_Classifier_Attrition_Flag_Card_Category_Contacts_Count_12_mon_Dependent_count_Education_Level_Months_Inactive_12_mon_2\"]\n"
     ]
    },
    {
     "data": {
      "text/plain": [
       "nil"
      ]
     },
     "execution_count": 7,
     "metadata": {},
     "output_type": "execute_result"
    }
   ],
   "source": [
    "\"🔒\"\n",
    "; @check\n",
    "; @title: parse first line\n",
    "\n",
    "(->> lines\n",
    "    (first)\n",
    "    (parse-line)\n",
    "    (show))"
   ]
  },
  {
   "cell_type": "code",
   "execution_count": 8,
   "id": "8a73dcd6",
   "metadata": {
    "editable": false
   },
   "outputs": [
    {
     "name": "stdout",
     "output_type": "stream",
     "text": [
      "[714337233\n",
      " \"Attrited Customer\"\n",
      " 43\n",
      " \"F\"\n",
      " 2\n",
      " \"Graduate\"\n",
      " \"Married\"\n",
      " \"Less than $40K\"\n",
      " \"Silver\"\n",
      " 25\n",
      " 6\n",
      " 2\n",
      " 4\n",
      " 10388\n",
      " 1961\n",
      " 8427\n",
      " 0.703\n",
      " 10294\n",
      " 61\n",
      " 0.649\n",
      " 0.189\n",
      " 0.99662\n",
      " 0.00337654]\n"
     ]
    },
    {
     "data": {
      "text/plain": [
       "nil"
      ]
     },
     "execution_count": 8,
     "metadata": {},
     "output_type": "execute_result"
    }
   ],
   "source": [
    "\"🔒\"\n",
    "; @check\n",
    "; @title: parse last line\n",
    "\n",
    "(->> lines\n",
    "    (last)\n",
    "    (parse-line)\n",
    "    (show))"
   ]
  },
  {
   "cell_type": "markdown",
   "id": "f53952e3",
   "metadata": {
    "editable": false
   },
   "source": [
    "# Make records\n",
    "\n",
    "Each row should be a hashmap from attributes to their values.  Write a function to convert\n",
    "each row from a vector to a hashmap.\n",
    "\n",
    "You are given the attribute names in the vector `columns`.\n",
    "\n",
    "Hint: consider using the `zipmap` function https://clojuredocs.org/clojure.core/zipmap"
   ]
  },
  {
   "cell_type": "code",
   "execution_count": 9,
   "id": "8ade49a9",
   "metadata": {
    "editable": false
   },
   "outputs": [
    {
     "data": {
      "text/plain": [
       "#'user/columns"
      ]
     },
     "execution_count": 9,
     "metadata": {},
     "output_type": "execute_result"
    }
   ],
   "source": [
    "\"🔒\"\n",
    "(def columns [:id :attrition :age :gender :dependents :education :marital :income :card :months \n",
    "              :rel-count :inactive :contacts :limit :balance :open :change :amount :count :change2 :ratio])"
   ]
  },
  {
   "cell_type": "code",
   "execution_count": 10,
   "id": "704a0530",
   "metadata": {},
   "outputs": [
    {
     "data": {
      "text/plain": [
       "#'user/make-record"
      ]
     },
     "execution_count": 10,
     "metadata": {},
     "output_type": "execute_result"
    }
   ],
   "source": [
    "\"✍️\"\n",
    "; @workUnit\n",
    "\n",
    "(defn make-record [row]\n",
    "    (zipmap columns row))"
   ]
  },
  {
   "cell_type": "code",
   "execution_count": 11,
   "id": "756cb9fe",
   "metadata": {
    "editable": false
   },
   "outputs": [
    {
     "name": "stdout",
     "output_type": "stream",
     "text": [
      "{:age 43,\n",
      " :amount 10294,\n",
      " :attrition \"Attrited Customer\",\n",
      " :balance 1961,\n",
      " :card \"Silver\",\n",
      " :change 0.703,\n",
      " :change2 0.649,\n",
      " :contacts 4,\n",
      " :count 61,\n",
      " :dependents 2,\n",
      " :education \"Graduate\",\n",
      " :gender \"F\",\n",
      " :id 714337233,\n",
      " :inactive 2,\n",
      " :income \"Less than $40K\",\n",
      " :limit 10388,\n",
      " :marital \"Married\",\n",
      " :months 25,\n",
      " :open 8427,\n",
      " :ratio 0.189,\n",
      " :rel-count 6}\n"
     ]
    },
    {
     "data": {
      "text/plain": [
       "nil"
      ]
     },
     "execution_count": 11,
     "metadata": {},
     "output_type": "execute_result"
    }
   ],
   "source": [
    "\"🔒\"\n",
    "; @check\n",
    "; @title: make-record of last line\n",
    "\n",
    "(show (make-record (-> lines last parse-line)))"
   ]
  },
  {
   "cell_type": "markdown",
   "id": "529ea8a7",
   "metadata": {
    "editable": false
   },
   "source": [
    "# Data analysis\n",
    "\n",
    "We will perform some data analysis using Clojure.  The data set consists of `:gender` and credit card limits `:limit`.\n",
    "The data analysis should produce the following result:\n",
    "\n",
    "```\n",
    "{\"F\": {:count ___\n",
    "       :limit ___\n",
    "       :mean ___}\n",
    " \"M\": {:count ___\n",
    "       :limit ___\n",
    "       :mean ___}}\n",
    "```\n",
    "\n",
    "The data shows the count, total credit card limit, and mean credit card limit for both female and male customers.\n",
    "\n",
    "You are to perform the analysis from the `lines` in the CSV file with the help of the parsing functions.\n",
    "The result must be assigned to a symbol called `result`.\n",
    "\n",
    "<font color=\"red\">Note: all numerical values must be rounded to the nearest integer.</font>"
   ]
  },
  {
   "cell_type": "code",
   "execution_count": 14,
   "id": "0efb4569",
   "metadata": {},
   "outputs": [
    {
     "data": {
      "text/plain": [
       "#'user/result"
      ]
     },
     "execution_count": 14,
     "metadata": {},
     "output_type": "execute_result"
    }
   ],
   "source": [
    "\"✍️\"\n",
    "; @workUnit\n",
    "\n",
    ";; used for debugging\n",
    ";; (def fewlines lines);[(lines 1) (lines 2) (lines 3) (lines 4) (lines 5)])\n",
    "\n",
    ";; since i commented out the fewlines thing above had to replace the use of it later on with just 'lines'\n",
    "\n",
    ";; kinda upsetting there is no builtin round function, but luckily int has us covered\n",
    "(defn round [x]\n",
    "    (let [y (- x (int x))]\n",
    "        (cond\n",
    "            ;; debug\n",
    "            ;; (println y) x\n",
    "            (= 0 y) x\n",
    "            (>= y 0.5) (inc (int x))\n",
    "            :else (int x)\n",
    "\n",
    "        )\n",
    "    )\n",
    ")\n",
    "\n",
    ";; parses the line into something useful\n",
    "(defn upd [line]\n",
    "    (let [parsed (make-record (parse-line line))\n",
    "          gender (:gender parsed)\n",
    "          limit  (:limit parsed)\n",
    "          ]\n",
    "        \n",
    "         {\n",
    "          :key gender\n",
    "          :count 1\n",
    "          :limit limit\n",
    "          :mean limit\n",
    "         }\n",
    "        )\n",
    ")\n",
    "\n",
    "(def result \n",
    "    \n",
    "    ;; tail recursion is soooo much easier than map reduce\n",
    "    ;; variables being changeable is kinda op \n",
    "    (loop [f {:count 0 :limit 0 :mean 0}\n",
    "           m {:count 0 :limit 0 :mean 0}\n",
    "           c (count lines)\n",
    "           i 1]\n",
    "        \n",
    "        (cond\n",
    "            \n",
    "            ;; if we get to the end of the list finish off the hashmap\n",
    "            (= i c) {  \n",
    "                     \"F\" {\n",
    "                          :count (:count f)\n",
    "                          :limit (round (:limit f))\n",
    "                          :mean  (round (/ (:limit f) (:count f)))\n",
    "                          }\n",
    "\n",
    "                     \"M\" {\n",
    "                          :count (:count m)\n",
    "                          :limit (round (:limit m))\n",
    "                          :mean  (round (/ (:limit m) (:count m)))\n",
    "                          }\n",
    "                     }\n",
    "            \n",
    "            ;; this is pain\n",
    "            :else   (let [line (upd (lines i))\n",
    "                          gender (line :key)\n",
    "                          count_ (line :count)\n",
    "                          limit  (line :limit)\n",
    "                          mean   (line :mean)\n",
    "                          \n",
    "                          ;; debug line\n",
    "                          ;; uuu (println line)\n",
    "                          ]\n",
    "                        \n",
    "                        ;; gender check, into ugly stuff\n",
    "                        (if (= gender \"F\")\n",
    "                            \n",
    "                            ;; this is so clean, and then the else is uhhh\n",
    "                            (-> f\n",
    "                                (update :count + 1)\n",
    "                                (update :limit + limit)\n",
    "                                (update :mean + mean)\n",
    "                                (recur m c (inc i))\n",
    "                            )\n",
    "                            \n",
    "                            ;; i have no idea how to pipe into the second position\n",
    "                            ;; so i just expanded it because everything i tried broke a lot\n",
    "                            (recur f (update (update (update m :count + 1) :limit + limit) :mean + mean) c (inc i))\n",
    "                        )\n",
    "                    )\n",
    "        )\n",
    "        \n",
    "    )\n",
    ")"
   ]
  },
  {
   "cell_type": "code",
   "execution_count": 15,
   "id": "0f90c5de",
   "metadata": {
    "editable": false
   },
   "outputs": [
    {
     "name": "stdout",
     "output_type": "stream",
     "text": [
      "{\"F\" {:count 5358, :limit 26917811, :mean 5024},\n",
      " \"M\" {:count 4769, :limit 60497984, :mean 12686}}\n"
     ]
    },
    {
     "data": {
      "text/plain": [
       "nil"
      ]
     },
     "execution_count": 15,
     "metadata": {},
     "output_type": "execute_result"
    }
   ],
   "source": [
    "\"🔒\"\n",
    "; @check\n",
    "; @grade: 5\n",
    "; @title: show data analysis result\n",
    "\n",
    "(show result)"
   ]
  },
  {
   "cell_type": "code",
   "execution_count": null,
   "id": "0f137478",
   "metadata": {},
   "outputs": [],
   "source": []
  }
 ],
 "metadata": {
  "kernelspec": {
   "display_name": "Clojure (clojupyter-v0.2.2)",
   "language": "clojure",
   "name": "clojupyter"
  },
  "language_info": {
   "file_extension": ".clj",
   "mimetype": "text/x-clojure",
   "name": "clojure",
   "version": "1.11.1"
  }
 },
 "nbformat": 4,
 "nbformat_minor": 5
}
