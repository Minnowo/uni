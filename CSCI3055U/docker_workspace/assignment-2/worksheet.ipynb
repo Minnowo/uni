{
 "cells": [
  {
   "cell_type": "markdown",
   "id": "d5b45a43",
   "metadata": {
    "editable": false
   },
   "source": [
    "# Assignment 2\n",
    "\n",
    "In this assignment, you will be guided to use Clojure to perform the following:\n",
    "\n",
    "1. Read file a CSV file from disk.\n",
    "2. Perform parsing of individual cell values in a line in the file.\n",
    "3. Perform parsing of individual lines in the file.\n",
    "4. Construct records as hashmap from each data row in the file.\n",
    "5. Perform a basic data analysis.\n",
    "\n",
    "## About the dataset\n",
    "\n",
    "The dataset is obtained from Kaggle: https://www.kaggle.com/datasets/pradeepmanje/bankchurners-set2\n",
    "\n",
    "It consists of a small collection of bank customer information."
   ]
  },
  {
   "cell_type": "code",
   "execution_count": null,
   "id": "7b11606b",
   "metadata": {
    "editable": false
   },
   "outputs": [],
   "source": [
    "\"🔒\"\n",
    "; We will be using several builtin libraries\n",
    "\n",
    "(require '[clojure.java.io :as io])\n",
    "(require '[clojure.string :as str])\n",
    "(require '[clojure.pprint :refer [pprint]])\n",
    "(require '[clojure.edn :as edn])\n",
    "(load-file \"my.clj\")\n",
    "\n",
    "(def CSV-FILE \"my_BankerChurners.csv\")"
   ]
  },
  {
   "cell_type": "markdown",
   "id": "bf9d9ebc",
   "metadata": {
    "editable": false
   },
   "source": [
    "# Load lines\n",
    "\n",
    "Define a symbols `lines` that will be assigned to the sequence of lines from the file `CSV-FILE`.\n",
    "\n",
    "You should use `io/reader` and `line-seq` to read the lines.\n",
    "\n",
    "See:\n",
    "\n",
    "- https://clojuredocs.org/clojure.java.io/reader\n",
    "- https://clojuredocs.org/clojure.core/line-seq\n"
   ]
  },
  {
   "cell_type": "code",
   "execution_count": null,
   "id": "3c69de42",
   "metadata": {},
   "outputs": [],
   "source": [
    "\"✍️\"\n",
    "; @workUnit\n",
    "\n",
    "(def lines ...)"
   ]
  },
  {
   "cell_type": "code",
   "execution_count": null,
   "id": "ea615be6",
   "metadata": {
    "editable": false
   },
   "outputs": [],
   "source": [
    "\"🔒\"\n",
    "; @check\n",
    "; @title: first three lines\n",
    "\n",
    "(println \"Total lines:\" (count lines))\n",
    "(show (take-last 3 lines))"
   ]
  },
  {
   "cell_type": "markdown",
   "id": "dd5ff152",
   "metadata": {
    "editable": false
   },
   "source": [
    "# Parsing Value\n",
    "\n",
    "Each value in the CSV file is either numerical (e.g. `0.819`, `9.4E-5`) or a quoted string (e.g. `\"Married\"`).\n",
    "Write a function that will convert the value string into Clojure data.\n",
    "\n",
    "It's actually really easy because `edn/read-string` can take care of the conversion.\n",
    "\n",
    "See: https://clojuredocs.org/clojure.edn/read-string"
   ]
  },
  {
   "cell_type": "code",
   "execution_count": null,
   "id": "7921b8b7",
   "metadata": {},
   "outputs": [],
   "source": [
    "\"✍️\"\n",
    "; @workUnit\n",
    "\n",
    "(defn parse-value [x]\n",
    "    ...)"
   ]
  },
  {
   "cell_type": "code",
   "execution_count": null,
   "id": "167f6cf0",
   "metadata": {
    "editable": false
   },
   "outputs": [],
   "source": [
    "\"🔒\"\n",
    "; @check\n",
    "; @title: parse-value int\n",
    "\n",
    "{\"100\" (parse-value \"100\"),\n",
    " \"3.1415\" (parse-value \"3.1415\")\n",
    " \"10e3\" (parse-value \"10e3\")\n",
    " \"hello\" (parse-value \"\\\"hello\\\"\")}"
   ]
  },
  {
   "cell_type": "markdown",
   "id": "5b7b10ae",
   "metadata": {
    "editable": false
   },
   "source": [
    "# Parse line\n",
    "\n",
    "Each line of the CSV file consists of comma-separated value strings.  Implement a function `(parse-line line)` to\n",
    "map each line string into a **vector** of parsed values.\n",
    "\n",
    "Hint:\n",
    "\n",
    "- `mapv` always returns a vector: https://clojuredocs.org/clojure.core/mapv\n",
    "\n",
    "- `str/split` splits a string using a regular expression as a separator.\n",
    "  https://clojuredocs.org/clojure.string/split\n",
    "  \n",
    "- Regular expressions in Clojure is part of the language: https://cljs.github.io/api/syntax/regex"
   ]
  },
  {
   "cell_type": "code",
   "execution_count": null,
   "id": "e730c8ed",
   "metadata": {},
   "outputs": [],
   "source": [
    "\"✍️\"\n",
    "; @workUnit\n",
    "\n",
    "(defn parse-line [line]\n",
    "    ...)"
   ]
  },
  {
   "cell_type": "code",
   "execution_count": null,
   "id": "147815e5",
   "metadata": {
    "editable": false
   },
   "outputs": [],
   "source": [
    "\"🔒\"\n",
    "; @check\n",
    "; @title: parse first line\n",
    "\n",
    "(->> lines\n",
    "    (first)\n",
    "    (parse-line)\n",
    "    (show))"
   ]
  },
  {
   "cell_type": "code",
   "execution_count": null,
   "id": "228aab98",
   "metadata": {
    "editable": false
   },
   "outputs": [],
   "source": [
    "\"🔒\"\n",
    "; @check\n",
    "; @title: parse last line\n",
    "\n",
    "(->> lines\n",
    "    (last)\n",
    "    (parse-line)\n",
    "    (show))"
   ]
  },
  {
   "cell_type": "markdown",
   "id": "548e19d3",
   "metadata": {
    "editable": false
   },
   "source": [
    "# Make records\n",
    "\n",
    "Each row should be a hashmap from attributes to their values.  Write a function to convert\n",
    "each row from a vector to a hashmap.\n",
    "\n",
    "You are given the attribute names in the vector `columns`.\n",
    "\n",
    "Hint: consider using the `zipmap` function https://clojuredocs.org/clojure.core/zipmap"
   ]
  },
  {
   "cell_type": "code",
   "execution_count": null,
   "id": "cd6bba8f",
   "metadata": {
    "editable": false
   },
   "outputs": [],
   "source": [
    "\"🔒\"\n",
    "(def columns [:id :attrition :age :gender :dependents :education :marital :income :card :months \n",
    "              :rel-count :inactive :contacts :limit :balance :open :change :amount :count :change2 :ratio])"
   ]
  },
  {
   "cell_type": "code",
   "execution_count": null,
   "id": "c0adc622",
   "metadata": {},
   "outputs": [],
   "source": [
    "\"✍️\"\n",
    "; @workUnit\n",
    "\n",
    "(defn make-record [row]\n",
    "    ...)"
   ]
  },
  {
   "cell_type": "code",
   "execution_count": null,
   "id": "ba48aa3f",
   "metadata": {
    "editable": false
   },
   "outputs": [],
   "source": [
    "\"🔒\"\n",
    "; @check\n",
    "; @title: make-record of last line\n",
    "\n",
    "(show (make-record (-> lines last parse-line)))"
   ]
  },
  {
   "cell_type": "markdown",
   "id": "b529609d",
   "metadata": {
    "editable": false
   },
   "source": [
    "# Data analysis\n",
    "\n",
    "We will perform some data analysis using Clojure.  The data set consists of `:gender` and credit card limits `:limit`.\n",
    "The data analysis should produce the following result:\n",
    "\n",
    "```\n",
    "{\"F\": {:count ___\n",
    "       :limit ___\n",
    "       :mean ___}\n",
    " \"M\": {:count ___\n",
    "       :limit ___\n",
    "       :mean ___}}\n",
    "```\n",
    "\n",
    "The data shows the count, total credit card limit, and mean credit card limit for both female and male customers.\n",
    "\n",
    "You are to perform the analysis from the `lines` in the CSV file with the help of the parsing functions.\n",
    "The result must be assigned to a symbol called `result`.\n",
    "\n",
    "<font color=\"red\">Note: all numerical values must be rounded to the nearest integer.</font>"
   ]
  },
  {
   "cell_type": "code",
   "execution_count": null,
   "id": "445e7d60",
   "metadata": {},
   "outputs": [],
   "source": [
    "\"✍️\"\n",
    "; @workUnit\n",
    "\n",
    "(def result ...)"
   ]
  },
  {
   "cell_type": "code",
   "execution_count": null,
   "id": "85212af7",
   "metadata": {
    "editable": false
   },
   "outputs": [],
   "source": [
    "\"🔒\"\n",
    "; @check\n",
    "; @grade: 5\n",
    "; @title: show data analysis result\n",
    "\n",
    "(show result)"
   ]
  }
 ],
 "metadata": {
  "kernelspec": {
   "display_name": "Clojure (clojupyter-v0.2.2)",
   "language": "clojure",
   "name": "clojupyter"
  },
  "language_info": {
   "file_extension": ".clj",
   "mimetype": "text/x-clojure",
   "name": "clojure",
   "version": "1.11.1"
  }
 },
 "nbformat": 4,
 "nbformat_minor": 5
}
