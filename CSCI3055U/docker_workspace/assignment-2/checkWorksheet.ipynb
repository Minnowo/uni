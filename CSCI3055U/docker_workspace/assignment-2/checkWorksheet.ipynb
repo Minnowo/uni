{
 "cells": [
  {
   "cell_type": "code",
   "execution_count": 8,
   "id": "4564d08a",
   "metadata": {},
   "outputs": [
    {
     "data": {
      "text/html": [
       "<pre style=\"white-space:pre;overflow-x:auto;line-height:normal;font-family:Menlo,'DejaVu Sans Mono',consolas,'Courier New',monospace\">╭─────────────────────────────────────────────────────────────────────────────────────────────────────────────────╮\n",
       "│ <span style=\"font-weight: bold; text-decoration: underline\">1. first three lines</span>                                                                                            │\n",
       "│                                                                                                                 │\n",
       "│ <span style=\"color: #008000; text-decoration-color: #008000; font-weight: bold\">Success.</span>                                                                                                        │\n",
       "│ <span style=\"color: #008000; text-decoration-color: #008000\">Well done. 👍</span>                                                                                                   │\n",
       "│ <span style=\"font-weight: bold\">                                                                                                      1.0 / 1.0</span> │\n",
       "╰─────────────────────────────────────────────────────────────────────────────────────────────────────────────────╯\n",
       "</pre>\n"
      ],
      "text/plain": [
       "╭─────────────────────────────────────────────────────────────────────────────────────────────────────────────────╮\n",
       "│ \u001b[1;4m1. first three lines\u001b[0m                                                                                            │\n",
       "│                                                                                                                 │\n",
       "│ \u001b[1;32mSuccess.\u001b[0m                                                                                                        │\n",
       "│ \u001b[32mWell done. 👍\u001b[0m                                                                                                   │\n",
       "│ \u001b[1m                                                                                                      1.0 / 1.0\u001b[0m │\n",
       "╰─────────────────────────────────────────────────────────────────────────────────────────────────────────────────╯\n"
      ]
     },
     "metadata": {},
     "output_type": "display_data"
    },
    {
     "data": {
      "text/html": [
       "<pre style=\"white-space:pre;overflow-x:auto;line-height:normal;font-family:Menlo,'DejaVu Sans Mono',consolas,'Courier New',monospace\">\n",
       "</pre>\n"
      ],
      "text/plain": [
       "\n"
      ]
     },
     "metadata": {},
     "output_type": "display_data"
    },
    {
     "data": {
      "text/html": [
       "<pre style=\"white-space:pre;overflow-x:auto;line-height:normal;font-family:Menlo,'DejaVu Sans Mono',consolas,'Courier New',monospace\">╭─────────────────────────────────────────────────────────────────────────────────────────────────────────────────╮\n",
       "│ <span style=\"font-weight: bold; text-decoration: underline\">2. parse-value int</span>                                                                                              │\n",
       "│                                                                                                                 │\n",
       "│ <span style=\"color: #008000; text-decoration-color: #008000; font-weight: bold\">Success.</span>                                                                                                        │\n",
       "│ <span style=\"color: #008000; text-decoration-color: #008000\">Well done. 👍</span>                                                                                                   │\n",
       "│ <span style=\"font-weight: bold\">                                                                                                      1.0 / 1.0</span> │\n",
       "╰─────────────────────────────────────────────────────────────────────────────────────────────────────────────────╯\n",
       "</pre>\n"
      ],
      "text/plain": [
       "╭─────────────────────────────────────────────────────────────────────────────────────────────────────────────────╮\n",
       "│ \u001b[1;4m2. parse-value int\u001b[0m                                                                                              │\n",
       "│                                                                                                                 │\n",
       "│ \u001b[1;32mSuccess.\u001b[0m                                                                                                        │\n",
       "│ \u001b[32mWell done. 👍\u001b[0m                                                                                                   │\n",
       "│ \u001b[1m                                                                                                      1.0 / 1.0\u001b[0m │\n",
       "╰─────────────────────────────────────────────────────────────────────────────────────────────────────────────────╯\n"
      ]
     },
     "metadata": {},
     "output_type": "display_data"
    },
    {
     "data": {
      "text/html": [
       "<pre style=\"white-space:pre;overflow-x:auto;line-height:normal;font-family:Menlo,'DejaVu Sans Mono',consolas,'Courier New',monospace\">\n",
       "</pre>\n"
      ],
      "text/plain": [
       "\n"
      ]
     },
     "metadata": {},
     "output_type": "display_data"
    },
    {
     "data": {
      "text/html": [
       "<pre style=\"white-space:pre;overflow-x:auto;line-height:normal;font-family:Menlo,'DejaVu Sans Mono',consolas,'Courier New',monospace\">╭─────────────────────────────────────────────────────────────────────────────────────────────────────────────────╮\n",
       "│ <span style=\"font-weight: bold; text-decoration: underline\">3. parse first line</span>                                                                                             │\n",
       "│                                                                                                                 │\n",
       "│ <span style=\"color: #008000; text-decoration-color: #008000; font-weight: bold\">Success.</span>                                                                                                        │\n",
       "│ <span style=\"color: #008000; text-decoration-color: #008000\">Well done. 👍</span>                                                                                                   │\n",
       "│ <span style=\"font-weight: bold\">                                                                                                      1.0 / 1.0</span> │\n",
       "╰─────────────────────────────────────────────────────────────────────────────────────────────────────────────────╯\n",
       "</pre>\n"
      ],
      "text/plain": [
       "╭─────────────────────────────────────────────────────────────────────────────────────────────────────────────────╮\n",
       "│ \u001b[1;4m3. parse first line\u001b[0m                                                                                             │\n",
       "│                                                                                                                 │\n",
       "│ \u001b[1;32mSuccess.\u001b[0m                                                                                                        │\n",
       "│ \u001b[32mWell done. 👍\u001b[0m                                                                                                   │\n",
       "│ \u001b[1m                                                                                                      1.0 / 1.0\u001b[0m │\n",
       "╰─────────────────────────────────────────────────────────────────────────────────────────────────────────────────╯\n"
      ]
     },
     "metadata": {},
     "output_type": "display_data"
    },
    {
     "data": {
      "text/html": [
       "<pre style=\"white-space:pre;overflow-x:auto;line-height:normal;font-family:Menlo,'DejaVu Sans Mono',consolas,'Courier New',monospace\">\n",
       "</pre>\n"
      ],
      "text/plain": [
       "\n"
      ]
     },
     "metadata": {},
     "output_type": "display_data"
    },
    {
     "data": {
      "text/html": [
       "<pre style=\"white-space:pre;overflow-x:auto;line-height:normal;font-family:Menlo,'DejaVu Sans Mono',consolas,'Courier New',monospace\">╭─────────────────────────────────────────────────────────────────────────────────────────────────────────────────╮\n",
       "│ <span style=\"font-weight: bold; text-decoration: underline\">4. parse last line</span>                                                                                              │\n",
       "│                                                                                                                 │\n",
       "│ <span style=\"color: #008000; text-decoration-color: #008000; font-weight: bold\">Success.</span>                                                                                                        │\n",
       "│ <span style=\"color: #008000; text-decoration-color: #008000\">Well done. 👍</span>                                                                                                   │\n",
       "│ <span style=\"font-weight: bold\">                                                                                                      1.0 / 1.0</span> │\n",
       "╰─────────────────────────────────────────────────────────────────────────────────────────────────────────────────╯\n",
       "</pre>\n"
      ],
      "text/plain": [
       "╭─────────────────────────────────────────────────────────────────────────────────────────────────────────────────╮\n",
       "│ \u001b[1;4m4. parse last line\u001b[0m                                                                                              │\n",
       "│                                                                                                                 │\n",
       "│ \u001b[1;32mSuccess.\u001b[0m                                                                                                        │\n",
       "│ \u001b[32mWell done. 👍\u001b[0m                                                                                                   │\n",
       "│ \u001b[1m                                                                                                      1.0 / 1.0\u001b[0m │\n",
       "╰─────────────────────────────────────────────────────────────────────────────────────────────────────────────────╯\n"
      ]
     },
     "metadata": {},
     "output_type": "display_data"
    },
    {
     "data": {
      "text/html": [
       "<pre style=\"white-space:pre;overflow-x:auto;line-height:normal;font-family:Menlo,'DejaVu Sans Mono',consolas,'Courier New',monospace\">\n",
       "</pre>\n"
      ],
      "text/plain": [
       "\n"
      ]
     },
     "metadata": {},
     "output_type": "display_data"
    },
    {
     "data": {
      "text/html": [
       "<pre style=\"white-space:pre;overflow-x:auto;line-height:normal;font-family:Menlo,'DejaVu Sans Mono',consolas,'Courier New',monospace\">╭─────────────────────────────────────────────────────────────────────────────────────────────────────────────────╮\n",
       "│ <span style=\"font-weight: bold; text-decoration: underline\">5. make-record of last line</span>                                                                                     │\n",
       "│                                                                                                                 │\n",
       "│ <span style=\"color: #008000; text-decoration-color: #008000; font-weight: bold\">Success.</span>                                                                                                        │\n",
       "│ <span style=\"color: #008000; text-decoration-color: #008000\">Well done. 👍</span>                                                                                                   │\n",
       "│ <span style=\"font-weight: bold\">                                                                                                      1.0 / 1.0</span> │\n",
       "╰─────────────────────────────────────────────────────────────────────────────────────────────────────────────────╯\n",
       "</pre>\n"
      ],
      "text/plain": [
       "╭─────────────────────────────────────────────────────────────────────────────────────────────────────────────────╮\n",
       "│ \u001b[1;4m5. make-record of last line\u001b[0m                                                                                     │\n",
       "│                                                                                                                 │\n",
       "│ \u001b[1;32mSuccess.\u001b[0m                                                                                                        │\n",
       "│ \u001b[32mWell done. 👍\u001b[0m                                                                                                   │\n",
       "│ \u001b[1m                                                                                                      1.0 / 1.0\u001b[0m │\n",
       "╰─────────────────────────────────────────────────────────────────────────────────────────────────────────────────╯\n"
      ]
     },
     "metadata": {},
     "output_type": "display_data"
    },
    {
     "data": {
      "text/html": [
       "<pre style=\"white-space:pre;overflow-x:auto;line-height:normal;font-family:Menlo,'DejaVu Sans Mono',consolas,'Courier New',monospace\">\n",
       "</pre>\n"
      ],
      "text/plain": [
       "\n"
      ]
     },
     "metadata": {},
     "output_type": "display_data"
    },
    {
     "data": {
      "text/html": [
       "<pre style=\"white-space:pre;overflow-x:auto;line-height:normal;font-family:Menlo,'DejaVu Sans Mono',consolas,'Courier New',monospace\">╭─────────────────────────────────────────────────────────────────────────────────────────────────────────────────╮\n",
       "│ <span style=\"font-weight: bold; text-decoration: underline\">6. show data analysis result</span>                                                                                    │\n",
       "│                                                                                                                 │\n",
       "│ <span style=\"color: #008000; text-decoration-color: #008000; font-weight: bold\">Success.</span>                                                                                                        │\n",
       "│ <span style=\"color: #008000; text-decoration-color: #008000\">Well done. 👍</span>                                                                                                   │\n",
       "│ <span style=\"font-weight: bold\">                                                                                                      5.0 / 5.0</span> │\n",
       "╰─────────────────────────────────────────────────────────────────────────────────────────────────────────────────╯\n",
       "</pre>\n"
      ],
      "text/plain": [
       "╭─────────────────────────────────────────────────────────────────────────────────────────────────────────────────╮\n",
       "│ \u001b[1;4m6. show data analysis result\u001b[0m                                                                                    │\n",
       "│                                                                                                                 │\n",
       "│ \u001b[1;32mSuccess.\u001b[0m                                                                                                        │\n",
       "│ \u001b[32mWell done. 👍\u001b[0m                                                                                                   │\n",
       "│ \u001b[1m                                                                                                      5.0 / 5.0\u001b[0m │\n",
       "╰─────────────────────────────────────────────────────────────────────────────────────────────────────────────────╯\n"
      ]
     },
     "metadata": {},
     "output_type": "display_data"
    },
    {
     "data": {
      "text/html": [
       "<pre style=\"white-space:pre;overflow-x:auto;line-height:normal;font-family:Menlo,'DejaVu Sans Mono',consolas,'Courier New',monospace\">\n",
       "</pre>\n"
      ],
      "text/plain": [
       "\n"
      ]
     },
     "metadata": {},
     "output_type": "display_data"
    },
    {
     "data": {
      "text/html": [
       "<pre style=\"white-space:pre;overflow-x:auto;line-height:normal;font-family:Menlo,'DejaVu Sans Mono',consolas,'Courier New',monospace\">┏━━━━━━━┳━━━━━━━┓\n",
       "┃<span style=\"font-weight: bold\"> Grade </span>┃<span style=\"font-weight: bold\"> Total </span>┃\n",
       "┡━━━━━━━╇━━━━━━━┩\n",
       "│ 10.0  │ 10.0  │\n",
       "└───────┴───────┘\n",
       "</pre>\n"
      ],
      "text/plain": [
       "┏━━━━━━━┳━━━━━━━┓\n",
       "┃\u001b[1m \u001b[0m\u001b[1mGrade\u001b[0m\u001b[1m \u001b[0m┃\u001b[1m \u001b[0m\u001b[1mTotal\u001b[0m\u001b[1m \u001b[0m┃\n",
       "┡━━━━━━━╇━━━━━━━┩\n",
       "│ 10.0  │ 10.0  │\n",
       "└───────┴───────┘\n"
      ]
     },
     "metadata": {},
     "output_type": "display_data"
    }
   ],
   "source": [
    "import lambdacheck.cli\n",
    "lambdacheck.cli.Check()"
   ]
  },
  {
   "cell_type": "code",
   "execution_count": null,
   "id": "d26999e4",
   "metadata": {},
   "outputs": [],
   "source": []
  },
  {
   "cell_type": "code",
   "execution_count": null,
   "id": "d79c9752",
   "metadata": {},
   "outputs": [],
   "source": []
  }
 ],
 "metadata": {
  "kernelspec": {
   "display_name": "Python 3 (ipykernel)",
   "language": "python",
   "name": "python3"
  },
  "language_info": {
   "codemirror_mode": {
    "name": "ipython",
    "version": 3
   },
   "file_extension": ".py",
   "mimetype": "text/x-python",
   "name": "python",
   "nbconvert_exporter": "python",
   "pygments_lexer": "ipython3",
   "version": "3.8.10"
  }
 },
 "nbformat": 4,
 "nbformat_minor": 5
}
