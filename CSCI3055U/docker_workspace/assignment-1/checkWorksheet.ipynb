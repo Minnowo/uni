{
 "cells": [
  {
   "cell_type": "code",
   "execution_count": 6,
   "id": "cb0b0b66",
   "metadata": {},
   "outputs": [
    {
     "data": {
      "text/html": [
       "<pre style=\"white-space:pre;overflow-x:auto;line-height:normal;font-family:Menlo,'DejaVu Sans Mono',consolas,'Courier New',monospace\">╭─────────────────────────────────────────────────────────────────────────────────────────────────────────────────╮\n",
       "│ <span style=\"font-weight: bold; text-decoration: underline\">1. total articles</span>                                                                                               │\n",
       "│                                                                                                                 │\n",
       "│ <span style=\"color: #008000; text-decoration-color: #008000; font-weight: bold\">Success.</span>                                                                                                        │\n",
       "│ <span style=\"color: #008000; text-decoration-color: #008000\">Well done. 👍</span>                                                                                                   │\n",
       "│ <span style=\"font-weight: bold\">                                                                                                      1.0 / 1.0</span> │\n",
       "╰─────────────────────────────────────────────────────────────────────────────────────────────────────────────────╯\n",
       "</pre>\n"
      ],
      "text/plain": [
       "╭─────────────────────────────────────────────────────────────────────────────────────────────────────────────────╮\n",
       "│ \u001b[1;4m1. total articles\u001b[0m                                                                                               │\n",
       "│                                                                                                                 │\n",
       "│ \u001b[1;32mSuccess.\u001b[0m                                                                                                        │\n",
       "│ \u001b[32mWell done. 👍\u001b[0m                                                                                                   │\n",
       "│ \u001b[1m                                                                                                      1.0 / 1.0\u001b[0m │\n",
       "╰─────────────────────────────────────────────────────────────────────────────────────────────────────────────────╯\n"
      ]
     },
     "metadata": {},
     "output_type": "display_data"
    },
    {
     "data": {
      "text/html": [
       "<pre style=\"white-space:pre;overflow-x:auto;line-height:normal;font-family:Menlo,'DejaVu Sans Mono',consolas,'Courier New',monospace\">\n",
       "</pre>\n"
      ],
      "text/plain": [
       "\n"
      ]
     },
     "metadata": {},
     "output_type": "display_data"
    },
    {
     "data": {
      "text/html": [
       "<pre style=\"white-space:pre;overflow-x:auto;line-height:normal;font-family:Menlo,'DejaVu Sans Mono',consolas,'Courier New',monospace\">╭─────────────────────────────────────────────────────────────────────────────────────────────────────────────────╮\n",
       "│ <span style=\"font-weight: bold; text-decoration: underline\">2. total likes</span>                                                                                                  │\n",
       "│                                                                                                                 │\n",
       "│ <span style=\"color: #008000; text-decoration-color: #008000; font-weight: bold\">Success.</span>                                                                                                        │\n",
       "│ <span style=\"color: #008000; text-decoration-color: #008000\">Well done. 👍</span>                                                                                                   │\n",
       "│ <span style=\"font-weight: bold\">                                                                                                      1.0 / 1.0</span> │\n",
       "╰─────────────────────────────────────────────────────────────────────────────────────────────────────────────────╯\n",
       "</pre>\n"
      ],
      "text/plain": [
       "╭─────────────────────────────────────────────────────────────────────────────────────────────────────────────────╮\n",
       "│ \u001b[1;4m2. total likes\u001b[0m                                                                                                  │\n",
       "│                                                                                                                 │\n",
       "│ \u001b[1;32mSuccess.\u001b[0m                                                                                                        │\n",
       "│ \u001b[32mWell done. 👍\u001b[0m                                                                                                   │\n",
       "│ \u001b[1m                                                                                                      1.0 / 1.0\u001b[0m │\n",
       "╰─────────────────────────────────────────────────────────────────────────────────────────────────────────────────╯\n"
      ]
     },
     "metadata": {},
     "output_type": "display_data"
    },
    {
     "data": {
      "text/html": [
       "<pre style=\"white-space:pre;overflow-x:auto;line-height:normal;font-family:Menlo,'DejaVu Sans Mono',consolas,'Courier New',monospace\">\n",
       "</pre>\n"
      ],
      "text/plain": [
       "\n"
      ]
     },
     "metadata": {},
     "output_type": "display_data"
    },
    {
     "data": {
      "text/html": [
       "<pre style=\"white-space:pre;overflow-x:auto;line-height:normal;font-family:Menlo,'DejaVu Sans Mono',consolas,'Courier New',monospace\">╭─────────────────────────────────────────────────────────────────────────────────────────────────────────────────╮\n",
       "│ <span style=\"font-weight: bold; text-decoration: underline\">3. check author id 100</span>                                                                                          │\n",
       "│                                                                                                                 │\n",
       "│ <span style=\"color: #008000; text-decoration-color: #008000; font-weight: bold\">Success.</span>                                                                                                        │\n",
       "│ <span style=\"color: #008000; text-decoration-color: #008000\">Well done. 👍</span>                                                                                                   │\n",
       "│ <span style=\"font-weight: bold\">                                                                                                      1.0 / 1.0</span> │\n",
       "╰─────────────────────────────────────────────────────────────────────────────────────────────────────────────────╯\n",
       "</pre>\n"
      ],
      "text/plain": [
       "╭─────────────────────────────────────────────────────────────────────────────────────────────────────────────────╮\n",
       "│ \u001b[1;4m3. check author id 100\u001b[0m                                                                                          │\n",
       "│                                                                                                                 │\n",
       "│ \u001b[1;32mSuccess.\u001b[0m                                                                                                        │\n",
       "│ \u001b[32mWell done. 👍\u001b[0m                                                                                                   │\n",
       "│ \u001b[1m                                                                                                      1.0 / 1.0\u001b[0m │\n",
       "╰─────────────────────────────────────────────────────────────────────────────────────────────────────────────────╯\n"
      ]
     },
     "metadata": {},
     "output_type": "display_data"
    },
    {
     "data": {
      "text/html": [
       "<pre style=\"white-space:pre;overflow-x:auto;line-height:normal;font-family:Menlo,'DejaVu Sans Mono',consolas,'Courier New',monospace\">\n",
       "</pre>\n"
      ],
      "text/plain": [
       "\n"
      ]
     },
     "metadata": {},
     "output_type": "display_data"
    },
    {
     "data": {
      "text/html": [
       "<pre style=\"white-space:pre;overflow-x:auto;line-height:normal;font-family:Menlo,'DejaVu Sans Mono',consolas,'Courier New',monospace\">╭─────────────────────────────────────────────────────────────────────────────────────────────────────────────────╮\n",
       "│ <span style=\"font-weight: bold; text-decoration: underline\">4. b84924f2</span>                                                                                                     │\n",
       "│                                                                                                                 │\n",
       "│ <span style=\"color: #800000; text-decoration-color: #800000\">Error: [\"\"] is not submitted.</span>                                                                                   │\n",
       "│                                                                                                                 │\n",
       "│ <span style=\"color: #4e4e4e; text-decoration-color: #4e4e4e\">╭────────────────────────────────────────── Expected execute_result ──────────────────────────────────────────╮</span> │\n",
       "│ <span style=\"color: #4e4e4e; text-decoration-color: #4e4e4e\">│ false                                                                                                       │</span> │\n",
       "│ <span style=\"color: #4e4e4e; text-decoration-color: #4e4e4e\">╰─────────────────────────────────────────────────────────────────────────────────────────────────────────────╯</span> │\n",
       "│ <span style=\"font-weight: bold\">                                                                                                      0.0 / 1.0</span> │\n",
       "╰─────────────────────────────────────────────────────────────────────────────────────────────────────────────────╯\n",
       "</pre>\n"
      ],
      "text/plain": [
       "╭─────────────────────────────────────────────────────────────────────────────────────────────────────────────────╮\n",
       "│ \u001b[1;4m4. b84924f2\u001b[0m                                                                                                     │\n",
       "│                                                                                                                 │\n",
       "│ \u001b[31mError: [\"\"] is not submitted.\u001b[0m                                                                                   │\n",
       "│                                                                                                                 │\n",
       "│ \u001b[38;5;239m╭─\u001b[0m\u001b[38;5;239m───────────────────────────────────────── Expected execute_result ─────────────────────────────────────────\u001b[0m\u001b[38;5;239m─╮\u001b[0m │\n",
       "│ \u001b[38;5;239m│\u001b[0m\u001b[38;5;239m \u001b[0m\u001b[38;5;239mfalse\u001b[0m\u001b[38;5;239m                                                                                                      \u001b[0m\u001b[38;5;239m \u001b[0m\u001b[38;5;239m│\u001b[0m │\n",
       "│ \u001b[38;5;239m╰─────────────────────────────────────────────────────────────────────────────────────────────────────────────╯\u001b[0m │\n",
       "│ \u001b[1m                                                                                                      0.0 / 1.0\u001b[0m │\n",
       "╰─────────────────────────────────────────────────────────────────────────────────────────────────────────────────╯\n"
      ]
     },
     "metadata": {},
     "output_type": "display_data"
    },
    {
     "data": {
      "text/html": [
       "<pre style=\"white-space:pre;overflow-x:auto;line-height:normal;font-family:Menlo,'DejaVu Sans Mono',consolas,'Courier New',monospace\">\n",
       "</pre>\n"
      ],
      "text/plain": [
       "\n"
      ]
     },
     "metadata": {},
     "output_type": "display_data"
    },
    {
     "data": {
      "text/html": [
       "<pre style=\"white-space:pre;overflow-x:auto;line-height:normal;font-family:Menlo,'DejaVu Sans Mono',consolas,'Courier New',monospace\">╭─────────────────────────────────────────────────────────────────────────────────────────────────────────────────╮\n",
       "│ <span style=\"font-weight: bold; text-decoration: underline\">5. author-by-id 100</span>                                                                                             │\n",
       "│                                                                                                                 │\n",
       "│ <span style=\"color: #008000; text-decoration-color: #008000; font-weight: bold\">Success.</span>                                                                                                        │\n",
       "│ <span style=\"color: #008000; text-decoration-color: #008000\">Well done. 👍</span>                                                                                                   │\n",
       "│ <span style=\"font-weight: bold\">                                                                                                      1.0 / 1.0</span> │\n",
       "╰─────────────────────────────────────────────────────────────────────────────────────────────────────────────────╯\n",
       "</pre>\n"
      ],
      "text/plain": [
       "╭─────────────────────────────────────────────────────────────────────────────────────────────────────────────────╮\n",
       "│ \u001b[1;4m5. author-by-id 100\u001b[0m                                                                                             │\n",
       "│                                                                                                                 │\n",
       "│ \u001b[1;32mSuccess.\u001b[0m                                                                                                        │\n",
       "│ \u001b[32mWell done. 👍\u001b[0m                                                                                                   │\n",
       "│ \u001b[1m                                                                                                      1.0 / 1.0\u001b[0m │\n",
       "╰─────────────────────────────────────────────────────────────────────────────────────────────────────────────────╯\n"
      ]
     },
     "metadata": {},
     "output_type": "display_data"
    },
    {
     "data": {
      "text/html": [
       "<pre style=\"white-space:pre;overflow-x:auto;line-height:normal;font-family:Menlo,'DejaVu Sans Mono',consolas,'Courier New',monospace\">\n",
       "</pre>\n"
      ],
      "text/plain": [
       "\n"
      ]
     },
     "metadata": {},
     "output_type": "display_data"
    },
    {
     "data": {
      "text/html": [
       "<pre style=\"white-space:pre;overflow-x:auto;line-height:normal;font-family:Menlo,'DejaVu Sans Mono',consolas,'Courier New',monospace\">╭─────────────────────────────────────────────────────────────────────────────────────────────────────────────────╮\n",
       "│ <span style=\"font-weight: bold; text-decoration: underline\">6. author-by-id 200</span>                                                                                             │\n",
       "│                                                                                                                 │\n",
       "│ <span style=\"color: #008000; text-decoration-color: #008000; font-weight: bold\">Success.</span>                                                                                                        │\n",
       "│ <span style=\"color: #008000; text-decoration-color: #008000\">Well done. 👍</span>                                                                                                   │\n",
       "│ <span style=\"font-weight: bold\">                                                                                                      1.0 / 1.0</span> │\n",
       "╰─────────────────────────────────────────────────────────────────────────────────────────────────────────────────╯\n",
       "</pre>\n"
      ],
      "text/plain": [
       "╭─────────────────────────────────────────────────────────────────────────────────────────────────────────────────╮\n",
       "│ \u001b[1;4m6. author-by-id 200\u001b[0m                                                                                             │\n",
       "│                                                                                                                 │\n",
       "│ \u001b[1;32mSuccess.\u001b[0m                                                                                                        │\n",
       "│ \u001b[32mWell done. 👍\u001b[0m                                                                                                   │\n",
       "│ \u001b[1m                                                                                                      1.0 / 1.0\u001b[0m │\n",
       "╰─────────────────────────────────────────────────────────────────────────────────────────────────────────────────╯\n"
      ]
     },
     "metadata": {},
     "output_type": "display_data"
    },
    {
     "data": {
      "text/html": [
       "<pre style=\"white-space:pre;overflow-x:auto;line-height:normal;font-family:Menlo,'DejaVu Sans Mono',consolas,'Courier New',monospace\">\n",
       "</pre>\n"
      ],
      "text/plain": [
       "\n"
      ]
     },
     "metadata": {},
     "output_type": "display_data"
    },
    {
     "data": {
      "text/html": [
       "<pre style=\"white-space:pre;overflow-x:auto;line-height:normal;font-family:Menlo,'DejaVu Sans Mono',consolas,'Courier New',monospace\">╭─────────────────────────────────────────────────────────────────────────────────────────────────────────────────╮\n",
       "│ <span style=\"font-weight: bold; text-decoration: underline\">7. author-by-id 500</span>                                                                                             │\n",
       "│                                                                                                                 │\n",
       "│ <span style=\"color: #008000; text-decoration-color: #008000; font-weight: bold\">Success.</span>                                                                                                        │\n",
       "│ <span style=\"color: #008000; text-decoration-color: #008000\">Well done. 👍</span>                                                                                                   │\n",
       "│ <span style=\"font-weight: bold\">                                                                                                      1.0 / 1.0</span> │\n",
       "╰─────────────────────────────────────────────────────────────────────────────────────────────────────────────────╯\n",
       "</pre>\n"
      ],
      "text/plain": [
       "╭─────────────────────────────────────────────────────────────────────────────────────────────────────────────────╮\n",
       "│ \u001b[1;4m7. author-by-id 500\u001b[0m                                                                                             │\n",
       "│                                                                                                                 │\n",
       "│ \u001b[1;32mSuccess.\u001b[0m                                                                                                        │\n",
       "│ \u001b[32mWell done. 👍\u001b[0m                                                                                                   │\n",
       "│ \u001b[1m                                                                                                      1.0 / 1.0\u001b[0m │\n",
       "╰─────────────────────────────────────────────────────────────────────────────────────────────────────────────────╯\n"
      ]
     },
     "metadata": {},
     "output_type": "display_data"
    },
    {
     "data": {
      "text/html": [
       "<pre style=\"white-space:pre;overflow-x:auto;line-height:normal;font-family:Menlo,'DejaVu Sans Mono',consolas,'Courier New',monospace\">\n",
       "</pre>\n"
      ],
      "text/plain": [
       "\n"
      ]
     },
     "metadata": {},
     "output_type": "display_data"
    },
    {
     "data": {
      "text/html": [
       "<pre style=\"white-space:pre;overflow-x:auto;line-height:normal;font-family:Menlo,'DejaVu Sans Mono',consolas,'Courier New',monospace\">╭─────────────────────────────────────────────────────────────────────────────────────────────────────────────────╮\n",
       "│ <span style=\"font-weight: bold; text-decoration: underline\">8. id-&gt;name 100</span>                                                                                                 │\n",
       "│                                                                                                                 │\n",
       "│ <span style=\"color: #008000; text-decoration-color: #008000; font-weight: bold\">Success.</span>                                                                                                        │\n",
       "│ <span style=\"color: #008000; text-decoration-color: #008000\">Well done. 👍</span>                                                                                                   │\n",
       "│ <span style=\"font-weight: bold\">                                                                                                      1.0 / 1.0</span> │\n",
       "╰─────────────────────────────────────────────────────────────────────────────────────────────────────────────────╯\n",
       "</pre>\n"
      ],
      "text/plain": [
       "╭─────────────────────────────────────────────────────────────────────────────────────────────────────────────────╮\n",
       "│ \u001b[1;4m8. id->name 100\u001b[0m                                                                                                 │\n",
       "│                                                                                                                 │\n",
       "│ \u001b[1;32mSuccess.\u001b[0m                                                                                                        │\n",
       "│ \u001b[32mWell done. 👍\u001b[0m                                                                                                   │\n",
       "│ \u001b[1m                                                                                                      1.0 / 1.0\u001b[0m │\n",
       "╰─────────────────────────────────────────────────────────────────────────────────────────────────────────────────╯\n"
      ]
     },
     "metadata": {},
     "output_type": "display_data"
    },
    {
     "data": {
      "text/html": [
       "<pre style=\"white-space:pre;overflow-x:auto;line-height:normal;font-family:Menlo,'DejaVu Sans Mono',consolas,'Courier New',monospace\">\n",
       "</pre>\n"
      ],
      "text/plain": [
       "\n"
      ]
     },
     "metadata": {},
     "output_type": "display_data"
    },
    {
     "data": {
      "text/html": [
       "<pre style=\"white-space:pre;overflow-x:auto;line-height:normal;font-family:Menlo,'DejaVu Sans Mono',consolas,'Courier New',monospace\">╭─────────────────────────────────────────────────────────────────────────────────────────────────────────────────╮\n",
       "│ <span style=\"font-weight: bold; text-decoration: underline\">9. id-&gt;name 200</span>                                                                                                 │\n",
       "│                                                                                                                 │\n",
       "│ <span style=\"color: #008000; text-decoration-color: #008000; font-weight: bold\">Success.</span>                                                                                                        │\n",
       "│ <span style=\"color: #008000; text-decoration-color: #008000\">Well done. 👍</span>                                                                                                   │\n",
       "│ <span style=\"font-weight: bold\">                                                                                                      1.0 / 1.0</span> │\n",
       "╰─────────────────────────────────────────────────────────────────────────────────────────────────────────────────╯\n",
       "</pre>\n"
      ],
      "text/plain": [
       "╭─────────────────────────────────────────────────────────────────────────────────────────────────────────────────╮\n",
       "│ \u001b[1;4m9. id->name 200\u001b[0m                                                                                                 │\n",
       "│                                                                                                                 │\n",
       "│ \u001b[1;32mSuccess.\u001b[0m                                                                                                        │\n",
       "│ \u001b[32mWell done. 👍\u001b[0m                                                                                                   │\n",
       "│ \u001b[1m                                                                                                      1.0 / 1.0\u001b[0m │\n",
       "╰─────────────────────────────────────────────────────────────────────────────────────────────────────────────────╯\n"
      ]
     },
     "metadata": {},
     "output_type": "display_data"
    },
    {
     "data": {
      "text/html": [
       "<pre style=\"white-space:pre;overflow-x:auto;line-height:normal;font-family:Menlo,'DejaVu Sans Mono',consolas,'Courier New',monospace\">\n",
       "</pre>\n"
      ],
      "text/plain": [
       "\n"
      ]
     },
     "metadata": {},
     "output_type": "display_data"
    },
    {
     "data": {
      "text/html": [
       "<pre style=\"white-space:pre;overflow-x:auto;line-height:normal;font-family:Menlo,'DejaVu Sans Mono',consolas,'Courier New',monospace\">╭─────────────────────────────────────────────────────────────────────────────────────────────────────────────────╮\n",
       "│ <span style=\"font-weight: bold; text-decoration: underline\">10. id-&gt;name 500</span>                                                                                                │\n",
       "│                                                                                                                 │\n",
       "│ <span style=\"color: #008000; text-decoration-color: #008000; font-weight: bold\">Success.</span>                                                                                                        │\n",
       "│ <span style=\"color: #008000; text-decoration-color: #008000\">Well done. 👍</span>                                                                                                   │\n",
       "│ <span style=\"font-weight: bold\">                                                                                                      1.0 / 1.0</span> │\n",
       "╰─────────────────────────────────────────────────────────────────────────────────────────────────────────────────╯\n",
       "</pre>\n"
      ],
      "text/plain": [
       "╭─────────────────────────────────────────────────────────────────────────────────────────────────────────────────╮\n",
       "│ \u001b[1;4m10. id->name 500\u001b[0m                                                                                                │\n",
       "│                                                                                                                 │\n",
       "│ \u001b[1;32mSuccess.\u001b[0m                                                                                                        │\n",
       "│ \u001b[32mWell done. 👍\u001b[0m                                                                                                   │\n",
       "│ \u001b[1m                                                                                                      1.0 / 1.0\u001b[0m │\n",
       "╰─────────────────────────────────────────────────────────────────────────────────────────────────────────────────╯\n"
      ]
     },
     "metadata": {},
     "output_type": "display_data"
    },
    {
     "data": {
      "text/html": [
       "<pre style=\"white-space:pre;overflow-x:auto;line-height:normal;font-family:Menlo,'DejaVu Sans Mono',consolas,'Courier New',monospace\">\n",
       "</pre>\n"
      ],
      "text/plain": [
       "\n"
      ]
     },
     "metadata": {},
     "output_type": "display_data"
    },
    {
     "data": {
      "text/html": [
       "<pre style=\"white-space:pre;overflow-x:auto;line-height:normal;font-family:Menlo,'DejaVu Sans Mono',consolas,'Courier New',monospace\">╭─────────────────────────────────────────────────────────────────────────────────────────────────────────────────╮\n",
       "│ <span style=\"font-weight: bold; text-decoration: underline\">11. resolve-ids check-1</span>                                                                                         │\n",
       "│                                                                                                                 │\n",
       "│ <span style=\"color: #008000; text-decoration-color: #008000; font-weight: bold\">Success.</span>                                                                                                        │\n",
       "│ <span style=\"color: #008000; text-decoration-color: #008000\">Well done. 👍</span>                                                                                                   │\n",
       "│ <span style=\"font-weight: bold\">                                                                                                      1.0 / 1.0</span> │\n",
       "╰─────────────────────────────────────────────────────────────────────────────────────────────────────────────────╯\n",
       "</pre>\n"
      ],
      "text/plain": [
       "╭─────────────────────────────────────────────────────────────────────────────────────────────────────────────────╮\n",
       "│ \u001b[1;4m11. resolve-ids check-1\u001b[0m                                                                                         │\n",
       "│                                                                                                                 │\n",
       "│ \u001b[1;32mSuccess.\u001b[0m                                                                                                        │\n",
       "│ \u001b[32mWell done. 👍\u001b[0m                                                                                                   │\n",
       "│ \u001b[1m                                                                                                      1.0 / 1.0\u001b[0m │\n",
       "╰─────────────────────────────────────────────────────────────────────────────────────────────────────────────────╯\n"
      ]
     },
     "metadata": {},
     "output_type": "display_data"
    },
    {
     "data": {
      "text/html": [
       "<pre style=\"white-space:pre;overflow-x:auto;line-height:normal;font-family:Menlo,'DejaVu Sans Mono',consolas,'Courier New',monospace\">\n",
       "</pre>\n"
      ],
      "text/plain": [
       "\n"
      ]
     },
     "metadata": {},
     "output_type": "display_data"
    },
    {
     "data": {
      "text/html": [
       "<pre style=\"white-space:pre;overflow-x:auto;line-height:normal;font-family:Menlo,'DejaVu Sans Mono',consolas,'Courier New',monospace\">╭─────────────────────────────────────────────────────────────────────────────────────────────────────────────────╮\n",
       "│ <span style=\"font-weight: bold; text-decoration: underline\">12. resolve-ids check-2</span>                                                                                         │\n",
       "│                                                                                                                 │\n",
       "│ <span style=\"color: #008000; text-decoration-color: #008000; font-weight: bold\">Success.</span>                                                                                                        │\n",
       "│ <span style=\"color: #008000; text-decoration-color: #008000\">Well done. 👍</span>                                                                                                   │\n",
       "│ <span style=\"font-weight: bold\">                                                                                                      1.0 / 1.0</span> │\n",
       "╰─────────────────────────────────────────────────────────────────────────────────────────────────────────────────╯\n",
       "</pre>\n"
      ],
      "text/plain": [
       "╭─────────────────────────────────────────────────────────────────────────────────────────────────────────────────╮\n",
       "│ \u001b[1;4m12. resolve-ids check-2\u001b[0m                                                                                         │\n",
       "│                                                                                                                 │\n",
       "│ \u001b[1;32mSuccess.\u001b[0m                                                                                                        │\n",
       "│ \u001b[32mWell done. 👍\u001b[0m                                                                                                   │\n",
       "│ \u001b[1m                                                                                                      1.0 / 1.0\u001b[0m │\n",
       "╰─────────────────────────────────────────────────────────────────────────────────────────────────────────────────╯\n"
      ]
     },
     "metadata": {},
     "output_type": "display_data"
    },
    {
     "data": {
      "text/html": [
       "<pre style=\"white-space:pre;overflow-x:auto;line-height:normal;font-family:Menlo,'DejaVu Sans Mono',consolas,'Courier New',monospace\">\n",
       "</pre>\n"
      ],
      "text/plain": [
       "\n"
      ]
     },
     "metadata": {},
     "output_type": "display_data"
    },
    {
     "data": {
      "text/html": [
       "<pre style=\"white-space:pre;overflow-x:auto;line-height:normal;font-family:Menlo,'DejaVu Sans Mono',consolas,'Courier New',monospace\">╭─────────────────────────────────────────────────────────────────────────────────────────────────────────────────╮\n",
       "│ <span style=\"font-weight: bold; text-decoration: underline\">13. resolve-article</span>                                                                                             │\n",
       "│                                                                                                                 │\n",
       "│ <span style=\"color: #008000; text-decoration-color: #008000; font-weight: bold\">Success.</span>                                                                                                        │\n",
       "│ <span style=\"color: #008000; text-decoration-color: #008000\">Well done. 👍</span>                                                                                                   │\n",
       "│ <span style=\"font-weight: bold\">                                                                                                      1.0 / 1.0</span> │\n",
       "╰─────────────────────────────────────────────────────────────────────────────────────────────────────────────────╯\n",
       "</pre>\n"
      ],
      "text/plain": [
       "╭─────────────────────────────────────────────────────────────────────────────────────────────────────────────────╮\n",
       "│ \u001b[1;4m13. resolve-article\u001b[0m                                                                                             │\n",
       "│                                                                                                                 │\n",
       "│ \u001b[1;32mSuccess.\u001b[0m                                                                                                        │\n",
       "│ \u001b[32mWell done. 👍\u001b[0m                                                                                                   │\n",
       "│ \u001b[1m                                                                                                      1.0 / 1.0\u001b[0m │\n",
       "╰─────────────────────────────────────────────────────────────────────────────────────────────────────────────────╯\n"
      ]
     },
     "metadata": {},
     "output_type": "display_data"
    },
    {
     "data": {
      "text/html": [
       "<pre style=\"white-space:pre;overflow-x:auto;line-height:normal;font-family:Menlo,'DejaVu Sans Mono',consolas,'Courier New',monospace\">\n",
       "</pre>\n"
      ],
      "text/plain": [
       "\n"
      ]
     },
     "metadata": {},
     "output_type": "display_data"
    },
    {
     "data": {
      "text/html": [
       "<pre style=\"white-space:pre;overflow-x:auto;line-height:normal;font-family:Menlo,'DejaVu Sans Mono',consolas,'Courier New',monospace\">╭─────────────────────────────────────────────────────────────────────────────────────────────────────────────────╮\n",
       "│ <span style=\"font-weight: bold; text-decoration: underline\">14. articles-with-names</span>                                                                                         │\n",
       "│                                                                                                                 │\n",
       "│ <span style=\"color: #008000; text-decoration-color: #008000; font-weight: bold\">Success.</span>                                                                                                        │\n",
       "│ <span style=\"color: #008000; text-decoration-color: #008000\">Well done. 👍</span>                                                                                                   │\n",
       "│ <span style=\"font-weight: bold\">                                                                                                      1.0 / 1.0</span> │\n",
       "╰─────────────────────────────────────────────────────────────────────────────────────────────────────────────────╯\n",
       "</pre>\n"
      ],
      "text/plain": [
       "╭─────────────────────────────────────────────────────────────────────────────────────────────────────────────────╮\n",
       "│ \u001b[1;4m14. articles-with-names\u001b[0m                                                                                         │\n",
       "│                                                                                                                 │\n",
       "│ \u001b[1;32mSuccess.\u001b[0m                                                                                                        │\n",
       "│ \u001b[32mWell done. 👍\u001b[0m                                                                                                   │\n",
       "│ \u001b[1m                                                                                                      1.0 / 1.0\u001b[0m │\n",
       "╰─────────────────────────────────────────────────────────────────────────────────────────────────────────────────╯\n"
      ]
     },
     "metadata": {},
     "output_type": "display_data"
    },
    {
     "data": {
      "text/html": [
       "<pre style=\"white-space:pre;overflow-x:auto;line-height:normal;font-family:Menlo,'DejaVu Sans Mono',consolas,'Courier New',monospace\">\n",
       "</pre>\n"
      ],
      "text/plain": [
       "\n"
      ]
     },
     "metadata": {},
     "output_type": "display_data"
    },
    {
     "data": {
      "text/html": [
       "<pre style=\"white-space:pre;overflow-x:auto;line-height:normal;font-family:Menlo,'DejaVu Sans Mono',consolas,'Courier New',monospace\">┏━━━━━━━┳━━━━━━━┓\n",
       "┃<span style=\"font-weight: bold\"> Grade </span>┃<span style=\"font-weight: bold\"> Total </span>┃\n",
       "┡━━━━━━━╇━━━━━━━┩\n",
       "│ 13.0  │ 14.0  │\n",
       "└───────┴───────┘\n",
       "</pre>\n"
      ],
      "text/plain": [
       "┏━━━━━━━┳━━━━━━━┓\n",
       "┃\u001b[1m \u001b[0m\u001b[1mGrade\u001b[0m\u001b[1m \u001b[0m┃\u001b[1m \u001b[0m\u001b[1mTotal\u001b[0m\u001b[1m \u001b[0m┃\n",
       "┡━━━━━━━╇━━━━━━━┩\n",
       "│ 13.0  │ 14.0  │\n",
       "└───────┴───────┘\n"
      ]
     },
     "metadata": {},
     "output_type": "display_data"
    }
   ],
   "source": [
    "import lambdacheck.cli\n",
    "lambdacheck.cli.Check()"
   ]
  },
  {
   "cell_type": "code",
   "execution_count": null,
   "id": "f7b3a9a0",
   "metadata": {},
   "outputs": [],
   "source": []
  }
 ],
 "metadata": {
  "kernelspec": {
   "display_name": "Python 3 (ipykernel)",
   "language": "python",
   "name": "python3"
  },
  "language_info": {
   "codemirror_mode": {
    "name": "ipython",
    "version": 3
   },
   "file_extension": ".py",
   "mimetype": "text/x-python",
   "name": "python",
   "nbconvert_exporter": "python",
   "pygments_lexer": "ipython3",
   "version": "3.8.10"
  }
 },
 "nbformat": 4,
 "nbformat_minor": 5
}
