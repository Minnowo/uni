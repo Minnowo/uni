{
 "cells": [
  {
   "cell_type": "markdown",
   "id": "a8859145",
   "metadata": {
    "editable": false
   },
   "source": [
    "# Assignment 1\n",
    "\n",
    "In this assignment, we will apply the data transformation features of Clojure to perform some basic data analysis."
   ]
  },
  {
   "cell_type": "code",
   "execution_count": 1,
   "id": "534626bd",
   "metadata": {
    "editable": false
   },
   "outputs": [
    {
     "name": "stdout",
     "output_type": "stream",
     "text": [
      "------ Articles ----------\n",
      "[{:title \"Intro to science\", :authors [100 200], :likes 3}\n",
      " {:title \"Programming machines\", :authors [200 300], :likes 5}\n",
      " {:title \"The digital age\", :authors [300], :likes 6}\n",
      " {:title \"Quantum computing\", :authors [300 100], :likes 4}]\n",
      "\n",
      "------ Authors -----------\n",
      "[{:id 100, :name \"Albert Einstein\", :interest \"Physics\"}\n",
      " {:id 200, :name \"Alan Turing\", :interest \"Computer Science\"}\n",
      " {:id 300, :name \"Jeff Dean\", :interest \"Programming\"}]\n"
     ]
    },
    {
     "data": {
      "text/plain": [
       "nil"
      ]
     },
     "execution_count": 1,
     "metadata": {},
     "output_type": "execute_result"
    }
   ],
   "source": [
    "\"🔒\"\n",
    "(load-file \"my.clj\")\n",
    "(require '[clojure.pprint :refer [pprint]])\n",
    "\n",
    "(println \"------ Articles ----------\")\n",
    "(pprint articles)\n",
    "(println)\n",
    "\n",
    "(println \"------ Authors -----------\")\n",
    "(pprint authors)"
   ]
  },
  {
   "cell_type": "markdown",
   "id": "10935416",
   "metadata": {
    "editable": false
   },
   "source": [
    "## Work Unit\n",
    "\n",
    "Implement a function that will count the articles.  Hint: use the `count` built-in function."
   ]
  },
  {
   "cell_type": "code",
   "execution_count": 2,
   "id": "0c355894",
   "metadata": {},
   "outputs": [
    {
     "data": {
      "text/plain": [
       "#'user/article-count"
      ]
     },
     "execution_count": 2,
     "metadata": {},
     "output_type": "execute_result"
    }
   ],
   "source": [
    "\"✍️\"\n",
    "; @workUnit\n",
    "(defn article-count [] \n",
    "    (count articles))"
   ]
  },
  {
   "cell_type": "code",
   "execution_count": 3,
   "id": "01b7c024",
   "metadata": {
    "editable": false
   },
   "outputs": [
    {
     "data": {
      "text/plain": [
       "4"
      ]
     },
     "execution_count": 3,
     "metadata": {},
     "output_type": "execute_result"
    }
   ],
   "source": [
    "\"🔒\"\n",
    "; @check\n",
    "; @title: total articles\n",
    "\n",
    "(article-count)"
   ]
  },
  {
   "cell_type": "markdown",
   "id": "6ee3dd32",
   "metadata": {
    "editable": false
   },
   "source": [
    "## Work Unit\n",
    "\n",
    "Implement a function to compute the total number of `:likes` over all the articles."
   ]
  },
  {
   "cell_type": "code",
   "execution_count": 23,
   "id": "b4c2880f",
   "metadata": {},
   "outputs": [
    {
     "data": {
      "text/plain": [
       "#'user/total-likes"
      ]
     },
     "execution_count": 23,
     "metadata": {},
     "output_type": "execute_result"
    }
   ],
   "source": [
    "\"✍️\"\n",
    "; @workUnit\n",
    "\n",
    "(defn total-likes []\n",
    "    (apply + (for [x articles] (:likes x))))\n",
    "\n"
   ]
  },
  {
   "cell_type": "code",
   "execution_count": 24,
   "id": "d61244e5",
   "metadata": {
    "editable": false
   },
   "outputs": [
    {
     "data": {
      "text/plain": [
       "18"
      ]
     },
     "execution_count": 24,
     "metadata": {},
     "output_type": "execute_result"
    }
   ],
   "source": [
    "\"🔒\"\n",
    "; @check\n",
    "; @title: total likes\n",
    "\n",
    "(total-likes)"
   ]
  },
  {
   "cell_type": "markdown",
   "id": "8f1d6efe",
   "metadata": {
    "editable": false
   },
   "source": [
    "## Work Unit\n",
    "\n",
    "Implement a function `(check-by-id author id)` to check if the `author` has the specified `id`.  The function should return a boolean value."
   ]
  },
  {
   "cell_type": "code",
   "execution_count": 28,
   "id": "429b4947",
   "metadata": {},
   "outputs": [
    {
     "data": {
      "text/plain": [
       "#'user/check-by-id"
      ]
     },
     "execution_count": 28,
     "metadata": {},
     "output_type": "execute_result"
    }
   ],
   "source": [
    "\"✍️\"\n",
    "; @workUnit\n",
    "(defn check-by-id [author id]\n",
    "    (= (:id author) id))"
   ]
  },
  {
   "cell_type": "code",
   "execution_count": 29,
   "id": "d4e13fee",
   "metadata": {
    "editable": false
   },
   "outputs": [
    {
     "data": {
      "text/plain": [
       "true"
      ]
     },
     "execution_count": 29,
     "metadata": {},
     "output_type": "execute_result"
    }
   ],
   "source": [
    "\"🔒\"\n",
    "; @check\n",
    "; @title: check author id 100\n",
    "(check-by-id (first authors) 100)"
   ]
  },
  {
   "cell_type": "code",
   "execution_count": 30,
   "id": "11e207cd",
   "metadata": {
    "editable": false
   },
   "outputs": [
    {
     "data": {
      "text/plain": [
       "false"
      ]
     },
     "execution_count": 30,
     "metadata": {},
     "output_type": "execute_result"
    }
   ],
   "source": [
    "\"🔒\"\n",
    "; @check\n",
    "; title: check author id 200\n",
    "(check-by-id (first authors) 200)"
   ]
  },
  {
   "cell_type": "markdown",
   "id": "64851a8d",
   "metadata": {
    "editable": false
   },
   "source": [
    "## Work Unit\n",
    "\n",
    "Implement function `(author-by-id id)` that returns a list of all the authors with the specified `id`.\n",
    "\n",
    "Hint: use the built-in function `filter` or `for` loop with `:when` clause.  Use the `(check-by-id ...)` function in the filter predicate function."
   ]
  },
  {
   "cell_type": "code",
   "execution_count": 31,
   "id": "c2890ddf",
   "metadata": {},
   "outputs": [
    {
     "data": {
      "text/plain": [
       "#'user/authors-by-id"
      ]
     },
     "execution_count": 31,
     "metadata": {},
     "output_type": "execute_result"
    }
   ],
   "source": [
    "\"✍️\"\n",
    "; @workUnit\n",
    "\n",
    "(defn authors-by-id [id]\n",
    "    (for [auth authors\n",
    "          :when (= (:id auth) id)]\n",
    "        auth))"
   ]
  },
  {
   "cell_type": "code",
   "execution_count": 32,
   "id": "fc424097",
   "metadata": {
    "editable": false
   },
   "outputs": [
    {
     "data": {
      "text/plain": [
       "({:id 100, :name \"Albert Einstein\", :interest \"Physics\"})"
      ]
     },
     "execution_count": 32,
     "metadata": {},
     "output_type": "execute_result"
    }
   ],
   "source": [
    "\"🔒\"\n",
    "; @check\n",
    "; @title: author-by-id 100\n",
    "\n",
    "(authors-by-id 100)"
   ]
  },
  {
   "cell_type": "code",
   "execution_count": 33,
   "id": "241b0a25",
   "metadata": {
    "editable": false
   },
   "outputs": [
    {
     "data": {
      "text/plain": [
       "({:id 200, :name \"Alan Turing\", :interest \"Computer Science\"})"
      ]
     },
     "execution_count": 33,
     "metadata": {},
     "output_type": "execute_result"
    }
   ],
   "source": [
    "\"🔒\"\n",
    "; @check\n",
    "; @title: author-by-id 200\n",
    "\n",
    "(authors-by-id 200)"
   ]
  },
  {
   "cell_type": "code",
   "execution_count": 34,
   "id": "5014735b",
   "metadata": {
    "editable": false
   },
   "outputs": [
    {
     "data": {
      "text/plain": [
       "()"
      ]
     },
     "execution_count": 34,
     "metadata": {},
     "output_type": "execute_result"
    }
   ],
   "source": [
    "\"🔒\"\n",
    "; @check\n",
    "; @title: author-by-id 500\n",
    "\n",
    "(authors-by-id 500)"
   ]
  },
  {
   "cell_type": "markdown",
   "id": "fa00b2a1",
   "metadata": {
    "editable": false
   },
   "source": [
    "## Work Unit\n",
    "\n",
    "Implement a function `(id->name id)` that maps a given `id` to the author name.  It should return `nil` if the `id` does not exist.\n",
    "\n",
    "Hint: use the `authors-by-id` function and `first` built-in function in your implementation."
   ]
  },
  {
   "cell_type": "code",
   "execution_count": 44,
   "id": "a6c6dbac",
   "metadata": {},
   "outputs": [
    {
     "data": {
      "text/plain": [
       "#'user/id->name"
      ]
     },
     "execution_count": 44,
     "metadata": {},
     "output_type": "execute_result"
    }
   ],
   "source": [
    "\"✍️\"\n",
    "; @workUnit\n",
    "\n",
    "(defn id->name [id] \n",
    "    (:name (first (authors-by-id id))))"
   ]
  },
  {
   "cell_type": "code",
   "execution_count": 45,
   "id": "c3a80586",
   "metadata": {
    "editable": false
   },
   "outputs": [
    {
     "data": {
      "text/plain": [
       "\"Albert Einstein\""
      ]
     },
     "execution_count": 45,
     "metadata": {},
     "output_type": "execute_result"
    }
   ],
   "source": [
    "\"🔒\"\n",
    "; @check\n",
    "; @title: id->name 100\n",
    "\n",
    "(id->name 100)"
   ]
  },
  {
   "cell_type": "code",
   "execution_count": 46,
   "id": "512f8be4",
   "metadata": {
    "editable": false
   },
   "outputs": [
    {
     "data": {
      "text/plain": [
       "\"Alan Turing\""
      ]
     },
     "execution_count": 46,
     "metadata": {},
     "output_type": "execute_result"
    }
   ],
   "source": [
    "\"🔒\"\n",
    "; @check\n",
    "; @title: id->name 200\n",
    "\n",
    "(id->name 200)"
   ]
  },
  {
   "cell_type": "code",
   "execution_count": 47,
   "id": "d3c06c23",
   "metadata": {
    "editable": false
   },
   "outputs": [
    {
     "data": {
      "text/plain": [
       "nil"
      ]
     },
     "execution_count": 47,
     "metadata": {},
     "output_type": "execute_result"
    }
   ],
   "source": [
    "\"🔒\"\n",
    "; @check\n",
    "; @title: id->name 500\n",
    "\n",
    "(id->name 500)"
   ]
  },
  {
   "cell_type": "markdown",
   "id": "78f1bb47",
   "metadata": {
    "editable": false
   },
   "source": [
    "## Work Unit\n",
    "\n",
    "Implement a function `(resolve-ids ids)` that can resolve multiple `ids` to author names.\n",
    "\n",
    "Hint: Use `map` and `id->name` in your implementation."
   ]
  },
  {
   "cell_type": "code",
   "execution_count": 48,
   "id": "9752bbd0",
   "metadata": {},
   "outputs": [
    {
     "data": {
      "text/plain": [
       "#'user/resolve-ids"
      ]
     },
     "execution_count": 48,
     "metadata": {},
     "output_type": "execute_result"
    }
   ],
   "source": [
    "\"✍️\"\n",
    "; @workUnit\n",
    "\n",
    "(defn resolve-ids [ids] \n",
    "    (map id->name ids))"
   ]
  },
  {
   "cell_type": "code",
   "execution_count": 49,
   "id": "19618b8f",
   "metadata": {
    "editable": false
   },
   "outputs": [
    {
     "data": {
      "text/plain": [
       "(\"Albert Einstein\" \"Alan Turing\")"
      ]
     },
     "execution_count": 49,
     "metadata": {},
     "output_type": "execute_result"
    }
   ],
   "source": [
    "\"🔒\"\n",
    "; @check\n",
    "; @title: resolve-ids check-1\n",
    "\n",
    "(resolve-ids [100 200])"
   ]
  },
  {
   "cell_type": "code",
   "execution_count": 50,
   "id": "29700b95",
   "metadata": {
    "editable": false
   },
   "outputs": [
    {
     "data": {
      "text/plain": [
       "(\"Alan Turing\" \"Jeff Dean\" nil)"
      ]
     },
     "execution_count": 50,
     "metadata": {},
     "output_type": "execute_result"
    }
   ],
   "source": [
    "\"🔒\"\n",
    "; @check\n",
    "; @title: resolve-ids check-2\n",
    "\n",
    "(resolve-ids [200 300 500])"
   ]
  },
  {
   "cell_type": "markdown",
   "id": "4812d0aa",
   "metadata": {
    "editable": false
   },
   "source": [
    "## Work Unit\n",
    "\n",
    "Implement a function to resolve the author ids in an article.  The function `(resolve-article article)` will resolve the author ids in the given article to names.\n",
    "\n",
    "Hint: use `update` built-in function with `resolve-ids` in your implementation."
   ]
  },
  {
   "cell_type": "code",
   "execution_count": 51,
   "id": "ecfc143c",
   "metadata": {},
   "outputs": [
    {
     "data": {
      "text/plain": [
       "#'user/resolve-article"
      ]
     },
     "execution_count": 51,
     "metadata": {},
     "output_type": "execute_result"
    }
   ],
   "source": [
    "\"✍️\"\n",
    "; @workUnit\n",
    "\n",
    "(defn resolve-article [article] \n",
    "    (update article :authors resolve-ids))"
   ]
  },
  {
   "cell_type": "code",
   "execution_count": 52,
   "id": "6f889fb8",
   "metadata": {
    "editable": false
   },
   "outputs": [
    {
     "name": "stdout",
     "output_type": "stream",
     "text": [
      "{:title \"Intro to science\",\n",
      " :authors (\"Albert Einstein\" \"Alan Turing\"),\n",
      " :likes 3}\n",
      "{:title \"Programming machines\",\n",
      " :authors (\"Alan Turing\" \"Jeff Dean\"),\n",
      " :likes 5}\n"
     ]
    },
    {
     "data": {
      "text/plain": [
       "nil"
      ]
     },
     "execution_count": 52,
     "metadata": {},
     "output_type": "execute_result"
    }
   ],
   "source": [
    "\"🔒\"\n",
    "; @check\n",
    "; @title: resolve-article\n",
    "(pprint (resolve-article (first articles)))\n",
    "(pprint (resolve-article (second articles)))"
   ]
  },
  {
   "cell_type": "markdown",
   "id": "22180131",
   "metadata": {
    "editable": false
   },
   "source": [
    "## Work Unit\n",
    "\n",
    "Implement a function `(articles-with-names)` that returns all articles with the author ids resolved to names."
   ]
  },
  {
   "cell_type": "code",
   "execution_count": 53,
   "id": "53c336e1",
   "metadata": {},
   "outputs": [
    {
     "data": {
      "text/plain": [
       "#'user/articles-with-names"
      ]
     },
     "execution_count": 53,
     "metadata": {},
     "output_type": "execute_result"
    }
   ],
   "source": [
    "\"✍️\"\n",
    "; @workUnit\n",
    "\n",
    "(defn articles-with-names [] \n",
    "    (map resolve-article articles))"
   ]
  },
  {
   "cell_type": "code",
   "execution_count": 54,
   "id": "19d4a1be",
   "metadata": {
    "editable": false
   },
   "outputs": [
    {
     "name": "stdout",
     "output_type": "stream",
     "text": [
      "({:title \"Intro to science\",\n",
      "  :authors (\"Albert Einstein\" \"Alan Turing\"),\n",
      "  :likes 3}\n",
      " {:title \"Programming machines\",\n",
      "  :authors (\"Alan Turing\" \"Jeff Dean\"),\n",
      "  :likes 5}\n",
      " {:title \"The digital age\", :authors (\"Jeff Dean\"), :likes 6}\n",
      " {:title \"Quantum computing\",\n",
      "  :authors (\"Jeff Dean\" \"Albert Einstein\"),\n",
      "  :likes 4})\n"
     ]
    },
    {
     "data": {
      "text/plain": [
       "nil"
      ]
     },
     "execution_count": 54,
     "metadata": {},
     "output_type": "execute_result"
    }
   ],
   "source": [
    "\"🔒\"\n",
    "; @check\n",
    "; @title: articles-with-names\n",
    "\n",
    "(-> (articles-with-names) pprint)"
   ]
  },
  {
   "cell_type": "markdown",
   "id": "6bd38f9a",
   "metadata": {
    "editable": false
   },
   "source": [
    "# The End"
   ]
  }
 ],
 "metadata": {
  "kernelspec": {
   "display_name": "Clojure (clojupyter-v0.2.2)",
   "language": "clojure",
   "name": "clojupyter"
  },
  "language_info": {
   "file_extension": ".clj",
   "mimetype": "text/x-clojure",
   "name": "clojure",
   "version": "1.11.1"
  }
 },
 "nbformat": 4,
 "nbformat_minor": 5
}
