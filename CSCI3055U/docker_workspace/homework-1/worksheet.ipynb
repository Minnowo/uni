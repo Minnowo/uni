{
 "cells": [
  {
   "cell_type": "markdown",
   "id": "b614f996",
   "metadata": {
    "editable": false
   },
   "source": [
    "# Homework\n",
    "\n",
    "This home is to help you get familiar with the content distribution and submission system we use for this course.\n",
    "\n",
    "Complete the workUnit cells as directed."
   ]
  },
  {
   "cell_type": "markdown",
   "id": "60a218f0",
   "metadata": {
    "editable": false
   },
   "source": [
    "## Print a triangle of stars"
   ]
  },
  {
   "cell_type": "code",
   "execution_count": 7,
   "id": "43a6a8d9",
   "metadata": {},
   "outputs": [],
   "source": [
    "\"✍️\"\n",
    "# @workUnit\n",
    "def stars(height: int):\n",
    "    if height < 0:\n",
    "        raise Exception('Height is negative.', height)\n",
    "        \n",
    "    for i in range(1, height + 1):\n",
    "        \n",
    "        for x in range(i):\n",
    "            \n",
    "            print('*', end=\"\")\n",
    "        print()\n",
    "        "
   ]
  },
  {
   "cell_type": "markdown",
   "id": "eb7b5f59",
   "metadata": {
    "editable": false
   },
   "source": [
    "## Checks\n",
    "\n",
    "The following checks are to verify the correctness of your function"
   ]
  },
  {
   "cell_type": "code",
   "execution_count": 8,
   "id": "7fb8bf53",
   "metadata": {
    "editable": false
   },
   "outputs": [
    {
     "name": "stdout",
     "output_type": "stream",
     "text": [
      "*\n",
      "**\n",
      "***\n",
      "****\n",
      "*****\n",
      "******\n",
      "*******\n",
      "********\n",
      "*********\n",
      "**********\n"
     ]
    }
   ],
   "source": [
    "\"🔒\"\n",
    "# @check\n",
    "# @title: check 1\n",
    "\n",
    "stars(10)"
   ]
  },
  {
   "cell_type": "code",
   "execution_count": 9,
   "id": "e4d00941",
   "metadata": {
    "editable": false
   },
   "outputs": [],
   "source": [
    "\"🔒\"\n",
    "# @check\n",
    "# @title: height=0\n",
    "stars(0)"
   ]
  },
  {
   "cell_type": "code",
   "execution_count": 10,
   "id": "19b37ebf",
   "metadata": {
    "editable": false
   },
   "outputs": [
    {
     "name": "stdout",
     "output_type": "stream",
     "text": [
      "<class 'Exception'>\n",
      "('Height is negative.', -5)\n"
     ]
    }
   ],
   "source": [
    "\"🔒\"\n",
    "# @check\n",
    "# @title: no parameter\n",
    "try:\n",
    "    stars(-5)\n",
    "except Exception as e:\n",
    "    print(type(e))\n",
    "    print(e.args)"
   ]
  },
  {
   "cell_type": "code",
   "execution_count": null,
   "id": "b2b035cc",
   "metadata": {},
   "outputs": [],
   "source": []
  },
  {
   "cell_type": "code",
   "execution_count": null,
   "id": "10dbd42f",
   "metadata": {},
   "outputs": [],
   "source": []
  }
 ],
 "metadata": {
  "kernelspec": {
   "display_name": "Python 3 (ipykernel)",
   "language": "python",
   "name": "python3"
  },
  "language_info": {
   "codemirror_mode": {
    "name": "ipython",
    "version": 3
   },
   "file_extension": ".py",
   "mimetype": "text/x-python",
   "name": "python",
   "nbconvert_exporter": "python",
   "pygments_lexer": "ipython3",
   "version": "3.8.10"
  }
 },
 "nbformat": 4,
 "nbformat_minor": 5
}
