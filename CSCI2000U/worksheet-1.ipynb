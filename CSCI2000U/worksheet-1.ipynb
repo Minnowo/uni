{
 "cells": [
  {
   "cell_type": "code",
   "execution_count": 11,
   "metadata": {},
   "outputs": [
    {
     "name": "stdout",
     "output_type": "stream",
     "text": [
      "[2, 4, 6, 8, 'Monday', 'Tuesday']\n"
     ]
    }
   ],
   "source": [
    "\n",
    "# 1. 'create a list d containing ...'\n",
    "d = [2, 4, 6, 8, 'Monday', 'Tuesday']\n",
    "print(d)"
   ]
  },
  {
   "cell_type": "code",
   "execution_count": 12,
   "metadata": {},
   "outputs": [
    {
     "name": "stdout",
     "output_type": "stream",
     "text": [
      "[2, 4, 100, 6, 8, 'Monday', 'Tuesday']\n"
     ]
    }
   ],
   "source": [
    "# 2. insert the value 100 between...\n",
    "d.insert(2, 100)\n",
    "print(d)"
   ]
  },
  {
   "cell_type": "code",
   "execution_count": 13,
   "metadata": {},
   "outputs": [
    {
     "name": "stdout",
     "output_type": "stream",
     "text": [
      "<class 'int'>\t<class 'int'>\t<class 'int'>\t<class 'int'>\t<class 'int'>\t<class 'str'>\t<class 'str'>\t"
     ]
    }
   ],
   "source": [
    "# 3. iterate over d printing type...\n",
    "for i in d:\n",
    "    print(type(i), end='\\t')"
   ]
  },
  {
   "cell_type": "code",
   "execution_count": 14,
   "metadata": {},
   "outputs": [
    {
     "name": "stdout",
     "output_type": "stream",
     "text": [
      "['Wednesday', 'Thursday', 'Friday']\n"
     ]
    }
   ],
   "source": [
    "# 4. create a new list d2 containing...\n",
    "d2 = ['Wednesday', 'Thursday', 'Friday']\n",
    "print(d2)"
   ]
  },
  {
   "cell_type": "code",
   "execution_count": 15,
   "metadata": {},
   "outputs": [
    {
     "name": "stdout",
     "output_type": "stream",
     "text": [
      "[2, 4, 100, 6, 8, 'Monday', 'Tuesday', 'Wednesday', 'Thursday', 'Friday']\n"
     ]
    }
   ],
   "source": [
    "# 5. concatenate the two lists into d\n",
    "d += d2\n",
    "print(d)"
   ]
  },
  {
   "cell_type": "code",
   "execution_count": 16,
   "metadata": {},
   "outputs": [
    {
     "name": "stdout",
     "output_type": "stream",
     "text": [
      "My favourite day of the week is Friday\n"
     ]
    }
   ],
   "source": [
    "# 6. pop the last value off of d into format string\n",
    "print(f\"My favourite day of the week is {d.pop()}\")"
   ]
  },
  {
   "cell_type": "code",
   "execution_count": 17,
   "metadata": {},
   "outputs": [
    {
     "name": "stdout",
     "output_type": "stream",
     "text": [
      "[ 0.          3.88888889  7.77777778 11.66666667 15.55555556 19.44444444\n",
      " 23.33333333 27.22222222 31.11111111 35.        ]\n"
     ]
    }
   ],
   "source": [
    "# 7. create a numpy array containing linearly spaced values \n",
    "import numpy as np \n",
    "d = np.linspace(0, 35, 10)\n",
    "print(d)"
   ]
  },
  {
   "cell_type": "code",
   "execution_count": 18,
   "metadata": {},
   "outputs": [
    {
     "name": "stdout",
     "output_type": "stream",
     "text": [
      "[[ 0.          3.88888889]\n",
      " [ 7.77777778 11.66666667]\n",
      " [15.55555556 19.44444444]\n",
      " [23.33333333 27.22222222]\n",
      " [31.11111111 35.        ]]\n"
     ]
    }
   ],
   "source": [
    "# 8. reshape d into 5x2\n",
    "d = d.reshape((5, 2))\n",
    "print(d)"
   ]
  },
  {
   "cell_type": "code",
   "execution_count": 19,
   "metadata": {},
   "outputs": [
    {
     "name": "stdout",
     "output_type": "stream",
     "text": [
      "15.56\n",
      "19.44\n"
     ]
    }
   ],
   "source": [
    "# 9. calculate the mean of the values in each column of d\n",
    "averages = np.average(d, axis=0)\n",
    "\n",
    "# column 1\n",
    "print(round(averages[0], 2))\n",
    "\n",
    "# column 2\n",
    "print(round(averages[1], 2))"
   ]
  },
  {
   "cell_type": "code",
   "execution_count": 20,
   "metadata": {},
   "outputs": [
    {
     "name": "stdout",
     "output_type": "stream",
     "text": [
      "[ 3.88888889 11.66666667 19.44444444 27.22222222 35.        ]\n"
     ]
    }
   ],
   "source": [
    "# 10. print the values in d all rows second column\n",
    "print(d[:, 1])"
   ]
  },
  {
   "cell_type": "code",
   "execution_count": null,
   "metadata": {},
   "outputs": [],
   "source": []
  }
 ],
 "metadata": {
  "kernelspec": {
   "display_name": "Python 3 (ipykernel)",
   "language": "python",
   "name": "python3"
  },
  "language_info": {
   "codemirror_mode": {
    "name": "ipython",
    "version": 3
   },
   "file_extension": ".py",
   "mimetype": "text/x-python",
   "name": "python",
   "nbconvert_exporter": "python",
   "pygments_lexer": "ipython3",
   "version": "3.10.6"
  }
 },
 "nbformat": 4,
 "nbformat_minor": 2
}
