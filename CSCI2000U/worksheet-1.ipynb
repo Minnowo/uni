{
 "cells": [
  {
   "cell_type": "code",
   "execution_count": 34,
   "metadata": {},
   "outputs": [
    {
     "name": "stdout",
     "output_type": "stream",
     "text": [
      "[2, 4, 6, 8, 'Monday', 'Tuesday']\n"
     ]
    }
   ],
   "source": [
    "import numpy as np \n",
    "d = [2, 4, 6, 8, 'Monday', 'Tuesday']\n",
    "print(d)"
   ]
  },
  {
   "cell_type": "code",
   "execution_count": 35,
   "metadata": {},
   "outputs": [
    {
     "name": "stdout",
     "output_type": "stream",
     "text": [
      "[2, 100, 4, 6, 8, 'Monday', 'Tuesday']\n"
     ]
    }
   ],
   "source": [
    "d.insert(d.index(4), 100)\n",
    "print(d)"
   ]
  },
  {
   "cell_type": "code",
   "execution_count": 23,
   "metadata": {},
   "outputs": [
    {
     "name": "stdout",
     "output_type": "stream",
     "text": [
      "<class 'int'>\t<class 'int'>\t<class 'int'>\t<class 'int'>\t<class 'int'>\t<class 'str'>\t<class 'str'>\t"
     ]
    }
   ],
   "source": [
    "for i in d:\n",
    "    print(type(i), end='\\t')"
   ]
  },
  {
   "cell_type": "code",
   "execution_count": 36,
   "metadata": {},
   "outputs": [
    {
     "name": "stdout",
     "output_type": "stream",
     "text": [
      "['Wednesday', 'Thursday', 'Friday']\n"
     ]
    }
   ],
   "source": [
    "d2 = ['Wednesday', 'Thursday', 'Friday']\n",
    "print(d2)"
   ]
  },
  {
   "cell_type": "code",
   "execution_count": 37,
   "metadata": {},
   "outputs": [
    {
     "name": "stdout",
     "output_type": "stream",
     "text": [
      "[2, 100, 4, 6, 8, 'Monday', 'Tuesday', 'Wednesday', 'Thursday', 'Friday']\n"
     ]
    }
   ],
   "source": [
    "d += d2\n",
    "print(d)"
   ]
  },
  {
   "cell_type": "code",
   "execution_count": 38,
   "metadata": {},
   "outputs": [
    {
     "name": "stdout",
     "output_type": "stream",
     "text": [
      "My favourite day of the week is Friday\n"
     ]
    }
   ],
   "source": [
    "print(f\"My favourite day of the week is {d.pop()}\")"
   ]
  },
  {
   "cell_type": "code",
   "execution_count": 39,
   "metadata": {},
   "outputs": [
    {
     "name": "stdout",
     "output_type": "stream",
     "text": [
      "[ 0.          3.33333333  6.66666667 10.         13.33333333 16.66666667\n",
      " 20.         23.33333333 26.66666667 30.        ]\n"
     ]
    }
   ],
   "source": [
    "d = np.linspace(0, 30, 10)\n",
    "print(d)"
   ]
  },
  {
   "cell_type": "code",
   "execution_count": 40,
   "metadata": {},
   "outputs": [
    {
     "name": "stdout",
     "output_type": "stream",
     "text": [
      "[[ 0.          3.33333333]\n",
      " [ 6.66666667 10.        ]\n",
      " [13.33333333 16.66666667]\n",
      " [20.         23.33333333]\n",
      " [26.66666667 30.        ]]\n"
     ]
    }
   ],
   "source": [
    "d = d.reshape((5, 2))\n",
    "print(d)"
   ]
  },
  {
   "cell_type": "code",
   "execution_count": 41,
   "metadata": {},
   "outputs": [
    {
     "name": "stdout",
     "output_type": "stream",
     "text": [
      "13.33\n",
      "16.67\n"
     ]
    }
   ],
   "source": [
    "# column 1\n",
    "print(round(sum(d[:, 0]) / len(d[: , 0]), 2))\n",
    "\n",
    "# column 2\n",
    "print(round(sum(d[:, 1]) / len(d[: , 1]), 2))"
   ]
  },
  {
   "cell_type": "code",
   "execution_count": 45,
   "metadata": {},
   "outputs": [
    {
     "name": "stdout",
     "output_type": "stream",
     "text": [
      "[ 6.66666667 10.        ]\n"
     ]
    }
   ],
   "source": [
    "print(d[1, :])"
   ]
  },
  {
   "cell_type": "code",
   "execution_count": null,
   "metadata": {},
   "outputs": [],
   "source": []
  }
 ],
 "metadata": {
  "kernelspec": {
   "display_name": "Python 3 (ipykernel)",
   "language": "python",
   "name": "python3"
  },
  "language_info": {
   "codemirror_mode": {
    "name": "ipython",
    "version": 3
   },
   "file_extension": ".py",
   "mimetype": "text/x-python",
   "name": "python",
   "nbconvert_exporter": "python",
   "pygments_lexer": "ipython3",
   "version": "3.10.6"
  },
  "orig_nbformat": 4
 },
 "nbformat": 4,
 "nbformat_minor": 2
}
