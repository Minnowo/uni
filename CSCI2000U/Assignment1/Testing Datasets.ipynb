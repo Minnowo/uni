{
 "cells": [
  {
   "cell_type": "markdown",
   "id": "2f0b57e3",
   "metadata": {},
   "source": [
    "# Exam Scores\n",
    "### *understanding the student position during exams*"
   ]
  },
  {
   "cell_type": "markdown",
   "id": "bb0b5ca8",
   "metadata": {},
   "source": [
    "Exams are something every student has had to face at somepoint in their lives. In this assignment, I wanted to see how the Gender, Parental Education, Lunch, and Test Prep Courses Completion, affect the grades of students in Math, Reading and Writing."
   ]
  },
  {
   "cell_type": "code",
   "execution_count": 72,
   "id": "ed46888e",
   "metadata": {},
   "outputs": [],
   "source": [
    "# import the basic libraries needed to load, clean and analyse the data\n",
    "import numpy as np\n",
    "import pandas as pd \n",
    "import matplotlib as mpl\n",
    "import os "
   ]
  },
  {
   "cell_type": "markdown",
   "id": "473d0594",
   "metadata": {},
   "source": [
    "## Importing The Data\n",
    "I'm importing this data from a csv file held in the same directory. This is because the source of this data requires and account to download it, so using python to grab it is not ideal."
   ]
  },
  {
   "cell_type": "code",
   "execution_count": 73,
   "id": "4c017c8f",
   "metadata": {},
   "outputs": [],
   "source": [
    "# loading from csv file on file system\n",
    "data_file = \"exams.csv\"\n",
    "\n",
    "# read and set columns\n",
    "raw_data = pd.read_csv(data_file)\n",
    "raw_data.columns = [\"gender\", \"race\", \"parent_ed\", \"lunch\", \"test_prep_course\", \"math\", \"reading\", \"writing\"]\n"
   ]
  },
  {
   "cell_type": "markdown",
   "id": "89353399",
   "metadata": {},
   "source": [
    "## Data Cleaning\n",
    "#### I will be removing columns that will not be analised in this data set, such as race, as well as any null values that might persist"
   ]
  },
  {
   "cell_type": "code",
   "execution_count": 74,
   "id": "920542e1",
   "metadata": {},
   "outputs": [
    {
     "name": "stdout",
     "output_type": "stream",
     "text": [
      "Gender           : male, female\n",
      "Parent Educations: high school, some high school, some college, associate's degree, bachelor's degree, master's degree\n",
      "Lunches          : standard, free/reduced\n",
      "Test Prep Done   : completed, none\n"
     ]
    }
   ],
   "source": [
    "\n",
    "# remove null values that might persist\n",
    "data = raw_data.dropna(axis=0) \n",
    "\n",
    "# dropping this column since I don't plan on using it\n",
    "data = data.drop('race', axis=1)\n",
    "\n",
    "# lets see what options we have for our non-numeric columns\n",
    "print(\"Gender           :\", \", \".join(raw_data['gender'].unique()))\n",
    "print(\"Parent Educations:\", \", \".join(raw_data['parent_ed'].unique()))\n",
    "print(\"Lunches          :\", \", \".join(raw_data['lunch'].unique()))\n",
    "print(\"Test Prep Done   :\", \", \".join(raw_data['test_prep_course'].unique()))"
   ]
  },
  {
   "cell_type": "markdown",
   "id": "c75a1f6a",
   "metadata": {},
   "source": [
    "##### Now that we can see some of our categorical data, we can further clean it"
   ]
  },
  {
   "cell_type": "code",
   "execution_count": 79,
   "id": "04eeb6f9",
   "metadata": {},
   "outputs": [],
   "source": [
    "# replace the test prep course with 1 for true and 0 for false\n",
    "data = data.replace({'test_prep_course': {'completed': 1, 'none': 0}})\n",
    "\n",
    "# a simple ranking for the education level\n",
    "education_ranking = {\n",
    "    'some high school'   : 0,\n",
    "    'high school'        : 1,\n",
    "    'some college'       : 2,\n",
    "    \"associate's degree\" : 3,\n",
    "    \"bachelor's degree\"  : 4,\n",
    "    \"master's degree\"    : 5\n",
    "}\n",
    "\n",
    "# replace the parent education with a scalar value, lower = worse, higher = better\n",
    "data = data.replace({'parent_ed': education_ranking})\n",
    "\n",
    "# # add a new colum so we can see the parent education value next to the education level\n",
    "# data['parent_ed_num'] = [ education_ranking.get(x) for x in data['parent_ed'] ]\n",
    "\n",
    "# re-order the columns \n",
    "data = data[[\"gender\", \"parent_ed\", \"lunch\", \"test_prep_course\", \"math\", \"reading\", \"writing\"]]"
   ]
  },
  {
   "cell_type": "code",
   "execution_count": 80,
   "id": "4ca8033b",
   "metadata": {},
   "outputs": [
    {
     "data": {
      "text/html": [
       "<div>\n",
       "<style scoped>\n",
       "    .dataframe tbody tr th:only-of-type {\n",
       "        vertical-align: middle;\n",
       "    }\n",
       "\n",
       "    .dataframe tbody tr th {\n",
       "        vertical-align: top;\n",
       "    }\n",
       "\n",
       "    .dataframe thead th {\n",
       "        text-align: right;\n",
       "    }\n",
       "</style>\n",
       "<table border=\"1\" class=\"dataframe\">\n",
       "  <thead>\n",
       "    <tr style=\"text-align: right;\">\n",
       "      <th></th>\n",
       "      <th>gender</th>\n",
       "      <th>parent_ed</th>\n",
       "      <th>lunch</th>\n",
       "      <th>test_prep_course</th>\n",
       "      <th>math</th>\n",
       "      <th>reading</th>\n",
       "      <th>writing</th>\n",
       "    </tr>\n",
       "  </thead>\n",
       "  <tbody>\n",
       "    <tr>\n",
       "      <th>0</th>\n",
       "      <td>male</td>\n",
       "      <td>1</td>\n",
       "      <td>standard</td>\n",
       "      <td>1</td>\n",
       "      <td>67</td>\n",
       "      <td>67</td>\n",
       "      <td>63</td>\n",
       "    </tr>\n",
       "    <tr>\n",
       "      <th>1</th>\n",
       "      <td>female</td>\n",
       "      <td>0</td>\n",
       "      <td>free/reduced</td>\n",
       "      <td>0</td>\n",
       "      <td>40</td>\n",
       "      <td>59</td>\n",
       "      <td>55</td>\n",
       "    </tr>\n",
       "    <tr>\n",
       "      <th>2</th>\n",
       "      <td>male</td>\n",
       "      <td>2</td>\n",
       "      <td>free/reduced</td>\n",
       "      <td>0</td>\n",
       "      <td>59</td>\n",
       "      <td>60</td>\n",
       "      <td>50</td>\n",
       "    </tr>\n",
       "    <tr>\n",
       "      <th>3</th>\n",
       "      <td>male</td>\n",
       "      <td>1</td>\n",
       "      <td>standard</td>\n",
       "      <td>0</td>\n",
       "      <td>77</td>\n",
       "      <td>78</td>\n",
       "      <td>68</td>\n",
       "    </tr>\n",
       "    <tr>\n",
       "      <th>4</th>\n",
       "      <td>male</td>\n",
       "      <td>3</td>\n",
       "      <td>standard</td>\n",
       "      <td>1</td>\n",
       "      <td>78</td>\n",
       "      <td>73</td>\n",
       "      <td>68</td>\n",
       "    </tr>\n",
       "    <tr>\n",
       "      <th>...</th>\n",
       "      <td>...</td>\n",
       "      <td>...</td>\n",
       "      <td>...</td>\n",
       "      <td>...</td>\n",
       "      <td>...</td>\n",
       "      <td>...</td>\n",
       "      <td>...</td>\n",
       "    </tr>\n",
       "    <tr>\n",
       "      <th>995</th>\n",
       "      <td>male</td>\n",
       "      <td>1</td>\n",
       "      <td>standard</td>\n",
       "      <td>0</td>\n",
       "      <td>73</td>\n",
       "      <td>70</td>\n",
       "      <td>65</td>\n",
       "    </tr>\n",
       "    <tr>\n",
       "      <th>996</th>\n",
       "      <td>male</td>\n",
       "      <td>3</td>\n",
       "      <td>free/reduced</td>\n",
       "      <td>1</td>\n",
       "      <td>85</td>\n",
       "      <td>91</td>\n",
       "      <td>92</td>\n",
       "    </tr>\n",
       "    <tr>\n",
       "      <th>997</th>\n",
       "      <td>female</td>\n",
       "      <td>0</td>\n",
       "      <td>free/reduced</td>\n",
       "      <td>0</td>\n",
       "      <td>32</td>\n",
       "      <td>35</td>\n",
       "      <td>41</td>\n",
       "    </tr>\n",
       "    <tr>\n",
       "      <th>998</th>\n",
       "      <td>female</td>\n",
       "      <td>2</td>\n",
       "      <td>standard</td>\n",
       "      <td>0</td>\n",
       "      <td>73</td>\n",
       "      <td>74</td>\n",
       "      <td>82</td>\n",
       "    </tr>\n",
       "    <tr>\n",
       "      <th>999</th>\n",
       "      <td>male</td>\n",
       "      <td>2</td>\n",
       "      <td>standard</td>\n",
       "      <td>1</td>\n",
       "      <td>65</td>\n",
       "      <td>60</td>\n",
       "      <td>62</td>\n",
       "    </tr>\n",
       "  </tbody>\n",
       "</table>\n",
       "<p>1000 rows × 7 columns</p>\n",
       "</div>"
      ],
      "text/plain": [
       "     gender  parent_ed         lunch  test_prep_course  math  reading  writing\n",
       "0      male          1      standard                 1    67       67       63\n",
       "1    female          0  free/reduced                 0    40       59       55\n",
       "2      male          2  free/reduced                 0    59       60       50\n",
       "3      male          1      standard                 0    77       78       68\n",
       "4      male          3      standard                 1    78       73       68\n",
       "..      ...        ...           ...               ...   ...      ...      ...\n",
       "995    male          1      standard                 0    73       70       65\n",
       "996    male          3  free/reduced                 1    85       91       92\n",
       "997  female          0  free/reduced                 0    32       35       41\n",
       "998  female          2      standard                 0    73       74       82\n",
       "999    male          2      standard                 1    65       60       62\n",
       "\n",
       "[1000 rows x 7 columns]"
      ]
     },
     "execution_count": 80,
     "metadata": {},
     "output_type": "execute_result"
    }
   ],
   "source": [
    "data"
   ]
  },
  {
   "cell_type": "code",
   "execution_count": null,
   "id": "3769afca",
   "metadata": {},
   "outputs": [],
   "source": []
  }
 ],
 "metadata": {
  "kernelspec": {
   "display_name": "Python 3 (ipykernel)",
   "language": "python",
   "name": "python3"
  },
  "language_info": {
   "codemirror_mode": {
    "name": "ipython",
    "version": 3
   },
   "file_extension": ".py",
   "mimetype": "text/x-python",
   "name": "python",
   "nbconvert_exporter": "python",
   "pygments_lexer": "ipython3",
   "version": "3.10.6"
  }
 },
 "nbformat": 4,
 "nbformat_minor": 5
}
