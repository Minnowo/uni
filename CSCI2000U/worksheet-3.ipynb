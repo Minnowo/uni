{
 "cells": [
  {
   "cell_type": "code",
   "execution_count": 1,
   "id": "09509f69",
   "metadata": {},
   "outputs": [],
   "source": [
    "# 1. create nested list d\n",
    "d = [\n",
    "    [\"ID\", \"Age\", \"is_part_time\", \"salary\"],\n",
    "    [23,  34, True, 72000],\n",
    "    [24,  22, True, 50000],\n",
    "    [25, 69, False, 99000],\n",
    "    [26, 62, False, 99001]\n",
    "]\n",
    "\n"
   ]
  },
  {
   "cell_type": "code",
   "execution_count": 2,
   "id": "bffa27b3",
   "metadata": {},
   "outputs": [
    {
     "name": "stdout",
     "output_type": "stream",
     "text": [
      "D:\\Programming\\CLONES\\uni\\CSCI2000U\n"
     ]
    }
   ],
   "source": [
    "# 2.\n",
    "import os\n",
    "print(os.getcwd())"
   ]
  },
  {
   "cell_type": "code",
   "execution_count": 5,
   "id": "c15632bb",
   "metadata": {},
   "outputs": [],
   "source": [
    "# 3.\n",
    "import csv\n",
    "\n",
    "# open the file in the write mode\n",
    "with open('worksheet3-d-list.csv', 'w', newline='') as f:\n",
    "\n",
    "    # create the csv writer\n",
    "    writer = csv.writer(f)\n",
    "\n",
    "    for row in d:\n",
    "        \n",
    "        writer.writerow(row)\n",
    "\n"
   ]
  },
  {
   "cell_type": "code",
   "execution_count": 6,
   "id": "2b4b24c8",
   "metadata": {},
   "outputs": [
    {
     "name": "stdout",
     "output_type": "stream",
     "text": [
      "   ID  Age  is_part_time  salary\n",
      "0  23   34          True   72000\n",
      "1  24   22          True   50000\n",
      "2  25   69         False   99000\n",
      "3  26   62         False   99001\n"
     ]
    }
   ],
   "source": [
    "# 4.\n",
    "import pandas as pd\n",
    "\n",
    "d2 = pd.read_csv('worksheet3-d-list.csv')\n",
    "print(d2)"
   ]
  },
  {
   "cell_type": "code",
   "execution_count": 18,
   "id": "49834ffc",
   "metadata": {},
   "outputs": [
    {
     "name": "stdout",
     "output_type": "stream",
     "text": [
      "a    0\n",
      "b    1\n",
      "c    2\n",
      "d    3\n",
      "e    4\n",
      "dtype: int64\n"
     ]
    }
   ],
   "source": [
    "# 5.\n",
    "d = pd.Series(range(0, 5), index=[chr(i) for i in range(ord('a'), ord('f'))])\n",
    "print(d)"
   ]
  },
  {
   "cell_type": "code",
   "execution_count": 20,
   "id": "d73ee98c",
   "metadata": {},
   "outputs": [
    {
     "name": "stdout",
     "output_type": "stream",
     "text": [
      "a    5\n",
      "b    6\n",
      "c    7\n",
      "d    8\n",
      "z    9\n",
      "dtype: int64\n"
     ]
    }
   ],
   "source": [
    "# 6.\n",
    "d2 = pd.Series(range(5, 10), index=[chr(i) for i in range(ord('a'), ord('e'))] + ['z'])\n",
    "print(d2)"
   ]
  },
  {
   "cell_type": "code",
   "execution_count": 22,
   "id": "66c1c934",
   "metadata": {},
   "outputs": [
    {
     "name": "stdout",
     "output_type": "stream",
     "text": [
      "a     5.0\n",
      "b     7.0\n",
      "c     9.0\n",
      "d    11.0\n",
      "e     NaN\n",
      "z     NaN\n",
      "dtype: float64\n"
     ]
    }
   ],
   "source": [
    "# 7.\n",
    "d3 = d + d2\n",
    "print(d3)"
   ]
  },
  {
   "cell_type": "code",
   "execution_count": 32,
   "id": "ba7ba6b4",
   "metadata": {},
   "outputs": [
    {
     "name": "stdout",
     "output_type": "stream",
     "text": [
      "e   NaN\n",
      "z   NaN\n",
      "dtype: float64\n"
     ]
    }
   ],
   "source": [
    "# 8.\n",
    "\n",
    "print(d3[d3.isna()])"
   ]
  },
  {
   "cell_type": "code",
   "execution_count": 40,
   "id": "03ee5201",
   "metadata": {},
   "outputs": [
    {
     "name": "stdout",
     "output_type": "stream",
     "text": [
      "     A    B     C          D\n",
      "0  0.0  0.0  foo1 2009-01-01\n",
      "1  1.0  1.0  foo2 2009-01-02\n",
      "2  2.0  0.0  foo3 2009-01-05\n",
      "3  3.0  1.0  foo4 2009-01-06\n",
      "4  4.0  0.0  foo5 2009-01-07\n"
     ]
    }
   ],
   "source": [
    "# 9.\n",
    "\n",
    "import pandas.util.testing\n",
    "\n",
    "d4 = pd.util.testing.makeMixedDataFrame()\n",
    "print(d4)"
   ]
  },
  {
   "cell_type": "code",
   "execution_count": 43,
   "id": "3ec44082",
   "metadata": {},
   "outputs": [
    {
     "name": "stdout",
     "output_type": "stream",
     "text": [
      "     A    B     C          D  greater\n",
      "0  0.0  0.0  foo1 2009-01-01    False\n",
      "1  1.0  1.0  foo2 2009-01-02    False\n",
      "2  2.0  0.0  foo3 2009-01-05    False\n",
      "3  3.0  1.0  foo4 2009-01-06     True\n",
      "4  4.0  0.0  foo5 2009-01-07     True\n"
     ]
    }
   ],
   "source": [
    "# 10.\n",
    "import numpy as np\n",
    "\n",
    "d4['greater'] = np.where(d4.A > 2, True, False)\n",
    "print(d4)"
   ]
  },
  {
   "cell_type": "code",
   "execution_count": null,
   "id": "dfccfd25",
   "metadata": {},
   "outputs": [],
   "source": []
  }
 ],
 "metadata": {
  "kernelspec": {
   "display_name": "Python 3 (ipykernel)",
   "language": "python",
   "name": "python3"
  },
  "language_info": {
   "codemirror_mode": {
    "name": "ipython",
    "version": 3
   },
   "file_extension": ".py",
   "mimetype": "text/x-python",
   "name": "python",
   "nbconvert_exporter": "python",
   "pygments_lexer": "ipython3",
   "version": "3.10.6"
  }
 },
 "nbformat": 4,
 "nbformat_minor": 5
}
