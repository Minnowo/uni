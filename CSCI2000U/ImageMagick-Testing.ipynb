{
 "cells": [
  {
   "cell_type": "code",
   "execution_count": 23,
   "id": "0d6d6628",
   "metadata": {},
   "outputs": [],
   "source": [
    "import subprocess\n",
    "from PIL import Image\n",
    "import os \n",
    "import io\n",
    "\n",
    "MAGICK_BASE = \"C:\\\\Users\\\\minno\\\\AppData\\\\Roaming\\\\ImageMagick\\\\\"\n",
    "CONVERT = MAGICK_BASE + \"convert.exe\"\n",
    "\n",
    "DOWNLOADS = \" C:\\\\Users\\\\minno\\\\Downloads\\\\pictures\\\\\"\n",
    "\n",
    "def load_image(path):\n",
    "    \n",
    "    if not os.path.isfile(path):\n",
    "        print('file does not exist')\n",
    "        return\n",
    "    \n",
    "    proc = subprocess.Popen([CONVERT, path, \"bmp:-\"], stdout=subprocess.PIPE)\n",
    "    \n",
    "    buffer = io.BytesIO(proc.stdout.read())\n",
    "    \n",
    "    image = Image.load(buffer)\n",
    "    print(image)\n",
    "    return image\n",
    "    "
   ]
  },
  {
   "cell_type": "code",
   "execution_count": 24,
   "id": "6619d1a0",
   "metadata": {},
   "outputs": [
    {
     "name": "stdout",
     "output_type": "stream",
     "text": [
      " C:\\Users\\minno\\Downloads\\pictures\\cat.webp\n",
      "file does not exist\n"
     ]
    }
   ],
   "source": [
    "i = load_image(DOWNLOADS + \"cat.webp\")\n"
   ]
  },
  {
   "cell_type": "code",
   "execution_count": null,
   "id": "502ac604",
   "metadata": {},
   "outputs": [],
   "source": []
  },
  {
   "cell_type": "code",
   "execution_count": null,
   "id": "b8e62a20",
   "metadata": {},
   "outputs": [],
   "source": []
  },
  {
   "cell_type": "code",
   "execution_count": null,
   "id": "f5b411c8",
   "metadata": {},
   "outputs": [],
   "source": []
  }
 ],
 "metadata": {
  "kernelspec": {
   "display_name": "Python 3 (ipykernel)",
   "language": "python",
   "name": "python3"
  },
  "language_info": {
   "codemirror_mode": {
    "name": "ipython",
    "version": 3
   },
   "file_extension": ".py",
   "mimetype": "text/x-python",
   "name": "python",
   "nbconvert_exporter": "python",
   "pygments_lexer": "ipython3",
   "version": "3.9.12"
  }
 },
 "nbformat": 4,
 "nbformat_minor": 5
}
