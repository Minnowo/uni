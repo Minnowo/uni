{
 "cells": [
  {
   "cell_type": "markdown",
   "metadata": {
    "id": "SLsC5FHjCXnr"
   },
   "source": [
    "## Week  (Boolean, transpose)\n",
    "### CSCI 2000U - Scientific Data Analysis"
   ]
  },
  {
   "cell_type": "markdown",
   "metadata": {
    "id": "EfAAlCfHCXnx"
   },
   "source": [
    "We will start by important these libraries. The name you choose to give them when you import than doesn't matter, it is based on what ever short form you prefer"
   ]
  },
  {
   "cell_type": "code",
   "execution_count": 1,
   "metadata": {
    "id": "bq5zqRNDCXny"
   },
   "outputs": [],
   "source": [
    "import numpy as np\n",
    "import pandas as pd"
   ]
  },
  {
   "cell_type": "code",
   "execution_count": 2,
   "metadata": {
    "id": "USz3DqitCXn0"
   },
   "outputs": [],
   "source": [
    "import sklearn.datasets as datasets"
   ]
  },
  {
   "cell_type": "markdown",
   "metadata": {
    "id": "tfgafwMlCXn0"
   },
   "source": [
    "### Lets turn this numpy array into a pandas data frame\n",
    "\n",
    "The reason why we are using a dataframe, is because a data frame can have multiple columns, while Series can have 1, technically, a dataframe is made up of a collection of series's"
   ]
  },
  {
   "cell_type": "code",
   "execution_count": 6,
   "metadata": {
    "id": "7A98wM-HCXn1"
   },
   "outputs": [],
   "source": [
    "#Assigning the data set to a variable we have just created\n",
    "data = datasets.load_linnerud().data\n",
    "\n",
    "datapd = pd.DataFrame(data)\n"
   ]
  },
  {
   "cell_type": "markdown",
   "metadata": {
    "id": "F358zbDuCXn1"
   },
   "source": [
    "### This data is about asking people how many chinups, situps, and jumps, 20 people were asked"
   ]
  },
  {
   "cell_type": "code",
   "execution_count": 7,
   "metadata": {
    "colab": {
     "base_uri": "https://localhost:8080/"
    },
    "id": "vhMgWVhlCXn2",
    "outputId": "04f94f6f-5ea3-4b65-9a51-f372e88ea134"
   },
   "outputs": [
    {
     "name": "stdout",
     "output_type": "stream",
     "text": [
      "       0      1      2\n",
      "0    5.0  162.0   60.0\n",
      "1    2.0  110.0   60.0\n",
      "2   12.0  101.0  101.0\n",
      "3   12.0  105.0   37.0\n",
      "4   13.0  155.0   58.0\n",
      "5    4.0  101.0   42.0\n",
      "6    8.0  101.0   38.0\n",
      "7    6.0  125.0   40.0\n",
      "8   15.0  200.0   40.0\n",
      "9   17.0  251.0  250.0\n",
      "10  17.0  120.0   38.0\n",
      "11  13.0  210.0  115.0\n",
      "12  14.0  215.0  105.0\n",
      "13   1.0   50.0   50.0\n",
      "14   6.0   70.0   31.0\n",
      "15  12.0  210.0  120.0\n",
      "16   4.0   60.0   25.0\n",
      "17  11.0  230.0   80.0\n",
      "18  15.0  225.0   73.0\n",
      "19   2.0  110.0   43.0\n"
     ]
    }
   ],
   "source": [
    "print(datapd)"
   ]
  },
  {
   "cell_type": "markdown",
   "metadata": {
    "id": "EJ3C6K1cCXn3"
   },
   "source": [
    "### Now we are going to give this data set some columns"
   ]
  },
  {
   "cell_type": "code",
   "execution_count": 8,
   "metadata": {
    "colab": {
     "base_uri": "https://localhost:8080/"
    },
    "id": "TrPTo35LCXn4",
    "outputId": "3a2c4396-14e8-4136-bba8-aa71a57492a6"
   },
   "outputs": [
    {
     "name": "stdout",
     "output_type": "stream",
     "text": [
      "    chin    sit   jump\n",
      "0    5.0  162.0   60.0\n",
      "1    2.0  110.0   60.0\n",
      "2   12.0  101.0  101.0\n",
      "3   12.0  105.0   37.0\n",
      "4   13.0  155.0   58.0\n",
      "5    4.0  101.0   42.0\n",
      "6    8.0  101.0   38.0\n",
      "7    6.0  125.0   40.0\n",
      "8   15.0  200.0   40.0\n",
      "9   17.0  251.0  250.0\n",
      "10  17.0  120.0   38.0\n",
      "11  13.0  210.0  115.0\n",
      "12  14.0  215.0  105.0\n",
      "13   1.0   50.0   50.0\n",
      "14   6.0   70.0   31.0\n",
      "15  12.0  210.0  120.0\n",
      "16   4.0   60.0   25.0\n",
      "17  11.0  230.0   80.0\n",
      "18  15.0  225.0   73.0\n",
      "19   2.0  110.0   43.0\n"
     ]
    }
   ],
   "source": [
    "datapd.columns = [\"chin\", \"sit\", \"jump\"]\n",
    "\n",
    "print(datapd)"
   ]
  },
  {
   "cell_type": "markdown",
   "metadata": {
    "id": "QlxV3vDmCXn4"
   },
   "source": [
    "### Now lets try re-ordering the columns"
   ]
  },
  {
   "cell_type": "code",
   "execution_count": 9,
   "metadata": {
    "colab": {
     "base_uri": "https://localhost:8080/"
    },
    "id": "AyVGbJ1GCXn4",
    "outputId": "9bffaaea-f62d-453d-9660-e07a047220bb"
   },
   "outputs": [
    {
     "name": "stdout",
     "output_type": "stream",
     "text": [
      "     jump  chin    sit\n",
      "0    60.0   5.0  162.0\n",
      "1    60.0   2.0  110.0\n",
      "2   101.0  12.0  101.0\n",
      "3    37.0  12.0  105.0\n",
      "4    58.0  13.0  155.0\n",
      "5    42.0   4.0  101.0\n",
      "6    38.0   8.0  101.0\n",
      "7    40.0   6.0  125.0\n",
      "8    40.0  15.0  200.0\n",
      "9   250.0  17.0  251.0\n",
      "10   38.0  17.0  120.0\n",
      "11  115.0  13.0  210.0\n",
      "12  105.0  14.0  215.0\n",
      "13   50.0   1.0   50.0\n",
      "14   31.0   6.0   70.0\n",
      "15  120.0  12.0  210.0\n",
      "16   25.0   4.0   60.0\n",
      "17   80.0  11.0  230.0\n",
      "18   73.0  15.0  225.0\n",
      "19   43.0   2.0  110.0\n"
     ]
    }
   ],
   "source": [
    "# have the students do this, these are the answers\n",
    "\n",
    "columns = [\"jump\", \"chin\", \"sit\"]\n",
    "\n",
    "datapd = datapd.reindex(columns = columns)\n",
    "\n",
    "print(datapd)"
   ]
  },
  {
   "cell_type": "markdown",
   "metadata": {
    "id": "gX0EXHAuCXn5"
   },
   "source": [
    "### Now lets drop the jump and sit column"
   ]
  },
  {
   "cell_type": "code",
   "execution_count": 10,
   "metadata": {
    "colab": {
     "base_uri": "https://localhost:8080/"
    },
    "id": "Uoq2s4WbCXn5",
    "outputId": "04a87822-1e47-4adb-a34e-47d78f3c311e"
   },
   "outputs": [
    {
     "name": "stdout",
     "output_type": "stream",
     "text": [
      "    chin\n",
      "0    5.0\n",
      "1    2.0\n",
      "2   12.0\n",
      "3   12.0\n",
      "4   13.0\n",
      "5    4.0\n",
      "6    8.0\n",
      "7    6.0\n",
      "8   15.0\n",
      "9   17.0\n",
      "10  17.0\n",
      "11  13.0\n",
      "12  14.0\n",
      "13   1.0\n",
      "14   6.0\n",
      "15  12.0\n",
      "16   4.0\n",
      "17  11.0\n",
      "18  15.0\n",
      "19   2.0\n"
     ]
    }
   ],
   "source": [
    "datapd = datapd.drop(columns = [\"jump\", \"sit\"])\n",
    "print(datapd)"
   ]
  },
  {
   "cell_type": "markdown",
   "metadata": {
    "id": "mN1VpGDjCXn5"
   },
   "source": [
    "### Now lets create a pandas series using only the chinup column from the pandas data frame"
   ]
  },
  {
   "cell_type": "code",
   "execution_count": 11,
   "metadata": {
    "colab": {
     "base_uri": "https://localhost:8080/"
    },
    "id": "qv6N9nf5CXn6",
    "outputId": "6123a60c-3748-4d69-e4cd-5ae064751d43"
   },
   "outputs": [
    {
     "name": "stdout",
     "output_type": "stream",
     "text": [
      "0      5.0\n",
      "1      2.0\n",
      "2     12.0\n",
      "3     12.0\n",
      "4     13.0\n",
      "5      4.0\n",
      "6      8.0\n",
      "7      6.0\n",
      "8     15.0\n",
      "9     17.0\n",
      "10    17.0\n",
      "11    13.0\n",
      "12    14.0\n",
      "13     1.0\n",
      "14     6.0\n",
      "15    12.0\n",
      "16     4.0\n",
      "17    11.0\n",
      "18    15.0\n",
      "19     2.0\n",
      "Name: chin, dtype: float64\n"
     ]
    }
   ],
   "source": [
    "#Have the students do this, these are the answers:\n",
    "\n",
    "datachin = pd.Series(datapd[\"chin\"])\n",
    "\n",
    "print(datachin)"
   ]
  },
  {
   "cell_type": "markdown",
   "metadata": {
    "id": "6joFTEfaCXn6"
   },
   "source": [
    "### Now were going to index through the chinup series and increase each chinup count by 1"
   ]
  },
  {
   "cell_type": "code",
   "execution_count": 12,
   "metadata": {
    "colab": {
     "base_uri": "https://localhost:8080/"
    },
    "id": "aZdaMSWhCXn6",
    "outputId": "fe482cc5-c212-4133-d4a4-1ea8ecfc0713"
   },
   "outputs": [
    {
     "name": "stdout",
     "output_type": "stream",
     "text": [
      "0      6.0\n",
      "1      3.0\n",
      "2     13.0\n",
      "3     13.0\n",
      "4     14.0\n",
      "5      5.0\n",
      "6      9.0\n",
      "7      7.0\n",
      "8     16.0\n",
      "9     18.0\n",
      "10    18.0\n",
      "11    14.0\n",
      "12    15.0\n",
      "13     2.0\n",
      "14     7.0\n",
      "15    13.0\n",
      "16     5.0\n",
      "17    12.0\n",
      "18    16.0\n",
      "19     3.0\n",
      "Name: chin, dtype: float64\n"
     ]
    }
   ],
   "source": [
    "for idx in range(len(datachin)):\n",
    "    datachin.iloc[idx] = datachin.iloc[idx] + 1\n",
    "    \n",
    "print(datachin)"
   ]
  },
  {
   "cell_type": "markdown",
   "metadata": {
    "id": "Vc-UaW67CXn7"
   },
   "source": [
    "### Lets try to find which rows in the chinup series are equal or higher than 10"
   ]
  },
  {
   "cell_type": "code",
   "execution_count": 13,
   "metadata": {
    "colab": {
     "base_uri": "https://localhost:8080/"
    },
    "id": "YVh8P_pvCXn7",
    "outputId": "8717eff4-7870-4f84-bafe-063fe2a6aa18"
   },
   "outputs": [
    {
     "name": "stdout",
     "output_type": "stream",
     "text": [
      "2     13.0\n",
      "3     13.0\n",
      "4     14.0\n",
      "8     16.0\n",
      "9     18.0\n",
      "10    18.0\n",
      "11    14.0\n",
      "12    15.0\n",
      "15    13.0\n",
      "17    12.0\n",
      "18    16.0\n",
      "Name: chin, dtype: float64\n"
     ]
    }
   ],
   "source": [
    "more_than_10 = datachin[datachin >= 10]\n",
    "\n",
    "print(more_than_10)"
   ]
  },
  {
   "cell_type": "markdown",
   "metadata": {
    "id": "GHQBPp1PCXn7"
   },
   "source": [
    "### Lets try to find HOW MANY rows in the chinup series are less than 10"
   ]
  },
  {
   "cell_type": "code",
   "execution_count": 14,
   "metadata": {
    "colab": {
     "base_uri": "https://localhost:8080/"
    },
    "id": "_VIfyKiLCXn8",
    "outputId": "4e3ab30c-7ce9-4f25-aaef-72c03b941266"
   },
   "outputs": [
    {
     "name": "stdout",
     "output_type": "stream",
     "text": [
      "9\n"
     ]
    }
   ],
   "source": [
    "#have the students do this part, answer:\n",
    "\n",
    "less_than_10 = datachin[datachin < 10]\n",
    "print(len(less_than_10))"
   ]
  },
  {
   "cell_type": "markdown",
   "metadata": {
    "id": "r5X1T0LnCXn8"
   },
   "source": [
    "### Now lets go back and use that data set from last week and give it some column names"
   ]
  },
  {
   "cell_type": "code",
   "execution_count": 15,
   "metadata": {
    "colab": {
     "base_uri": "https://localhost:8080/"
    },
    "id": "Bue6dWahCXn8",
    "outputId": "95685946-e233-497f-9454-2b4eabfabaab"
   },
   "outputs": [
    {
     "name": "stdout",
     "output_type": "stream",
     "text": [
      "       0    1    2    3\n",
      "0    5.1  3.5  1.4  0.2\n",
      "1    4.9  3.0  1.4  0.2\n",
      "2    4.7  3.2  1.3  0.2\n",
      "3    4.6  3.1  1.5  0.2\n",
      "4    5.0  3.6  1.4  0.2\n",
      "..   ...  ...  ...  ...\n",
      "145  6.7  3.0  5.2  2.3\n",
      "146  6.3  2.5  5.0  1.9\n",
      "147  6.5  3.0  5.2  2.0\n",
      "148  6.2  3.4  5.4  2.3\n",
      "149  5.9  3.0  5.1  1.8\n",
      "\n",
      "[150 rows x 4 columns]\n"
     ]
    }
   ],
   "source": [
    "#Assigning the data set to a variable we have just created\n",
    "data = datasets.load_iris().data\n",
    "\n",
    "data = pd.DataFrame(data)\n",
    "\n",
    "print(data)"
   ]
  },
  {
   "cell_type": "markdown",
   "metadata": {
    "id": "-Yv7O8mCCXn8"
   },
   "source": [
    "### Give column names to the flower data"
   ]
  },
  {
   "cell_type": "code",
   "execution_count": 16,
   "metadata": {
    "colab": {
     "base_uri": "https://localhost:8080/"
    },
    "id": "aHyWjGWUCXn8",
    "outputId": "5528e539-7539-4b24-f28d-a28e595695ad"
   },
   "outputs": [
    {
     "name": "stdout",
     "output_type": "stream",
     "text": [
      "     slen  swidth  plen  pwidth\n",
      "0     5.1     3.5   1.4     0.2\n",
      "1     4.9     3.0   1.4     0.2\n",
      "2     4.7     3.2   1.3     0.2\n",
      "3     4.6     3.1   1.5     0.2\n",
      "4     5.0     3.6   1.4     0.2\n",
      "..    ...     ...   ...     ...\n",
      "145   6.7     3.0   5.2     2.3\n",
      "146   6.3     2.5   5.0     1.9\n",
      "147   6.5     3.0   5.2     2.0\n",
      "148   6.2     3.4   5.4     2.3\n",
      "149   5.9     3.0   5.1     1.8\n",
      "\n",
      "[150 rows x 4 columns]\n"
     ]
    }
   ],
   "source": [
    "\n",
    "\n",
    "columns = [\"slen\", \"swidth\", \"plen\", \"pwidth\"]\n",
    "\n",
    "data.columns = columns\n",
    "\n",
    "print(data)"
   ]
  },
  {
   "cell_type": "markdown",
   "metadata": {
    "id": "I5uVvMl0CXn9"
   },
   "source": [
    "### Lets try sorting the rows in order of the sepal length"
   ]
  },
  {
   "cell_type": "code",
   "execution_count": 17,
   "metadata": {
    "colab": {
     "base_uri": "https://localhost:8080/",
     "height": 424
    },
    "id": "h8VUuDcnCXn9",
    "outputId": "487da23e-0acc-4b6e-d0bc-470e5b06b497"
   },
   "outputs": [
    {
     "data": {
      "text/html": [
       "<div>\n",
       "<style scoped>\n",
       "    .dataframe tbody tr th:only-of-type {\n",
       "        vertical-align: middle;\n",
       "    }\n",
       "\n",
       "    .dataframe tbody tr th {\n",
       "        vertical-align: top;\n",
       "    }\n",
       "\n",
       "    .dataframe thead th {\n",
       "        text-align: right;\n",
       "    }\n",
       "</style>\n",
       "<table border=\"1\" class=\"dataframe\">\n",
       "  <thead>\n",
       "    <tr style=\"text-align: right;\">\n",
       "      <th></th>\n",
       "      <th>slen</th>\n",
       "      <th>swidth</th>\n",
       "      <th>plen</th>\n",
       "      <th>pwidth</th>\n",
       "    </tr>\n",
       "  </thead>\n",
       "  <tbody>\n",
       "    <tr>\n",
       "      <th>13</th>\n",
       "      <td>4.3</td>\n",
       "      <td>3.0</td>\n",
       "      <td>1.1</td>\n",
       "      <td>0.1</td>\n",
       "    </tr>\n",
       "    <tr>\n",
       "      <th>42</th>\n",
       "      <td>4.4</td>\n",
       "      <td>3.2</td>\n",
       "      <td>1.3</td>\n",
       "      <td>0.2</td>\n",
       "    </tr>\n",
       "    <tr>\n",
       "      <th>38</th>\n",
       "      <td>4.4</td>\n",
       "      <td>3.0</td>\n",
       "      <td>1.3</td>\n",
       "      <td>0.2</td>\n",
       "    </tr>\n",
       "    <tr>\n",
       "      <th>8</th>\n",
       "      <td>4.4</td>\n",
       "      <td>2.9</td>\n",
       "      <td>1.4</td>\n",
       "      <td>0.2</td>\n",
       "    </tr>\n",
       "    <tr>\n",
       "      <th>41</th>\n",
       "      <td>4.5</td>\n",
       "      <td>2.3</td>\n",
       "      <td>1.3</td>\n",
       "      <td>0.3</td>\n",
       "    </tr>\n",
       "    <tr>\n",
       "      <th>...</th>\n",
       "      <td>...</td>\n",
       "      <td>...</td>\n",
       "      <td>...</td>\n",
       "      <td>...</td>\n",
       "    </tr>\n",
       "    <tr>\n",
       "      <th>122</th>\n",
       "      <td>7.7</td>\n",
       "      <td>2.8</td>\n",
       "      <td>6.7</td>\n",
       "      <td>2.0</td>\n",
       "    </tr>\n",
       "    <tr>\n",
       "      <th>118</th>\n",
       "      <td>7.7</td>\n",
       "      <td>2.6</td>\n",
       "      <td>6.9</td>\n",
       "      <td>2.3</td>\n",
       "    </tr>\n",
       "    <tr>\n",
       "      <th>117</th>\n",
       "      <td>7.7</td>\n",
       "      <td>3.8</td>\n",
       "      <td>6.7</td>\n",
       "      <td>2.2</td>\n",
       "    </tr>\n",
       "    <tr>\n",
       "      <th>135</th>\n",
       "      <td>7.7</td>\n",
       "      <td>3.0</td>\n",
       "      <td>6.1</td>\n",
       "      <td>2.3</td>\n",
       "    </tr>\n",
       "    <tr>\n",
       "      <th>131</th>\n",
       "      <td>7.9</td>\n",
       "      <td>3.8</td>\n",
       "      <td>6.4</td>\n",
       "      <td>2.0</td>\n",
       "    </tr>\n",
       "  </tbody>\n",
       "</table>\n",
       "<p>150 rows × 4 columns</p>\n",
       "</div>"
      ],
      "text/plain": [
       "     slen  swidth  plen  pwidth\n",
       "13    4.3     3.0   1.1     0.1\n",
       "42    4.4     3.2   1.3     0.2\n",
       "38    4.4     3.0   1.3     0.2\n",
       "8     4.4     2.9   1.4     0.2\n",
       "41    4.5     2.3   1.3     0.3\n",
       "..    ...     ...   ...     ...\n",
       "122   7.7     2.8   6.7     2.0\n",
       "118   7.7     2.6   6.9     2.3\n",
       "117   7.7     3.8   6.7     2.2\n",
       "135   7.7     3.0   6.1     2.3\n",
       "131   7.9     3.8   6.4     2.0\n",
       "\n",
       "[150 rows x 4 columns]"
      ]
     },
     "execution_count": 17,
     "metadata": {},
     "output_type": "execute_result"
    }
   ],
   "source": [
    "data.sort_values(\"slen\")"
   ]
  },
  {
   "cell_type": "markdown",
   "metadata": {
    "id": "NyKpYL98CXn9"
   },
   "source": [
    "### Now lets try sorting the rows in order of the petal width, but from largest to smallest"
   ]
  },
  {
   "cell_type": "code",
   "execution_count": 18,
   "metadata": {
    "colab": {
     "base_uri": "https://localhost:8080/",
     "height": 424
    },
    "id": "HCswCeA4CXn9",
    "outputId": "780af6e2-20c4-4422-e35d-2bb7c1545f34"
   },
   "outputs": [
    {
     "data": {
      "text/html": [
       "<div>\n",
       "<style scoped>\n",
       "    .dataframe tbody tr th:only-of-type {\n",
       "        vertical-align: middle;\n",
       "    }\n",
       "\n",
       "    .dataframe tbody tr th {\n",
       "        vertical-align: top;\n",
       "    }\n",
       "\n",
       "    .dataframe thead th {\n",
       "        text-align: right;\n",
       "    }\n",
       "</style>\n",
       "<table border=\"1\" class=\"dataframe\">\n",
       "  <thead>\n",
       "    <tr style=\"text-align: right;\">\n",
       "      <th></th>\n",
       "      <th>slen</th>\n",
       "      <th>swidth</th>\n",
       "      <th>plen</th>\n",
       "      <th>pwidth</th>\n",
       "    </tr>\n",
       "  </thead>\n",
       "  <tbody>\n",
       "    <tr>\n",
       "      <th>100</th>\n",
       "      <td>6.3</td>\n",
       "      <td>3.3</td>\n",
       "      <td>6.0</td>\n",
       "      <td>2.5</td>\n",
       "    </tr>\n",
       "    <tr>\n",
       "      <th>109</th>\n",
       "      <td>7.2</td>\n",
       "      <td>3.6</td>\n",
       "      <td>6.1</td>\n",
       "      <td>2.5</td>\n",
       "    </tr>\n",
       "    <tr>\n",
       "      <th>144</th>\n",
       "      <td>6.7</td>\n",
       "      <td>3.3</td>\n",
       "      <td>5.7</td>\n",
       "      <td>2.5</td>\n",
       "    </tr>\n",
       "    <tr>\n",
       "      <th>114</th>\n",
       "      <td>5.8</td>\n",
       "      <td>2.8</td>\n",
       "      <td>5.1</td>\n",
       "      <td>2.4</td>\n",
       "    </tr>\n",
       "    <tr>\n",
       "      <th>140</th>\n",
       "      <td>6.7</td>\n",
       "      <td>3.1</td>\n",
       "      <td>5.6</td>\n",
       "      <td>2.4</td>\n",
       "    </tr>\n",
       "    <tr>\n",
       "      <th>...</th>\n",
       "      <td>...</td>\n",
       "      <td>...</td>\n",
       "      <td>...</td>\n",
       "      <td>...</td>\n",
       "    </tr>\n",
       "    <tr>\n",
       "      <th>12</th>\n",
       "      <td>4.8</td>\n",
       "      <td>3.0</td>\n",
       "      <td>1.4</td>\n",
       "      <td>0.1</td>\n",
       "    </tr>\n",
       "    <tr>\n",
       "      <th>13</th>\n",
       "      <td>4.3</td>\n",
       "      <td>3.0</td>\n",
       "      <td>1.1</td>\n",
       "      <td>0.1</td>\n",
       "    </tr>\n",
       "    <tr>\n",
       "      <th>37</th>\n",
       "      <td>4.9</td>\n",
       "      <td>3.6</td>\n",
       "      <td>1.4</td>\n",
       "      <td>0.1</td>\n",
       "    </tr>\n",
       "    <tr>\n",
       "      <th>32</th>\n",
       "      <td>5.2</td>\n",
       "      <td>4.1</td>\n",
       "      <td>1.5</td>\n",
       "      <td>0.1</td>\n",
       "    </tr>\n",
       "    <tr>\n",
       "      <th>9</th>\n",
       "      <td>4.9</td>\n",
       "      <td>3.1</td>\n",
       "      <td>1.5</td>\n",
       "      <td>0.1</td>\n",
       "    </tr>\n",
       "  </tbody>\n",
       "</table>\n",
       "<p>150 rows × 4 columns</p>\n",
       "</div>"
      ],
      "text/plain": [
       "     slen  swidth  plen  pwidth\n",
       "100   6.3     3.3   6.0     2.5\n",
       "109   7.2     3.6   6.1     2.5\n",
       "144   6.7     3.3   5.7     2.5\n",
       "114   5.8     2.8   5.1     2.4\n",
       "140   6.7     3.1   5.6     2.4\n",
       "..    ...     ...   ...     ...\n",
       "12    4.8     3.0   1.4     0.1\n",
       "13    4.3     3.0   1.1     0.1\n",
       "37    4.9     3.6   1.4     0.1\n",
       "32    5.2     4.1   1.5     0.1\n",
       "9     4.9     3.1   1.5     0.1\n",
       "\n",
       "[150 rows x 4 columns]"
      ]
     },
     "execution_count": 18,
     "metadata": {},
     "output_type": "execute_result"
    }
   ],
   "source": [
    "data.sort_values(\"pwidth\", ascending=False)"
   ]
  },
  {
   "cell_type": "markdown",
   "metadata": {
    "id": "eJZt9F3-CXn9"
   },
   "source": [
    "### Lets take a general look at some of this data"
   ]
  },
  {
   "cell_type": "code",
   "execution_count": 19,
   "metadata": {
    "colab": {
     "base_uri": "https://localhost:8080/",
     "height": 300
    },
    "id": "mQzcejwtCXn-",
    "outputId": "31bf4f11-963a-43b5-f923-bc1c84467ea7"
   },
   "outputs": [
    {
     "data": {
      "text/html": [
       "<div>\n",
       "<style scoped>\n",
       "    .dataframe tbody tr th:only-of-type {\n",
       "        vertical-align: middle;\n",
       "    }\n",
       "\n",
       "    .dataframe tbody tr th {\n",
       "        vertical-align: top;\n",
       "    }\n",
       "\n",
       "    .dataframe thead th {\n",
       "        text-align: right;\n",
       "    }\n",
       "</style>\n",
       "<table border=\"1\" class=\"dataframe\">\n",
       "  <thead>\n",
       "    <tr style=\"text-align: right;\">\n",
       "      <th></th>\n",
       "      <th>slen</th>\n",
       "      <th>swidth</th>\n",
       "      <th>plen</th>\n",
       "      <th>pwidth</th>\n",
       "    </tr>\n",
       "  </thead>\n",
       "  <tbody>\n",
       "    <tr>\n",
       "      <th>count</th>\n",
       "      <td>150.000000</td>\n",
       "      <td>150.000000</td>\n",
       "      <td>150.000000</td>\n",
       "      <td>150.000000</td>\n",
       "    </tr>\n",
       "    <tr>\n",
       "      <th>mean</th>\n",
       "      <td>5.843333</td>\n",
       "      <td>3.057333</td>\n",
       "      <td>3.758000</td>\n",
       "      <td>1.199333</td>\n",
       "    </tr>\n",
       "    <tr>\n",
       "      <th>std</th>\n",
       "      <td>0.828066</td>\n",
       "      <td>0.435866</td>\n",
       "      <td>1.765298</td>\n",
       "      <td>0.762238</td>\n",
       "    </tr>\n",
       "    <tr>\n",
       "      <th>min</th>\n",
       "      <td>4.300000</td>\n",
       "      <td>2.000000</td>\n",
       "      <td>1.000000</td>\n",
       "      <td>0.100000</td>\n",
       "    </tr>\n",
       "    <tr>\n",
       "      <th>25%</th>\n",
       "      <td>5.100000</td>\n",
       "      <td>2.800000</td>\n",
       "      <td>1.600000</td>\n",
       "      <td>0.300000</td>\n",
       "    </tr>\n",
       "    <tr>\n",
       "      <th>50%</th>\n",
       "      <td>5.800000</td>\n",
       "      <td>3.000000</td>\n",
       "      <td>4.350000</td>\n",
       "      <td>1.300000</td>\n",
       "    </tr>\n",
       "    <tr>\n",
       "      <th>75%</th>\n",
       "      <td>6.400000</td>\n",
       "      <td>3.300000</td>\n",
       "      <td>5.100000</td>\n",
       "      <td>1.800000</td>\n",
       "    </tr>\n",
       "    <tr>\n",
       "      <th>max</th>\n",
       "      <td>7.900000</td>\n",
       "      <td>4.400000</td>\n",
       "      <td>6.900000</td>\n",
       "      <td>2.500000</td>\n",
       "    </tr>\n",
       "  </tbody>\n",
       "</table>\n",
       "</div>"
      ],
      "text/plain": [
       "             slen      swidth        plen      pwidth\n",
       "count  150.000000  150.000000  150.000000  150.000000\n",
       "mean     5.843333    3.057333    3.758000    1.199333\n",
       "std      0.828066    0.435866    1.765298    0.762238\n",
       "min      4.300000    2.000000    1.000000    0.100000\n",
       "25%      5.100000    2.800000    1.600000    0.300000\n",
       "50%      5.800000    3.000000    4.350000    1.300000\n",
       "75%      6.400000    3.300000    5.100000    1.800000\n",
       "max      7.900000    4.400000    6.900000    2.500000"
      ]
     },
     "execution_count": 19,
     "metadata": {},
     "output_type": "execute_result"
    }
   ],
   "source": [
    "data.describe()"
   ]
  },
  {
   "cell_type": "markdown",
   "metadata": {
    "id": "_rNP7jjXCXn-"
   },
   "source": [
    "### Just for some extra fun, lets try using some of the information visualization libraries from the lessons to visualize our data and see if we can see any patterns\n",
    "\n",
    "Matplotlib – A lower-level, highly customizable plotting library for\n",
    "producing static graphics in Python. Supports many kinds of plots\n",
    "(scatter, bar, contour, pie, grid etc.)\n",
    "\n",
    "Seaborn – A higher-level library built on Matplotlib. Allows for\n",
    "attractive-looking statistical information graphics with less code."
   ]
  },
  {
   "cell_type": "code",
   "execution_count": 20,
   "metadata": {
    "id": "O9T6PzTNCXn-"
   },
   "outputs": [
    {
     "name": "stderr",
     "output_type": "stream",
     "text": [
      "Matplotlib is building the font cache; this may take a moment.\n"
     ]
    }
   ],
   "source": [
    "import matplotlib.pyplot as plt"
   ]
  },
  {
   "cell_type": "code",
   "execution_count": 21,
   "metadata": {
    "colab": {
     "base_uri": "https://localhost:8080/",
     "height": 312
    },
    "id": "QiWWvpsfCXn_",
    "outputId": "5d17cdc2-5fac-4eb0-e47d-4605c7e0fad3"
   },
   "outputs": [
    {
     "data": {
      "text/plain": [
       "<matplotlib.legend.Legend at 0x21ce40e8a30>"
      ]
     },
     "execution_count": 21,
     "metadata": {},
     "output_type": "execute_result"
    },
    {
     "data": {
      "image/png": "[encoded data removed]",
      "text/plain": [
       "<Figure size 432x288 with 1 Axes>"
      ]
     },
     "metadata": {
      "needs_background": "light"
     },
     "output_type": "display_data"
    }
   ],
   "source": [
    "plt.plot(data[\"slen\"])\n",
    "plt.plot(data[\"swidth\"])\n",
    "plt.title('Sepal length to width ratio')\n",
    "plt.xlabel('length')\n",
    "plt.ylabel('width')\n",
    "plt.legend(['length','width'], loc='center right')"
   ]
  },
  {
   "cell_type": "code",
   "execution_count": 22,
   "metadata": {
    "colab": {
     "base_uri": "https://localhost:8080/",
     "height": 312
    },
    "id": "KbDBMz7LCXn_",
    "outputId": "5e8365a8-aae2-4aef-aa4c-31f0cd6649e1"
   },
   "outputs": [
    {
     "data": {
      "text/plain": [
       "<matplotlib.legend.Legend at 0x21ce4128bb0>"
      ]
     },
     "execution_count": 22,
     "metadata": {},
     "output_type": "execute_result"
    },
    {
     "data": {
      "image/png": "[encoded data removed]",
      "text/plain": [
       "<Figure size 432x288 with 1 Axes>"
      ]
     },
     "metadata": {
      "needs_background": "light"
     },
     "output_type": "display_data"
    }
   ],
   "source": [
    "plt.plot(data[\"plen\"])\n",
    "plt.plot(data[\"pwidth\"])\n",
    "plt.title('Petal length to width ratio')\n",
    "plt.xlabel('length')\n",
    "plt.ylabel('width')\n",
    "plt.legend(['length','width'], loc='center right')"
   ]
  },
  {
   "cell_type": "code",
   "execution_count": null,
   "metadata": {
    "id": "9sGWFmAECjP8"
   },
   "outputs": [],
   "source": []
  }
 ],
 "metadata": {
  "colab": {
   "provenance": []
  },
  "kernelspec": {
   "display_name": "Python 3 (ipykernel)",
   "language": "python",
   "name": "python3"
  },
  "language_info": {
   "codemirror_mode": {
    "name": "ipython",
    "version": 3
   },
   "file_extension": ".py",
   "mimetype": "text/x-python",
   "name": "python",
   "nbconvert_exporter": "python",
   "pygments_lexer": "ipython3",
   "version": "3.9.12"
  }
 },
 "nbformat": 4,
 "nbformat_minor": 1
}
