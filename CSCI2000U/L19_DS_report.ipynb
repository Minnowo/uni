{
 "cells": [
  {
   "cell_type": "markdown",
   "metadata": {},
   "source": [
    "# Deaths on the Titanic\n",
    "### <span style=\"color:#83898b\">*Understanding the role of passenger class on survival*</span>"
   ]
  },
  {
   "cell_type": "markdown",
   "metadata": {},
   "source": [
    "The Titanic disaster stands in history as notorious example of civilian deaths in the early shipping period. In this assignment, I wanted to explore aspects of passengers, and how these affected their surival. The titanic sank 15th April, 1912 in the North Atlantic Ocean. It was her maiden voyage from Southampton, England, to New York City, USA.\n",
    "The Titanic had an estimated 2,224 people onboard when she struck an iceberg. The ship’s lifeboat system was designed to ferry passengers to nearby rescue ships, not to hold everyone simultaneously.  With help hours away, and the ship was sinking rapidly, the 24 lifeboats were grossly insufficient, leaving no refuge for many passengers. Over 1,500 passengers died. The sinking caused global outrage over lack of lifeboats, lax regulations, and treatment of 3rd class passengers. This history suggests that the economic status of passengers may have played a role in their surivial. Further, the gneder roles of this period may also have had an effect on passenger survival as well. I will explore the relationships between these two variables, and surival status.\n",
    "\n",
    "![Image of Titanic](https://upload.wikimedia.org/wikipedia/commons/thumb/f/fd/RMS_Titanic_3.jpg/600px-RMS_Titanic_3.jpg)\n",
    "\n",
    "<sup>Francis Godolphin Osbourne Stuart, Public domain, via [Wikimedia Commons](https://commons.wikimedia.org/wiki/File:RMS_Titanic_3.jpg)</sup>"
   ]
  },
  {
   "cell_type": "markdown",
   "metadata": {},
   "source": [
    "## Methods\n",
    "### Data Collection"
   ]
  },
  {
   "cell_type": "markdown",
   "metadata": {},
   "source": [
    "A subset of data from the Titanic is maintained publicly at [Rdatasets](https://vincentarelbundock.github.io/Rdatasets/), a free online resource of general datasets [1]."
   ]
  },
  {
   "cell_type": "code",
   "execution_count": 51,
   "metadata": {
    "tags": []
   },
   "outputs": [],
   "source": [
    "import matplotlib.pyplot as plt\n",
    "import pandas as pd\n",
    "import seaborn as sns"
   ]
  },
  {
   "cell_type": "code",
   "execution_count": 52,
   "metadata": {},
   "outputs": [],
   "source": [
    "# Load data\n",
    "titanic = pd.read_csv('https://vincentarelbundock.github.io/Rdatasets/csv/carData/TitanicSurvival.csv')"
   ]
  },
  {
   "cell_type": "markdown",
   "metadata": {},
   "source": [
    "### Data Cleaning"
   ]
  },
  {
   "cell_type": "markdown",
   "metadata": {},
   "source": [
    "The titanic dataset had some awkwardly named columns, which I renamed. And survival data were recoded to facilitate numeric summaries. I further modified floating point precision for concise printing outputs."
   ]
  },
  {
   "cell_type": "code",
   "execution_count": 54,
   "metadata": {},
   "outputs": [],
   "source": [
    "# Change formatting\n",
    "pd.set_option('display.precision', 2)\n",
    "# Rename columns\n",
    "titanic.columns = [\"name\",\"survived\",\"sex\",\"age\",\"class\"]\n",
    "# Dict-like replace\n",
    "titanic = titanic.replace({'survived': {'yes': 1, 'no': 0}})"
   ]
  },
  {
   "cell_type": "markdown",
   "metadata": {},
   "source": [
    "The Titanic dataset had 263 instances of missing data cells. These were removed prior to exploratory analyses."
   ]
  },
  {
   "cell_type": "code",
   "execution_count": 55,
   "metadata": {},
   "outputs": [],
   "source": [
    "# Drop all rows which contain any missing data\n",
    "titanic = titanic.dropna(axis=0)"
   ]
  },
  {
   "cell_type": "markdown",
   "metadata": {},
   "source": [
    "## Analyses\n",
    "I will explore the relationships between passenger class, age, and gender on survival with exploratory analyses, consisting of statistical summaries and visualisations. "
   ]
  },
  {
   "cell_type": "markdown",
   "metadata": {},
   "source": [
    "### Distributions\n",
    "I will begin by exploring distributions in our Titanic data. Figure below shows the distribution of passenger ages on the Titanic. As we can see, the majority of passengers were aged 40 and under."
   ]
  },
  {
   "cell_type": "code",
   "execution_count": 16,
   "metadata": {},
   "outputs": [
    {
     "data": {
      "image/png": "[encoded data removed]",
      "text/plain": [
       "<Figure size 504x360 with 1 Axes>"
      ]
     },
     "metadata": {
      "needs_background": "light"
     },
     "output_type": "display_data"
    }
   ],
   "source": [
    "# Age distribution\n",
    "h = titanic.age.hist(bins=8, figsize=(7,5), grid=False)"
   ]
  },
  {
   "cell_type": "markdown",
   "metadata": {},
   "source": [
    "A descriptive analysis of passenger ages reveals a wide spread of age groups:"
   ]
  },
  {
   "cell_type": "code",
   "execution_count": 57,
   "metadata": {},
   "outputs": [
    {
     "name": "stdout",
     "output_type": "stream",
     "text": [
      "Mean age: 29.88\n",
      "Max age: 80.0\n",
      "Min age: 2.04\n"
     ]
    }
   ],
   "source": [
    "# Descriptive statistics of ages\n",
    "ds = titanic.age.describe()\n",
    "print(f\"Mean age: {round(ds['mean'],2)}\")\n",
    "print(f\"Max age: {round(ds['max'],2)}\")\n",
    "print(f\"Min age: {round(ds['min'],2)*12}\")"
   ]
  },
  {
   "cell_type": "markdown",
   "metadata": {},
   "source": [
    "The Titanic had a somewhat unequal distribution of passenger gender, with more men on board than women."
   ]
  },
  {
   "cell_type": "code",
   "execution_count": 58,
   "metadata": {},
   "outputs": [
    {
     "data": {
      "image/png": "[encoded data removed]",
      "text/plain": [
       "<Figure size 504x360 with 1 Axes>"
      ]
     },
     "metadata": {
      "needs_background": "light"
     },
     "output_type": "display_data"
    }
   ],
   "source": [
    "h=titanic.sex.hist(bins=3, figsize=(7,5))"
   ]
  },
  {
   "cell_type": "markdown",
   "metadata": {},
   "source": [
    "### Age and Survival ###\n",
    "An examination of age, and survival status, did not reveal intersting patterns. The average age of survivors was 28.9, while the average age of non-survivors was 30.5."
   ]
  },
  {
   "cell_type": "code",
   "execution_count": 60,
   "metadata": {},
   "outputs": [
    {
     "name": "stdout",
     "output_type": "stream",
     "text": [
      "Survived: 28.92\n",
      "Not Survived: 30.55\n"
     ]
    }
   ],
   "source": [
    "# Focusing on age\n",
    "print(f\"Survived: {round(titanic.loc[titanic.survived == 1].age.mean(),2)}\")\n",
    "print(f\"Not Survived: {round(titanic.loc[titanic.survived == 0].age.mean(),2)}\")"
   ]
  },
  {
   "cell_type": "markdown",
   "metadata": {},
   "source": [
    "This suggests that age did not affect whether a passenger survived or not."
   ]
  },
  {
   "cell_type": "markdown",
   "metadata": {},
   "source": [
    "### Class and Sex on survival\n",
    "It is well documented that passenger class had effect on survival status of Titanic passengers."
   ]
  },
  {
   "cell_type": "code",
   "execution_count": 61,
   "metadata": {},
   "outputs": [],
   "source": [
    "# Replace survivability for readiability\n",
    "titanic = titanic.replace({'survived': {1: 'yes', 0: 'no'}})"
   ]
  },
  {
   "cell_type": "markdown",
   "metadata": {},
   "source": [
    "The table below presents a summary of survival data, summarised by passenger class and sex."
   ]
  },
  {
   "cell_type": "code",
   "execution_count": 62,
   "metadata": {},
   "outputs": [
    {
     "data": {
      "text/html": [
       "<div>\n",
       "<style scoped>\n",
       "    .dataframe tbody tr th:only-of-type {\n",
       "        vertical-align: middle;\n",
       "    }\n",
       "\n",
       "    .dataframe tbody tr th {\n",
       "        vertical-align: top;\n",
       "    }\n",
       "\n",
       "    .dataframe thead th {\n",
       "        text-align: right;\n",
       "    }\n",
       "</style>\n",
       "<table border=\"1\" class=\"dataframe\">\n",
       "  <thead>\n",
       "    <tr style=\"text-align: right;\">\n",
       "      <th></th>\n",
       "      <th>survived</th>\n",
       "      <th>no</th>\n",
       "      <th>yes</th>\n",
       "    </tr>\n",
       "    <tr>\n",
       "      <th>class</th>\n",
       "      <th>sex</th>\n",
       "      <th></th>\n",
       "      <th></th>\n",
       "    </tr>\n",
       "  </thead>\n",
       "  <tbody>\n",
       "    <tr>\n",
       "      <th rowspan=\"2\" valign=\"top\">1st</th>\n",
       "      <th>female</th>\n",
       "      <td>5</td>\n",
       "      <td>128</td>\n",
       "    </tr>\n",
       "    <tr>\n",
       "      <th>male</th>\n",
       "      <td>98</td>\n",
       "      <td>53</td>\n",
       "    </tr>\n",
       "    <tr>\n",
       "      <th rowspan=\"2\" valign=\"top\">2nd</th>\n",
       "      <th>female</th>\n",
       "      <td>11</td>\n",
       "      <td>92</td>\n",
       "    </tr>\n",
       "    <tr>\n",
       "      <th>male</th>\n",
       "      <td>135</td>\n",
       "      <td>23</td>\n",
       "    </tr>\n",
       "    <tr>\n",
       "      <th rowspan=\"2\" valign=\"top\">3rd</th>\n",
       "      <th>female</th>\n",
       "      <td>80</td>\n",
       "      <td>72</td>\n",
       "    </tr>\n",
       "    <tr>\n",
       "      <th>male</th>\n",
       "      <td>290</td>\n",
       "      <td>59</td>\n",
       "    </tr>\n",
       "  </tbody>\n",
       "</table>\n",
       "</div>"
      ],
      "text/plain": [
       "survived       no  yes\n",
       "class sex             \n",
       "1st   female    5  128\n",
       "      male     98   53\n",
       "2nd   female   11   92\n",
       "      male    135   23\n",
       "3rd   female   80   72\n",
       "      male    290   59"
      ]
     },
     "execution_count": 62,
     "metadata": {},
     "output_type": "execute_result"
    }
   ],
   "source": [
    "# Grouped operations\n",
    "grouped_titanic = titanic.groupby(['class','sex','survived']).size().unstack()\n",
    "grouped_titanic"
   ]
  },
  {
   "cell_type": "markdown",
   "metadata": {},
   "source": [
    "An examination of this table, suggests that both sex and class were related to passenger survival. For example, only 5 1st-class female passengers died, while 128 survived. Conversely, 290 male 3rd-class died, relative to 59 survived. Figure 2, shows a breakdown of survival by passenger class."
   ]
  },
  {
   "cell_type": "code",
   "execution_count": 64,
   "metadata": {},
   "outputs": [
    {
     "data": {
      "image/png": "[encoded data removed]",
      "text/plain": [
       "<Figure size 432x288 with 1 Axes>"
      ]
     },
     "metadata": {
      "needs_background": "light"
     },
     "output_type": "display_data"
    }
   ],
   "source": [
    "p = sns.countplot(data=titanic, x=\"class\", hue=\"survived\").set(title='Fig 2. Survival count by Class')"
   ]
  },
  {
   "cell_type": "markdown",
   "metadata": {},
   "source": [
    "We can further see the interaction of passenger gender and class on survival."
   ]
  },
  {
   "cell_type": "code",
   "execution_count": 65,
   "metadata": {},
   "outputs": [
    {
     "data": {
      "image/png": "[encoded data removed]",
      "text/plain": [
       "<Figure size 1080x360 with 1 Axes>"
      ]
     },
     "metadata": {
      "needs_background": "light"
     },
     "output_type": "display_data"
    }
   ],
   "source": [
    "# Create grouped panda for plotting\n",
    "titanic_barplot = grouped_titanic.plot.bar(stacked=True, color = [\"lightblue\", \"lightpink\"], \n",
    "figsize=(15,5), title=\"Fig 3. Gender and class on survival\")\n",
    "plt.ylabel(\"Counts\")\n",
    "plt.xlabel('Passenger class')\n",
    "plt.xticks(rotation=0)\n",
    "plt.show(titanic_barplot)"
   ]
  },
  {
   "cell_type": "markdown",
   "metadata": {},
   "source": [
    "## Discussion ##"
   ]
  },
  {
   "cell_type": "markdown",
   "metadata": {},
   "source": [
    "In this assignment, I explored data from the Titanic disaster, and focused on relationships between passenger sex and class on their suvival. An exploratory analysis supported the hypotheses that both sex and class were related to survival. I found that 1st class passengers had substantially higher rates of surival than 3rd class passengers. Similarly, female passengers had a higher rate of survival than male passengers. These analyses confirm widely reported trends on Titanic survial history. Age did not appear to affect passenger survival. These outcomes suggest that modern day passenger cruises should consider having adequate numbers of lifeboats to incease surival, and have well-practiced evaculation procedures in place to improve disparities, such as class and sex, on passenger survival."
   ]
  },
  {
   "cell_type": "markdown",
   "metadata": {},
   "source": [
    "## References\n",
    "1. Source data - https://vincentarelbundock.github.io/Rdatasets/articles/data.html\n",
    "2. Pandas for data manipulation\n",
    "3. Seaborn for data viz\n",
    "4. Matplotlib for data viz "
   ]
  }
 ],
 "metadata": {
  "celltoolbar": "Tags",
  "kernelspec": {
   "display_name": "Python 3 (ipykernel)",
   "language": "python",
   "name": "python3"
  },
  "language_info": {
   "codemirror_mode": {
    "name": "ipython",
    "version": 3
   },
   "file_extension": ".py",
   "mimetype": "text/x-python",
   "name": "python",
   "nbconvert_exporter": "python",
   "pygments_lexer": "ipython3",
   "version": "3.10.6"
  },
  "vscode": {
   "interpreter": {
    "hash": "40d444e15d4b5bb908f4b95c26d9b158a336fb6b786751c7d3022d89de8ad3f2"
   }
  }
 },
 "nbformat": 4,
 "nbformat_minor": 2
}
