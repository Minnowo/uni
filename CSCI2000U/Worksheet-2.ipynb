{
 "cells": [
  {
   "cell_type": "code",
   "execution_count": 65,
   "id": "9cf619f0",
   "metadata": {},
   "outputs": [],
   "source": [
    "import numpy as np \n",
    "\n",
    "# 1. use arange to create 10 int from -20 to 25 (inclusive) steps of 5\n",
    "d = np.arange(-20, 26, 5)\n"
   ]
  },
  {
   "cell_type": "code",
   "execution_count": 66,
   "id": "fde5e708",
   "metadata": {},
   "outputs": [],
   "source": [
    "# 2. multiply all values in d by 10, storing them in d2\n",
    "d2 = d * 10"
   ]
  },
  {
   "cell_type": "code",
   "execution_count": 67,
   "id": "7f6d03e3",
   "metadata": {},
   "outputs": [
    {
     "name": "stdout",
     "output_type": "stream",
     "text": [
      "[-220 -165 -110  -55    0   55  110  165  220  275]\n"
     ]
    }
   ],
   "source": [
    "# 3. add the values stored in d and d2 printing them to console\n",
    "print(d2 + d)"
   ]
  },
  {
   "cell_type": "code",
   "execution_count": 68,
   "id": "5019e847",
   "metadata": {},
   "outputs": [],
   "source": [
    "# 4. reshape d2 into 5x2 array \n",
    "d2 = d2.reshape((5, 2))"
   ]
  },
  {
   "cell_type": "code",
   "execution_count": 69,
   "id": "a424ef51",
   "metadata": {},
   "outputs": [],
   "source": [
    "# 5. create an array d3, containing integers 1, 2, 3, 4, 5\n",
    "d3 = np.arange(1, 6)"
   ]
  },
  {
   "cell_type": "code",
   "execution_count": 70,
   "id": "bf0b37f3",
   "metadata": {},
   "outputs": [
    {
     "name": "stdout",
     "output_type": "stream",
     "text": [
      "[[-200 -150]\n",
      " [-200 -100]\n",
      " [   0  150]\n",
      " [ 400  600]\n",
      " [1000 1250]]\n"
     ]
    }
   ],
   "source": [
    "# 6. reshape d3 into the necessary shape such that d2 * d3 works\n",
    "d4 = d3[:, np.newaxis] * d2\n",
    "print(d4)"
   ]
  },
  {
   "cell_type": "code",
   "execution_count": 71,
   "id": "fa9de14c",
   "metadata": {},
   "outputs": [
    {
     "name": "stdout",
     "output_type": "stream",
     "text": [
      "[-200 -150]\n",
      "[  0 150]\n",
      "[1000 1250]\n"
     ]
    }
   ],
   "source": [
    "# 7. print to the console the 1st, 3rd, and 5th rows, both columns of d4\n",
    "print(d4[0])\n",
    "print(d4[2])\n",
    "print(d4[4])"
   ]
  },
  {
   "cell_type": "code",
   "execution_count": 72,
   "id": "adb29fc7",
   "metadata": {},
   "outputs": [
    {
     "name": "stdout",
     "output_type": "stream",
     "text": [
      "543976752\n"
     ]
    }
   ],
   "source": [
    "# 8. print the id of d4\n",
    "print(id(d4))"
   ]
  },
  {
   "cell_type": "code",
   "execution_count": 73,
   "id": "92c59e75",
   "metadata": {},
   "outputs": [],
   "source": [
    "# 9. resize (not reshape) d4 into 2x5\n",
    "d4.resize((2, 5))"
   ]
  },
  {
   "cell_type": "code",
   "execution_count": 74,
   "id": "83117ebe",
   "metadata": {},
   "outputs": [
    {
     "name": "stdout",
     "output_type": "stream",
     "text": [
      "[-200 -150 -200 -100    0  150  400  600 1000 1250]\n"
     ]
    }
   ],
   "source": [
    "# 10. flatten (not reshape) d4 back into 10x1 array\n",
    "print(d4.flatten())"
   ]
  },
  {
   "cell_type": "code",
   "execution_count": null,
   "id": "d53c412c",
   "metadata": {},
   "outputs": [],
   "source": []
  }
 ],
 "metadata": {
  "kernelspec": {
   "display_name": "Python 3 (ipykernel)",
   "language": "python",
   "name": "python3"
  },
  "language_info": {
   "codemirror_mode": {
    "name": "ipython",
    "version": 3
   },
   "file_extension": ".py",
   "mimetype": "text/x-python",
   "name": "python",
   "nbconvert_exporter": "python",
   "pygments_lexer": "ipython3",
   "version": "3.10.6"
  }
 },
 "nbformat": 4,
 "nbformat_minor": 5
}
